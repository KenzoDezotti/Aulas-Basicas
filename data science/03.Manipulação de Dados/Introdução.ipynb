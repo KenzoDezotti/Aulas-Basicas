{
 "cells": [
  {
   "cell_type": "markdown",
   "metadata": {
    "id": "nhK6mEZD5duG"
   },
   "source": [
    "# Introdução"
   ]
  },
  {
   "cell_type": "markdown",
   "metadata": {
    "id": "jDFIlB9H5duK"
   },
   "source": [
    "**OBJETIVO**: O objetivo deste notebook é dar o pontapé nos estudos sobre manipulação de dados utilizando Python"
   ]
  },
  {
   "cell_type": "markdown",
   "metadata": {
    "id": "lgK-hdeI5duL"
   },
   "source": [
    "---"
   ]
  },
  {
   "cell_type": "markdown",
   "metadata": {
    "id": "lB16mQP65duM"
   },
   "source": [
    "## Cabeçalho "
   ]
  },
  {
   "cell_type": "markdown",
   "metadata": {
    "id": "NFspGCD35duM"
   },
   "source": [
    "### Imports "
   ]
  },
  {
   "cell_type": "code",
   "execution_count": 1,
   "metadata": {
    "ExecuteTime": {
     "end_time": "2021-09-12T01:21:04.428548Z",
     "start_time": "2021-09-12T01:21:04.088263Z"
    },
    "id": "rd7CrW0E5duN"
   },
   "outputs": [],
   "source": [
    "import os\n",
    "import numpy as np\n",
    "import pandas as pd\n",
    "\n",
    "from pathlib import Path"
   ]
  },
  {
   "cell_type": "markdown",
   "metadata": {
    "id": "Zu0ZqNSX5duP"
   },
   "source": [
    "### Configurações "
   ]
  },
  {
   "cell_type": "code",
   "execution_count": 2,
   "metadata": {
    "ExecuteTime": {
     "end_time": "2021-09-12T14:32:11.762212Z",
     "start_time": "2021-09-12T14:32:11.742265Z"
    },
    "colab": {
     "base_uri": "https://localhost:8080/"
    },
    "executionInfo": {
     "elapsed": 52946,
     "status": "ok",
     "timestamp": 1631717047733,
     "user": {
      "displayName": "Pedro Forli",
      "photoUrl": "https://lh3.googleusercontent.com/a/default-user=s64",
      "userId": "08325002347257917995"
     },
     "user_tz": 180
    },
    "id": "krY5aEcX5duP",
    "outputId": "7425529a-28d2-4081-944d-19ff5acfb06a"
   },
   "outputs": [],
   "source": [
    "%config Completer.use_jedi = False\n",
    "\n",
    "# pode ser \"completo\" ou \"amostra\"\n",
    "TIPO_DADOS = \"completo\"\n",
    "\n",
    "# checa se o notebook está sendo executado no google colab\n",
    "GOOGLE_COLAB = \"google.colab\" in str(get_ipython())\n",
    "\n",
    "# monta a pasta com os conteúdos\n",
    "if GOOGLE_COLAB:\n",
    "    from google.colab import drive\n",
    "    drive.mount(\"/content/drive\")\n",
    "    \n",
    "# informa o caminho para a pasta de ciência de dados a partir do drive\n",
    "# você pode deixar isso como vazio se você não tiver adicionado a pasta\n",
    "CAMINHO_DRIVE = \"Ciência de Dados\"\n",
    "\n",
    "# links para os dados a serem baixados diretamente da Web\n",
    "LINKS_DADOS = {\n",
    "    \"amostra\": {\n",
    "        \"escola.parquet\": \"https://drive.google.com/uc?id=1i51S1GKVqc-_5KgWsfXDc3Fnkf1y700y&export=download\",\n",
    "        \"ideb.parquet\": \"https://drive.google.com/uc?id=1NXCGhtluNbd2Vccyof3Y-eaw1vHkvIAL&export=download\",\n",
    "        \"turma.parquet\": \"https://drive.google.com/uc?id=1ks0lsbU5GXI6sbZRG9f8zGdzZqDRK8SG&export=download\",\n",
    "    },\n",
    "    \"completo\": {\n",
    "        \"escola.parquet\": \"https://drive.google.com/uc?id=1_at50Wh4JJz1jR-hhsqutVaUorN0M4IL&export=download\",\n",
    "        \"ideb.parquet\": \"https://drive.google.com/uc?id=183GP-MVohBC84NvHMLYcBQ4YRRCPHxYi&export=download\",\n",
    "        \"turma.parquet\": \"https://drive.google.com/uc?id=1OSrAB3oAAX-9NNWZ7dG0mcWFOIcjWUs8&export=download\",\n",
    "    }\n",
    "}"
   ]
  },
  {
   "cell_type": "code",
   "execution_count": 1,
   "metadata": {},
   "outputs": [
    {
     "name": "stdout",
     "output_type": "stream",
     "text": [
      "ls: cannot access 'Drive': No such file or directory\n"
     ]
    }
   ],
   "source": [
    "!ls Drive"
   ]
  },
  {
   "cell_type": "markdown",
   "metadata": {
    "id": "DfB_YtVM5duR"
   },
   "source": [
    "### Caminhos "
   ]
  },
  {
   "cell_type": "code",
   "execution_count": 3,
   "metadata": {
    "ExecuteTime": {
     "end_time": "2021-09-12T01:21:05.724650Z",
     "start_time": "2021-09-12T01:21:05.720677Z"
    },
    "id": "A8vUjsvR5duS"
   },
   "outputs": [],
   "source": [
    "vPATH_NOTEBOOK = Path(os.path.dirname(os.path.realpath(\"__file__\")))\n",
    "vPATH_DADOS = Path(\"/home/kenzo/Documents/cursos/compartilhar/dados\")"
   ]
  },
  {
   "cell_type": "markdown",
   "metadata": {
    "id": "1Hfd3ztV5duS"
   },
   "source": [
    "---"
   ]
  },
  {
   "cell_type": "markdown",
   "metadata": {
    "id": "7MKPnFkz5duS"
   },
   "source": [
    "## Carregamento de Base "
   ]
  },
  {
   "cell_type": "markdown",
   "metadata": {
    "id": "aBuooqm_5duT"
   },
   "source": [
    "O primeiro passo na manipulação de dados é sempre realizar o carregamento dos dados a serem trabalhados. Para isso o pandas contém um conjunto de funções que começam com read_ e que terminam com o tipo de arquivo a ser baixado."
   ]
  },
  {
   "cell_type": "markdown",
   "metadata": {
    "id": "b6xBs6IW5duT"
   },
   "source": [
    "É importante notar que o pandas é capaz de trabalhar tanto com dados locais quanto com dados Web. Veja a célula abaixo por exemplo, temos 3 opções de download dos dados: Dentro do ambiente colab, na qual referenciamos um caminho para o arquivo a partir das pastas do ambiente, um segundo para o qual baixamos diretamenta de um link da internet e um terceiro, para quando temos os arquivos no diretório local"
   ]
  },
  {
   "cell_type": "code",
   "execution_count": 4,
   "metadata": {
    "ExecuteTime": {
     "end_time": "2021-09-12T01:21:30.804831Z",
     "start_time": "2021-09-12T01:21:29.112356Z"
    },
    "id": "5DhFdyjp5duT"
   },
   "outputs": [],
   "source": [
    "if GOOGLE_COLAB and CAMINHO_DRIVE != \"no\":\n",
    "    df = pd.read_parquet(\n",
    "        f\"drive/MyDrive/{CAMINHO_DRIVE}/dados/{TIPO_DADOS}/aquisicao/escola.parquet\",\n",
    "        filters=[(\"ANO\", \"=\", 2020)]\n",
    "    )\n",
    "elif GOOGLE_COLAB or not os.path.exists(vPATH_DADOS / \"saida/aquisicao/escola_temp.parquet\"):\n",
    "    df = pd.read_parquet(LINKS_DADOS[TIPO_DADOS][\"escola.parquet\"])\n",
    "else:\n",
    "    df = pd.read_parquet(vPATH_DADOS / \"aquisicao/escola.parquet\", filters=[(\"ANO\", \"=\", 2020)])"
   ]
  },
  {
   "cell_type": "code",
   "execution_count": 5,
   "metadata": {
    "id": "xy0A-5AOeipu"
   },
   "outputs": [
    {
     "data": {
      "text/html": [
       "<div>\n",
       "<style scoped>\n",
       "    .dataframe tbody tr th:only-of-type {\n",
       "        vertical-align: middle;\n",
       "    }\n",
       "\n",
       "    .dataframe tbody tr th {\n",
       "        vertical-align: top;\n",
       "    }\n",
       "\n",
       "    .dataframe thead th {\n",
       "        text-align: right;\n",
       "    }\n",
       "</style>\n",
       "<table border=\"1\" class=\"dataframe\">\n",
       "  <thead>\n",
       "    <tr style=\"text-align: right;\">\n",
       "      <th></th>\n",
       "      <th>ID_ESCOLA</th>\n",
       "      <th>CO_MUNICIPIO</th>\n",
       "      <th>CO_DISTRITO</th>\n",
       "      <th>CO_ESCOLA_SEDE_VINCULADA</th>\n",
       "      <th>CO_IES_OFERTANTE</th>\n",
       "      <th>CO_LINGUA_INDIGENA_1</th>\n",
       "      <th>CO_LINGUA_INDIGENA_2</th>\n",
       "      <th>CO_LINGUA_INDIGENA_3</th>\n",
       "      <th>DT_ANO_LETIVO_INICIO</th>\n",
       "      <th>DT_ANO_LETIVO_TERMINO</th>\n",
       "      <th>...</th>\n",
       "      <th>TP_MANT_ESCOLA_PRIVADA_SIST_S</th>\n",
       "      <th>TP_MANT_ESCOLA_PRIVADA_S_FINS</th>\n",
       "      <th>TP_MANT_ESCOLA_PRIV_ONG_OSCIP</th>\n",
       "      <th>TP_OCUPACAO_GALPAO</th>\n",
       "      <th>TP_OCUPACAO_PREDIO_ESCOLAR</th>\n",
       "      <th>TP_PROPOSTA_PEDAGOGICA</th>\n",
       "      <th>TP_REDE_LOCAL</th>\n",
       "      <th>TP_REGULAMENTACAO</th>\n",
       "      <th>TP_RESPONSAVEL_REGULAMENTACAO</th>\n",
       "      <th>TP_SITUACAO_FUNCIONAMENTO</th>\n",
       "    </tr>\n",
       "  </thead>\n",
       "  <tbody>\n",
       "    <tr>\n",
       "      <th>0</th>\n",
       "      <td>11000023</td>\n",
       "      <td>1100205</td>\n",
       "      <td>110020505</td>\n",
       "      <td>NaN</td>\n",
       "      <td>NaN</td>\n",
       "      <td>NaN</td>\n",
       "      <td>NaN</td>\n",
       "      <td>NaN</td>\n",
       "      <td>2020-02-06</td>\n",
       "      <td>2020-12-15</td>\n",
       "      <td>...</td>\n",
       "      <td>PÚBLICA</td>\n",
       "      <td>PÚBLICA</td>\n",
       "      <td>PÚBLICA</td>\n",
       "      <td>NaN</td>\n",
       "      <td>ALUGADO</td>\n",
       "      <td>SIM</td>\n",
       "      <td>WIRELESS</td>\n",
       "      <td>NÃO</td>\n",
       "      <td>NaN</td>\n",
       "      <td>EM ATIVIDADE</td>\n",
       "    </tr>\n",
       "    <tr>\n",
       "      <th>1</th>\n",
       "      <td>11000040</td>\n",
       "      <td>1100205</td>\n",
       "      <td>110020505</td>\n",
       "      <td>NaN</td>\n",
       "      <td>NaN</td>\n",
       "      <td>NaN</td>\n",
       "      <td>NaN</td>\n",
       "      <td>NaN</td>\n",
       "      <td>2020-02-06</td>\n",
       "      <td>2020-12-23</td>\n",
       "      <td>...</td>\n",
       "      <td>PÚBLICA</td>\n",
       "      <td>PÚBLICA</td>\n",
       "      <td>PÚBLICA</td>\n",
       "      <td>NaN</td>\n",
       "      <td>PRÓPRIO</td>\n",
       "      <td>SIM</td>\n",
       "      <td>NÃO HÁ REDE LOCAL INTERLIGANDO COMPUTADORES</td>\n",
       "      <td>SIM</td>\n",
       "      <td>MUNICIPAL</td>\n",
       "      <td>EM ATIVIDADE</td>\n",
       "    </tr>\n",
       "    <tr>\n",
       "      <th>2</th>\n",
       "      <td>11000058</td>\n",
       "      <td>1100205</td>\n",
       "      <td>110020505</td>\n",
       "      <td>NaN</td>\n",
       "      <td>NaN</td>\n",
       "      <td>NaN</td>\n",
       "      <td>NaN</td>\n",
       "      <td>NaN</td>\n",
       "      <td>2020-02-03</td>\n",
       "      <td>2020-12-11</td>\n",
       "      <td>...</td>\n",
       "      <td>NÃO</td>\n",
       "      <td>NÃO</td>\n",
       "      <td>NÃO</td>\n",
       "      <td>NaN</td>\n",
       "      <td>PRÓPRIO</td>\n",
       "      <td>SIM</td>\n",
       "      <td>A CABO E WIRELESS</td>\n",
       "      <td>SIM</td>\n",
       "      <td>ESTADUAL</td>\n",
       "      <td>EM ATIVIDADE</td>\n",
       "    </tr>\n",
       "    <tr>\n",
       "      <th>3</th>\n",
       "      <td>11000082</td>\n",
       "      <td>1100205</td>\n",
       "      <td>110020505</td>\n",
       "      <td>NaN</td>\n",
       "      <td>NaN</td>\n",
       "      <td>NaN</td>\n",
       "      <td>NaN</td>\n",
       "      <td>NaN</td>\n",
       "      <td>2020-02-03</td>\n",
       "      <td>2020-12-04</td>\n",
       "      <td>...</td>\n",
       "      <td>NÃO</td>\n",
       "      <td>NÃO</td>\n",
       "      <td>NÃO</td>\n",
       "      <td>NaN</td>\n",
       "      <td>PRÓPRIO</td>\n",
       "      <td>SIM</td>\n",
       "      <td>WIRELESS</td>\n",
       "      <td>SIM</td>\n",
       "      <td>ESTADUAL</td>\n",
       "      <td>EM ATIVIDADE</td>\n",
       "    </tr>\n",
       "    <tr>\n",
       "      <th>4</th>\n",
       "      <td>11000104</td>\n",
       "      <td>1100205</td>\n",
       "      <td>110020505</td>\n",
       "      <td>NaN</td>\n",
       "      <td>NaN</td>\n",
       "      <td>NaN</td>\n",
       "      <td>NaN</td>\n",
       "      <td>NaN</td>\n",
       "      <td>2020-02-03</td>\n",
       "      <td>2020-12-15</td>\n",
       "      <td>...</td>\n",
       "      <td>NÃO</td>\n",
       "      <td>NÃO</td>\n",
       "      <td>NÃO</td>\n",
       "      <td>NaN</td>\n",
       "      <td>PRÓPRIO</td>\n",
       "      <td>SIM</td>\n",
       "      <td>A CABO E WIRELESS</td>\n",
       "      <td>SIM</td>\n",
       "      <td>ESTADUAL</td>\n",
       "      <td>EM ATIVIDADE</td>\n",
       "    </tr>\n",
       "    <tr>\n",
       "      <th>...</th>\n",
       "      <td>...</td>\n",
       "      <td>...</td>\n",
       "      <td>...</td>\n",
       "      <td>...</td>\n",
       "      <td>...</td>\n",
       "      <td>...</td>\n",
       "      <td>...</td>\n",
       "      <td>...</td>\n",
       "      <td>...</td>\n",
       "      <td>...</td>\n",
       "      <td>...</td>\n",
       "      <td>...</td>\n",
       "      <td>...</td>\n",
       "      <td>...</td>\n",
       "      <td>...</td>\n",
       "      <td>...</td>\n",
       "      <td>...</td>\n",
       "      <td>...</td>\n",
       "      <td>...</td>\n",
       "      <td>...</td>\n",
       "      <td>...</td>\n",
       "    </tr>\n",
       "    <tr>\n",
       "      <th>224224</th>\n",
       "      <td>53084071</td>\n",
       "      <td>5300108</td>\n",
       "      <td>530010805</td>\n",
       "      <td>NaN</td>\n",
       "      <td>NaN</td>\n",
       "      <td>NaN</td>\n",
       "      <td>NaN</td>\n",
       "      <td>NaN</td>\n",
       "      <td>NaT</td>\n",
       "      <td>NaT</td>\n",
       "      <td>...</td>\n",
       "      <td>NaN</td>\n",
       "      <td>NaN</td>\n",
       "      <td>NaN</td>\n",
       "      <td>NaN</td>\n",
       "      <td>NaN</td>\n",
       "      <td>NaN</td>\n",
       "      <td>NaN</td>\n",
       "      <td>NaN</td>\n",
       "      <td>NaN</td>\n",
       "      <td>PARALISADA</td>\n",
       "    </tr>\n",
       "    <tr>\n",
       "      <th>224225</th>\n",
       "      <td>53085000</td>\n",
       "      <td>5300108</td>\n",
       "      <td>530010805</td>\n",
       "      <td>NaN</td>\n",
       "      <td>NaN</td>\n",
       "      <td>NaN</td>\n",
       "      <td>NaN</td>\n",
       "      <td>NaN</td>\n",
       "      <td>2020-01-27</td>\n",
       "      <td>2020-12-23</td>\n",
       "      <td>...</td>\n",
       "      <td>NÃO</td>\n",
       "      <td>NÃO</td>\n",
       "      <td>NÃO</td>\n",
       "      <td>NaN</td>\n",
       "      <td>PRÓPRIO</td>\n",
       "      <td>SIM</td>\n",
       "      <td>A CABO E WIRELESS</td>\n",
       "      <td>SIM</td>\n",
       "      <td>ESTADUAL</td>\n",
       "      <td>EM ATIVIDADE</td>\n",
       "    </tr>\n",
       "    <tr>\n",
       "      <th>224226</th>\n",
       "      <td>53086007</td>\n",
       "      <td>5300108</td>\n",
       "      <td>530010805</td>\n",
       "      <td>NaN</td>\n",
       "      <td>NaN</td>\n",
       "      <td>NaN</td>\n",
       "      <td>NaN</td>\n",
       "      <td>NaN</td>\n",
       "      <td>2020-01-27</td>\n",
       "      <td>2020-12-18</td>\n",
       "      <td>...</td>\n",
       "      <td>NÃO</td>\n",
       "      <td>NÃO</td>\n",
       "      <td>NÃO</td>\n",
       "      <td>NaN</td>\n",
       "      <td>ALUGADO</td>\n",
       "      <td>NÃO</td>\n",
       "      <td>A CABO</td>\n",
       "      <td>SIM</td>\n",
       "      <td>ESTADUAL</td>\n",
       "      <td>EM ATIVIDADE</td>\n",
       "    </tr>\n",
       "    <tr>\n",
       "      <th>224227</th>\n",
       "      <td>53087003</td>\n",
       "      <td>5300108</td>\n",
       "      <td>530010805</td>\n",
       "      <td>NaN</td>\n",
       "      <td>NaN</td>\n",
       "      <td>NaN</td>\n",
       "      <td>NaN</td>\n",
       "      <td>NaN</td>\n",
       "      <td>NaT</td>\n",
       "      <td>NaT</td>\n",
       "      <td>...</td>\n",
       "      <td>NaN</td>\n",
       "      <td>NaN</td>\n",
       "      <td>NaN</td>\n",
       "      <td>NaN</td>\n",
       "      <td>NaN</td>\n",
       "      <td>NaN</td>\n",
       "      <td>NaN</td>\n",
       "      <td>NaN</td>\n",
       "      <td>NaN</td>\n",
       "      <td>PARALISADA</td>\n",
       "    </tr>\n",
       "    <tr>\n",
       "      <th>224228</th>\n",
       "      <td>53088034</td>\n",
       "      <td>5300108</td>\n",
       "      <td>530010805</td>\n",
       "      <td>NaN</td>\n",
       "      <td>NaN</td>\n",
       "      <td>NaN</td>\n",
       "      <td>NaN</td>\n",
       "      <td>NaN</td>\n",
       "      <td>NaT</td>\n",
       "      <td>NaT</td>\n",
       "      <td>...</td>\n",
       "      <td>NaN</td>\n",
       "      <td>NaN</td>\n",
       "      <td>NaN</td>\n",
       "      <td>NaN</td>\n",
       "      <td>NaN</td>\n",
       "      <td>NaN</td>\n",
       "      <td>NaN</td>\n",
       "      <td>NaN</td>\n",
       "      <td>NaN</td>\n",
       "      <td>PARALISADA</td>\n",
       "    </tr>\n",
       "  </tbody>\n",
       "</table>\n",
       "<p>224229 rows × 234 columns</p>\n",
       "</div>"
      ],
      "text/plain": [
       "        ID_ESCOLA  CO_MUNICIPIO  CO_DISTRITO  CO_ESCOLA_SEDE_VINCULADA  \\\n",
       "0        11000023       1100205    110020505                       NaN   \n",
       "1        11000040       1100205    110020505                       NaN   \n",
       "2        11000058       1100205    110020505                       NaN   \n",
       "3        11000082       1100205    110020505                       NaN   \n",
       "4        11000104       1100205    110020505                       NaN   \n",
       "...           ...           ...          ...                       ...   \n",
       "224224   53084071       5300108    530010805                       NaN   \n",
       "224225   53085000       5300108    530010805                       NaN   \n",
       "224226   53086007       5300108    530010805                       NaN   \n",
       "224227   53087003       5300108    530010805                       NaN   \n",
       "224228   53088034       5300108    530010805                       NaN   \n",
       "\n",
       "        CO_IES_OFERTANTE  CO_LINGUA_INDIGENA_1  CO_LINGUA_INDIGENA_2  \\\n",
       "0                    NaN                   NaN                   NaN   \n",
       "1                    NaN                   NaN                   NaN   \n",
       "2                    NaN                   NaN                   NaN   \n",
       "3                    NaN                   NaN                   NaN   \n",
       "4                    NaN                   NaN                   NaN   \n",
       "...                  ...                   ...                   ...   \n",
       "224224               NaN                   NaN                   NaN   \n",
       "224225               NaN                   NaN                   NaN   \n",
       "224226               NaN                   NaN                   NaN   \n",
       "224227               NaN                   NaN                   NaN   \n",
       "224228               NaN                   NaN                   NaN   \n",
       "\n",
       "        CO_LINGUA_INDIGENA_3 DT_ANO_LETIVO_INICIO DT_ANO_LETIVO_TERMINO  ...  \\\n",
       "0                        NaN           2020-02-06            2020-12-15  ...   \n",
       "1                        NaN           2020-02-06            2020-12-23  ...   \n",
       "2                        NaN           2020-02-03            2020-12-11  ...   \n",
       "3                        NaN           2020-02-03            2020-12-04  ...   \n",
       "4                        NaN           2020-02-03            2020-12-15  ...   \n",
       "...                      ...                  ...                   ...  ...   \n",
       "224224                   NaN                  NaT                   NaT  ...   \n",
       "224225                   NaN           2020-01-27            2020-12-23  ...   \n",
       "224226                   NaN           2020-01-27            2020-12-18  ...   \n",
       "224227                   NaN                  NaT                   NaT  ...   \n",
       "224228                   NaN                  NaT                   NaT  ...   \n",
       "\n",
       "        TP_MANT_ESCOLA_PRIVADA_SIST_S  TP_MANT_ESCOLA_PRIVADA_S_FINS  \\\n",
       "0                             PÚBLICA                        PÚBLICA   \n",
       "1                             PÚBLICA                        PÚBLICA   \n",
       "2                                 NÃO                            NÃO   \n",
       "3                                 NÃO                            NÃO   \n",
       "4                                 NÃO                            NÃO   \n",
       "...                               ...                            ...   \n",
       "224224                            NaN                            NaN   \n",
       "224225                            NÃO                            NÃO   \n",
       "224226                            NÃO                            NÃO   \n",
       "224227                            NaN                            NaN   \n",
       "224228                            NaN                            NaN   \n",
       "\n",
       "        TP_MANT_ESCOLA_PRIV_ONG_OSCIP  TP_OCUPACAO_GALPAO  \\\n",
       "0                             PÚBLICA                 NaN   \n",
       "1                             PÚBLICA                 NaN   \n",
       "2                                 NÃO                 NaN   \n",
       "3                                 NÃO                 NaN   \n",
       "4                                 NÃO                 NaN   \n",
       "...                               ...                 ...   \n",
       "224224                            NaN                 NaN   \n",
       "224225                            NÃO                 NaN   \n",
       "224226                            NÃO                 NaN   \n",
       "224227                            NaN                 NaN   \n",
       "224228                            NaN                 NaN   \n",
       "\n",
       "        TP_OCUPACAO_PREDIO_ESCOLAR  TP_PROPOSTA_PEDAGOGICA  \\\n",
       "0                          ALUGADO                     SIM   \n",
       "1                          PRÓPRIO                     SIM   \n",
       "2                          PRÓPRIO                     SIM   \n",
       "3                          PRÓPRIO                     SIM   \n",
       "4                          PRÓPRIO                     SIM   \n",
       "...                            ...                     ...   \n",
       "224224                         NaN                     NaN   \n",
       "224225                     PRÓPRIO                     SIM   \n",
       "224226                     ALUGADO                     NÃO   \n",
       "224227                         NaN                     NaN   \n",
       "224228                         NaN                     NaN   \n",
       "\n",
       "                                      TP_REDE_LOCAL  TP_REGULAMENTACAO  \\\n",
       "0                                          WIRELESS                NÃO   \n",
       "1       NÃO HÁ REDE LOCAL INTERLIGANDO COMPUTADORES                SIM   \n",
       "2                                 A CABO E WIRELESS                SIM   \n",
       "3                                          WIRELESS                SIM   \n",
       "4                                 A CABO E WIRELESS                SIM   \n",
       "...                                             ...                ...   \n",
       "224224                                          NaN                NaN   \n",
       "224225                            A CABO E WIRELESS                SIM   \n",
       "224226                                       A CABO                SIM   \n",
       "224227                                          NaN                NaN   \n",
       "224228                                          NaN                NaN   \n",
       "\n",
       "        TP_RESPONSAVEL_REGULAMENTACAO  TP_SITUACAO_FUNCIONAMENTO  \n",
       "0                                 NaN               EM ATIVIDADE  \n",
       "1                           MUNICIPAL               EM ATIVIDADE  \n",
       "2                            ESTADUAL               EM ATIVIDADE  \n",
       "3                            ESTADUAL               EM ATIVIDADE  \n",
       "4                            ESTADUAL               EM ATIVIDADE  \n",
       "...                               ...                        ...  \n",
       "224224                            NaN                 PARALISADA  \n",
       "224225                       ESTADUAL               EM ATIVIDADE  \n",
       "224226                       ESTADUAL               EM ATIVIDADE  \n",
       "224227                            NaN                 PARALISADA  \n",
       "224228                            NaN                 PARALISADA  \n",
       "\n",
       "[224229 rows x 234 columns]"
      ]
     },
     "execution_count": 5,
     "metadata": {},
     "output_type": "execute_result"
    }
   ],
   "source": [
    "df"
   ]
  },
  {
   "cell_type": "markdown",
   "metadata": {
    "id": "2gUKEcFh5duW"
   },
   "source": [
    "---"
   ]
  },
  {
   "cell_type": "markdown",
   "metadata": {
    "ExecuteTime": {
     "end_time": "2021-09-13T15:21:52.069093Z",
     "start_time": "2021-09-13T15:21:52.050118Z"
    },
    "id": "yzVw1QTY5duX"
   },
   "source": [
    "## Representação dos Dados "
   ]
  },
  {
   "cell_type": "markdown",
   "metadata": {
    "id": "XRYY-LN45duX"
   },
   "source": [
    "Ok, agora nós temos nossos dados carregados no pandas, mas o que exatamente nós recebemos como variável?\n",
    "\n",
    "Resposta: Um DataFrame. \n",
    "\n",
    "Um DataFrame é uma estrutura de dados que representa uma tabela, sendo definido por linhas e colunas nomeadas que permitem acessar o conteúdo de cada célula \"dado\".\n",
    "\n",
    "<img src=\"https://media.geeksforgeeks.org/wp-content/cdn-uploads/creating_dataframe1.png\" />"
   ]
  },
  {
   "cell_type": "markdown",
   "metadata": {
    "id": "kLmXszgJ5duY"
   },
   "source": [
    "Computacionalmente, cada coluna de um data frame é representado por um outro elemento chamado \"Série\", e cada série é constituída por um nome (que corresponde ao nome da coluna) e os indices (que correspondem aos indices do data frame) além de seu conteúdo (dados)\n",
    "\n",
    "<img src=\"https://www.w3resource.com/w3r_images/pandas-series-add-image-1.svg\" />"
   ]
  },
  {
   "cell_type": "markdown",
   "metadata": {
    "id": "GiTDjVUY5dua"
   },
   "source": [
    "Os dados de Séries por sua vez são arrays da biblioteca numpy. Arrays (ou vetores) do numpy são representações que emulam arrays em outras linguagens (como C/C++) que representam uma lista de dados de dimensões fixas e de tipo único usada para calculos de algebra linear"
   ]
  },
  {
   "cell_type": "markdown",
   "metadata": {
    "id": "g8hSTcwq5dub"
   },
   "source": [
    "<img src=\"https://miro.medium.com/max/3184/1*X0Dg7QfSYtWhSAu-afi8-g.png\" />"
   ]
  },
  {
   "cell_type": "markdown",
   "metadata": {
    "id": "zkfB0EWy5duc"
   },
   "source": [
    "Nós raramente trabalharemos dados usando numpy, entretanto os conceitos são úteis pois o numpy acaba por facilitar algumas operações que seriam mais complexas no pandas que nós veremos mais a frente.\n",
    "\n",
    "**Além disso, lembre-se: Séries e DataFrames são baseadas em Arrays, portanto se você entender como determinadas operações funcionam para um desses objetos você consegue entender como funciona para todos**"
   ]
  },
  {
   "cell_type": "markdown",
   "metadata": {
    "id": "RqZ5MNur5duc"
   },
   "source": [
    "---"
   ]
  }
 ],
 "metadata": {
  "colab": {
   "collapsed_sections": [],
   "name": "Introdução.ipynb",
   "provenance": [],
   "toc_visible": true
  },
  "hide_input": false,
  "kernelspec": {
   "display_name": "Python 3 (ipykernel)",
   "language": "python",
   "name": "python3"
  },
  "language_info": {
   "codemirror_mode": {
    "name": "ipython",
    "version": 3
   },
   "file_extension": ".py",
   "mimetype": "text/x-python",
   "name": "python",
   "nbconvert_exporter": "python",
   "pygments_lexer": "ipython3",
   "version": "3.8.10"
  },
  "toc": {
   "base_numbering": 1,
   "nav_menu": {},
   "number_sections": true,
   "sideBar": true,
   "skip_h1_title": true,
   "title_cell": "Table of Contents",
   "title_sidebar": "Contents",
   "toc_cell": false,
   "toc_position": {},
   "toc_section_display": true,
   "toc_window_display": true
  },
  "varInspector": {
   "cols": {
    "lenName": 16,
    "lenType": 16,
    "lenVar": 40
   },
   "kernels_config": {
    "python": {
     "delete_cmd_postfix": "",
     "delete_cmd_prefix": "del ",
     "library": "var_list.py",
     "varRefreshCmd": "print(var_dic_list())"
    },
    "r": {
     "delete_cmd_postfix": ") ",
     "delete_cmd_prefix": "rm(",
     "library": "var_list.r",
     "varRefreshCmd": "cat(var_dic_list()) "
    }
   },
   "types_to_exclude": [
    "module",
    "function",
    "builtin_function_or_method",
    "instance",
    "_Feature"
   ],
   "window_display": false
  }
 },
 "nbformat": 4,
 "nbformat_minor": 1
}
