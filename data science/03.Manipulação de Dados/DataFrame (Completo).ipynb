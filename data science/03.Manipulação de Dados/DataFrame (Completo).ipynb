{
 "cells": [
  {
   "cell_type": "markdown",
   "metadata": {
    "id": "nhK6mEZD5duG"
   },
   "source": [
    "# DataFrame"
   ]
  },
  {
   "cell_type": "markdown",
   "metadata": {
    "id": "jDFIlB9H5duK"
   },
   "source": [
    "**OBJETIVO**: O objetivo deste notebook é mostrar os príncipais métodos de manipulação de dados utilizando o pandas e numpy"
   ]
  },
  {
   "cell_type": "markdown",
   "metadata": {
    "id": "lgK-hdeI5duL"
   },
   "source": [
    "---"
   ]
  },
  {
   "cell_type": "markdown",
   "metadata": {
    "id": "lB16mQP65duM"
   },
   "source": [
    "## Cabeçalho "
   ]
  },
  {
   "cell_type": "code",
   "execution_count": null,
   "metadata": {
    "ExecuteTime": {
     "end_time": "2021-12-29T14:10:42.177862Z",
     "start_time": "2021-12-29T14:10:41.716472Z"
    },
    "id": "rd7CrW0E5duN"
   },
   "outputs": [],
   "source": [
    "import os\n",
    "import requests\n",
    "import zipfile\n",
    "\n",
    "import numpy as np\n",
    "import pandas as pd\n",
    "\n",
    "from io import BytesIO\n",
    "from pathlib import Path\n",
    "from pyarrow.lib import ArrowInvalid"
   ]
  },
  {
   "cell_type": "code",
   "execution_count": null,
   "metadata": {
    "ExecuteTime": {
     "end_time": "2021-12-29T14:10:42.288527Z",
     "start_time": "2021-12-29T14:10:42.273509Z"
    },
    "colab": {
     "base_uri": "https://localhost:8080/"
    },
    "id": "krY5aEcX5duP",
    "outputId": "768b993f-e2ca-400e-f14d-d445d7e5fef5"
   },
   "outputs": [],
   "source": [
    "%config Completer.use_jedi = False\n",
    "\n",
    "# pode ser \"completo\" ou \"amostra\"\n",
    "TIPO_DADOS = \"completo\"\n",
    "\n",
    "# checa se o notebook está sendo executado no google colab\n",
    "GOOGLE_COLAB = \"google.colab\" in str(get_ipython())\n",
    "\n",
    "# monta a pasta com os conteúdos\n",
    "if GOOGLE_COLAB:\n",
    "    from google.colab import drive\n",
    "    drive.mount(\"/content/drive\")\n",
    "    \n",
    "# informa o caminho para a pasta de ciência de dados a partir do drive\n",
    "# você pode deixar isso como vazio se você não tiver adicionado a pasta\n",
    "CAMINHO_DRIVE = \"Ciência de Dados\"\n",
    "\n",
    "# links para os dados a serem baixados diretamente da Web\n",
    "LINKS_DADOS = {\n",
    "    \"amostra\": {\n",
    "        \"escola.parquet\": \"https://drive.google.com/uc?id=1i51S1GKVqc-_5KgWsfXDc3Fnkf1y700y&export=download\",\n",
    "        \"ideb.parquet\": \"https://drive.google.com/uc?id=1NXCGhtluNbd2Vccyof3Y-eaw1vHkvIAL&export=download\",\n",
    "        \"turma.parquet\": \"https://drive.google.com/uc?id=1ks0lsbU5GXI6sbZRG9f8zGdzZqDRK8SG&export=download\",\n",
    "    },\n",
    "    \"completo\": {\n",
    "        \"escola.parquet\": \"https://drive.google.com/uc?id=1_at50Wh4JJz1jR-hhsqutVaUorN0M4IL&export=download\",\n",
    "        \"ideb.parquet\": \"https://drive.google.com/uc?id=183GP-MVohBC84NvHMLYcBQ4YRRCPHxYi&export=download\",\n",
    "        \"turma.parquet\": \"https://drive.google.com/uc?id=1OSrAB3oAAX-9NNWZ7dG0mcWFOIcjWUs8&export=download\",\n",
    "    }\n",
    "}"
   ]
  },
  {
   "cell_type": "code",
   "execution_count": null,
   "metadata": {
    "ExecuteTime": {
     "end_time": "2021-12-29T14:10:42.537576Z",
     "start_time": "2021-12-29T14:10:42.518627Z"
    },
    "id": "A8vUjsvR5duS"
   },
   "outputs": [],
   "source": [
    "vPATH_NOTEBOOK = Path(os.path.dirname(os.path.realpath(\"__file__\")))\n",
    "vPATH_DADOS = vPATH_NOTEBOOK.parent.parent / f\"dados/{TIPO_DADOS}\""
   ]
  },
  {
   "cell_type": "markdown",
   "metadata": {
    "id": "1Hfd3ztV5duS"
   },
   "source": [
    "---"
   ]
  },
  {
   "cell_type": "markdown",
   "metadata": {
    "id": "PW7ZLAVw5dui"
   },
   "source": [
    "## Criação"
   ]
  },
  {
   "cell_type": "markdown",
   "metadata": {
    "id": "aBuooqm_5duT"
   },
   "source": [
    "O primeiro passo na manipulação de dados é sempre realizar o carregamento dos dados a serem trabalhados. Para isso o pandas contém um conjunto de funções que começam com read_ e que terminam com o tipo de arquivo a ser baixado."
   ]
  },
  {
   "cell_type": "markdown",
   "metadata": {
    "id": "b6xBs6IW5duT"
   },
   "source": [
    "É importante notar que o pandas é capaz de trabalhar tanto com dados locais quanto com dados Web. Veja a célula abaixo por exemplo, temos 3 opções de download dos dados: Dentro do ambiente colab, na qual referenciamos um caminho para o arquivo a partir das pastas do ambiente, um segundo para o qual baixamos diretamenta de um link da internet e um terceiro, para quando temos os arquivos no diretório local"
   ]
  },
  {
   "cell_type": "code",
   "execution_count": null,
   "metadata": {
    "ExecuteTime": {
     "end_time": "2021-12-29T14:10:54.624585Z",
     "start_time": "2021-12-29T14:10:44.723914Z"
    },
    "id": "XFl4fiSHoNuM"
   },
   "outputs": [],
   "source": [
    "def carrega_parquet(nome: str, pasta: str, **kwargs) -> pd.DataFrame:\n",
    "    global GOOGLE_COLAB, CAMINHO_DRIVE, vPATH_DADOS, TIPO_DADOS\n",
    "    if GOOGLE_COLAB and CAMINHO_DRIVE != \"\":\n",
    "        return pd.read_parquet(f\"drive/MyDrive/{CAMINHO_DRIVE}/dados/{TIPO_DADOS}/{pasta}/{nome}.parquet\", **kwargs)\n",
    "    elif GOOGLE_COLAB or not os.path.exists(vPATH_DADOS / f\"{pasta}/{nome}.parquet\"):\n",
    "        return pd.read_parquet(LINKS_DADOS[TIPO_DADOS][f\"{nome}.parquet\"])\n",
    "    else:\n",
    "        try:\n",
    "            return pd.read_parquet(vPATH_DADOS / f\"{pasta}/{nome}.parquet\", **kwargs)\n",
    "        except ArrowInvalid:\n",
    "            return pd.read_parquet(LINKS_DADOS[TIPO_DADOS][f\"{nome}.parquet\"])\n",
    "\n",
    "df1 = carrega_parquet(\"escola\", \"aquisicao\", filters=[(\"ANO\", \"=\", 2020)])\n",
    "df2 = carrega_parquet(\"turma\", \"aquisicao\", filters=[(\"ANO\", \"=\", 2020)])\n",
    "df3 = carrega_parquet(\"ideb\", \"aquisicao\")"
   ]
  },
  {
   "cell_type": "code",
   "execution_count": null,
   "metadata": {
    "colab": {
     "base_uri": "https://localhost:8080/",
     "height": 800
    },
    "id": "0wIdgnPN4oyA",
    "outputId": "8207c95c-627c-4f9c-c20c-3bfdf04eadf3"
   },
   "outputs": [],
   "source": [
    "df1"
   ]
  },
  {
   "cell_type": "markdown",
   "metadata": {
    "id": "Xxz-u7055duU"
   },
   "source": [
    "Cada função de carregamento de arquivos tem sua própria lista de parâmetros e particularidades. Frequentemente, um dos tipos principais de arquivos que iremos trabalhar são os CSV (comma separated values) que, para o contexto brasileiro, necessitam da configuração de 3 parâmetros em particular:\n",
    "- sep: O tipo de separador de arquivos\n",
    "- decimal: O tipo de indicador de casas decimais\n",
    "- encoding: A codificação de caracteres"
   ]
  },
  {
   "cell_type": "code",
   "execution_count": null,
   "metadata": {
    "ExecuteTime": {
     "end_time": "2021-12-29T14:10:56.274444Z",
     "start_time": "2021-12-29T14:10:56.182654Z"
    },
    "colab": {
     "base_uri": "https://localhost:8080/",
     "height": 488
    },
    "id": "Y4kRV3w95duU",
    "outputId": "1e86b611-dc05-4b82-eaae-6f83950c2325"
   },
   "outputs": [],
   "source": [
    "pd.read_csv(f\"drive/MyDrive/{CAMINHO_DRIVE}/aulas/03.Manipulação de Dados/gestor.CSV\", sep=\"|\", encoding=\"latin-1\", decimal=\".\")"
   ]
  },
  {
   "cell_type": "markdown",
   "metadata": {
    "id": "sZYxda-C5duU"
   },
   "source": [
    "É bastante comum que seja necessário ler dados contidos em arquivos zip ou alguma outra localização que não seja um endereço. Por conta disso o pandas (e na verdade o python como um todo) também aceita Buffers além de endereços."
   ]
  },
  {
   "cell_type": "markdown",
   "metadata": {
    "id": "cPOrAcZ65duV"
   },
   "source": [
    "Buffers são como um reservatório de dados. Em um dado momento você pode abrir esse reservatório e deixar o fluxo de água (dados) fluir para um outro container (memória RAM) e assim trabalhar essa água (dados) em um local mais adequado (jupyter)"
   ]
  },
  {
   "cell_type": "markdown",
   "metadata": {
    "id": "xX4Ae09c5duV"
   },
   "source": [
    "Por exemplo, para um arquivo zip o código abaixo cria um objeto ZipFile e executa a função open que criará um Buffer para o conteúdo do arquivo dentro do zip. Desta forma o pandas irá percorrer esse buffer e construir o data frame de maneira adequada"
   ]
  },
  {
   "cell_type": "code",
   "execution_count": null,
   "metadata": {
    "ExecuteTime": {
     "end_time": "2021-12-29T14:10:57.899403Z",
     "start_time": "2021-12-29T14:10:57.807357Z"
    },
    "colab": {
     "base_uri": "https://localhost:8080/",
     "height": 488
    },
    "id": "HlcDO7g55duV",
    "outputId": "43d77382-befd-4742-f333-681beb490906"
   },
   "outputs": [],
   "source": [
    "with zipfile.ZipFile(f\"drive/MyDrive/{CAMINHO_DRIVE}/aulas/03.Manipulação de Dados/gestor.zip\") as z:\n",
    "    df = pd.read_csv(z.open(\"gestor.CSV\"), sep=\"|\", encoding=\"latin-1\", decimal=\".\")\n",
    "df"
   ]
  },
  {
   "cell_type": "markdown",
   "metadata": {
    "id": "rxKD658Q5duV"
   },
   "source": [
    "Outro caso comum do uso de buffers é no download de arquivos. Por exemplo suponhamos que eu quisesse ler o mesmo zip só que agora diretamente da Web, mas sem baixar nenhum arquivo para o HD. Como estamos falando de um arquivo zip o pandas não consegue lê-lo diretamente, mas podemos baixar o conteúdo da Web dentro de um objeto BytesIO e fazer o pandas ler esse objeto"
   ]
  },
  {
   "cell_type": "code",
   "execution_count": null,
   "metadata": {
    "ExecuteTime": {
     "end_time": "2021-12-29T14:11:01.622634Z",
     "start_time": "2021-12-29T14:10:59.505873Z"
    },
    "colab": {
     "base_uri": "https://localhost:8080/",
     "height": 488
    },
    "id": "m8dTEY1loNuO",
    "outputId": "a09a320f-1b79-4755-b38c-06ab9fab4e83"
   },
   "outputs": [],
   "source": [
    "resposta = requests.get(\"https://drive.google.com/uc?id=1ZyawTjY0fbiCwk6fsF0urF5YfNxP6Gjc&export=download\")\n",
    "buffer = BytesIO(initial_bytes=resposta.content)\n",
    "with zipfile.ZipFile(buffer) as z:\n",
    "    df = pd.read_csv(z.open(\"gestor.CSV\"), sep=\"|\", encoding=\"latin-1\", decimal=\".\")\n",
    "df"
   ]
  },
  {
   "cell_type": "markdown",
   "metadata": {
    "id": "I3LSHGsJdHPJ"
   },
   "source": [
    "Outra maneira de inicializar um data frame é por meio da função pd.DataFrame que espera que passemos informações de nomes de linhas e colunas e os dados contidos no data frame para construí-lo"
   ]
  },
  {
   "cell_type": "code",
   "execution_count": null,
   "metadata": {
    "colab": {
     "base_uri": "https://localhost:8080/",
     "height": 206
    },
    "id": "USnC8EKIvx6f",
    "outputId": "f941a147-abf9-47f4-9b26-6b82348eea52"
   },
   "outputs": [],
   "source": [
    "pd.DataFrame(\n",
    "    data=np.random.randint(low=0, high=10, size=(5, 5)),\n",
    "    columns=[f\"col_{i}\" for i in range(5)],\n",
    "    index=range(5),\n",
    ")"
   ]
  },
  {
   "cell_type": "code",
   "execution_count": null,
   "metadata": {
    "colab": {
     "base_uri": "https://localhost:8080/",
     "height": 363
    },
    "id": "ZM2dz82i8ZE_",
    "outputId": "fa099f2b-1836-4af2-f6b5-9b60614a4cf9"
   },
   "outputs": [],
   "source": [
    "exam_data = {\n",
    "    \"name\": [\"Anastasia\", \"Dilma\", \"Katarina\", \"James\", \"Emily\", \"Michael\", \"Mateus\", \"Laura\", \"Kevin\", \"João\"],\n",
    "    \"nota\": [12.5, 9, 16.5, np.nan, 9, 20, 14.5, np.nan, 8, 19],\n",
    "    \"tentativas\": [1, 3, 2, 3, 2, 3, 1, 1, 2, 1],\n",
    "    \"qualidade\": [\"sim\", \"não\", \"sim\", \"não\", \"não\", \"sim\", \"sim\", \"não\", \"não\", \"sim\"]\n",
    "}\n",
    "labels = list(\"abcdefghij\")\n",
    "pd.DataFrame(exam_data, index=labels)"
   ]
  },
  {
   "cell_type": "markdown",
   "metadata": {
    "id": "Xk3JKPLz5du9"
   },
   "source": [
    "---"
   ]
  },
  {
   "cell_type": "markdown",
   "metadata": {
    "id": "293uQe9H5du-"
   },
   "source": [
    "**Exercício**"
   ]
  },
  {
   "cell_type": "markdown",
   "metadata": {
    "ExecuteTime": {
     "end_time": "2021-12-28T13:16:08.590275Z",
     "start_time": "2021-12-28T13:16:08.550387Z"
    },
    "id": "aVCHdtnf5du-"
   },
   "source": [
    "Represente a gráfico abaixo como um data frame, na qual temos duas colunas: Nome do país e casos de COVID\n",
    "\n",
    "<img src=\"http://cdn.statcdn.com/Infographic/images/normal/21176.jpeg\" width=300 height=600/>"
   ]
  },
  {
   "cell_type": "code",
   "execution_count": null,
   "metadata": {
    "id": "l391nBXtoNuQ",
    "solution2": "hidden",
    "solution2_first": true
   },
   "outputs": [],
   "source": []
  },
  {
   "cell_type": "code",
   "execution_count": null,
   "metadata": {
    "ExecuteTime": {
     "end_time": "2021-12-28T13:17:36.265286Z",
     "start_time": "2021-12-28T13:17:36.227388Z"
    },
    "cellView": "form",
    "id": "Cwsb4PFFdHPK",
    "solution2": "hidden"
   },
   "outputs": [],
   "source": [
    "#@title Resposta\n",
    "pd.DataFrame(\n",
    "    data=[\n",
    "        (\"Belgium\", 39166),\n",
    "        (\"Israel\", 35572),\n",
    "        (\"Czechia\", 33103),\n",
    "        (\"Panama\", 32300),\n",
    "        (\"Kuwait\", 30957),\n",
    "        (\"United States\", 28414),\n",
    "        (\"Peru\", 28213),\n",
    "        (\"Chile\", 27455),\n",
    "        (\"Argentina\", 26593),\n",
    "        (\"Spain\", 26554)\n",
    "    ],\n",
    "    columns=[\"pais\", \"covid\"]\n",
    ")"
   ]
  },
  {
   "cell_type": "markdown",
   "metadata": {
    "id": "_CbMCrpEdHPK"
   },
   "source": [
    "---"
   ]
  },
  {
   "cell_type": "markdown",
   "metadata": {
    "id": "D50c0Vc75duj"
   },
   "source": [
    "## Exploração de Dados "
   ]
  },
  {
   "cell_type": "markdown",
   "metadata": {
    "id": "HxygApwb5duj"
   },
   "source": [
    "Uma vez carregados os dados nós podemos começar a explorar o conteúdo das tabelas. No jupyter, uma primeira maneira simples é simplesmente rodar uma célula com a variável que retém o objeto"
   ]
  },
  {
   "cell_type": "code",
   "execution_count": null,
   "metadata": {
    "colab": {
     "base_uri": "https://localhost:8080/",
     "height": 800
    },
    "id": "KPZ0ome9vx6g",
    "outputId": "02a1998c-f573-4136-91b0-16cb33d558a3"
   },
   "outputs": [],
   "source": [
    "df1"
   ]
  },
  {
   "cell_type": "markdown",
   "metadata": {
    "id": "6RDiKKX35duk"
   },
   "source": [
    "Outra maneira consiste em utilizar a função nativa do jupyter, display, que irá imprimir de maneira formatada o objeto a partir de qualquer ponto da execução do código"
   ]
  },
  {
   "cell_type": "code",
   "execution_count": null,
   "metadata": {
    "id": "n9o8Q8m7vx6h"
   },
   "outputs": [],
   "source": [
    "a = 1\n",
    "df1\n",
    "b = 2"
   ]
  },
  {
   "cell_type": "code",
   "execution_count": null,
   "metadata": {
    "colab": {
     "base_uri": "https://localhost:8080/"
    },
    "id": "EQ3WYFgLOujK",
    "outputId": "fe07451b-338c-4155-9097-7e58d97a5d29"
   },
   "outputs": [],
   "source": [
    "a = 1\n",
    "print(df1)\n",
    "b = 2"
   ]
  },
  {
   "cell_type": "code",
   "execution_count": null,
   "metadata": {
    "colab": {
     "base_uri": "https://localhost:8080/",
     "height": 800
    },
    "id": "H1t2fO3OO275",
    "outputId": "5c4f639b-677b-41b4-a1a5-8bb1275980a4"
   },
   "outputs": [],
   "source": [
    "a = 1\n",
    "display(df1)\n",
    "b = 2"
   ]
  },
  {
   "cell_type": "markdown",
   "metadata": {
    "id": "MCnEFzgZ5dul"
   },
   "source": [
    "Algumas vezes nosso objetivo vai ser apenas explorar uma amostra dos dados disponíveis. Nós podemos fazer isso a partir dos métodos de head, tail e sample:\n",
    "- head: Mostra as primeiras linhas (padrão = 5) do data frame\n",
    "- tail: Mostra as últimas linhas (padrão = 5) do data frame\n",
    "- sample: Mostra linhas aleatórias (padrão = 1) do data frame"
   ]
  },
  {
   "cell_type": "code",
   "execution_count": null,
   "metadata": {
    "colab": {
     "base_uri": "https://localhost:8080/",
     "height": 490
    },
    "id": "RxBmYMqIvx6h",
    "outputId": "ef62a9bf-91ee-467c-9b24-16975323c86d"
   },
   "outputs": [],
   "source": [
    "df1.head()"
   ]
  },
  {
   "cell_type": "code",
   "execution_count": null,
   "metadata": {
    "colab": {
     "base_uri": "https://localhost:8080/",
     "height": 804
    },
    "id": "qu0NMgcQPOMq",
    "outputId": "9b38842f-57c6-41fe-f7e3-da40cb9a3276"
   },
   "outputs": [],
   "source": [
    "df1.head(10)"
   ]
  },
  {
   "cell_type": "code",
   "execution_count": null,
   "metadata": {
    "colab": {
     "base_uri": "https://localhost:8080/",
     "height": 421
    },
    "id": "srC3wNqXPRZ6",
    "outputId": "2f4fc5ab-59e4-42f0-e5d5-855952857371"
   },
   "outputs": [],
   "source": [
    "df1.tail()"
   ]
  },
  {
   "cell_type": "code",
   "execution_count": null,
   "metadata": {
    "colab": {
     "base_uri": "https://localhost:8080/",
     "height": 734
    },
    "id": "ZhoDVBtyPUea",
    "outputId": "512488a1-271c-4392-9dbe-f5526a253f87"
   },
   "outputs": [],
   "source": [
    "df1.tail(10)"
   ]
  },
  {
   "cell_type": "code",
   "execution_count": null,
   "metadata": {
    "colab": {
     "base_uri": "https://localhost:8080/",
     "height": 209
    },
    "id": "62eC2yXaPW85",
    "outputId": "6d038257-96e6-4a1d-c730-facbcbd8bde5"
   },
   "outputs": [],
   "source": [
    "df1.sample()"
   ]
  },
  {
   "cell_type": "code",
   "execution_count": null,
   "metadata": {
    "colab": {
     "base_uri": "https://localhost:8080/",
     "height": 804
    },
    "id": "Q1hsn2nlPckZ",
    "outputId": "f46a6588-4f1a-4bb6-fa67-768d33142602"
   },
   "outputs": [],
   "source": [
    "df1.sample(10)"
   ]
  },
  {
   "cell_type": "markdown",
   "metadata": {
    "id": "vZeiQJmB5dun"
   },
   "source": [
    "Podemos, em seguida, explorar algumas características do data frame como o seu tamanho, nomes de colunas e linhas por meio dos atributos shape, columns, index e values"
   ]
  },
  {
   "cell_type": "code",
   "execution_count": null,
   "metadata": {
    "colab": {
     "base_uri": "https://localhost:8080/"
    },
    "id": "4yUgtCTcvx6h",
    "outputId": "f0f9586c-08bb-417d-c55f-b88e6eb3262b"
   },
   "outputs": [],
   "source": [
    "df1.shape"
   ]
  },
  {
   "cell_type": "code",
   "execution_count": null,
   "metadata": {
    "colab": {
     "base_uri": "https://localhost:8080/"
    },
    "id": "agTH3gQJPs8L",
    "outputId": "dfc38baf-f483-42e6-b53d-d44b7668d91e"
   },
   "outputs": [],
   "source": [
    "df1.index"
   ]
  },
  {
   "cell_type": "code",
   "execution_count": null,
   "metadata": {
    "colab": {
     "base_uri": "https://localhost:8080/"
    },
    "id": "8IC9OT9HPzea",
    "outputId": "730e46e5-ce7a-4d33-8b46-73258742ff05"
   },
   "outputs": [],
   "source": [
    "df1.columns"
   ]
  },
  {
   "cell_type": "code",
   "execution_count": null,
   "metadata": {
    "colab": {
     "base_uri": "https://localhost:8080/"
    },
    "id": "w7epK0WqP4Uq",
    "outputId": "c66b202f-a659-4dc0-d9a1-fd806bb4607e"
   },
   "outputs": [],
   "source": [
    "df2.values"
   ]
  },
  {
   "cell_type": "markdown",
   "metadata": {
    "id": "yo3y-o8O5duo"
   },
   "source": [
    "Outro método de exploração se chama \"info\" que nos permite verificar o número de colunas, o tipo de dados de cada coluna, o número de valores preenchidos e a memória necessária para armazenar o data frame.\n",
    "\n",
    "É importante destacar que há uma série de tipos de dados que o pandas consegue trabalhar, destacam-se"
   ]
  },
  {
   "cell_type": "code",
   "execution_count": null,
   "metadata": {
    "colab": {
     "base_uri": "https://localhost:8080/"
    },
    "id": "nVvrOlpcvx6i",
    "outputId": "3cef6e51-e6ea-4f8f-fdf0-ec4a24ea47dc"
   },
   "outputs": [],
   "source": [
    "df2.info()"
   ]
  },
  {
   "cell_type": "code",
   "execution_count": null,
   "metadata": {
    "colab": {
     "base_uri": "https://localhost:8080/"
    },
    "id": "HgMTNGVLQdtK",
    "outputId": "4d6bcba1-edf1-43c9-f4dd-dd7f264f5dce"
   },
   "outputs": [],
   "source": [
    "df1.info()"
   ]
  },
  {
   "cell_type": "code",
   "execution_count": null,
   "metadata": {
    "colab": {
     "base_uri": "https://localhost:8080/"
    },
    "id": "2ojoHchDQnvZ",
    "outputId": "9aa42764-3c21-4d46-b22e-d7f7cd24482c"
   },
   "outputs": [],
   "source": [
    "df1.info(memory_usage=\"deep\")"
   ]
  },
  {
   "cell_type": "code",
   "execution_count": null,
   "metadata": {
    "colab": {
     "base_uri": "https://localhost:8080/",
     "height": 394
    },
    "id": "yI3DHsAnQxfJ",
    "outputId": "6af6cc84-d0a3-4e59-f6c3-4b45d86ecd5a"
   },
   "outputs": [],
   "source": [
    "df1.describe()"
   ]
  },
  {
   "cell_type": "markdown",
   "metadata": {
    "id": "dm5RqViD5duq"
   },
   "source": [
    "---"
   ]
  },
  {
   "cell_type": "markdown",
   "metadata": {
    "id": "Wa4RgHXX5duq"
   },
   "source": [
    "**Exercício**"
   ]
  },
  {
   "cell_type": "markdown",
   "metadata": {
    "id": "m8XyzF045duq"
   },
   "source": [
    "Leia os dados contidos em https://raw.githubusercontent.com/owid/covid-19-data/master/public/data/latest/owid-covid-latest.csv e descreva nos responda o seguinte:\n",
    "\n",
    "1. Quantos países estão registrados na base?\n",
    "2. Quantas e quais informações nós temos disponíveis?\n",
    "3. Quanto o dataset ocupa na memória RAM?\n",
    "4. Qual o número médio de casos de COVID por pais?"
   ]
  },
  {
   "cell_type": "code",
   "execution_count": null,
   "metadata": {
    "id": "mLg7WUvOdHPQ",
    "solution2": "hidden",
    "solution2_first": true
   },
   "outputs": [],
   "source": []
  },
  {
   "cell_type": "code",
   "execution_count": null,
   "metadata": {
    "ExecuteTime": {
     "end_time": "2021-12-28T14:44:47.902822Z",
     "start_time": "2021-12-28T14:44:47.765769Z"
    },
    "cellView": "form",
    "id": "zQdztmfqoNuU",
    "solution2": "hidden"
   },
   "outputs": [],
   "source": [
    "#@title Resposta\n",
    "owid = pd.read_csv(\"https://raw.githubusercontent.com/owid/covid-19-data/master/public/data/latest/owid-covid-latest.csv\")\n",
    "\n",
    "print(f\"Temos {owid.shape[0]} países na base\")\n",
    "display(owid.info(memory_usage=\"deep\"))\n",
    "display(owid.describe())"
   ]
  },
  {
   "cell_type": "markdown",
   "metadata": {
    "id": "7FKLNMYe5duq"
   },
   "source": [
    "---"
   ]
  },
  {
   "cell_type": "markdown",
   "metadata": {
    "id": "96ULdZil5duq"
   },
   "source": [
    "## Seleções "
   ]
  },
  {
   "cell_type": "markdown",
   "metadata": {
    "id": "BKfCxw1AdHPQ"
   },
   "source": [
    "Em pandas uma boa parte do nosso trabalho será fazer seleções específicas de uma tabela. Dessa forma, dado a estrutura 2D, temos que aprender tanto como selecionar colunas como também linhas."
   ]
  },
  {
   "cell_type": "markdown",
   "metadata": {
    "id": "NvJv3nAMdHPR"
   },
   "source": [
    "A primeira sintaxe que nós trabalhamos é a de chaves, na qual o dataframe se comporta como se fosse um dicionário, e estamos selecionando a coluna do dataframe pelo nome da mesma (que pode ser uma string, lista, datetime, etc.)"
   ]
  },
  {
   "cell_type": "code",
   "execution_count": null,
   "metadata": {
    "colab": {
     "base_uri": "https://localhost:8080/"
    },
    "id": "llAsFWeUvx6j",
    "outputId": "01609003-adec-4049-f685-7061a6668df7"
   },
   "outputs": [],
   "source": [
    "df1[\"ID_ESCOLA\"]"
   ]
  },
  {
   "cell_type": "markdown",
   "metadata": {
    "id": "kuzEJlsTdHPR"
   },
   "source": [
    "Note que o resultado dessa seleção, como esperado, é uma série de dados que representa a coluna selecionada."
   ]
  },
  {
   "cell_type": "markdown",
   "metadata": {
    "id": "LQI-GAyJoNuV"
   },
   "source": [
    "Caso tentemos selecionar uma coluna inexistente nós receberemos um KeyError"
   ]
  },
  {
   "cell_type": "code",
   "execution_count": null,
   "metadata": {
    "colab": {
     "base_uri": "https://localhost:8080/",
     "height": 502
    },
    "id": "TDlrtTnkvx6j",
    "outputId": "df10a9ae-b89b-4774-d2a1-109914db3431"
   },
   "outputs": [],
   "source": [
    "df1[\"ID_ESC\"]"
   ]
  },
  {
   "cell_type": "markdown",
   "metadata": {
    "id": "k-b5wvpBdHPR"
   },
   "source": [
    "De forma análoga ao que vimos em arrays e séries, para DataFrames podemos selecionar um conjunto de colunas por meio de uma lista de colunas. Diferente da operação anterior, nós receberemos um novo DataFrame com apenas as colunas selecionadas do original"
   ]
  },
  {
   "cell_type": "code",
   "execution_count": null,
   "metadata": {
    "colab": {
     "base_uri": "https://localhost:8080/",
     "height": 424
    },
    "id": "YkvbcLy-vx6j",
    "outputId": "620b49ce-b74f-4c73-827c-2bc5e4b673f8"
   },
   "outputs": [],
   "source": [
    "df1[[\"ID_ESCOLA\", \"CO_MUNICIPIO\"]]"
   ]
  },
  {
   "cell_type": "code",
   "execution_count": null,
   "metadata": {
    "colab": {
     "base_uri": "https://localhost:8080/",
     "height": 424
    },
    "id": "58OjHeJ7Sv9A",
    "outputId": "393c61cf-7d84-49b4-a5d9-d20c0bc8ec5b"
   },
   "outputs": [],
   "source": [
    "df1[[\"ID_ESCOLA\"]]"
   ]
  },
  {
   "cell_type": "markdown",
   "metadata": {
    "id": "LMEtgnwF5dur"
   },
   "source": [
    "Além da seleção por chaves, podemos utilizar a mesma sintaxe do .iloc que foi utilizada em séries"
   ]
  },
  {
   "cell_type": "code",
   "execution_count": null,
   "metadata": {
    "colab": {
     "base_uri": "https://localhost:8080/",
     "height": 358
    },
    "id": "2miYVS_2vx6k",
    "outputId": "375c6e27-70b0-4e99-c154-1a4299726303"
   },
   "outputs": [],
   "source": [
    "df1.iloc[[1, 2, 3]]"
   ]
  },
  {
   "cell_type": "code",
   "execution_count": null,
   "metadata": {
    "colab": {
     "base_uri": "https://localhost:8080/",
     "height": 490
    },
    "id": "PDioNNt-S8L5",
    "outputId": "e80801d7-294c-46fd-f8a7-4c1e47c7dce4"
   },
   "outputs": [],
   "source": [
    "df1.iloc[:5]"
   ]
  },
  {
   "cell_type": "code",
   "execution_count": null,
   "metadata": {
    "colab": {
     "base_uri": "https://localhost:8080/"
    },
    "id": "YTkU5NNJS-8J",
    "outputId": "ca5c4af9-7e6e-4a14-c12f-2c04c25ade9f"
   },
   "outputs": [],
   "source": [
    "df1.iloc[0]"
   ]
  },
  {
   "cell_type": "code",
   "execution_count": null,
   "metadata": {
    "colab": {
     "base_uri": "https://localhost:8080/",
     "height": 209
    },
    "id": "ngU4OMylTJMZ",
    "outputId": "794733a7-dec5-4bf4-b5b2-10487a93563f"
   },
   "outputs": [],
   "source": [
    "df1.iloc[[0]]"
   ]
  },
  {
   "cell_type": "markdown",
   "metadata": {
    "id": "6QD6sLUQdHPS"
   },
   "source": [
    "Entretanto, diferente de séries, por estarmos numa estrutura 2D, podemos selecionar tanto linhas quanto colunas utilizando a \",\" entre os diferentes slices aplicados"
   ]
  },
  {
   "cell_type": "code",
   "execution_count": null,
   "metadata": {
    "colab": {
     "base_uri": "https://localhost:8080/",
     "height": 424
    },
    "id": "uXIeS61dvx6k",
    "outputId": "24cf700d-bce1-4af6-d462-d890c574863e"
   },
   "outputs": [],
   "source": [
    "df1.iloc[:, [2, 3]]"
   ]
  },
  {
   "cell_type": "code",
   "execution_count": null,
   "metadata": {
    "colab": {
     "base_uri": "https://localhost:8080/",
     "height": 143
    },
    "id": "G-LgsJszTU3I",
    "outputId": "42d9c07b-ffd7-4db1-e770-607c502a01ea"
   },
   "outputs": [],
   "source": [
    "df1.iloc[1:4, :4]"
   ]
  },
  {
   "cell_type": "code",
   "execution_count": null,
   "metadata": {
    "colab": {
     "base_uri": "https://localhost:8080/"
    },
    "id": "0THG36jBTZE2",
    "outputId": "f9a39a5e-d452-40a0-add7-d9eb3c03a06c"
   },
   "outputs": [],
   "source": [
    "df1.iloc[0, :4]"
   ]
  },
  {
   "cell_type": "code",
   "execution_count": null,
   "metadata": {
    "colab": {
     "base_uri": "https://localhost:8080/"
    },
    "id": "1Q5HMZ8GTcop",
    "outputId": "d01493cf-5dc3-498b-acce-321cb165cbaa"
   },
   "outputs": [],
   "source": [
    "df1.iloc[:, 4]"
   ]
  },
  {
   "cell_type": "markdown",
   "metadata": {
    "id": "yU021qgy5duv"
   },
   "source": [
    "Bom, se temos uma maneira de selecionar linhas e colunas pelo número do índice, naturalmente teremos alguma maneira de fazer a mesma coisa pelo nome, o que no caso de DataFrames se traduz na sintaxe do .loc"
   ]
  },
  {
   "cell_type": "code",
   "execution_count": null,
   "metadata": {
    "colab": {
     "base_uri": "https://localhost:8080/",
     "height": 175
    },
    "id": "7o20Miywvx6k",
    "outputId": "5b12a405-fe2f-473e-f23b-811806bc4186"
   },
   "outputs": [],
   "source": [
    "df1.loc[1:4, [\"ID_ESCOLA\", \"CO_MUNICIPIO\", \"TP_DEPENDENCIA\", \"TP_CATEGORIA_ESCOLA_PRIVADA\"]]"
   ]
  },
  {
   "cell_type": "markdown",
   "metadata": {
    "id": "O4a-p-kydHPT"
   },
   "source": [
    "*NOTA: Muitas vezes os nomes de índices de um dataframe serão os valores números de 0 a n das linhas do dataframe, entretanto é importante notar que o loc procura pelo nome do índice e não o número*"
   ]
  },
  {
   "cell_type": "markdown",
   "metadata": {
    "id": "CGpCXRqPdHPT"
   },
   "source": [
    "Da mesma forma que séries, podemos ainda selecionar as colunas de um DataFrame por meio de slices com o nome das colunas"
   ]
  },
  {
   "cell_type": "code",
   "execution_count": null,
   "metadata": {
    "colab": {
     "base_uri": "https://localhost:8080/",
     "height": 424
    },
    "id": "m3OPr1IZvx6k",
    "outputId": "3944ff3e-bbf9-41b9-82e1-544cd481680e"
   },
   "outputs": [],
   "source": [
    "df1.loc[:, \"CO_MUNICIPIO\":\"DT_ANO_LETIVO_TERMINO\":2]"
   ]
  },
  {
   "cell_type": "markdown",
   "metadata": {
    "id": "zBJ7Bx31oNuW"
   },
   "source": [
    "Podemos também selecionar linhas e colunas por meio do método reindex. A grande diferença desse método para os demais é que caso uma coluna ou linha não exista nós não receberemos um erro, ao inves disso esse campo será criado com valores nulos (ou com o valor passado pelo parâmetro fill_value)"
   ]
  },
  {
   "cell_type": "code",
   "execution_count": null,
   "metadata": {
    "colab": {
     "base_uri": "https://localhost:8080/",
     "height": 424
    },
    "id": "M04kUZWavx6k",
    "outputId": "a8faedd6-fe72-4b05-8423-d30356dfc3dc"
   },
   "outputs": [],
   "source": [
    "df1.reindex(columns=[\"ID_ESCOLA\", \"NÃO EXISTE\"])"
   ]
  },
  {
   "cell_type": "code",
   "execution_count": null,
   "metadata": {
    "colab": {
     "base_uri": "https://localhost:8080/",
     "height": 424
    },
    "id": "ymCL3OGmUW7a",
    "outputId": "b7140da3-f1e9-4484-cb92-45ba30c24222"
   },
   "outputs": [],
   "source": [
    "df1.reindex(columns=[\"ID_ESCOLA\", \"NÃO EXISTE\"], fill_value=0)"
   ]
  },
  {
   "cell_type": "code",
   "execution_count": null,
   "metadata": {
    "colab": {
     "base_uri": "https://localhost:8080/",
     "height": 407
    },
    "id": "UT4PuppMUbIZ",
    "outputId": "3c8a9e59-1956-4a15-a666-58f3794d288e"
   },
   "outputs": [],
   "source": [
    "df1.reindex(index=[0, 1, 2, \"NÃO EXISTE\"])"
   ]
  },
  {
   "cell_type": "markdown",
   "metadata": {
    "id": "OqLjJ_zL5duw"
   },
   "source": [
    "---"
   ]
  },
  {
   "cell_type": "markdown",
   "metadata": {
    "id": "-aDmipo75duw"
   },
   "source": [
    "**Exercício**"
   ]
  },
  {
   "cell_type": "markdown",
   "metadata": {
    "id": "eVEPiti25duw"
   },
   "source": [
    "Seleciona as colunas do tipo \"IN_INTERNET\" do data frame de escola e reponda, para cada uma delas:\n",
    "\n",
    "1. Quantas escolas disponibilizaram dados?\n",
    "2. Quantos % das escolas tem acesso?"
   ]
  },
  {
   "cell_type": "code",
   "execution_count": null,
   "metadata": {
    "id": "PIWJyhXYoNuX",
    "solution2": "hidden",
    "solution2_first": true
   },
   "outputs": [],
   "source": []
  },
  {
   "cell_type": "code",
   "execution_count": null,
   "metadata": {
    "ExecuteTime": {
     "end_time": "2021-12-28T16:38:03.501291Z",
     "start_time": "2021-12-28T16:38:03.448439Z"
    },
    "cellView": "form",
    "id": "mHxaoeaedHPU",
    "solution2": "hidden"
   },
   "outputs": [],
   "source": [
    "#@title Resposta\n",
    "cols = [c for c in df1.columns if c.startswith(\"IN_INTERNET\")]\n",
    "df1[cols].describe()"
   ]
  },
  {
   "cell_type": "markdown",
   "metadata": {
    "id": "grFR21MB5duw"
   },
   "source": [
    "---"
   ]
  },
  {
   "cell_type": "markdown",
   "metadata": {
    "id": "lYtpH3DM5duw"
   },
   "source": [
    "## Filtros "
   ]
  },
  {
   "cell_type": "markdown",
   "metadata": {
    "id": "cHsse_LPdHPU"
   },
   "source": [
    "Tal como séries, DataFrames também podem ser comparados para devolver um DataFrame de booleanos"
   ]
  },
  {
   "cell_type": "code",
   "execution_count": null,
   "metadata": {
    "colab": {
     "base_uri": "https://localhost:8080/",
     "height": 424
    },
    "id": "a6IROhuPvx6m",
    "outputId": "87e87d8b-8ed5-4b60-f46d-1782c2e9429b"
   },
   "outputs": [],
   "source": [
    "df1[[\"QT_DESKTOP_ALUNO\", \"IN_INTERNET\"]] > 0"
   ]
  },
  {
   "cell_type": "markdown",
   "metadata": {
    "id": "aIBJxIcbdHPU"
   },
   "source": [
    "De forma análoga, métodos que nós vimos anteriormente também funcionarão em DataFrames"
   ]
  },
  {
   "cell_type": "code",
   "execution_count": null,
   "metadata": {
    "colab": {
     "base_uri": "https://localhost:8080/",
     "height": 424
    },
    "id": "vUMyhGOivx6m",
    "outputId": "b53fabf3-7b6b-46bd-ca2c-2f2b0786a0d9"
   },
   "outputs": [],
   "source": [
    "df1[[\"QT_DESKTOP_ALUNO\", \"IN_INTERNET\"]].isnull()"
   ]
  },
  {
   "cell_type": "code",
   "execution_count": null,
   "metadata": {
    "colab": {
     "base_uri": "https://localhost:8080/",
     "height": 424
    },
    "id": "6Sv3H2xOVo9J",
    "outputId": "8fe0ec48-97a1-4af5-94a7-86bc9bfada0b"
   },
   "outputs": [],
   "source": [
    "df1[[\"QT_DESKTOP_ALUNO\", \"IN_INTERNET\"]].notnull()"
   ]
  },
  {
   "cell_type": "code",
   "execution_count": null,
   "metadata": {
    "colab": {
     "base_uri": "https://localhost:8080/",
     "height": 424
    },
    "id": "PKWh_LjtVrOo",
    "outputId": "f034063f-fe49-4e6a-b9e3-e455a491e527"
   },
   "outputs": [],
   "source": [
    "df1[[\"QT_DESKTOP_ALUNO\", \"IN_INTERNET\"]].isin([0, 1])"
   ]
  },
  {
   "cell_type": "markdown",
   "metadata": {
    "id": "gDui2mB-dHPV"
   },
   "source": [
    "Entretanto, diferente do que imagina, um dataframe de booleanos não pode ser passado como filtro, uma vez que o filtro de uma DataFrame é realizado no nível linha. Desta forma, temos de reduzir o dataframe a uma série para realizar o filtro"
   ]
  },
  {
   "cell_type": "code",
   "execution_count": null,
   "metadata": {
    "colab": {
     "base_uri": "https://localhost:8080/",
     "height": 835
    },
    "id": "ZNJWZhByvx6m",
    "outputId": "7b931562-b0a2-4000-ae94-b351f9921555"
   },
   "outputs": [],
   "source": [
    "df1[df1[\"QT_DESKTOP_ALUNO\"] > 0]"
   ]
  },
  {
   "cell_type": "code",
   "execution_count": null,
   "metadata": {
    "colab": {
     "base_uri": "https://localhost:8080/",
     "height": 852
    },
    "id": "xV7Yf9z1WF2Z",
    "outputId": "9afd18c6-2e3e-48be-c8ad-96179129da0a"
   },
   "outputs": [],
   "source": [
    "df1[df1[\"IN_INTERNET\"] > 0]"
   ]
  },
  {
   "cell_type": "code",
   "execution_count": null,
   "metadata": {
    "colab": {
     "base_uri": "https://localhost:8080/",
     "height": 852
    },
    "id": "yiL98pvvWNOJ",
    "outputId": "e0283bc7-81e0-4ccf-e00c-6cb3e58c24fc"
   },
   "outputs": [],
   "source": [
    "df1[(df1[\"QT_DESKTOP_ALUNO\"] > 0) | (df1[\"IN_INTERNET\"] > 0)]"
   ]
  },
  {
   "cell_type": "markdown",
   "metadata": {
    "id": "UgAlUFXtdHPW"
   },
   "source": [
    "Em DataFrames, uma das partes interessantes são operações a nível \"eixo\". Por exemplo, nós vimos em séries o uso do método \"all\" para verificar se todos os elementos da série eram verdadeiros:"
   ]
  },
  {
   "cell_type": "code",
   "execution_count": null,
   "metadata": {
    "colab": {
     "base_uri": "https://localhost:8080/"
    },
    "id": "9H9BzuuLvx6m",
    "outputId": "7e126f39-62a0-45ba-918e-23ca433c09fa"
   },
   "outputs": [],
   "source": [
    "(df1[\"QT_DESKTOP_ALUNO\"] > 0).all()"
   ]
  },
  {
   "cell_type": "markdown",
   "metadata": {
    "id": "EuDDRn5OdHPW"
   },
   "source": [
    "Em DataFrames, por outro lado, o que podemos fazer é mudar a \"direção\" da operação. A operação acima está realizando a verificação do \"all\" na vertical, o que significa que o resultado agregado da função é um único valor booleano, porém poderíamos, no caso de um DataFrame, seguir na direção horizontal"
   ]
  },
  {
   "cell_type": "code",
   "execution_count": null,
   "metadata": {
    "colab": {
     "base_uri": "https://localhost:8080/",
     "height": 424
    },
    "id": "RLFYph3Hvx6n",
    "outputId": "85555fd0-cbe7-465f-81a3-5e4330e8798a"
   },
   "outputs": [],
   "source": [
    "df1[[\"QT_DESKTOP_ALUNO\", \"IN_INTERNET\"]] > 0"
   ]
  },
  {
   "cell_type": "code",
   "execution_count": null,
   "metadata": {
    "colab": {
     "base_uri": "https://localhost:8080/"
    },
    "id": "CH8R87zKWtMI",
    "outputId": "25d23caa-8f90-482b-acc8-8fc136b981dc"
   },
   "outputs": [],
   "source": [
    "(df1[[\"QT_DESKTOP_ALUNO\", \"IN_INTERNET\"]] > 0).all()"
   ]
  },
  {
   "cell_type": "code",
   "execution_count": null,
   "metadata": {
    "colab": {
     "base_uri": "https://localhost:8080/"
    },
    "id": "xwVGXjvkW3EI",
    "outputId": "d64e6213-9670-48b3-ca0b-6a76f3024103"
   },
   "outputs": [],
   "source": [
    "(df1[[\"QT_DESKTOP_ALUNO\", \"IN_INTERNET\"]] > 0).all(axis=\"columns\")"
   ]
  },
  {
   "cell_type": "code",
   "execution_count": null,
   "metadata": {
    "colab": {
     "base_uri": "https://localhost:8080/"
    },
    "id": "kBDfdMyTXBbZ",
    "outputId": "9b158bbb-5028-4dc2-f10a-a335d9cd269e"
   },
   "outputs": [],
   "source": [
    "(df1[[\"QT_DESKTOP_ALUNO\", \"IN_INTERNET\"]] > 0).all(axis=1)"
   ]
  },
  {
   "cell_type": "code",
   "execution_count": null,
   "metadata": {
    "colab": {
     "base_uri": "https://localhost:8080/",
     "height": 835
    },
    "id": "VFhU7fSOXJc5",
    "outputId": "2fe88d77-273f-4c0e-ad49-9cf9f607856d"
   },
   "outputs": [],
   "source": [
    "df1[(df1[[\"QT_DESKTOP_ALUNO\", \"IN_INTERNET\"]] > 0).all(axis=1)]"
   ]
  },
  {
   "cell_type": "markdown",
   "metadata": {
    "id": "TH33ywTEdHPX"
   },
   "source": [
    "Quase todos os outros métodos que nós vimos em séries poderão ser manipulados desta forma para operarem sobre colunas em DataFrames"
   ]
  },
  {
   "cell_type": "markdown",
   "metadata": {
    "id": "D7UaKccpdHPX"
   },
   "source": [
    "Por fim, uma das sintaxes mais utilizadas para filtros em dataframes é a do .loc"
   ]
  },
  {
   "cell_type": "code",
   "execution_count": null,
   "metadata": {
    "colab": {
     "base_uri": "https://localhost:8080/",
     "height": 835
    },
    "id": "LhXuPFJSvx6n",
    "outputId": "30440ee2-855b-47b3-c29e-0fc6596d25ff"
   },
   "outputs": [],
   "source": [
    "df1.loc[(df1[[\"QT_DESKTOP_ALUNO\", \"IN_INTERNET\"]] > 0).all(axis=1)]"
   ]
  },
  {
   "cell_type": "markdown",
   "metadata": {
    "id": "VuKxr8ardHPX"
   },
   "source": [
    "A primeira vista não parece nada muito interessante, mas na verdade essa sintaxe nos permite realizar filtros tanto em linhas quanto em colunas"
   ]
  },
  {
   "cell_type": "code",
   "execution_count": null,
   "metadata": {
    "colab": {
     "base_uri": "https://localhost:8080/",
     "height": 424
    },
    "id": "zgJZksZ-vx6n",
    "outputId": "cfc5723d-55ca-4458-d816-0019b8dad1aa"
   },
   "outputs": [],
   "source": [
    "df1.loc[(df1[[\"QT_DESKTOP_ALUNO\", \"IN_INTERNET\"]] > 0).all(axis=1), [\"ID_ESCOLA\", \"QT_DESKTOP_ALUNO\", \"IN_INTERNET\"]]"
   ]
  },
  {
   "cell_type": "markdown",
   "metadata": {
    "id": "HtEvRjHEdHPY"
   },
   "source": [
    "Além disso, um de seus usos mais comuns e a sintaxe do lambda, na qual podemos passar uma função para filtrar o dataframe"
   ]
  },
  {
   "cell_type": "code",
   "execution_count": null,
   "metadata": {
    "colab": {
     "base_uri": "https://localhost:8080/",
     "height": 424
    },
    "id": "-htWbg6cvx6n",
    "outputId": "912503b5-9666-47fe-97a4-d234c69d92df"
   },
   "outputs": [],
   "source": [
    "df1.loc[\n",
    "    lambda f: (f[[\"QT_DESKTOP_ALUNO\", \"IN_INTERNET\"]] > 0).all(axis=1), \n",
    "    [\"ID_ESCOLA\", \"QT_DESKTOP_ALUNO\", \"IN_INTERNET\"]\n",
    "]"
   ]
  },
  {
   "cell_type": "markdown",
   "metadata": {
    "id": "zaD_tdI75dux"
   },
   "source": [
    "---"
   ]
  },
  {
   "cell_type": "markdown",
   "metadata": {
    "id": "l2pnhK7h5duy"
   },
   "source": [
    "**Exercício**"
   ]
  },
  {
   "cell_type": "markdown",
   "metadata": {
    "id": "Kf2rioQnoNua"
   },
   "source": [
    "Para as escolas sem acesso a energia elétrica, responda quantas delas tem:\n",
    "\n",
    "1. Acesso a água potável\n",
    "2. Acesso a internet\n",
    "3. Acesso a alimentação na escola\n",
    "4. Banheiro na escola\n",
    "5. Biblioteca na escola\n",
    "6. Acesso a rede de esgoto"
   ]
  },
  {
   "cell_type": "code",
   "execution_count": null,
   "metadata": {
    "id": "ghX_if6woNua",
    "solution2": "hidden",
    "solution2_first": true
   },
   "outputs": [],
   "source": []
  },
  {
   "cell_type": "code",
   "execution_count": null,
   "metadata": {
    "ExecuteTime": {
     "end_time": "2021-12-28T16:43:34.033353Z",
     "start_time": "2021-12-28T16:43:34.009449Z"
    },
    "cellView": "form",
    "id": "N06f6KyU5duy",
    "solution2": "hidden"
   },
   "outputs": [],
   "source": [
    "#@title Resposta\n",
    "cols = [\n",
    "    \"IN_AGUA_POTAVEL\",\n",
    "    \"IN_INTERNET\",\n",
    "    \"IN_ALIMENTACAO\",\n",
    "    \"IN_BANHEIRO\",\n",
    "    \"IN_BIBLIOTECA\",\n",
    "    \"IN_ESGOTO_INEXISTENTE\"\n",
    "]\n",
    "df1.loc[lambda f: f[\"IN_ENERGIA_INEXISTENTE\"] == 1, cols].describe().loc[\"mean\"]"
   ]
  },
  {
   "cell_type": "markdown",
   "metadata": {
    "id": "2Me6P0Ly5duy"
   },
   "source": [
    "---"
   ]
  },
  {
   "cell_type": "markdown",
   "metadata": {
    "id": "ecT6Pe0B5duy"
   },
   "source": [
    "## Operações "
   ]
  },
  {
   "cell_type": "markdown",
   "metadata": {
    "id": "U7jk4USadHPZ"
   },
   "source": [
    "A maioria as operações que nós realizamos no contexto de bases de dados, na verdade são as operações que nós já vimos entre séries (entre colunas)."
   ]
  },
  {
   "cell_type": "code",
   "execution_count": null,
   "metadata": {
    "colab": {
     "base_uri": "https://localhost:8080/"
    },
    "id": "p6l1UdJadhWT",
    "outputId": "ff97b8ca-d2a1-4afa-bb61-e0eeabf54c73"
   },
   "outputs": [],
   "source": [
    "df1[\"QT_SALAS_UTILIZADAS_FORA\"] + df1[\"QT_SALAS_UTILIZADAS_DENTRO\"]"
   ]
  },
  {
   "cell_type": "markdown",
   "metadata": {
    "id": "c4g73jkHdHPZ"
   },
   "source": [
    "Se nós tentarmos realizar operações entre dataframes precisamos verificar se os mesmos obdecem aos padrões de broadcasting"
   ]
  },
  {
   "cell_type": "code",
   "execution_count": null,
   "metadata": {
    "id": "rRUHjqF2vx6p"
   },
   "outputs": [],
   "source": [
    "# df1[[\"QT_SALAS_UTILIZADAS_FORA\", \"QT_SALAS_UTILIZADAS_DENTRO\"]] / df1[\"QT_SALAS_EXISTENTES\"]\n",
    "# Memory Error"
   ]
  },
  {
   "cell_type": "markdown",
   "metadata": {
    "id": "5D9Tz_ScdHPa"
   },
   "source": [
    "Mais comumente, operações com múltiplas colunas serão realizadas utilizando os métodos de operação matemática"
   ]
  },
  {
   "cell_type": "code",
   "execution_count": null,
   "metadata": {
    "colab": {
     "base_uri": "https://localhost:8080/",
     "height": 424
    },
    "id": "DDCzPUfcvx6p",
    "outputId": "c4d36e6f-4d56-4e6a-e895-d28e32be1014"
   },
   "outputs": [],
   "source": [
    "df1[[\"QT_SALAS_UTILIZADAS_FORA\", \"QT_SALAS_UTILIZADAS_DENTRO\"]].multiply(df1[\"QT_SALAS_UTILIZADAS\"], axis=\"rows\")"
   ]
  },
  {
   "cell_type": "markdown",
   "metadata": {
    "id": "k6QWidqu5du4"
   },
   "source": [
    "---"
   ]
  },
  {
   "cell_type": "markdown",
   "metadata": {
    "id": "ghVJWJL35du4"
   },
   "source": [
    "**Exercício**"
   ]
  },
  {
   "cell_type": "markdown",
   "metadata": {
    "id": "TLwehSE0oNub"
   },
   "source": [
    "Calcule o % de cada equipamento (colunas com \"QT_EQUIP\") em relação aos equipamentos totais (veja a função np.nansum)"
   ]
  },
  {
   "cell_type": "code",
   "execution_count": null,
   "metadata": {
    "id": "ySyYETCt5du4",
    "solution2": "hidden",
    "solution2_first": true
   },
   "outputs": [],
   "source": []
  },
  {
   "cell_type": "code",
   "execution_count": null,
   "metadata": {
    "ExecuteTime": {
     "end_time": "2021-12-28T17:18:42.113092Z",
     "start_time": "2021-12-28T17:18:42.009343Z"
    },
    "cellView": "form",
    "id": "lixj7VQUdHPa",
    "solution2": "hidden"
   },
   "outputs": [],
   "source": [
    "#@title Resposta\n",
    "cols = [c for c in df1.columns if c.startswith(\"QT_EQUIP\")]\n",
    "df1[cols].divide(\n",
    "    pd.Series(np.nansum(df1[cols].values, axis=1), index=df1.index), \n",
    "    axis=\"rows\"\n",
    ")"
   ]
  },
  {
   "cell_type": "markdown",
   "metadata": {
    "id": "m6hnqkLQ5du4"
   },
   "source": [
    "---"
   ]
  },
  {
   "cell_type": "markdown",
   "metadata": {
    "id": "t0Vy032X5du4"
   },
   "source": [
    "## Adição de Dados"
   ]
  },
  {
   "cell_type": "markdown",
   "metadata": {
    "id": "D6e18yqzdHPb"
   },
   "source": [
    "Adicionar uma nova coluna para um dataframe é algo simples. Basta usar a sintaxe de chaves e dar um nome para a coluna. Mas cuidado, se a coluna já existir ela irá substituir seu conteúdo"
   ]
  },
  {
   "cell_type": "code",
   "execution_count": null,
   "metadata": {
    "colab": {
     "base_uri": "https://localhost:8080/",
     "height": 502
    },
    "id": "Ov3UQXbfGCT6",
    "outputId": "30f82636-5a50-451c-a32f-48688f16e558"
   },
   "outputs": [],
   "source": [
    "df1[\"PCT_SALAS_ACESSIVEIS\"]"
   ]
  },
  {
   "cell_type": "code",
   "execution_count": null,
   "metadata": {
    "id": "aceOfOO9vx6q"
   },
   "outputs": [],
   "source": [
    "df1[\"PCT_SALAS_ACESSIVEIS\"] = df1[\"QT_SALAS_UTILIZADAS_ACESSIVEIS\"] / df1[\"QT_SALAS_UTILIZADAS\"]"
   ]
  },
  {
   "cell_type": "code",
   "execution_count": null,
   "metadata": {
    "colab": {
     "base_uri": "https://localhost:8080/"
    },
    "id": "-Nm-L1DvGEmt",
    "outputId": "3cf09be6-20ad-4b32-ed69-a55741b46ed4"
   },
   "outputs": [],
   "source": [
    "df1[\"PCT_SALAS_ACESSIVEIS\"]"
   ]
  },
  {
   "cell_type": "markdown",
   "metadata": {
    "id": "fVA5enGrdHPb"
   },
   "source": [
    "Podemos ainda criar colunas com base em arrays, listas ou em valores fixos"
   ]
  },
  {
   "cell_type": "code",
   "execution_count": null,
   "metadata": {
    "id": "kM1YF07rvx6q"
   },
   "outputs": [],
   "source": [
    "df1[\"PCT_SALAS_ACESSIVEIS\"] = 1"
   ]
  },
  {
   "cell_type": "code",
   "execution_count": null,
   "metadata": {
    "colab": {
     "base_uri": "https://localhost:8080/"
    },
    "id": "ChFSzk6HGHxt",
    "outputId": "d4cf6b09-4ca2-4d1a-e14e-fc7067a2e076"
   },
   "outputs": [],
   "source": [
    "df1[\"PCT_SALAS_ACESSIVEIS\"]"
   ]
  },
  {
   "cell_type": "code",
   "execution_count": null,
   "metadata": {
    "id": "ODMQtYSzGK69"
   },
   "outputs": [],
   "source": [
    "df1[\"PCT_SALAS_ACESSIVEIS\"] = int(df1.shape[0] / 3) * [1, 2, 3]"
   ]
  },
  {
   "cell_type": "code",
   "execution_count": null,
   "metadata": {
    "colab": {
     "base_uri": "https://localhost:8080/"
    },
    "id": "oNHuPoFvGWoM",
    "outputId": "a9193cde-46f5-469a-8892-9099d8680268"
   },
   "outputs": [],
   "source": [
    "df1[\"PCT_SALAS_ACESSIVEIS\"]"
   ]
  },
  {
   "cell_type": "code",
   "execution_count": null,
   "metadata": {
    "id": "XW-G35tUGbjM"
   },
   "outputs": [],
   "source": [
    "df1[\"PCT_SALAS_ACESSIVEIS\"] = (df1[\"QT_SALAS_UTILIZADAS_ACESSIVEIS\"] / df1[\"QT_SALAS_UTILIZADAS\"]).values"
   ]
  },
  {
   "cell_type": "code",
   "execution_count": null,
   "metadata": {
    "colab": {
     "base_uri": "https://localhost:8080/"
    },
    "id": "NoHguBzhGgQ8",
    "outputId": "65fa4744-e857-416f-f6d0-ba703190208f"
   },
   "outputs": [],
   "source": [
    "df1[\"PCT_SALAS_ACESSIVEIS\"]"
   ]
  },
  {
   "cell_type": "markdown",
   "metadata": {
    "id": "A-8Seck8dHPd"
   },
   "source": [
    "DataFrames também podem ser alterados em determinadas linhas de acordo com filtros, apesar do pandas nos devolver um aviso, uma vez que essa operação pode não ter sido realizada tal qual era esperado"
   ]
  },
  {
   "cell_type": "code",
   "execution_count": null,
   "metadata": {
    "colab": {
     "base_uri": "https://localhost:8080/",
     "height": 538
    },
    "id": "qszfcFPvHBWt",
    "outputId": "94798010-5f18-462e-b777-9fcad86bb42f"
   },
   "outputs": [],
   "source": [
    "v = df1.loc[lambda f: f[\"QT_SALAS_UTILIZADAS\"] == 1]\n",
    "display(v[\"PCT_SALAS_ACESSIVEIS\"])\n",
    "v[\"PCT_SALAS_ACESSIVEIS\"] = -1\n",
    "display(v[\"PCT_SALAS_ACESSIVEIS\"])"
   ]
  },
  {
   "cell_type": "code",
   "execution_count": null,
   "metadata": {
    "colab": {
     "base_uri": "https://localhost:8080/"
    },
    "id": "awxrGLtIIIZc",
    "outputId": "9363ecab-8463-42af-d2bd-6f30499dfd59"
   },
   "outputs": [],
   "source": [
    "df1.loc[lambda f: f[\"QT_SALAS_UTILIZADAS\"] == 1, \"PCT_SALAS_ACESSIVEIS\"]"
   ]
  },
  {
   "cell_type": "code",
   "execution_count": null,
   "metadata": {
    "colab": {
     "base_uri": "https://localhost:8080/",
     "height": 711
    },
    "id": "eE-slIRuIkic",
    "outputId": "689ab73d-b282-4e1c-9278-bb6a4421d039"
   },
   "outputs": [],
   "source": [
    "v = df1.iloc[:10]\n",
    "display(v[\"PCT_SALAS_ACESSIVEIS\"])\n",
    "v[\"PCT_SALAS_ACESSIVEIS\"] = -1\n",
    "display(v[\"PCT_SALAS_ACESSIVEIS\"])\n",
    "display(df1.loc[:10, \"PCT_SALAS_ACESSIVEIS\"])"
   ]
  },
  {
   "cell_type": "markdown",
   "metadata": {
    "id": "vUrMw164dHPd"
   },
   "source": [
    "O aviso acima é feito, porque o slice do dataframe é uma referência ao dataframe original, de forma que modifica-lo significa modificar os dados originais. Uma maneira mais adequada de fazer a operação acima seria"
   ]
  },
  {
   "cell_type": "code",
   "execution_count": null,
   "metadata": {
    "colab": {
     "base_uri": "https://localhost:8080/"
    },
    "id": "jKygguVcvx6q",
    "outputId": "0957648d-98f6-4763-9fef-60d9d4f0b5d3"
   },
   "outputs": [],
   "source": [
    "df1.loc[lambda f: f[\"QT_SALAS_UTILIZADAS\"] == 1, \"PCT_SALAS_ACESSIVEIS\"] = -1\n",
    "df1.loc[lambda f: f[\"QT_SALAS_UTILIZADAS\"] == 1, \"PCT_SALAS_ACESSIVEIS\"]"
   ]
  },
  {
   "cell_type": "markdown",
   "metadata": {
    "id": "Ak6WN3v35du5"
   },
   "source": [
    "No geral, todavia, é recomendado, ao criar uma nova coluna, criar uma cópia do dataframe original, uma vez que muitas vezes queremos manter o mesmo inalterado e também ajuda a facilitar o processo de debuging. Para isso o pandas nos fornece a sintaxe do assign"
   ]
  },
  {
   "cell_type": "code",
   "execution_count": null,
   "metadata": {
    "id": "nNe4dIyYvx6q"
   },
   "outputs": [],
   "source": [
    "df4 = df1.assign(\n",
    "    PCT_SALAS_ACESSIVEIS=lambda f: np.where(\n",
    "        f[\"QT_SALAS_UTILIZADAS\"] == 1,\n",
    "        -1,\n",
    "        (f[\"QT_SALAS_UTILIZADAS_ACESSIVEIS\"] / f[\"QT_SALAS_UTILIZADAS\"])\n",
    "    )\n",
    ")"
   ]
  },
  {
   "cell_type": "code",
   "execution_count": null,
   "metadata": {
    "colab": {
     "base_uri": "https://localhost:8080/"
    },
    "id": "Pj68KY0ZJ0Tt",
    "outputId": "6c8d12e8-3dd5-4095-ee4e-599a7b3db279"
   },
   "outputs": [],
   "source": [
    "id(df4)"
   ]
  },
  {
   "cell_type": "code",
   "execution_count": null,
   "metadata": {
    "colab": {
     "base_uri": "https://localhost:8080/"
    },
    "id": "dsALyIkxJ2lM",
    "outputId": "5e6c7f13-2d1d-4b32-cde0-388504954f30"
   },
   "outputs": [],
   "source": [
    "id(df1)"
   ]
  },
  {
   "cell_type": "markdown",
   "metadata": {
    "id": "QrYHAjo-dHPe"
   },
   "source": [
    "O assign não só permite a sintaxe de chaves como feito acima, mas também pode receber dicionários, caso você queira criar nomes de colunas com base em variáveis"
   ]
  },
  {
   "cell_type": "code",
   "execution_count": null,
   "metadata": {
    "id": "mp1h2sASvx6r"
   },
   "outputs": [],
   "source": [
    "for i in range(1, 6):\n",
    "    df4 = df4.assign(\n",
    "        **{\n",
    "          f\"PCT_SALAS_ACESSIVEIS_{i}\": lambda f: np.where(\n",
    "                f[\"QT_SALAS_UTILIZADAS\"] == 1,\n",
    "                -1,\n",
    "                (f[\"QT_SALAS_UTILIZADAS_ACESSIVEIS\"] / f[\"QT_SALAS_UTILIZADAS\"])\n",
    "            )\n",
    "        }\n",
    "    )"
   ]
  },
  {
   "cell_type": "code",
   "execution_count": null,
   "metadata": {
    "colab": {
     "base_uri": "https://localhost:8080/"
    },
    "id": "jbAyEj20KPqM",
    "outputId": "5395b0b9-f15a-49f8-be1f-e0d0ee249692"
   },
   "outputs": [],
   "source": [
    "df4.columns"
   ]
  },
  {
   "cell_type": "markdown",
   "metadata": {
    "id": "i44X1WCPdHPe"
   },
   "source": [
    "Além das operações de geração de colunas, é possível também combinar dataframes e séries pela operação concat. Um de seus usos mais comuns é de expandir um dataframe horizontalmente. Neste caso será feito o match entre dataframe/série pelo índice para se gerar um novo dataframe com as colunas combinadas"
   ]
  },
  {
   "cell_type": "code",
   "execution_count": null,
   "metadata": {
    "colab": {
     "base_uri": "https://localhost:8080/",
     "height": 424
    },
    "id": "Co0kqh8uvx6r",
    "outputId": "b088fd00-5699-46f8-9a67-4b80de3fa153"
   },
   "outputs": [],
   "source": [
    "pd.concat([df1[\"ID_ESCOLA\"], df1[\"PCT_SALAS_ACESSIVEIS\"]], axis=\"columns\")"
   ]
  },
  {
   "cell_type": "code",
   "execution_count": null,
   "metadata": {
    "colab": {
     "base_uri": "https://localhost:8080/",
     "height": 424
    },
    "id": "ZQZurQjIKv-9",
    "outputId": "811d4947-ac2c-4b51-d11f-db9cd14cccfd"
   },
   "outputs": [],
   "source": [
    "pd.concat([df1[[\"ID_ESCOLA\", \"CO_MUNICIPIO\"]], df1[\"PCT_SALAS_ACESSIVEIS\"]], axis=\"columns\")"
   ]
  },
  {
   "cell_type": "code",
   "execution_count": null,
   "metadata": {
    "colab": {
     "base_uri": "https://localhost:8080/",
     "height": 424
    },
    "id": "OZAKQACoK0-M",
    "outputId": "c8ff1f43-9bac-4949-ae18-08740d974e90"
   },
   "outputs": [],
   "source": [
    "pd.concat([df1[[\"ID_ESCOLA\", \"CO_MUNICIPIO\"]], df1[[\"QT_SALAS_UTILIZADAS\", \"PCT_SALAS_ACESSIVEIS\"]]], axis=\"columns\")"
   ]
  },
  {
   "cell_type": "code",
   "execution_count": null,
   "metadata": {
    "colab": {
     "base_uri": "https://localhost:8080/",
     "height": 424
    },
    "id": "U-FtpwMCK8ZN",
    "outputId": "d082fbca-855f-4d8c-bc83-d29ff491f020"
   },
   "outputs": [],
   "source": [
    "pd.concat([df1[\"ID_ESCOLA\"], df1[\"CO_MUNICIPIO\"], df1[\"PCT_SALAS_ACESSIVEIS\"]], axis=\"columns\")"
   ]
  },
  {
   "cell_type": "markdown",
   "metadata": {
    "id": "VfpEsOgAdHPf"
   },
   "source": [
    "Também é possível empilhar dados, realizando a operação na difereção de linhas"
   ]
  },
  {
   "cell_type": "code",
   "execution_count": null,
   "metadata": {
    "colab": {
     "base_uri": "https://localhost:8080/"
    },
    "id": "2160VjoGvx6r",
    "outputId": "de805937-9c00-4a1f-c756-8ced86020561"
   },
   "outputs": [],
   "source": [
    "pd.concat([df1[\"ID_ESCOLA\"], df1[\"CO_MUNICIPIO\"], df1[\"PCT_SALAS_ACESSIVEIS\"]], axis=\"rows\")"
   ]
  },
  {
   "cell_type": "code",
   "execution_count": null,
   "metadata": {
    "colab": {
     "base_uri": "https://localhost:8080/",
     "height": 424
    },
    "id": "WoOMtgcjLTR8",
    "outputId": "2e55f4f6-5c49-4c4a-bddc-e09718bc817f"
   },
   "outputs": [],
   "source": [
    "pd.concat([df1[[\"ID_ESCOLA\", \"CO_MUNICIPIO\"]], df1[[\"QT_SALAS_UTILIZADAS\", \"PCT_SALAS_ACESSIVEIS\"]]], axis=\"rows\")"
   ]
  },
  {
   "cell_type": "code",
   "execution_count": null,
   "metadata": {
    "colab": {
     "base_uri": "https://localhost:8080/",
     "height": 424
    },
    "id": "DNwGXoLQLrhs",
    "outputId": "f629270d-0e6b-4857-902b-4494bc67a36f"
   },
   "outputs": [],
   "source": [
    "pd.concat([df1[[\"ID_ESCOLA\", \"CO_MUNICIPIO\"]], df1[\"PCT_SALAS_ACESSIVEIS\"]], axis=\"rows\")"
   ]
  },
  {
   "cell_type": "code",
   "execution_count": null,
   "metadata": {
    "colab": {
     "base_uri": "https://localhost:8080/",
     "height": 424
    },
    "id": "_qBCsae5L1t8",
    "outputId": "4c63121e-37d7-4446-a7e5-9a20f7beb084"
   },
   "outputs": [],
   "source": [
    "pd.concat([df1[[\"ID_ESCOLA\", \"CO_MUNICIPIO\"]], df1[[\"ID_ESCOLA\", \"CO_MUNICIPIO\"]]], axis=\"rows\")"
   ]
  },
  {
   "cell_type": "markdown",
   "metadata": {
    "id": "czUnPDs75du6"
   },
   "source": [
    "Entretanto, quando queremos empilhar dados o mais comum é utilizarmos o método append"
   ]
  },
  {
   "cell_type": "code",
   "execution_count": null,
   "metadata": {
    "colab": {
     "base_uri": "https://localhost:8080/",
     "height": 424
    },
    "id": "AZOsDRtavx6r",
    "outputId": "b98276ce-72e8-4ba3-f470-1231bc15de7c"
   },
   "outputs": [],
   "source": [
    "df1[[\"ID_ESCOLA\", \"CO_MUNICIPIO\"]].append(df1[[\"ID_ESCOLA\", \"CO_MUNICIPIO\"]])"
   ]
  },
  {
   "cell_type": "markdown",
   "metadata": {
    "id": "JZfyzA5BdHPh"
   },
   "source": [
    "A última forma de alteração de dados é por meio do método rename, que permite tanto renomear indices quanto colunas a depender dos parâmetros passados. Vale ressaltar que o método devolve uma cópia do data frame original, e que, para aplicar as modificações sobre o data frame devemos passar o parâmetro inplace=True"
   ]
  },
  {
   "cell_type": "code",
   "execution_count": null,
   "metadata": {
    "colab": {
     "base_uri": "https://localhost:8080/",
     "height": 424
    },
    "id": "zj7yrdatvx6r",
    "outputId": "ead90d59-2048-4866-aafd-b4591ff58e3c"
   },
   "outputs": [],
   "source": [
    "df1[[\"ID_ESCOLA\", \"CO_MUNICIPIO\"]].rename(columns={\"CO_MUNICIPIO\": \"CO\"})"
   ]
  },
  {
   "cell_type": "code",
   "execution_count": null,
   "metadata": {
    "colab": {
     "base_uri": "https://localhost:8080/",
     "height": 424
    },
    "id": "gW1LIAAGMc9L",
    "outputId": "5dbe605f-b8cb-47e8-bc1e-e75c7ac3a7b7"
   },
   "outputs": [],
   "source": [
    "df1[[\"ID_ESCOLA\", \"CO_MUNICIPIO\"]].rename(index={0: \"I0\"})"
   ]
  },
  {
   "cell_type": "markdown",
   "metadata": {
    "id": "4Ol4fLtK5du6"
   },
   "source": [
    "---"
   ]
  },
  {
   "cell_type": "markdown",
   "metadata": {
    "id": "OJGmCJUAoNuf"
   },
   "source": [
    "**Exercício**"
   ]
  },
  {
   "cell_type": "markdown",
   "metadata": {
    "id": "pEC92QiuoNug"
   },
   "source": [
    "Calcule o % de cada equipamento (colunas com \"QT_EQUIP\") em relação aos equipamentos totais (veja a função np.nansum) e depois adicione os campos calculados com os nomes alterados ao invés de QT_EQUIP para PCT_EQUIP a base original"
   ]
  },
  {
   "cell_type": "code",
   "execution_count": null,
   "metadata": {
    "id": "vzlkMwPPoNug",
    "solution2": "hidden",
    "solution2_first": true
   },
   "outputs": [],
   "source": []
  },
  {
   "cell_type": "code",
   "execution_count": null,
   "metadata": {
    "ExecuteTime": {
     "end_time": "2021-12-28T17:32:30.264419Z",
     "start_time": "2021-12-28T17:32:30.105843Z"
    },
    "cellView": "form",
    "id": "v9f9nyzhoNug",
    "solution2": "hidden"
   },
   "outputs": [],
   "source": [
    "#@title Resposta\n",
    "cols = [c for c in df1.columns if c.startswith(\"QT_EQUIP\")]\n",
    "pct = df1[cols].divide(\n",
    "    pd.Series(np.nansum(df1[cols].values, axis=1), index=df1.index), \n",
    "    axis=\"rows\"\n",
    ")\n",
    "pct.rename(columns={c: f\"PCT_{c.replace('QT_', '')}\" for c in pct}, inplace=True)\n",
    "concat = pd.concat([df1, pct], axis=1)\n",
    "concat"
   ]
  },
  {
   "cell_type": "markdown",
   "metadata": {
    "id": "6iZdVgsd5du6"
   },
   "source": [
    "---"
   ]
  },
  {
   "cell_type": "markdown",
   "metadata": {
    "id": "y5zs6zWi5du6"
   },
   "source": [
    "## Remoção de Dados "
   ]
  },
  {
   "cell_type": "markdown",
   "metadata": {
    "id": "LWXQFJzzdHPi"
   },
   "source": [
    "Outro processo comum em dataframes é a remoção de dados. Em séries nós já vimos o método \"drop\" para remover índices, que funciona exatamente igual para dataframes. É mais comum, porém, queremos remover colunas no lugar de índices"
   ]
  },
  {
   "cell_type": "code",
   "execution_count": null,
   "metadata": {
    "colab": {
     "base_uri": "https://localhost:8080/",
     "height": 765
    },
    "id": "E8RYIoL7vx6s",
    "outputId": "5916b8b2-ece4-46f2-eb58-f78c10910cda"
   },
   "outputs": [],
   "source": [
    "df1.drop(index=[1, 2, 3])"
   ]
  },
  {
   "cell_type": "code",
   "execution_count": null,
   "metadata": {
    "colab": {
     "base_uri": "https://localhost:8080/",
     "height": 800
    },
    "id": "bzynf2W6ifDY",
    "outputId": "644e2742-b93b-4664-f180-f6f98b84eeda"
   },
   "outputs": [],
   "source": [
    "df4.drop(\n",
    "    columns=[\n",
    "        \"PCT_SALAS_ACESSIVEIS_1\",\n",
    "        \"PCT_SALAS_ACESSIVEIS_2\",\n",
    "        \"PCT_SALAS_ACESSIVEIS_3\",\n",
    "        \"PCT_SALAS_ACESSIVEIS_4\",\n",
    "        \"PCT_SALAS_ACESSIVEIS_5\",\n",
    "    ]\n",
    ")"
   ]
  },
  {
   "cell_type": "code",
   "execution_count": null,
   "metadata": {
    "id": "fLsPV6A6ivPz"
   },
   "outputs": [],
   "source": [
    "df4.drop(\n",
    "    columns=[\n",
    "        \"PCT_SALAS_ACESSIVEIS_1\",\n",
    "        \"PCT_SALAS_ACESSIVEIS_2\",\n",
    "        \"PCT_SALAS_ACESSIVEIS_3\",\n",
    "        \"PCT_SALAS_ACESSIVEIS_4\",\n",
    "        \"PCT_SALAS_ACESSIVEIS_5\",\n",
    "    ],\n",
    "    inplace=True\n",
    ")"
   ]
  },
  {
   "cell_type": "code",
   "execution_count": null,
   "metadata": {
    "colab": {
     "base_uri": "https://localhost:8080/",
     "height": 311
    },
    "id": "ktChaXHVi27y",
    "outputId": "3c1487ec-2309-4521-cb80-8f722597c19b"
   },
   "outputs": [],
   "source": [
    "df4.drop(\"PCT_SALAS_ACESSIVEI\", axis=1)"
   ]
  },
  {
   "cell_type": "code",
   "execution_count": null,
   "metadata": {
    "colab": {
     "base_uri": "https://localhost:8080/",
     "height": 800
    },
    "id": "oKbU5-kzjFaj",
    "outputId": "29fc8c56-6ad5-4b84-90d0-4e904f381130"
   },
   "outputs": [],
   "source": [
    "df4.drop(\"PCT_SALAS_ACESSIVEI\", axis=1, errors=\"ignore\")"
   ]
  },
  {
   "cell_type": "markdown",
   "metadata": {
    "id": "PLwOQlxXdHPi"
   },
   "source": [
    "Nós também vimos o método drop_duplicates que permite remover linhas de uma série que tenham valores repetidos. O pandas também pode utilizar o mesmo método, todavia por padrão o método irá eliminar linhas em que todas as colunas tenham valores iguais, sendo que para remover duplicatas em colunas específicas é preciso utilizar o parâmetro subset"
   ]
  },
  {
   "cell_type": "code",
   "execution_count": null,
   "metadata": {
    "colab": {
     "base_uri": "https://localhost:8080/"
    },
    "id": "QdzS4Vh3vx6t",
    "outputId": "e5a4ad72-9b99-4725-fc79-a2c6708e74ed"
   },
   "outputs": [],
   "source": [
    "df4.shape"
   ]
  },
  {
   "cell_type": "code",
   "execution_count": null,
   "metadata": {
    "colab": {
     "base_uri": "https://localhost:8080/",
     "height": 800
    },
    "id": "H78kKuhujZ4G",
    "outputId": "ee6f66bc-718b-4f7c-d68a-209bdebf330a"
   },
   "outputs": [],
   "source": [
    "df4.drop_duplicates()"
   ]
  },
  {
   "cell_type": "code",
   "execution_count": null,
   "metadata": {
    "colab": {
     "base_uri": "https://localhost:8080/",
     "height": 818
    },
    "id": "AEYhQuR5jhqi",
    "outputId": "2489e9ce-6b25-4fff-c6e0-31587ffa93be"
   },
   "outputs": [],
   "source": [
    "df4.drop_duplicates(subset=[\"CO_MUNICIPIO\", \"CO_ESCOLA_SEDE_VINCULADA\"])"
   ]
  },
  {
   "cell_type": "code",
   "execution_count": null,
   "metadata": {
    "colab": {
     "base_uri": "https://localhost:8080/",
     "height": 818
    },
    "id": "-cG9wbOujuKy",
    "outputId": "ca8ed537-0a46-4520-eab0-75e6179344d1"
   },
   "outputs": [],
   "source": [
    "df4.drop_duplicates(subset=[\"CO_MUNICIPIO\"], keep=\"last\") # inplace=True"
   ]
  },
  {
   "cell_type": "markdown",
   "metadata": {
    "id": "HpEImzu65du7"
   },
   "source": [
    "O pandas ainda vem com outra funcionalidade comum que é a remoção de linhas ou colunas com base na presença de nulos por meio do método dropna"
   ]
  },
  {
   "cell_type": "code",
   "execution_count": null,
   "metadata": {
    "colab": {
     "base_uri": "https://localhost:8080/",
     "height": 143
    },
    "id": "wq2LKBSgvx6t",
    "outputId": "1bd4fc46-9455-44a2-bd67-94d7d673343c"
   },
   "outputs": [],
   "source": [
    "df1.dropna()"
   ]
  },
  {
   "cell_type": "code",
   "execution_count": null,
   "metadata": {
    "colab": {
     "base_uri": "https://localhost:8080/",
     "height": 835
    },
    "id": "XLzOHSrfkI3k",
    "outputId": "83470d15-ab6d-4408-c7cc-a35c4b4d2d3e"
   },
   "outputs": [],
   "source": [
    "df1.dropna(axis=\"columns\")"
   ]
  },
  {
   "cell_type": "code",
   "execution_count": null,
   "metadata": {
    "colab": {
     "base_uri": "https://localhost:8080/",
     "height": 800
    },
    "id": "wkSfvN2mkVjD",
    "outputId": "d40522d3-3e09-46cc-a182-3561641c832c"
   },
   "outputs": [],
   "source": [
    "df1.dropna(axis=\"columns\", how=\"all\")"
   ]
  },
  {
   "cell_type": "code",
   "execution_count": null,
   "metadata": {
    "colab": {
     "base_uri": "https://localhost:8080/",
     "height": 870
    },
    "id": "66iVj3okkeaD",
    "outputId": "cfaa8133-2c25-4bab-e3f6-802baaed256c"
   },
   "outputs": [],
   "source": [
    "df1.dropna(axis=\"rows\", how=\"any\", subset=[\"CO_ESCOLA_SEDE_VINCULADA\"]) # inplace=True"
   ]
  },
  {
   "cell_type": "markdown",
   "metadata": {
    "id": "-dcqXBr25du8"
   },
   "source": [
    "---"
   ]
  },
  {
   "cell_type": "markdown",
   "metadata": {
    "id": "BbSZ-m0OoNuh"
   },
   "source": [
    "**Exercício**"
   ]
  },
  {
   "cell_type": "markdown",
   "metadata": {
    "id": "Wfh3kOs9oNuh"
   },
   "source": [
    "Calcule o % de cada equipamento (colunas com \"QT_EQUIP\") em relação aos equipamentos totais (veja a função np.nansum) e depois adicione os campos calculados com os nomes alterados ao invés de QT_EQUIP para PCT_EQUIP a base original removendo as colunas que forem totalmente nulas"
   ]
  },
  {
   "cell_type": "code",
   "execution_count": null,
   "metadata": {
    "id": "2b99DStVoNuh",
    "solution2": "hidden",
    "solution2_first": true
   },
   "outputs": [],
   "source": []
  },
  {
   "cell_type": "code",
   "execution_count": null,
   "metadata": {
    "ExecuteTime": {
     "end_time": "2021-12-28T17:43:29.843307Z",
     "start_time": "2021-12-28T17:43:29.675682Z"
    },
    "cellView": "form",
    "id": "Wc6nRKpfoNuh",
    "solution2": "hidden"
   },
   "outputs": [],
   "source": [
    "#@title Resposta\n",
    "cols = [c for c in df1.columns if c.startswith(\"QT_EQUIP\")]\n",
    "pct = df1[cols].divide(\n",
    "    pd.Series(np.nansum(df1[cols].values, axis=1), index=df1.index), \n",
    "    axis=\"rows\"\n",
    ")\n",
    "pct.rename(columns={c: f\"PCT_{c.replace('QT_', '')}\" for c in pct}, inplace=True)\n",
    "pct.dropna(axis=\"columns\", how=\"all\", inplace=True)\n",
    "concat = pd.concat([df1, pct], axis=1)\n",
    "concat"
   ]
  },
  {
   "cell_type": "markdown",
   "metadata": {
    "id": "8_ntw8xK5du8"
   },
   "source": [
    "---"
   ]
  },
  {
   "cell_type": "markdown",
   "metadata": {
    "id": "fwZDOtcIdHPk"
   },
   "source": [
    "## Preenchimento de Nulos "
   ]
  },
  {
   "cell_type": "markdown",
   "metadata": {
    "id": "HCZjieQSdHPk"
   },
   "source": [
    "Nós já vimos preenchimento de nulos em séries, e para dataframes nada muda, a não ser a habilidade de preencher nulos em múltiplas colunas ao mesmo tempo ou a possibilidade de escolher a direção de preenchimento"
   ]
  },
  {
   "cell_type": "code",
   "execution_count": null,
   "metadata": {
    "colab": {
     "base_uri": "https://localhost:8080/",
     "height": 424
    },
    "id": "x1pmq9PJvx6u",
    "outputId": "37b972f2-db77-47c0-9095-060197bdb6e3"
   },
   "outputs": [],
   "source": [
    "df3.reindex(columns=[\"ID_ESCOLA\", \"ANO\", \"IDEB_AI\", \"IDEB_AF\"])"
   ]
  },
  {
   "cell_type": "code",
   "execution_count": null,
   "metadata": {
    "colab": {
     "base_uri": "https://localhost:8080/",
     "height": 424
    },
    "id": "MCZ7pIrLlaQS",
    "outputId": "b68ecf60-894b-43f4-e267-4b2366f14a91"
   },
   "outputs": [],
   "source": [
    "df3.reindex(columns=[\"ID_ESCOLA\", \"ANO\", \"IDEB_AI\", \"IDEB_AF\"]).fillna(-1)"
   ]
  },
  {
   "cell_type": "code",
   "execution_count": null,
   "metadata": {
    "colab": {
     "base_uri": "https://localhost:8080/",
     "height": 424
    },
    "id": "0r3gujMLlgjz",
    "outputId": "e663da43-6c36-4d90-ed8d-d66ee1227057"
   },
   "outputs": [],
   "source": [
    "df3.reindex(columns=[\"ID_ESCOLA\", \"ANO\", \"IDEB_AI\", \"IDEB_AF\"]).ffill()"
   ]
  },
  {
   "cell_type": "code",
   "execution_count": null,
   "metadata": {
    "colab": {
     "base_uri": "https://localhost:8080/",
     "height": 424
    },
    "id": "uDki7UzMlkui",
    "outputId": "d5052f79-3c87-4656-8204-95592a7f6902"
   },
   "outputs": [],
   "source": [
    "df3.reindex(columns=[\"ID_ESCOLA\", \"ANO\", \"IDEB_AI\", \"IDEB_AF\"]).bfill()"
   ]
  },
  {
   "cell_type": "code",
   "execution_count": null,
   "metadata": {
    "colab": {
     "base_uri": "https://localhost:8080/",
     "height": 424
    },
    "id": "qZmP2OhblpuS",
    "outputId": "8d87e500-7c6a-4bf3-fa74-e01e3eb3c32b"
   },
   "outputs": [],
   "source": [
    "df3.reindex(columns=[\"IDEB_AI\", \"IDEB_AF\"]).ffill(axis=1)"
   ]
  },
  {
   "cell_type": "markdown",
   "metadata": {
    "id": "Nys6dP5zdHPl"
   },
   "source": [
    "---"
   ]
  },
  {
   "cell_type": "markdown",
   "metadata": {
    "id": "64DveNmidHPl"
   },
   "source": [
    "**Exercício**"
   ]
  },
  {
   "cell_type": "markdown",
   "metadata": {
    "id": "8nX_g_n7oNuj"
   },
   "source": [
    "Para escolas em funcionamento (TP_SITUACAO_FUNCIONAMENTO = EM ATIVIDADE) que não são particulares (TP_DEPENDENCIA <> PRIVADA), preenche os valores de TP_CONVENIO_PODER_PUBLICO com \"PÚBLICA\""
   ]
  },
  {
   "cell_type": "code",
   "execution_count": null,
   "metadata": {
    "id": "fVsDGLX7dHPl",
    "solution2": "hidden",
    "solution2_first": true
   },
   "outputs": [],
   "source": []
  },
  {
   "cell_type": "code",
   "execution_count": null,
   "metadata": {
    "ExecuteTime": {
     "end_time": "2021-12-28T18:17:50.859072Z",
     "start_time": "2021-12-28T18:17:50.843115Z"
    },
    "cellView": "form",
    "id": "fDQ1hkVAoNuj",
    "solution2": "hidden"
   },
   "outputs": [],
   "source": [
    "#@title Resposta\n",
    "filt = (\n",
    "    lambda f: (f[\"TP_SITUACAO_FUNCIONAMENTO\"] == \"EM ATIVIDADE\")\n",
    "    & (f[\"TP_DEPENDENCIA\"] != \"PRIVADA\")\n",
    ")\n",
    "df1.loc[filt, \"TP_CONVENIO_PODER_PUBLICO\"] = df1.loc[filt, \"TP_CONVENIO_PODER_PUBLICO\"].fillna(\"PÚBLICA\")"
   ]
  },
  {
   "cell_type": "markdown",
   "metadata": {
    "id": "1veElZtkdHPl"
   },
   "source": [
    "---"
   ]
  },
  {
   "cell_type": "markdown",
   "metadata": {
    "id": "b3GVDcgAdHPl"
   },
   "source": [
    "## Funções e Métodos "
   ]
  },
  {
   "cell_type": "markdown",
   "metadata": {
    "id": "mJ1UztEWdHPl"
   },
   "source": [
    "Nós vimos múltiplas funções que podem ser utilizadas em séries, como funções estatísticas, cálculos entre linhas e cumulativos. Para DataFrames, em geral, nossos cálculos serão feitos coluna a coluna (o que significa que se mantém a mesma sintaxe)"
   ]
  },
  {
   "cell_type": "code",
   "execution_count": null,
   "metadata": {
    "colab": {
     "base_uri": "https://localhost:8080/",
     "height": 424
    },
    "id": "MYMbExmUvx6w",
    "outputId": "9a44277d-2e6e-4ad9-9706-063842551716"
   },
   "outputs": [],
   "source": [
    "df1[[\"QT_COMP_PORTATIL_ALUNO\", \"QT_DESKTOP_ALUNO\"]].cumsum()"
   ]
  },
  {
   "cell_type": "code",
   "execution_count": null,
   "metadata": {
    "colab": {
     "base_uri": "https://localhost:8080/",
     "height": 424
    },
    "id": "1PE0ZqYLm0RE",
    "outputId": "5dc0acf4-41c9-4912-ffcb-21fd445ad22c"
   },
   "outputs": [],
   "source": [
    "df1[[\"QT_COMP_PORTATIL_ALUNO\", \"QT_DESKTOP_ALUNO\"]].diff()"
   ]
  },
  {
   "cell_type": "code",
   "execution_count": null,
   "metadata": {
    "colab": {
     "base_uri": "https://localhost:8080/"
    },
    "id": "evtWObR7m26z",
    "outputId": "5ab605a8-dd11-4440-98c4-d3934417f6b5"
   },
   "outputs": [],
   "source": [
    "df1[[\"QT_COMP_PORTATIL_ALUNO\", \"QT_DESKTOP_ALUNO\"]].mean()"
   ]
  },
  {
   "cell_type": "markdown",
   "metadata": {
    "id": "m3_sDONpdHPm"
   },
   "source": [
    "Porém em algumas situações vamos querer alterar o eixo de calculo"
   ]
  },
  {
   "cell_type": "code",
   "execution_count": null,
   "metadata": {
    "colab": {
     "base_uri": "https://localhost:8080/"
    },
    "id": "UDxifebwvx6w",
    "outputId": "f61657d0-3f9f-457b-e9eb-622335fdeb0c"
   },
   "outputs": [],
   "source": [
    "df1[[\"QT_COMP_PORTATIL_ALUNO\", \"QT_DESKTOP_ALUNO\"]].sum(axis=1)"
   ]
  },
  {
   "cell_type": "code",
   "execution_count": null,
   "metadata": {
    "colab": {
     "base_uri": "https://localhost:8080/"
    },
    "id": "50nC_LjxnB5D",
    "outputId": "0bf93c42-b402-40a9-fbb4-143c07a4acf5"
   },
   "outputs": [],
   "source": [
    "df1[[\"QT_COMP_PORTATIL_ALUNO\", \"QT_DESKTOP_ALUNO\"]].sum(axis=\"columns\")"
   ]
  },
  {
   "cell_type": "code",
   "execution_count": null,
   "metadata": {},
   "outputs": [],
   "source": [
    "df1.sort_values(by=[\"QT_COMP_PORTATIL_ALUNO\", \"QT_DESKTOP_ALUNO\"], ascending=[True, False])[[\"QT_COMP_PORTATIL_ALUNO\", \"QT_DESKTOP_ALUNO\"]]"
   ]
  },
  {
   "cell_type": "code",
   "execution_count": null,
   "metadata": {},
   "outputs": [],
   "source": [
    "df1[[\"QT_COMP_PORTATIL_ALUNO\", \"QT_DESKTOP_ALUNO\"]].replace({0: \"!\"})"
   ]
  },
  {
   "cell_type": "markdown",
   "metadata": {
    "id": "beStYx9YdHPm"
   },
   "source": [
    "---"
   ]
  },
  {
   "cell_type": "markdown",
   "metadata": {
    "id": "FSIWQiIEdHPm"
   },
   "source": [
    "**Exercício**"
   ]
  },
  {
   "cell_type": "markdown",
   "metadata": {
    "id": "3KMW4biRoNuk"
   },
   "source": [
    "Para as escolas públicas e em atividade, preenche o campo de \"QT_PROF_ADMINISTRATIVO\" com o valor de média por TP_DEPENDENCIA"
   ]
  },
  {
   "cell_type": "code",
   "execution_count": null,
   "metadata": {
    "id": "Ovz9Hne4dHPn",
    "solution2": "hidden",
    "solution2_first": true
   },
   "outputs": [],
   "source": []
  },
  {
   "cell_type": "code",
   "execution_count": null,
   "metadata": {
    "ExecuteTime": {
     "end_time": "2021-12-28T18:22:35.448811Z",
     "start_time": "2021-12-28T18:22:35.420860Z"
    },
    "cellView": "form",
    "id": "Zlur_VjXdHPn",
    "solution2": "hidden"
   },
   "outputs": [],
   "source": [
    "#@title Resposta\n",
    "mfed = df1.loc[lambda f: f[\"TP_DEPENDENCIA\"] == \"FEDERAL\", \"QT_PROF_ADMINISTRATIVOS\"].mean()\n",
    "mest = df1.loc[lambda f: f[\"TP_DEPENDENCIA\"] == \"ESTADUAL\", \"QT_PROF_ADMINISTRATIVOS\"].mean()\n",
    "mmun = df1.loc[lambda f: f[\"TP_DEPENDENCIA\"] == \"MUNICIPAL\", \"QT_PROF_ADMINISTRATIVOS\"].mean()\n",
    "mpriv = df1.loc[lambda f: f[\"TP_DEPENDENCIA\"] == \"PRIVADA\", \"QT_PROF_ADMINISTRATIVOS\"].mean()\n",
    "df1[\"QT_PROF_ADMINISTRATIVOS\"] = np.where(\n",
    "    df1[\"TP_SITUACAO_FUNCIONAMENTO\"] != \"EM ATIVIDADE\", \n",
    "    df1[\"QT_PROF_ADMINISTRATIVOS\"],\n",
    "    np.where(\n",
    "        df1[\"TP_DEPENDENCIA\"] == \"FEDERAL\",\n",
    "        df1[\"QT_PROF_ADMINISTRATIVOS\"].fillna(mfed),\n",
    "        np.where(\n",
    "            df1[\"TP_DEPENDENCIA\"] == \"ESTADUAL\",\n",
    "            df1[\"QT_PROF_ADMINISTRATIVOS\"].fillna(mest),\n",
    "            np.where(\n",
    "                df1[\"TP_DEPENDENCIA\"] == \"MUNICIPAL\",\n",
    "                df1[\"QT_PROF_ADMINISTRATIVOS\"].fillna(mmun),\n",
    "                df1[\"QT_PROF_ADMINISTRATIVOS\"].fillna(mpriv)\n",
    "            )\n",
    "        )\n",
    "    )\n",
    ")"
   ]
  },
  {
   "cell_type": "markdown",
   "metadata": {
    "id": "-J9fCnlddHPn"
   },
   "source": [
    "---"
   ]
  },
  {
   "cell_type": "markdown",
   "metadata": {
    "id": "PRx7BtwDdHPn"
   },
   "source": [
    "## \"Vetorização\" "
   ]
  },
  {
   "cell_type": "markdown",
   "metadata": {
    "id": "Ult9lUzYdHPn"
   },
   "source": [
    "Nós já vimos em séries que nós temos a habilidade de executar funções proprietárias por meio do apply e do map. Para DataFrames, de forma análoga, teremos métodos semelhantes. O primeiro e já conhecido é o próprio apply."
   ]
  },
  {
   "cell_type": "code",
   "execution_count": null,
   "metadata": {
    "colab": {
     "base_uri": "https://localhost:8080/",
     "height": 241
    },
    "id": "qS9LtQfPoD2P",
    "outputId": "7d7df12b-3d4d-4deb-863b-c2553c3fe821"
   },
   "outputs": [],
   "source": [
    "df1[\"QT_COMP_PORTATIL_ALUNO\"].apply(lambda x: (x - x.min()) / (x.max() - x.min()))"
   ]
  },
  {
   "cell_type": "code",
   "execution_count": null,
   "metadata": {
    "colab": {
     "base_uri": "https://localhost:8080/",
     "height": 424
    },
    "id": "LTpwIzytvx6x",
    "outputId": "78a1de88-0f87-4eb6-a9b6-4abe8ac0f43c"
   },
   "outputs": [],
   "source": [
    "df1[[\"QT_COMP_PORTATIL_ALUNO\", \"QT_DESKTOP_ALUNO\"]].apply(lambda x: (x - x.min()) / (x.max() - x.min()))"
   ]
  },
  {
   "cell_type": "markdown",
   "metadata": {
    "id": "ulNZOGA0dHPn"
   },
   "source": [
    "Ao aplicar o apply sobre um dataframe o pandas irá percorrer os dados em uma determinada direção e irá passar para a função uma série de dados. No caso do código acima, nós passamos de maneira iterativa a série que corresponde a coluna sendo processada"
   ]
  },
  {
   "cell_type": "code",
   "execution_count": null,
   "metadata": {
    "colab": {
     "base_uri": "https://localhost:8080/"
    },
    "id": "qvnxxtj2vx6y",
    "outputId": "44aba3b9-f406-4049-ef5c-2d61fb7a7ad8"
   },
   "outputs": [],
   "source": [
    "df1[[\"QT_COMP_PORTATIL_ALUNO\", \"QT_DESKTOP_ALUNO\"]].apply(lambda x: print(x.name))"
   ]
  },
  {
   "cell_type": "code",
   "execution_count": null,
   "metadata": {
    "colab": {
     "base_uri": "https://localhost:8080/"
    },
    "id": "4n5eUOGyosrC",
    "outputId": "4df9f981-3242-4cea-e1c5-347794464a4e"
   },
   "outputs": [],
   "source": [
    "df1[[\"QT_COMP_PORTATIL_ALUNO\", \"QT_DESKTOP_ALUNO\"]].apply(lambda x: x.mean())"
   ]
  },
  {
   "cell_type": "markdown",
   "metadata": {
    "id": "ep5zjQ9BdHPo"
   },
   "source": [
    "Como vimos antes, poderemos executar o apply percorrendo o dataframe de uma maneira diferente"
   ]
  },
  {
   "cell_type": "code",
   "execution_count": null,
   "metadata": {
    "colab": {
     "base_uri": "https://localhost:8080/",
     "height": 143
    },
    "id": "h5KI6XzQpC6w",
    "outputId": "ba3da0d8-79af-4122-db30-c06fd9d6b251"
   },
   "outputs": [],
   "source": [
    "(\n",
    "    df1[[\"QT_COMP_PORTATIL_ALUNO\", \"QT_DESKTOP_ALUNO\"]]\n",
    "    .head(3)\n",
    ")"
   ]
  },
  {
   "cell_type": "code",
   "execution_count": null,
   "metadata": {
    "colab": {
     "base_uri": "https://localhost:8080/"
    },
    "id": "CctALxU6vx6y",
    "outputId": "ba8e5ff0-bbb3-43b1-f0e0-0c9e5ae1caa3"
   },
   "outputs": [],
   "source": [
    "(\n",
    "    df1[[\"QT_COMP_PORTATIL_ALUNO\", \"QT_DESKTOP_ALUNO\"]]\n",
    "    .head(3)\n",
    "    .apply(lambda x: print(x), axis=\"columns\")\n",
    ")"
   ]
  },
  {
   "cell_type": "markdown",
   "metadata": {
    "id": "gqJUQAdydHPo"
   },
   "source": [
    "Ao fazer isso o pandas ainda irá passar uma série para a função, só que desta vez a série corresponderá as cada linha de dados, na qual o nome dos índices serão as colunas do dataframe"
   ]
  },
  {
   "cell_type": "code",
   "execution_count": null,
   "metadata": {
    "colab": {
     "base_uri": "https://localhost:8080/"
    },
    "id": "aSxKa1guvx6y",
    "outputId": "5a5e9169-b7a7-471c-a446-2d626f146275"
   },
   "outputs": [],
   "source": [
    "(\n",
    "    df1.head(3)\n",
    "    .apply(\n",
    "        lambda x: x[[\"QT_COMP_PORTATIL_ALUNO\", \"QT_DESKTOP_ALUNO\"]].max(), \n",
    "        axis=\"columns\"\n",
    "    )\n",
    ")"
   ]
  },
  {
   "cell_type": "markdown",
   "metadata": {
    "id": "3FNjyPbDdHPo"
   },
   "source": [
    "Nós também temos o método applymap, uma operação que aplica uma função elemento a elemento de um determinado data frame (equivalente do \"map\" para séries)"
   ]
  },
  {
   "cell_type": "code",
   "execution_count": null,
   "metadata": {
    "colab": {
     "base_uri": "https://localhost:8080/",
     "height": 424
    },
    "id": "QYMrgprNvx6y",
    "outputId": "60d82fc0-2a6d-4a0c-8544-7c9f20de4c41"
   },
   "outputs": [],
   "source": [
    "df1[[\"QT_COMP_PORTATIL_ALUNO\", \"QT_DESKTOP_ALUNO\"]].applymap(lambda x: len(str(x)), na_action=\"ignore\")"
   ]
  },
  {
   "cell_type": "markdown",
   "metadata": {
    "id": "UzD_kVpBoNul"
   },
   "source": [
    "Por fim o último método que temos a nossa disposição para aplicar sobre data frames é o \"transform\". A primeira vista ele parace ser igual ao apply, mas com algumas diferenças:"
   ]
  },
  {
   "cell_type": "markdown",
   "metadata": {
    "id": "x_qsa-LEoNul"
   },
   "source": [
    "1. Permite passar o nome da função"
   ]
  },
  {
   "cell_type": "code",
   "execution_count": null,
   "metadata": {
    "colab": {
     "base_uri": "https://localhost:8080/",
     "height": 424
    },
    "id": "GCAlAcksvx6z",
    "outputId": "2d3a5777-e553-48d8-e1b6-26821d9fbb48"
   },
   "outputs": [],
   "source": [
    "df1[[\"QT_COMP_PORTATIL_ALUNO\", \"QT_DESKTOP_ALUNO\"]].transform(\"sqrt\")"
   ]
  },
  {
   "cell_type": "code",
   "execution_count": null,
   "metadata": {
    "colab": {
     "base_uri": "https://localhost:8080/",
     "height": 424
    },
    "id": "9AwWSXJcqgsY",
    "outputId": "835d2ff1-f454-41b3-af1d-2917a8cabd95"
   },
   "outputs": [],
   "source": [
    "df1[[\"QT_COMP_PORTATIL_ALUNO\", \"QT_DESKTOP_ALUNO\"]].apply(np.sqrt)"
   ]
  },
  {
   "cell_type": "markdown",
   "metadata": {
    "id": "ZYBPbE_GoNum"
   },
   "source": [
    "2. Permite passar um dicionário de transformação por coluna (série)"
   ]
  },
  {
   "cell_type": "code",
   "execution_count": null,
   "metadata": {
    "colab": {
     "base_uri": "https://localhost:8080/",
     "height": 424
    },
    "id": "SaMwO4gxvx6z",
    "outputId": "39e7f967-31c0-497f-e363-d688857e73cd"
   },
   "outputs": [],
   "source": [
    "df1.transform({\n",
    "    \"QT_COMP_PORTATIL_ALUNO\": lambda x: (x - x.min()) / (x.max() - x.min()),\n",
    "    \"QT_DESKTOP_ALUNO\": \"sqrt\"\n",
    "})"
   ]
  },
  {
   "cell_type": "markdown",
   "metadata": {
    "id": "1Gui5SLyoNum"
   },
   "source": [
    "3. Não permite gerar valores agregados"
   ]
  },
  {
   "cell_type": "code",
   "execution_count": null,
   "metadata": {
    "colab": {
     "base_uri": "https://localhost:8080/",
     "height": 311
    },
    "id": "Lo8-ATTuvx6z",
    "outputId": "3f885c76-7b26-4cda-976c-45f90beea6f5"
   },
   "outputs": [],
   "source": [
    "df1[[\"QT_COMP_PORTATIL_ALUNO\", \"QT_DESKTOP_ALUNO\"]].transform(lambda x: x.mean())"
   ]
  },
  {
   "cell_type": "markdown",
   "metadata": {
    "id": "c0qlSGDVoNum"
   },
   "source": [
    "4. Não permite manipular múltiplas direções"
   ]
  },
  {
   "cell_type": "code",
   "execution_count": null,
   "metadata": {
    "colab": {
     "base_uri": "https://localhost:8080/",
     "height": 380
    },
    "id": "UikamNNivx6z",
    "outputId": "2c0d39c1-c5bb-4eb2-b631-02ba37a37c22"
   },
   "outputs": [],
   "source": [
    "(\n",
    "    df1.head(3)\n",
    "    .transform(\n",
    "        lambda x: x[[\"QT_COMP_PORTATIL_ALUNO\", \"QT_DESKTOP_ALUNO\"]].max(), \n",
    "        axis=\"columns\"\n",
    "    )\n",
    ")"
   ]
  },
  {
   "cell_type": "markdown",
   "metadata": {
    "id": "iT5q6zv4oNum"
   },
   "source": [
    "5. Não pode ser usado em groupby (veremos mais a frente)"
   ]
  },
  {
   "cell_type": "markdown",
   "metadata": {
    "id": "YHxTSLf_dHPp"
   },
   "source": [
    "---"
   ]
  },
  {
   "cell_type": "markdown",
   "metadata": {
    "id": "1815zDxgdHPp"
   },
   "source": [
    "**Exercício**"
   ]
  },
  {
   "cell_type": "markdown",
   "metadata": {
    "id": "LpwmzFFHoNum"
   },
   "source": [
    "Realize uma transformação por normalização padrão para as colunas do tipo QT, apenas para as colunas que tem algum dado disponível"
   ]
  },
  {
   "cell_type": "code",
   "execution_count": null,
   "metadata": {
    "id": "c0glry8fdHPp",
    "solution2": "hidden",
    "solution2_first": true
   },
   "outputs": [],
   "source": []
  },
  {
   "cell_type": "code",
   "execution_count": null,
   "metadata": {
    "ExecuteTime": {
     "end_time": "2021-12-28T20:38:07.093721Z",
     "start_time": "2021-12-28T20:38:06.928161Z"
    },
    "cellView": "form",
    "id": "pAHC0G5fdHPp",
    "solution2": "hidden"
   },
   "outputs": [],
   "source": [
    "#@title Resposta\n",
    "(\n",
    "    df1[[c for c in df1.columns if c.startswith(\"QT_\")]]\n",
    "    .dropna(how=\"all\", axis=\"columns\")\n",
    "    .apply(lambda x: (x - x.mean()) / x.std())\n",
    ")"
   ]
  },
  {
   "cell_type": "markdown",
   "metadata": {
    "id": "v58i0o8LdHPp"
   },
   "source": [
    "---"
   ]
  },
  {
   "cell_type": "markdown",
   "metadata": {
    "id": "pK2yj9Ko5du9"
   },
   "source": [
    "## Agrupamento "
   ]
  },
  {
   "cell_type": "markdown",
   "metadata": {
    "id": "zxV9TdCloNun"
   },
   "source": [
    "Um dos principais calculos que nós temos que realizar em bases de dados é a de agrupar informações. Por exemplo, suponhamos que queiramos saber quantos desktops de aluno cada escola tem em média de acordo com a depêndencia administrativa, como poderíamos fazer isso sem filtrar múltiplas vezes o dataset?"
   ]
  },
  {
   "cell_type": "code",
   "execution_count": null,
   "metadata": {
    "colab": {
     "base_uri": "https://localhost:8080/"
    },
    "id": "yeb4d44Fvx60",
    "outputId": "00bca0fc-aa78-4069-acad-b2db9bda5705"
   },
   "outputs": [],
   "source": [
    "df1.groupby([\"TP_DEPENDENCIA\"])[\"QT_DESKTOP_ALUNO\"].mean()"
   ]
  },
  {
   "cell_type": "markdown",
   "metadata": {
    "id": "Rm9bQGn1oNup"
   },
   "source": [
    "A operação do groupby consiste no equivalente aos seguintes passos:\n",
    "\n",
    "1. Divida o dataframe em dataframe menores para cada valor da seleção de colunas\n",
    "> Filtre o data frame para TP_DEPENDENCIA = ESTADUAL\n",
    "2. Seleciona os campos a serem agregados do data frame\n",
    "> Selecione o campo QT_DESKTOP_ALUNO\n",
    "3. Aplique a função de agregação na base resultante\n",
    "> mean de QT_DESKTOP_ALUNO"
   ]
  },
  {
   "cell_type": "markdown",
   "metadata": {
    "id": "yIwbYW57oNup"
   },
   "source": [
    "Com base nisso, o groupby oferece uma série de variações em termos de chaves, colunas e formas de agregação:"
   ]
  },
  {
   "cell_type": "markdown",
   "metadata": {
    "id": "Q1_TeKbmoNup"
   },
   "source": [
    "- Múltiplas chaves"
   ]
  },
  {
   "cell_type": "code",
   "execution_count": null,
   "metadata": {
    "colab": {
     "base_uri": "https://localhost:8080/"
    },
    "id": "mwhFA4X4vx64",
    "outputId": "92d9fef2-a4ec-4eb3-fb8d-823c185acde1"
   },
   "outputs": [],
   "source": [
    "df1.groupby([\"TP_SITUACAO_FUNCIONAMENTO\", \"TP_DEPENDENCIA\"])[\"QT_DESKTOP_ALUNO\"].mean()"
   ]
  },
  {
   "cell_type": "markdown",
   "metadata": {
    "id": "ceFVW7GUoNup"
   },
   "source": [
    "- Múltiplos campos"
   ]
  },
  {
   "cell_type": "code",
   "execution_count": null,
   "metadata": {
    "colab": {
     "base_uri": "https://localhost:8080/",
     "height": 457
    },
    "id": "2pKQG3zgvx64",
    "outputId": "832131af-c002-4da4-b944-fb7ce1e59221"
   },
   "outputs": [],
   "source": [
    "df1.groupby([\"TP_SITUACAO_FUNCIONAMENTO\", \"TP_DEPENDENCIA\"])[[\"QT_COMP_PORTATIL_ALUNO\", \"QT_DESKTOP_ALUNO\"]].mean()"
   ]
  },
  {
   "cell_type": "markdown",
   "metadata": {
    "id": "jBLlztP_oNup"
   },
   "source": [
    "- Transformações especiais"
   ]
  },
  {
   "cell_type": "code",
   "execution_count": null,
   "metadata": {
    "colab": {
     "base_uri": "https://localhost:8080/",
     "height": 457
    },
    "id": "dHvAhOX5vx65",
    "outputId": "0a757b70-139a-4463-8bbb-c0f257ff6143"
   },
   "outputs": [],
   "source": [
    "df1.groupby([\"TP_SITUACAO_FUNCIONAMENTO\", \"TP_DEPENDENCIA\"])[[\"QT_COMP_PORTATIL_ALUNO\", \"QT_DESKTOP_ALUNO\"]].apply(lambda x: x.max() - x.min())"
   ]
  },
  {
   "cell_type": "markdown",
   "metadata": {
    "id": "DVLZ_IlRoNuq"
   },
   "source": [
    "- Aplicar transformações específicas por coluna"
   ]
  },
  {
   "cell_type": "code",
   "execution_count": null,
   "metadata": {
    "colab": {
     "base_uri": "https://localhost:8080/",
     "height": 457
    },
    "id": "B_VWZ8mDvx65",
    "outputId": "66160f59-286d-4434-af99-2ad045e74065"
   },
   "outputs": [],
   "source": [
    "df1.groupby([\"TP_SITUACAO_FUNCIONAMENTO\", \"TP_DEPENDENCIA\"]).agg({\n",
    "    \"QT_COMP_PORTATIL_ALUNO\": \"mean\",\n",
    "    \"QT_DESKTOP_ALUNO\": lambda x: x.max() - x.min()\n",
    "})"
   ]
  },
  {
   "cell_type": "markdown",
   "metadata": {
    "id": "Mx4aDnnNoNuq"
   },
   "source": [
    "- Aplicar múltiplas transformações ao mesmo tempo"
   ]
  },
  {
   "cell_type": "code",
   "execution_count": null,
   "metadata": {
    "colab": {
     "base_uri": "https://localhost:8080/",
     "height": 488
    },
    "id": "45JCCEo5vx65",
    "outputId": "492a475d-c71f-41c7-a7f8-6a26343364a2"
   },
   "outputs": [],
   "source": [
    "df1.groupby([\"TP_SITUACAO_FUNCIONAMENTO\", \"TP_DEPENDENCIA\"]).agg({\n",
    "    \"QT_COMP_PORTATIL_ALUNO\": [\n",
    "        \"count\", \"mean\", \"std\", \"min\", lambda x: x.quantile(0.25), \"median\", lambda x: x.quantile(0.75), \"max\"\n",
    "    ],\n",
    "    \"QT_DESKTOP_ALUNO\": [\n",
    "        \"count\", \"mean\", \"std\", \"min\", lambda x: x.quantile(0.25), \"median\", lambda x: x.quantile(0.75), \"max\"\n",
    "    ],\n",
    "})"
   ]
  },
  {
   "cell_type": "markdown",
   "metadata": {
    "id": "YKRj6dvgoNuq"
   },
   "source": [
    "- Aplicar transformações nomeadas"
   ]
  },
  {
   "cell_type": "code",
   "execution_count": null,
   "metadata": {
    "colab": {
     "base_uri": "https://localhost:8080/",
     "height": 521
    },
    "id": "HuDmZSrNvx65",
    "outputId": "25e52717-2cf1-40b1-ad74-35db106a5e2f"
   },
   "outputs": [],
   "source": [
    "df1.groupby([\"TP_SITUACAO_FUNCIONAMENTO\", \"TP_DEPENDENCIA\"]).agg(\n",
    "    QT_COMP_PORTATIL_ALUNO_COUNT=pd.NamedAgg(\"QT_COMP_PORTATIL_ALUNO\", \"count\"),\n",
    "    QT_COMP_PORTATIL_ALUNO_MEAN=pd.NamedAgg(\"QT_COMP_PORTATIL_ALUNO\", \"mean\"),\n",
    "    QT_COMP_PORTATIL_ALUNO_STD=pd.NamedAgg(\"QT_COMP_PORTATIL_ALUNO\", \"std\"),\n",
    "    QT_COMP_PORTATIL_ALUNO_MIN=pd.NamedAgg(\"QT_COMP_PORTATIL_ALUNO\", \"min\"),\n",
    "    QT_COMP_PORTATIL_ALUNO_Q1=pd.NamedAgg(\"QT_COMP_PORTATIL_ALUNO\", lambda x: x.quantile(0.25)),\n",
    "    QT_COMP_PORTATIL_ALUNO_Q2=pd.NamedAgg(\"QT_COMP_PORTATIL_ALUNO\", \"median\"),\n",
    "    QT_COMP_PORTATIL_ALUNO_Q3=pd.NamedAgg(\"QT_COMP_PORTATIL_ALUNO\", lambda x: x.quantile(0.75)),\n",
    "    QT_COMP_PORTATIL_ALUNO_MAX=pd.NamedAgg(\"QT_COMP_PORTATIL_ALUNO\", \"max\"),\n",
    ")"
   ]
  },
  {
   "cell_type": "markdown",
   "metadata": {
    "id": "-8pUotF65du9"
   },
   "source": [
    "Além do groupby outra maneira de agrupar os dados é por meio de pivot tables. O processa de tratamento dos dados será o mesmo, entretanto haverá uma mudança na disposição dos resultados, na qual a chave dos campos pode ser, além de passada em linhas, também em colunas"
   ]
  },
  {
   "cell_type": "code",
   "execution_count": null,
   "metadata": {
    "colab": {
     "base_uri": "https://localhost:8080/",
     "height": 206
    },
    "id": "rYbOI1j2vx65",
    "outputId": "574acf01-f840-42e1-ad7f-584bc2f7c2ca"
   },
   "outputs": [],
   "source": [
    "df1.pivot_table(\n",
    "    index=\"TP_DEPENDENCIA\",\n",
    "    columns=\"IN_EXAME_SELECAO\",\n",
    "    values=\"QT_DESKTOP_ALUNO\",\n",
    "    aggfunc=\"mean\"\n",
    ")"
   ]
  },
  {
   "cell_type": "markdown",
   "metadata": {
    "id": "-VH37SMcoNur"
   },
   "source": [
    "As pivot tables são mais limitadas do que groupby's em funcionalidades, entretanto ainda podemos aumentar a quantidade de informação disponibilizada passando listas para qualquer um dos valores de index, columns, values ou aggfunc"
   ]
  },
  {
   "cell_type": "code",
   "execution_count": null,
   "metadata": {
    "colab": {
     "base_uri": "https://localhost:8080/",
     "height": 771
    },
    "id": "iVqA8CtGvx65",
    "outputId": "905f4f7d-b8e8-4f6b-9dee-1e4b6ac1ff74"
   },
   "outputs": [],
   "source": [
    "df1.pivot_table(\n",
    "    index=[\"TP_REDE_LOCAL\", \"TP_DEPENDENCIA\"],\n",
    "    columns=[\"IN_ALIMENTACAO\", \"IN_EXAME_SELECAO\"],\n",
    "    values=[\"QT_DESKTOP_ALUNO\", \"QT_COMP_PORTATIL_ALUNO\"],\n",
    "    aggfunc={\"QT_DESKTOP_ALUNO\": \"mean\", \"QT_COMP_PORTATIL_ALUNO\": lambda x: x.max() - x.min()}\n",
    ")"
   ]
  },
  {
   "cell_type": "markdown",
   "metadata": {
    "id": "t37uw8PPoNur"
   },
   "source": [
    "**IMPORTANTE**: Tanto o groupby quanto o pivot table removem da agregação as chaves que possuem valores nulos"
   ]
  },
  {
   "cell_type": "code",
   "execution_count": null,
   "metadata": {
    "colab": {
     "base_uri": "https://localhost:8080/"
    },
    "id": "f1tpYjgevx65",
    "outputId": "e3614323-7fbc-466b-a93e-b222d206f7e6"
   },
   "outputs": [],
   "source": [
    "df1[\"IN_EXAME_SELECAO\"].shape"
   ]
  },
  {
   "cell_type": "code",
   "execution_count": null,
   "metadata": {
    "colab": {
     "base_uri": "https://localhost:8080/"
    },
    "id": "PH8IB8J30ZDB",
    "outputId": "095cb9ae-9786-40e3-e974-ba7cc83256c7"
   },
   "outputs": [],
   "source": [
    "(\n",
    "    df1.assign(IN_EXAME_SELECAO=lambda f: f[\"IN_EXAME_SELECAO\"].fillna(-1))\n",
    "    .groupby([\"IN_EXAME_SELECAO\"])[\"ID_ESCOLA\"]\n",
    "    .count()\n",
    ")"
   ]
  },
  {
   "cell_type": "markdown",
   "metadata": {
    "id": "PpVsngproNur"
   },
   "source": [
    "Vocês devem ter notado que nas operações de agregação acima, nós tivemos como resultado novos data frames com índices que equivaliam a combinação de campos nas chaves selecionadas. Essa combinação entre múltiplos campos gerou \"hierarquias\" nos índices dos data frames, o que equivale a uma estrutura conhecida como \"MultiIndex\""
   ]
  },
  {
   "cell_type": "code",
   "execution_count": null,
   "metadata": {
    "colab": {
     "base_uri": "https://localhost:8080/"
    },
    "id": "vkLAjXUQvx66",
    "outputId": "1055767b-4ca9-4281-a553-2192759ad68a"
   },
   "outputs": [],
   "source": [
    "g = df1.groupby([\"TP_SITUACAO_FUNCIONAMENTO\", \"TP_DEPENDENCIA\"])[[\"QT_COMP_PORTATIL_ALUNO\", \"QT_DESKTOP_ALUNO\"]].apply(lambda x: x.max() - x.min())\n",
    "g.index"
   ]
  },
  {
   "cell_type": "markdown",
   "metadata": {
    "id": "UQbVP83ToNur"
   },
   "source": [
    "Os MultiIndex podem ser mapeados com as mesmas funções de .loc, .iloc, .ix, entretanto ao invés de receber um valor, eles recebem uma tupla de valores."
   ]
  },
  {
   "cell_type": "code",
   "execution_count": null,
   "metadata": {
    "colab": {
     "base_uri": "https://localhost:8080/"
    },
    "id": "Aq0yIpsUvx66",
    "outputId": "890c4077-4a17-4d76-bb1a-98580c007607"
   },
   "outputs": [],
   "source": [
    "g.loc[(\"EM ATIVIDADE\", \"ESTADUAL\")]"
   ]
  },
  {
   "cell_type": "code",
   "execution_count": null,
   "metadata": {
    "colab": {
     "base_uri": "https://localhost:8080/"
    },
    "id": "4ocBCijq1bPQ",
    "outputId": "f566cb8e-af2f-4c5d-f0e5-a7cf699c1e70"
   },
   "outputs": [],
   "source": [
    "g.iloc[3]"
   ]
  },
  {
   "cell_type": "markdown",
   "metadata": {
    "id": "S7ZFiLXcoNus"
   },
   "source": [
    "Além disso ao serem percorridos com um for loop é esperado que tenhamos que desempacotar múltiplos valores de acordo com a combinação de campos"
   ]
  },
  {
   "cell_type": "code",
   "execution_count": null,
   "metadata": {
    "colab": {
     "base_uri": "https://localhost:8080/"
    },
    "id": "sOPF-HKDvx66",
    "outputId": "c2d3ba2d-4107-4b73-dea4-730584200048"
   },
   "outputs": [],
   "source": [
    "for f, d in g.index:\n",
    "    print(f, d)"
   ]
  },
  {
   "cell_type": "markdown",
   "metadata": {
    "id": "Ahbu8cLDoNus"
   },
   "source": [
    "Na enorme maioria das situações, não será do nosso interesse trabalhar com MultiIndex, por conta disso nós iremos realizar uma de três opções:"
   ]
  },
  {
   "cell_type": "markdown",
   "metadata": {
    "id": "z0cryL6RoNus"
   },
   "source": [
    "1. Vamos \"resetar\" os índices"
   ]
  },
  {
   "cell_type": "code",
   "execution_count": null,
   "metadata": {
    "colab": {
     "base_uri": "https://localhost:8080/",
     "height": 426
    },
    "id": "Uvs9Wc4bvx66",
    "outputId": "2fabd80a-c01e-4952-9957-ff3c2c9f0878"
   },
   "outputs": [],
   "source": [
    "(\n",
    "    df1.groupby([\"TP_SITUACAO_FUNCIONAMENTO\", \"TP_DEPENDENCIA\"])[[\"QT_COMP_PORTATIL_ALUNO\", \"QT_DESKTOP_ALUNO\"]]\n",
    "    .apply(lambda x: x.max() - x.min())\n",
    "    .reset_index()\n",
    ")"
   ]
  },
  {
   "cell_type": "code",
   "execution_count": null,
   "metadata": {
    "colab": {
     "base_uri": "https://localhost:8080/",
     "height": 739
    },
    "id": "qZhMwOPP2DzQ",
    "outputId": "da1358ea-386b-4a40-be2a-98cb756983e8"
   },
   "outputs": [],
   "source": [
    "df1.pivot_table(\n",
    "    index=[\"TP_REDE_LOCAL\", \"TP_DEPENDENCIA\"],\n",
    "    columns=[\"IN_ALIMENTACAO\", \"IN_EXAME_SELECAO\"],\n",
    "    values=[\"QT_DESKTOP_ALUNO\", \"QT_COMP_PORTATIL_ALUNO\"],\n",
    "    aggfunc={\"QT_DESKTOP_ALUNO\": \"mean\", \"QT_COMP_PORTATIL_ALUNO\": lambda x: x.max() - x.min()}\n",
    ").reset_index()"
   ]
  },
  {
   "cell_type": "code",
   "execution_count": null,
   "metadata": {
    "colab": {
     "base_uri": "https://localhost:8080/"
    },
    "id": "OyuZnlDg20ug",
    "outputId": "2c95191b-566b-468e-dec9-f441404819f0"
   },
   "outputs": [],
   "source": [
    "df1.pivot_table(\n",
    "    index=[\"TP_REDE_LOCAL\", \"TP_DEPENDENCIA\"],\n",
    "    columns=[\"IN_ALIMENTACAO\", \"IN_EXAME_SELECAO\"],\n",
    "    values=[\"QT_DESKTOP_ALUNO\", \"QT_COMP_PORTATIL_ALUNO\"],\n",
    "    aggfunc={\"QT_DESKTOP_ALUNO\": \"mean\", \"QT_COMP_PORTATIL_ALUNO\": lambda x: x.max() - x.min()}\n",
    ").reset_index(col_level=2).columns"
   ]
  },
  {
   "cell_type": "markdown",
   "metadata": {
    "id": "V6nnq0v9oNus"
   },
   "source": [
    "2. Vamos remover um dos níveis"
   ]
  },
  {
   "cell_type": "code",
   "execution_count": null,
   "metadata": {
    "colab": {
     "base_uri": "https://localhost:8080/",
     "height": 708
    },
    "id": "Cz6X7XjUvx66",
    "outputId": "ea2a5180-30f7-4926-dfce-8fb53f4cffdf"
   },
   "outputs": [],
   "source": [
    "df1.pivot_table(\n",
    "    index=[\"TP_REDE_LOCAL\", \"TP_DEPENDENCIA\"],\n",
    "    columns=[\"IN_ALIMENTACAO\", \"IN_EXAME_SELECAO\"],\n",
    "    values=[\"QT_DESKTOP_ALUNO\", \"QT_COMP_PORTATIL_ALUNO\"],\n",
    "    aggfunc={\"QT_DESKTOP_ALUNO\": \"mean\", \"QT_COMP_PORTATIL_ALUNO\": lambda x: x.max() - x.min()}\n",
    ").reset_index(col_level=2).droplevel(0, axis=1)"
   ]
  },
  {
   "cell_type": "markdown",
   "metadata": {
    "id": "h0siqQ-roNut"
   },
   "source": [
    "3. Vamos renomear os índices"
   ]
  },
  {
   "cell_type": "code",
   "execution_count": null,
   "metadata": {
    "colab": {
     "base_uri": "https://localhost:8080/",
     "height": 1000
    },
    "id": "Jn1E6k-Bvx66",
    "outputId": "9eaacbb5-a263-47e9-fb9b-e624bb30ccf5"
   },
   "outputs": [],
   "source": [
    "pv = df1.pivot_table(\n",
    "    index=[\"TP_REDE_LOCAL\", \"TP_DEPENDENCIA\"],\n",
    "    columns=[\"IN_ALIMENTACAO\", \"IN_EXAME_SELECAO\"],\n",
    "    values=[\"QT_DESKTOP_ALUNO\", \"QT_COMP_PORTATIL_ALUNO\"],\n",
    "    aggfunc={\"QT_DESKTOP_ALUNO\": \"mean\", \"QT_COMP_PORTATIL_ALUNO\": lambda x: x.max() - x.min()}\n",
    ")\n",
    "pv.columns = [\n",
    "    f\"{metrica}_ALIM={int(alim)}_EXAM={int(selec)}\"\n",
    "    for metrica, alim, selec in pv.columns\n",
    "]\n",
    "pv.reset_index(inplace=True)\n",
    "pv"
   ]
  },
  {
   "cell_type": "markdown",
   "metadata": {
    "id": "XlANkUfTdHPq"
   },
   "source": [
    "---"
   ]
  },
  {
   "cell_type": "markdown",
   "metadata": {
    "id": "BYBdG2lcdHPq"
   },
   "source": [
    "**Exercício**"
   ]
  },
  {
   "cell_type": "markdown",
   "metadata": {
    "id": "Qnu4WWwUoNut"
   },
   "source": [
    "Classifique as escolas em quartis de acordo com a quantidade de Desktops de aluno que os mesmos possuem, depois calcule a distribuição de escolas por depêndencia administrativa em cada quartil (veja a função pd.qcut)"
   ]
  },
  {
   "cell_type": "code",
   "execution_count": null,
   "metadata": {
    "id": "femrGFhRdHPq",
    "solution2": "hidden",
    "solution2_first": true
   },
   "outputs": [],
   "source": []
  },
  {
   "cell_type": "code",
   "execution_count": null,
   "metadata": {
    "ExecuteTime": {
     "end_time": "2021-12-28T21:24:00.717940Z",
     "start_time": "2021-12-28T21:24:00.609231Z"
    },
    "cellView": "form",
    "id": "z0Qp1etmdHPq",
    "solution2": "hidden"
   },
   "outputs": [],
   "source": [
    "#@title Resposta\n",
    "pv = (\n",
    "    df1.assign(QUARTIL=lambda f: pd.qcut(f[\"QT_SALAS_UTILIZADAS\"], 4, labels=[\"Q1\", \"Q2\", \"Q3\", \"Q4\"]))\n",
    "    .pivot_table(index=\"TP_DEPENDENCIA\", columns=\"QUARTIL\", values=\"ID_ESCOLA\", aggfunc=\"count\")\n",
    ")\n",
    "pv.divide(pv.sum(axis=1), axis=0)"
   ]
  },
  {
   "cell_type": "markdown",
   "metadata": {
    "id": "Smo6CjI-5du-"
   },
   "source": [
    "---"
   ]
  },
  {
   "cell_type": "markdown",
   "metadata": {
    "id": "_fB-xNmboNut"
   },
   "source": [
    "## Melt "
   ]
  },
  {
   "cell_type": "markdown",
   "metadata": {
    "id": "Eyj2ThkdoNut"
   },
   "source": [
    "Outra operação comum no universo de dados do pandas é a de realizar o \"melt\" (derretimento) dos dados. Isto é, a operação de converter colunas em linhas (quase que o inverso da pivot table). Por exemplo, tomando a base de IDEB, suponhamos que nós queiramos criar uma base com as notas de IDEB independente do tipo, ou seja, queremos uma base com ID_ESCOLA, ANO, TIPO_IDEB, NOTA"
   ]
  },
  {
   "cell_type": "code",
   "execution_count": null,
   "metadata": {
    "colab": {
     "base_uri": "https://localhost:8080/"
    },
    "id": "BC70mF207GgP",
    "outputId": "da8dcebc-7206-49b5-956f-b2912b26e462"
   },
   "outputs": [],
   "source": [
    "df3.shape"
   ]
  },
  {
   "cell_type": "code",
   "execution_count": null,
   "metadata": {
    "colab": {
     "base_uri": "https://localhost:8080/"
    },
    "id": "zIzLG_g47I09",
    "outputId": "4d589795-ada4-4ebc-b5d4-aba6ec015560"
   },
   "outputs": [],
   "source": [
    "588485 * 3"
   ]
  },
  {
   "cell_type": "code",
   "execution_count": null,
   "metadata": {
    "colab": {
     "base_uri": "https://localhost:8080/",
     "height": 175
    },
    "id": "zCrIebS0vx67",
    "outputId": "87997b08-e1ca-4618-fefa-4108baf8614d"
   },
   "outputs": [],
   "source": [
    "(\n",
    "    df3.melt(\n",
    "        id_vars=[\"ID_ESCOLA\", \"ANO\"],\n",
    "        value_vars=[\"IDEB_AI\", \"IDEB_AF\", \"IDEB_EM\"],\n",
    "        var_name=\"TIPO_IDEB\",\n",
    "        value_name=\"NOTA\"\n",
    "    )\n",
    "    .assign(TIPO_IDEB=lambda f: f[\"TIPO_IDEB\"].str[5:])\n",
    "    .dropna()\n",
    "    .pivot_table(index=[\"TIPO_IDEB\"], columns=\"ANO\", values=\"NOTA\", aggfunc=\"mean\")\n",
    ")"
   ]
  },
  {
   "cell_type": "markdown",
   "metadata": {
    "id": "uBM-2el0oNut"
   },
   "source": [
    "---"
   ]
  },
  {
   "cell_type": "markdown",
   "metadata": {
    "id": "cPa_6Oq6oNuu"
   },
   "source": [
    "**Exercício**"
   ]
  },
  {
   "cell_type": "markdown",
   "metadata": {
    "id": "ax0JULrZoNuu"
   },
   "source": [
    "Tomando a base de escolas, crie uma base de \"equipamentos\", na qual teremos o ID_ESCOLA, TIPO_EQUIP e QT_EQUIP"
   ]
  },
  {
   "cell_type": "code",
   "execution_count": null,
   "metadata": {
    "id": "XweCLJtioNuu",
    "solution2": "hidden",
    "solution2_first": true
   },
   "outputs": [],
   "source": []
  },
  {
   "cell_type": "code",
   "execution_count": null,
   "metadata": {
    "ExecuteTime": {
     "end_time": "2021-12-29T14:24:18.917512Z",
     "start_time": "2021-12-29T14:24:18.120249Z"
    },
    "cellView": "form",
    "id": "IVXM-qw2oNuu",
    "solution2": "hidden"
   },
   "outputs": [],
   "source": [
    "#@title Resposta\n",
    "(\n",
    "    df1.melt(\n",
    "        id_vars=[\"ID_ESCOLA\"],\n",
    "        value_vars=[c for c in df1 if c.startswith(\"QT_EQUIP\")],\n",
    "        var_name=\"TIPO_EQUIP\",\n",
    "        value_name=\"QT_EQUIP\"\n",
    "    )\n",
    "    .assign(TIPO_EQUIP=lambda f: f[\"TIPO_EQUIP\"].str[9:])\n",
    "    .dropna()\n",
    ")"
   ]
  },
  {
   "cell_type": "markdown",
   "metadata": {
    "id": "AsKx30MgoNuu"
   },
   "source": [
    "---"
   ]
  },
  {
   "cell_type": "markdown",
   "metadata": {
    "id": "aG07xjKt5du-"
   },
   "source": [
    "## Join (merge)"
   ]
  },
  {
   "cell_type": "markdown",
   "metadata": {
    "id": "3V07-nwJoNuu"
   },
   "source": [
    "\"Join\" refere-se a operação de junção de duas base de dados. Essa operação é muito popular e conhecida por esse nome no SQL, na qual selecionamos duas tabelas, um conjunto de chaves (e.g. campos comuns entre as duas tabelas) e fazemos a junção das tabelas por essas chave. Essa junção pode ser feita de 4 maneiras:\n",
    "1. LEFT JOIN: Mantem-se a estrutura da tabela \"esquerda\" e adiciona os dados comuns da tabela \"direita\"\n",
    "2. RIGHT JOIN: Mantem-se a estrutura da tabela \"direita\" e adiciona os dados comuns da tabela \"esquerda\"\n",
    "3. INNER JOIN: Mantem-se apenas os dados onde há intersecção entre as duas tabelas\n",
    "4. OUTER JOIN: Cria-se uma tabela com os dados das duas tabelas"
   ]
  },
  {
   "cell_type": "markdown",
   "metadata": {
    "id": "HBa2GDeT5du-"
   },
   "source": [
    "<img src=https://www.thecrazyprogrammer.com/wp-content/uploads/2019/05/Joins-in-SQL-Inner-Outer-Left-and-Right-Join.jpg width=400 height=300/>"
   ]
  },
  {
   "cell_type": "markdown",
   "metadata": {
    "id": "UOPAfDUBoNuu"
   },
   "source": [
    "No pandas essa operação é conhecida como \"merge\", mas segue exatamente as mesmas propriedades. Por exemplo, suponhamos que nós queiramos adicionar as informações de IDEB a base de escola:"
   ]
  },
  {
   "cell_type": "code",
   "execution_count": null,
   "metadata": {
    "colab": {
     "base_uri": "https://localhost:8080/",
     "height": 800
    },
    "id": "GLgDGYuyvx68",
    "outputId": "bd93ae21-1663-449e-f506-e74902c28361"
   },
   "outputs": [],
   "source": [
    "df1.merge(\n",
    "    df3.loc[lambda f: f[\"ANO\"] == 2019, [\"ID_ESCOLA\", \"IDEB_AI\"]],\n",
    "    left_on=[\"ID_ESCOLA\"],\n",
    "    right_on=[\"ID_ESCOLA\"],\n",
    "    how=\"left\"\n",
    ")"
   ]
  },
  {
   "cell_type": "markdown",
   "metadata": {
    "id": "GhGMZSyXoNuu"
   },
   "source": [
    "Mescle DataFrame ou objetos Series nomeados com uma junção de estilo de banco de dados.\n",
    "\n",
    "Um objeto Series nomeado é tratado como um DataFrame com uma única coluna nomeada.\n",
    "\n",
    "A junção é feita em colunas ou índices. Se juntar colunas em colunas, os índices DataFrame serão ignorados. Caso contrário, se juntando índices em índices ou índices em uma coluna ou colunas, o índice será transmitido. Ao realizar uma mesclagem cruzada, nenhuma especificação de coluna para mesclar é permitido.\n",
    "\n",
    "**Parâmetros**\n",
    "\n",
    "right: DataFrame ou objeto de série nomeado para mesclar.\n",
    "\n",
    "how: {'left', 'right', 'outer', 'inner', 'cross'}, padrão 'inner'\n",
    "> Tipo de mesclagem a ser executada.\n",
    "- left: use apenas as teclas do quadro esquerdo, semelhante a uma junção externa esquerda SQL; preservar a ordem das chaves.\n",
    "- right: use apenas as chaves do quadro direito, semelhante a uma junção externa direita SQL; preservar a ordem das chaves.\n",
    "- outer: use a união de chaves de ambos os quadros, semelhante a um SQL full outer. Junte; classifique as chaves lexicograficamente.\n",
    "- inner: usa a interseção de chaves de ambos os quadros, semelhante a um SQL interno. Junte; preservar a ordem das teclas esquerdas.\n",
    "- cross: cria o produto cartesiano de ambos os frames, preserva o pedido das teclas esquerdas.\n",
    "\n",
    "on: string ou lista\n",
    "> Nomes de coluna ou índice para unir. Estes devem ser encontrados em ambos DataFrames. Se `on` for None e não estiver mesclando os índices, então este vai mesclar em todas as colunas comuns nos DataFrames.\n",
    "\n",
    "left_on: string ou list, ou array-like\n",
    "> Nomes de coluna ou índice para unir no DataFrame esquerdo. Também pode ser uma matriz ou lista de matrizes do comprimento do DataFrame esquerdo. Essas matrizes são tratadas como se fossem colunas.\n",
    "\n",
    "right_on: string ou list, ou array-like\n",
    "> Nomes de coluna ou índice para unir no DataFrame esquerdo. Também pode ser uma matriz ou lista de matrizes do comprimento do DataFrame direito. Essas matrizes são tratadas como se fossem colunas.\n",
    "\n",
    "left_index: bool, padrão False\n",
    "> Use o índice da esquerda DataFrame como a(s) chave(s) de junção. Se for um MultiIndex, o número de chaves no outro DataFrame (seja o índice ou um número de colunas) deve corresponder ao número de níveis.\n",
    "\n",
    "right_index: bool, padrão False\n",
    "> Use o índice do DataFrame direito como a chave de junção. Mesmas ressalvas que left_index.\n",
    "\n",
    "sort: bool, padrão False\n",
    "> Classifique as chaves de junção lexicograficamente no DataFrame de resultado. Se falso, a ordem das chaves de junção depende do tipo de junção (parâmetro how).\n",
    "\n",
    "suffixes: list-like, padrão é (\"\\_x\", \"\\_y\")\n",
    "> Uma tupla de comprimento 2 em que cada elemento é opcionalmente uma string indicando o sufixo a ser adicionado aos nomes das colunas sobrepostas em `esquerda` e` direita` respectivamente. Passe um valor de `Nonr` em vez disso de uma string para indicar que o nome da coluna à esquerda ou `right` deve ser deixado como está, sem sufixo. Pelo menos um dos os valores não devem ser None.\n",
    "\n",
    "copy: bool, padrão True\n",
    "> Se False, tenta evitar gerar uma cópia\n",
    "\n",
    "indicator: bool ou str, padrão False\n",
    "> Se True, adiciona uma coluna ao DataFrame de saída chamada \"\\_merge\" com informações sobre a origem de cada linha. A coluna pode receber um diferente nome fornecendo um argumento de string. A coluna terá um categórico digite com o valor de \"left_only\" para observações cuja chave de mesclagem apenas aparece no DataFrame esquerdo, \"right_only\" para observações cuja chave de mesclagem aparece apenas no DataFrame correto, e \"ambos\" se a chave de mesclagem da observação for encontrada em ambos os DataFrames.\n",
    "\n",
    "validate: str, opcional\n",
    "> Se especificado, verifica se a mesclagem é do tipo especificado.\n",
    "- \"one_to_one\" ou \"1:1\": verifique se as chaves de mesclagem são exclusivas em ambos conjuntos de dados esquerdo e direito.\n",
    "- \"one_to_many\" ou \"1:m\": verifique se as chaves de mesclagem são exclusivas à esquerda conjunto de dados.\n",
    "- \"many_to_one\" ou \"m:1\": verifique se as chaves de mesclagem são exclusivas à direita conjunto de dados.\n",
    "- \"many_to_many\" ou \"m:m\": permitido, mas não resulta em verificações."
   ]
  },
  {
   "cell_type": "code",
   "execution_count": null,
   "metadata": {
    "colab": {
     "base_uri": "https://localhost:8080/",
     "height": 800
    },
    "id": "09NYMOVmvx69",
    "outputId": "3415190f-359e-4828-91d9-fb0f08786c82"
   },
   "outputs": [],
   "source": [
    "df1.merge(\n",
    "    df3.loc[lambda f: f[\"ANO\"] == 2019, [\"ID_ESCOLA\", \"IDEB_AI\"]],\n",
    "    on=[\"ID_ESCOLA\"],\n",
    "    how=\"left\",\n",
    ")"
   ]
  },
  {
   "cell_type": "code",
   "execution_count": null,
   "metadata": {
    "colab": {
     "base_uri": "https://localhost:8080/",
     "height": 800
    },
    "id": "YpPMLsoI1QfI",
    "outputId": "208f1de0-8333-400f-9f00-33d2a0084689"
   },
   "outputs": [],
   "source": [
    "df1.merge(\n",
    "    df3.loc[lambda f: f[\"ANO\"] == 2019, [\"ID_ESCOLA\", \"IDEB_AI\"]],\n",
    "    on=[\"ID_ESCOLA\"],\n",
    "    how=\"left\",\n",
    ").merge(\n",
    "    df3.loc[lambda f: f[\"ANO\"] == 2019, [\"ID_ESCOLA\", \"IDEB_AI\"]],\n",
    "    on=[\"ID_ESCOLA\"],\n",
    "    how=\"left\",\n",
    "    suffixes=(\"\", \"_NOVO\")\n",
    ")"
   ]
  },
  {
   "cell_type": "code",
   "execution_count": null,
   "metadata": {
    "colab": {
     "base_uri": "https://localhost:8080/"
    },
    "id": "DvIJsJAR15wp",
    "outputId": "80d766a0-2e9a-4eb9-aaec-48dc2e646b23"
   },
   "outputs": [],
   "source": [
    "df1.merge(\n",
    "    df3.loc[lambda f: f[\"ANO\"] == 2019, [\"ID_ESCOLA\", \"IDEB_AI\"]],\n",
    "    on=[\"ID_ESCOLA\"],\n",
    "    how=\"left\",\n",
    "    indicator=True\n",
    ")[\"_merge\"].value_counts()"
   ]
  },
  {
   "cell_type": "code",
   "execution_count": null,
   "metadata": {
    "colab": {
     "base_uri": "https://localhost:8080/",
     "height": 363
    },
    "id": "A1gZks_73a50",
    "outputId": "bade5567-548a-490e-a635-bfce6fa94578"
   },
   "outputs": [],
   "source": [
    "df2.merge(\n",
    "    df1.reindex(columns=[\"ID_ESCOLA\", \"CO_MUNICIPIO\"]),\n",
    "    how=\"left\",\n",
    "    validate=\"1:1\"\n",
    ")"
   ]
  },
  {
   "cell_type": "code",
   "execution_count": null,
   "metadata": {
    "colab": {
     "base_uri": "https://localhost:8080/",
     "height": 644
    },
    "id": "EvpBMKSd3cPY",
    "outputId": "cf8a59f6-f2c6-4cc5-d624-87a1b10dcce4"
   },
   "outputs": [],
   "source": [
    "df2.merge(\n",
    "    df1.reindex(columns=[\"ID_ESCOLA\", \"CO_MUNICIPIO\"]),\n",
    "    how=\"left\",\n",
    "    validate=\"m:1\"\n",
    ")"
   ]
  },
  {
   "cell_type": "markdown",
   "metadata": {
    "id": "bKWQiDqhoNuv"
   },
   "source": [
    "Um dos casos mais comuns de erro em merge ocorre quando algum data frame tem dados duplicados, então lembre-se de, quando possível, adicionar um métodod e validate ou de checar se o tamanho final do data frame corresponde a suas expectativas, uma vez que dados duplicados gerarão duplicatas nos dados finais"
   ]
  },
  {
   "cell_type": "code",
   "execution_count": null,
   "metadata": {
    "colab": {
     "base_uri": "https://localhost:8080/",
     "height": 424
    },
    "id": "d9X31mqLvx69",
    "outputId": "7be6dc23-ff8f-4005-c931-152ba5d279d6"
   },
   "outputs": [],
   "source": [
    "df1.reindex(columns=[\"ID_ESCOLA\", \"CO_MUNICIPIO\"]).merge(\n",
    "    df2.reindex(columns=[\"ID_ESCOLA\", \"ID_TURMA\"]),\n",
    "    how=\"outer\",\n",
    "    validate=\"1:m\"\n",
    ")"
   ]
  },
  {
   "cell_type": "markdown",
   "metadata": {
    "id": "fHbeVwKI5du-"
   },
   "source": [
    "---"
   ]
  },
  {
   "cell_type": "markdown",
   "metadata": {
    "id": "HqIYOcJY5du_"
   },
   "source": [
    "**Exercício**"
   ]
  },
  {
   "cell_type": "markdown",
   "metadata": {
    "id": "NeJix3G9oNuv"
   },
   "source": [
    "Calcule o valor da nota média de IDEB dos anos iniciais por depêndencia administrativa ponderado pelo número de turmas em cada escola e o número médio total"
   ]
  },
  {
   "cell_type": "code",
   "execution_count": null,
   "metadata": {
    "id": "IFTwFH-f5du_",
    "solution2": "hidden",
    "solution2_first": true
   },
   "outputs": [],
   "source": []
  },
  {
   "cell_type": "code",
   "execution_count": null,
   "metadata": {
    "ExecuteTime": {
     "end_time": "2021-12-29T13:24:42.748662Z",
     "start_time": "2021-12-29T13:24:42.067456Z"
    },
    "cellView": "form",
    "id": "8M4UTw9udHPr",
    "solution2": "hidden"
   },
   "outputs": [],
   "source": [
    "#@title Resposta\n",
    "(\n",
    "    df1.loc[lambda f: f[\"TP_SITUACAO_FUNCIONAMENTO\"] == \"EM ATIVIDADE\"]\n",
    "    .reindex(columns=[\"ID_ESCOLA\", \"TP_DEPENDENCIA\"])\n",
    "    .merge(df3.loc[lambda f: f[\"ANO\"] == 2019, [\"ID_ESCOLA\", \"IDEB_AI\"]].dropna())\n",
    "    .merge(\n",
    "        df2.groupby([\"ID_ESCOLA\"])[\"ID_TURMA\"]\n",
    "        .nunique()\n",
    "        .reset_index()\n",
    "    )\n",
    "    .assign(PROD=lambda f: f[\"IDEB_AI\"] * f[\"ID_TURMA\"])\n",
    "    .groupby([\"TP_DEPENDENCIA\"]).agg({\n",
    "        \"IDEB_AI\": \"mean\",\n",
    "        \"ID_TURMA\": \"sum\",\n",
    "        \"PROD\": \"sum\",\n",
    "    })\n",
    "    .assign(IDEB_AI_POND=lambda f: f[\"PROD\"] / f[\"ID_TURMA\"])\n",
    "    .drop(columns=[\"PROD\", \"ID_TURMA\"])\n",
    ")"
   ]
  },
  {
   "cell_type": "markdown",
   "metadata": {
    "id": "0E82QQBZ5du_"
   },
   "source": [
    "---"
   ]
  },
  {
   "cell_type": "markdown",
   "metadata": {
    "id": "XSnMvRVF5dvC"
   },
   "source": [
    "## Operações Avançadas "
   ]
  },
  {
   "cell_type": "markdown",
   "metadata": {
    "id": "LW2tlXkC5dvD"
   },
   "source": [
    "Nós já vimos em séries as operações de \"rolling\" e \"interpolate\". Em DataFrames, nada muda, exceto (como sempre) a nossa habilidade de trabalhar com várias colunas ao mesmo tempo ou de mudar a direção dos cálculos"
   ]
  },
  {
   "cell_type": "code",
   "execution_count": null,
   "metadata": {
    "colab": {
     "base_uri": "https://localhost:8080/",
     "height": 424
    },
    "id": "M1HmXf60vx6-",
    "outputId": "706c283b-ba2a-4d86-fde1-122f5e1394b3"
   },
   "outputs": [],
   "source": [
    "df3.reindex(columns=[\"ID_ESCOLA\", \"ANO\", \"IDEB_AI\", \"IDEB_AF\"])"
   ]
  },
  {
   "cell_type": "code",
   "execution_count": null,
   "metadata": {
    "colab": {
     "base_uri": "https://localhost:8080/",
     "height": 424
    },
    "id": "HmiyHhfv7hL3",
    "outputId": "a8881442-71dd-4589-870e-0e32697255b4"
   },
   "outputs": [],
   "source": [
    "(\n",
    "    df3.reindex(columns=[\"ID_ESCOLA\", \"ANO\", \"IDEB_AI\", \"IDEB_AF\"])\n",
    "    .rolling(2)\n",
    "    .mean()\n",
    ")"
   ]
  },
  {
   "cell_type": "code",
   "execution_count": null,
   "metadata": {
    "colab": {
     "base_uri": "https://localhost:8080/",
     "height": 424
    },
    "id": "Fn5hXI_37r8m",
    "outputId": "c117b34e-2e75-40e4-af01-2e5a434f6cb5"
   },
   "outputs": [],
   "source": [
    "(\n",
    "    df3.reindex(columns=[\"ID_ESCOLA\", \"ANO\", \"IDEB_AI\", \"IDEB_AF\"])\n",
    "    .rolling(2, axis=1)\n",
    "    .mean()\n",
    ")"
   ]
  },
  {
   "cell_type": "code",
   "execution_count": null,
   "metadata": {
    "colab": {
     "base_uri": "https://localhost:8080/",
     "height": 424
    },
    "id": "v2XOSRLn8Xo3",
    "outputId": "93b54850-596e-4ddd-fa47-3553bb0b3106"
   },
   "outputs": [],
   "source": [
    "(\n",
    "    df3.reindex(columns=[\"ID_ESCOLA\", \"ANO\", \"IDEB_AI\", \"IDEB_AF\"])\n",
    "    .interpolate()\n",
    ")"
   ]
  },
  {
   "cell_type": "markdown",
   "metadata": {
    "id": "-u7OuTNRdHPr"
   },
   "source": [
    "Uma outra funcionalidade relevante é a de aplicar operações em groupby. Como nós descrevemos o groupby é como se fosse um filtro iterativo sobre a base, na qual é aplicada uma determinada função. Desta forma é possível aplicar qualquer tipo de função sobre o groupby incluindo operações que não necessariamente gerem um resultado agregado.\n",
    "\n",
    "Por exemplo, veja a operação acima, note que a escola 53082001 ganhou uma nota de IDEB_AI, mesmo não tendo nenhum registro anterior. Isso acontece porque a função do interpolate, por padrão, preenche os valores \"para frente\" com um forward fill, o que significa que estaremos preenchedo os valores de 53082001 com o último valor preenchido nos dados. A maneira ideal de preencher esses dados no exemplo acima seria por escola, portanto em um groupby"
   ]
  },
  {
   "cell_type": "code",
   "execution_count": null,
   "metadata": {
    "colab": {
     "base_uri": "https://localhost:8080/"
    },
    "id": "S2Qz-4pxvx6-",
    "outputId": "a2ebab9c-d0db-4faa-dac5-48b73e91acbf"
   },
   "outputs": [],
   "source": [
    "(\n",
    "    df3.reindex(columns=[\"ID_ESCOLA\", \"ANO\", \"IDEB_AI\", \"IDEB_AF\"])\n",
    "    .groupby([\"ID_ESCOLA\"])[\"IDEB_AI\"].apply(\n",
    "        lambda x: x.interpolate()\n",
    "    )\n",
    ")"
   ]
  },
  {
   "cell_type": "markdown",
   "metadata": {
    "id": "WUcw80T0oNux"
   },
   "source": [
    "Como você pode ver, nós aplicamos o groupby sobre ID_ESCOLA ao invés de ID_ESCOLA + ANO, uma vez que queremos que a função interpolate seja aplicada sobre a série de dados de uma determinada escola, enquanto que o par ID_ESCOLA + ANO nos devolveria um único data point.\n",
    "\n",
    "Veja que o resultado é uma série de dados com os valores interpolados para o IDEB_AI. Para aplicar isso ao dataframe nós teríamos que fazer:"
   ]
  },
  {
   "cell_type": "code",
   "execution_count": null,
   "metadata": {
    "colab": {
     "base_uri": "https://localhost:8080/",
     "height": 424
    },
    "id": "ojTbjiV6vx6-",
    "outputId": "658387c9-3c8a-4082-921d-2c310cc5cc05"
   },
   "outputs": [],
   "source": [
    "(\n",
    "    df3.reindex(columns=[\"ID_ESCOLA\", \"ANO\", \"IDEB_AI\", \"IDEB_AF\"])\n",
    "    .sort_values(by=[\"ID_ESCOLA\", \"ANO\"])\n",
    "    .reset_index(drop=True)\n",
    "    .assign(IDEB_AI=lambda f: f.groupby([\"ID_ESCOLA\"])[\"IDEB_AI\"].apply(lambda x: x.interpolate()))\n",
    ")"
   ]
  },
  {
   "cell_type": "markdown",
   "metadata": {
    "id": "POJX_-WZoNux"
   },
   "source": [
    "Note que nós ordemos os valores e resetamos os índices antes de aplicar as operações. Nós fazemos isso para garantir que não teremos problemas na hora de preencher os valores no dataframe, uma vez que isso é feito por meio do match de índices"
   ]
  },
  {
   "cell_type": "markdown",
   "metadata": {
    "id": "ipT35gyzoNux"
   },
   "source": [
    "Mas o céu é o limite aqui. E se ao invés de gerar uma nova série de dados nós quisessemos produzir um novo data frame com base nos resultados? Nós poderíamos faze-lo da mesma forma, entretanto aqui o assign não seria efetivo"
   ]
  },
  {
   "cell_type": "code",
   "execution_count": null,
   "metadata": {
    "colab": {
     "base_uri": "https://localhost:8080/"
    },
    "id": "asWckhjvvx6-",
    "outputId": "b5af3ce0-7f62-45de-95ed-d34fdcd4e4bf"
   },
   "outputs": [],
   "source": [
    "df3.loc[lambda f: f[\"ANO\"] == 2021].count()"
   ]
  },
  {
   "cell_type": "code",
   "execution_count": null,
   "metadata": {
    "colab": {
     "base_uri": "https://localhost:8080/",
     "height": 424
    },
    "id": "95FOH53I_OGm",
    "outputId": "bc6219b4-1f6e-476d-9122-225204926e3f"
   },
   "outputs": [],
   "source": [
    "df3.reindex(columns=[\"ID_ESCOLA\", \"ANO\", \"IDEB_AI\", \"IDEB_META_AI\"])"
   ]
  },
  {
   "cell_type": "code",
   "execution_count": null,
   "metadata": {
    "colab": {
     "base_uri": "https://localhost:8080/",
     "height": 1000
    },
    "id": "s9do7P0R_oDI",
    "outputId": "370be0da-8c71-4402-8db3-a79475396f2d"
   },
   "outputs": [],
   "source": [
    "def gera_novo_df(df: pd.DataFrame) -> pd.DataFrame:\n",
    "    for m in [\"AI\", \"AF\", \"EM\"]:\n",
    "        df[f\"IDEB_{m}\"] = df[f\"IDEB_{m}\"]\n",
    "    \n",
    "    if (\n",
    "        df[\"IDEB_AI\"].count() == 0\n",
    "        and df[\"IDEB_AF\"].count() == 0\n",
    "        and df[\"IDEB_EM\"].count() == 0\n",
    "    ):\n",
    "        df[\"TIPO\"] = \"SEM COLETA DE IDEB\"\n",
    "    elif (\n",
    "        df[\"IDEB_AI\"].count() > 0\n",
    "        and df[\"IDEB_AF\"].count() == 0\n",
    "        and df[\"IDEB_EM\"].count() == 0\n",
    "    ):\n",
    "        df[\"TIPO\"] = \"ANOS INICIAIS\"\n",
    "    elif (\n",
    "        df[\"IDEB_AI\"].count() == 0\n",
    "        and df[\"IDEB_AF\"].count() > 0\n",
    "        and df[\"IDEB_EM\"].count() == 0\n",
    "    ):\n",
    "        df[\"TIPO\"] = \"ANOS FINAIS\"\n",
    "    elif (\n",
    "        df[\"IDEB_AI\"].count() == 0\n",
    "        and df[\"IDEB_AF\"].count() == 0\n",
    "        and df[\"IDEB_EM\"].count() > 0\n",
    "    ):\n",
    "        df[\"TIPO\"] = \"ENSINO MÉDIO\"\n",
    "    else:\n",
    "        df[\"TIPO\"] = \"MÚLTIPLOS\"\n",
    "    \n",
    "    return df.reindex(columns=[\"ID_ESCOLA\", \"ANO\", \"IDEB_AI\", \"IDEB_AF\", \"IDEB_EM\", \"TIPO\"])\n",
    "\n",
    "df3.head(52).groupby([\"ID_ESCOLA\"]).apply(gera_novo_df)"
   ]
  },
  {
   "cell_type": "markdown",
   "metadata": {
    "id": "wdjoelz55dvD"
   },
   "source": [
    "---"
   ]
  },
  {
   "cell_type": "markdown",
   "metadata": {
    "id": "iFP_BZ9v5dvE"
   },
   "source": [
    "**Exercício**"
   ]
  },
  {
   "cell_type": "markdown",
   "metadata": {
    "id": "TQWaHaJToNuy"
   },
   "source": [
    "Obtenha a projeção do IDEB para os anos faltantes com base na razão do IDEB realizado e da meta. Caso algum valor de meta não esteja preenchido, faça a interpolação do mesmo. Faça o mesmo com a razão de meta, caso não tenhamos um IDEB realizado"
   ]
  },
  {
   "cell_type": "code",
   "execution_count": null,
   "metadata": {
    "id": "_VRDREgJ5dvE",
    "solution2": "hidden",
    "solution2_first": true
   },
   "outputs": [],
   "source": []
  },
  {
   "cell_type": "code",
   "execution_count": null,
   "metadata": {
    "ExecuteTime": {
     "end_time": "2021-12-29T14:03:45.930277Z",
     "start_time": "2021-12-29T14:03:45.703046Z"
    },
    "cellView": "form",
    "id": "VVzM6YL4dHPs",
    "solution2": "hidden"
   },
   "outputs": [],
   "source": [
    "#@title Resposta\n",
    "def gera_novo_df(df: pd.DataFrame) -> pd.DataFrame:\n",
    "    for m in [\"AI\", \"AF\", \"EM\"]:\n",
    "        df[f\"IDEB_META_{m}\"] = df[f\"IDEB_META_{m}\"].interpolate(limit_direction=\"both\")\n",
    "        df[f\"RAZAO_{m}\"] = df[f\"IDEB_{m}\"] / df[f\"IDEB_META_{m}\"]\n",
    "        df[f\"RAZAO_{m}\"] = df[f\"RAZAO_{m}\"].interpolate(limit_direction=\"both\")\n",
    "        df[f\"IDEB_{m}\"] = df[f\"RAZAO_{m}\"] * df[f\"IDEB_META_{m}\"]\n",
    "    \n",
    "    return df.reindex(columns=[\"ID_ESCOLA\", \"ANO\", \"IDEB_AI\", \"IDEB_AF\", \"IDEB_EM\"])\n",
    "        \n",
    "\n",
    "(\n",
    "    df3.sort_values(by=[\"ID_ESCOLA\", \"ANO\"])\n",
    "    .reset_index(drop=True)\n",
    "    .head(52)\n",
    "    .groupby([\"ID_ESCOLA\"]).apply(gera_novo_df)\n",
    ")"
   ]
  },
  {
   "cell_type": "markdown",
   "metadata": {
    "id": "cD9JEdlX5dvE"
   },
   "source": [
    "---"
   ]
  },
  {
   "cell_type": "markdown",
   "metadata": {
    "id": "Ii9mjQXb5dvE"
   },
   "source": [
    "## Exportação de Dados "
   ]
  },
  {
   "cell_type": "markdown",
   "metadata": {
    "id": "baihgqFqoNuy"
   },
   "source": [
    "Uma vez que realizamos todos os tratamentos de dados de interesse na base, a última parte do trabalho é sempre exportar os dados resultantes. \n",
    "\n",
    "O pandas faz com que isso seja bem simples, basta utilizar algum método do tipo to_{nome do arquivo}"
   ]
  },
  {
   "cell_type": "code",
   "execution_count": null,
   "metadata": {
    "colab": {
     "base_uri": "https://localhost:8080/",
     "height": 424
    },
    "id": "UmxeSPi0vx6_",
    "outputId": "650d3e47-337b-4e4e-a1bf-2afb99a296a0"
   },
   "outputs": [],
   "source": [
    "exportar = df3.reindex(columns=[\"ID_ESCOLA\", \"ANO\", \"IDEB_AI\"]).dropna()\n",
    "exportar"
   ]
  },
  {
   "cell_type": "code",
   "execution_count": null,
   "metadata": {
    "id": "qDvXb3T3DRDR"
   },
   "outputs": [],
   "source": [
    "exportar.to_parquet(\"drive/MyDrive/dados.parquet\", partition_cols=[\"ANO\"])"
   ]
  },
  {
   "cell_type": "markdown",
   "metadata": {
    "id": "XGg0pTWWoNuy"
   },
   "source": [
    "**CSV**\n",
    "```\n",
    "exportar.to_csv(\"dados.csv\", sep=\",\", decimal=\".\", encoding=\"utf-8\")\n",
    "\n",
    "exportar.to_csv(\"dados.zip\", compression=\"zip\")\n",
    "```\n",
    "\n",
    "**Excel**\n",
    "```\n",
    "exportar.to_excel(\"dados.xlsx\", sheet_name=\"IDEB_AI\", index=False)\n",
    "\n",
    "with pd.ExcelWriter(\"dados.xlsx\") as writer:\n",
    "    exportar.to_excel(writer, sheet_name=\"IDEB_AI\", index=False)\n",
    "```\n",
    "\n",
    "**Pickle**\n",
    "```\n",
    "exportar.to_pickle(\"dados.pkl\")\n",
    "```\n",
    "\n",
    "**Parquet**\n",
    "```\n",
    "exportar.to_parquet(\"dados.parquet\", partition_cols=[\"ANO\"])\n",
    "```"
   ]
  },
  {
   "cell_type": "markdown",
   "metadata": {
    "id": "yhob65dJ5dvF"
   },
   "source": [
    "---"
   ]
  },
  {
   "cell_type": "markdown",
   "metadata": {
    "id": "8iQFkA_t5dvF"
   },
   "source": [
    "**Exercício**"
   ]
  },
  {
   "cell_type": "markdown",
   "metadata": {
    "id": "DXBXBuUhoNuz"
   },
   "source": [
    "Com base na base gerada no exercício anterior, crie um base com uma aba para cada tipo de IDEB, apenas para as escolas que coletam aquele IDEB, com os valores projetados"
   ]
  },
  {
   "cell_type": "code",
   "execution_count": null,
   "metadata": {
    "id": "o0kJuyic5dvF",
    "solution2": "hidden",
    "solution2_first": true
   },
   "outputs": [],
   "source": []
  },
  {
   "cell_type": "code",
   "execution_count": null,
   "metadata": {
    "ExecuteTime": {
     "end_time": "2021-12-29T14:35:53.077055Z",
     "start_time": "2021-12-29T14:33:43.173707Z"
    },
    "cellView": "form",
    "id": "HiuwXT2KdHPt",
    "solution2": "hidden"
   },
   "outputs": [],
   "source": [
    "#@title Resposta\n",
    "\n",
    "# calcula a razão\n",
    "exportar = (\n",
    "    df3.sort_values(by=[\"ID_ESCOLA\", \"ANO\"])\n",
    "    .reset_index(drop=True)\n",
    "    .assign(\n",
    "        IDEB_META_AI=lambda f: f.groupby([\"ID_ESCOLA\"])[\"IDEB_META_AI\"].apply(\n",
    "            lambda x: x.interpolate(limit_direction=\"both\")\n",
    "        ),\n",
    "        IDEB_META_AF=lambda f: f.groupby([\"ID_ESCOLA\"])[\"IDEB_META_AF\"].apply(\n",
    "            lambda x: x.interpolate(limit_direction=\"both\")\n",
    "        ),\n",
    "        IDEB_META_EM=lambda f: f.groupby([\"ID_ESCOLA\"])[\"IDEB_META_EM\"].apply(\n",
    "            lambda x: x.interpolate(limit_direction=\"both\")\n",
    "        ),\n",
    "        RAZAO_AI=lambda f: f[\"IDEB_AI\"] / f[\"IDEB_META_AI\"],\n",
    "        RAZAO_AF=lambda f: f[\"IDEB_AF\"] / f[\"IDEB_META_AF\"],\n",
    "        RAZAO_EM=lambda f: f[\"IDEB_EM\"] / f[\"IDEB_META_EM\"],\n",
    "    )\n",
    ")\n",
    "\n",
    "# obtém a projeção de IDEB\n",
    "exportar = exportar.assign(\n",
    "    RAZAO_AI=lambda f: f.groupby([\"ID_ESCOLA\"])[\"RAZAO_AI\"].apply(\n",
    "        lambda x: x.interpolate(limit_direction=\"both\")\n",
    "    ),\n",
    "    RAZAO_AF=lambda f: f.groupby([\"ID_ESCOLA\"])[\"RAZAO_AF\"].apply(\n",
    "        lambda x: x.interpolate(limit_direction=\"both\")\n",
    "    ),\n",
    "    RAZAO_EM=lambda f: f.groupby([\"ID_ESCOLA\"])[\"RAZAO_EM\"].apply(\n",
    "        lambda x: x.interpolate(limit_direction=\"both\")\n",
    "    ),\n",
    "    IDEB_AI=lambda f: f[\"IDEB_META_AI\"] * f[\"RAZAO_AI\"],\n",
    "    IDEB_AF=lambda f: f[\"IDEB_META_AF\"] * f[\"RAZAO_AF\"],\n",
    "    IDEB_EM=lambda f: f[\"IDEB_META_EM\"] * f[\"RAZAO_EM\"],\n",
    ")\n",
    "\n",
    "# faz o melt dos dados\n",
    "exportar = (\n",
    "    exportar.melt(\n",
    "        id_vars=[\"ID_ESCOLA\", \"ANO\"],\n",
    "        value_vars=[\"IDEB_AI\", \"IDEB_AF\", \"IDEB_EM\"],\n",
    "        var_name=\"TIPO\",\n",
    "        value_name=\"IDEB\"\n",
    "    )\n",
    "    .dropna()\n",
    ")\n",
    "\n",
    "# realiza a geração dos arquivos de saída\n",
    "with pd.ExcelWriter(\"dados.xlsx\") as writer:\n",
    "    for m in [\"AI\", \"AF\", \"EM\"]:\n",
    "        (\n",
    "            exportar.loc[lambda f: f[\"TIPO\"] == f\"IDEB_{m}\"]\n",
    "            .drop(columns=\"TIPO\")\n",
    "            .to_excel(writer, sheet_name=f\"IDEB_{m}\", index=False)\n",
    "        )"
   ]
  },
  {
   "cell_type": "markdown",
   "metadata": {
    "id": "OCoChI725dvF"
   },
   "source": [
    "---"
   ]
  }
 ],
 "metadata": {
  "colab": {
   "collapsed_sections": [],
   "name": "DataFrame (Code Along).ipynb",
   "provenance": [],
   "toc_visible": true
  },
  "hide_input": false,
  "kernelspec": {
   "display_name": "Python 3 (ipykernel)",
   "language": "python",
   "name": "python3"
  },
  "language_info": {
   "codemirror_mode": {
    "name": "ipython",
    "version": 3
   },
   "file_extension": ".py",
   "mimetype": "text/x-python",
   "name": "python",
   "nbconvert_exporter": "python",
   "pygments_lexer": "ipython3",
   "version": "3.9.7"
  },
  "toc": {
   "base_numbering": 1,
   "nav_menu": {},
   "number_sections": true,
   "sideBar": true,
   "skip_h1_title": true,
   "title_cell": "Table of Contents",
   "title_sidebar": "Contents",
   "toc_cell": false,
   "toc_position": {
    "height": "calc(100% - 180px)",
    "left": "10px",
    "top": "150px",
    "width": "304.475px"
   },
   "toc_section_display": true,
   "toc_window_display": true
  },
  "varInspector": {
   "cols": {
    "lenName": 16,
    "lenType": 16,
    "lenVar": 40
   },
   "kernels_config": {
    "python": {
     "delete_cmd_postfix": "",
     "delete_cmd_prefix": "del ",
     "library": "var_list.py",
     "varRefreshCmd": "print(var_dic_list())"
    },
    "r": {
     "delete_cmd_postfix": ") ",
     "delete_cmd_prefix": "rm(",
     "library": "var_list.r",
     "varRefreshCmd": "cat(var_dic_list()) "
    }
   },
   "types_to_exclude": [
    "module",
    "function",
    "builtin_function_or_method",
    "instance",
    "_Feature"
   ],
   "window_display": false
  }
 },
 "nbformat": 4,
 "nbformat_minor": 1
}
