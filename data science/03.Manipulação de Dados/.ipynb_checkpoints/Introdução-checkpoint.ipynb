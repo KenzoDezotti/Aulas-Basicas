{
 "cells": [
  {
   "cell_type": "markdown",
   "metadata": {
    "id": "nhK6mEZD5duG"
   },
   "source": [
    "# Introdução"
   ]
  },
  {
   "cell_type": "markdown",
   "metadata": {
    "id": "jDFIlB9H5duK"
   },
   "source": [
    "**OBJETIVO**: O objetivo deste notebook é dar o pontapé nos estudos sobre manipulação de dados utilizando Python"
   ]
  },
  {
   "cell_type": "markdown",
   "metadata": {
    "id": "lgK-hdeI5duL"
   },
   "source": [
    "---"
   ]
  },
  {
   "cell_type": "markdown",
   "metadata": {
    "id": "lB16mQP65duM"
   },
   "source": [
    "## Cabeçalho "
   ]
  },
  {
   "cell_type": "markdown",
   "metadata": {
    "id": "NFspGCD35duM"
   },
   "source": [
    "### Imports "
   ]
  },
  {
   "cell_type": "code",
   "execution_count": null,
   "metadata": {
    "ExecuteTime": {
     "end_time": "2021-09-12T01:21:04.428548Z",
     "start_time": "2021-09-12T01:21:04.088263Z"
    },
    "id": "rd7CrW0E5duN"
   },
   "outputs": [],
   "source": [
    "import os\n",
    "import numpy as np\n",
    "import pandas as pd\n",
    "\n",
    "from pathlib import Path"
   ]
  },
  {
   "cell_type": "markdown",
   "metadata": {
    "id": "Zu0ZqNSX5duP"
   },
   "source": [
    "### Configurações "
   ]
  },
  {
   "cell_type": "code",
   "execution_count": null,
   "metadata": {
    "ExecuteTime": {
     "end_time": "2021-09-12T14:32:11.762212Z",
     "start_time": "2021-09-12T14:32:11.742265Z"
    },
    "colab": {
     "base_uri": "https://localhost:8080/"
    },
    "executionInfo": {
     "elapsed": 52946,
     "status": "ok",
     "timestamp": 1631717047733,
     "user": {
      "displayName": "Pedro Forli",
      "photoUrl": "https://lh3.googleusercontent.com/a/default-user=s64",
      "userId": "08325002347257917995"
     },
     "user_tz": 180
    },
    "id": "krY5aEcX5duP",
    "outputId": "7425529a-28d2-4081-944d-19ff5acfb06a"
   },
   "outputs": [
    {
     "name": "stderr",
     "output_type": "stream",
     "text": [
      "/usr/local/lib/python3.7/dist-packages/ipykernel_launcher.py:1: UserWarning: Config option `use_jedi` not recognized by `IPCompleter`.\n",
      "  \"\"\"Entry point for launching an IPython kernel.\n"
     ]
    },
    {
     "name": "stdout",
     "output_type": "stream",
     "text": [
      "Mounted at /content/drive\n"
     ]
    }
   ],
   "source": [
    "%config Completer.use_jedi = False\n",
    "\n",
    "# pode ser \"completo\" ou \"amostra\"\n",
    "TIPO_DADOS = \"completo\"\n",
    "\n",
    "# checa se o notebook está sendo executado no google colab\n",
    "GOOGLE_COLAB = \"google.colab\" in str(get_ipython())\n",
    "\n",
    "# monta a pasta com os conteúdos\n",
    "if GOOGLE_COLAB:\n",
    "    from google.colab import drive\n",
    "    drive.mount(\"/content/drive\")\n",
    "    \n",
    "# informa o caminho para a pasta de ciência de dados a partir do drive\n",
    "# você pode deixar isso como vazio se você não tiver adicionado a pasta\n",
    "CAMINHO_DRIVE = \"Ciência de Dados\"\n",
    "\n",
    "# links para os dados a serem baixados diretamente da Web\n",
    "LINKS_DADOS = {\n",
    "    \"amostra\": {\n",
    "        \"escola.parquet\": \"https://drive.google.com/uc?id=1i51S1GKVqc-_5KgWsfXDc3Fnkf1y700y&export=download\",\n",
    "        \"ideb.parquet\": \"https://drive.google.com/uc?id=1NXCGhtluNbd2Vccyof3Y-eaw1vHkvIAL&export=download\",\n",
    "        \"turma.parquet\": \"https://drive.google.com/uc?id=1ks0lsbU5GXI6sbZRG9f8zGdzZqDRK8SG&export=download\",\n",
    "    },\n",
    "    \"completo\": {\n",
    "        \"escola.parquet\": \"https://drive.google.com/uc?id=1_at50Wh4JJz1jR-hhsqutVaUorN0M4IL&export=download\",\n",
    "        \"ideb.parquet\": \"https://drive.google.com/uc?id=183GP-MVohBC84NvHMLYcBQ4YRRCPHxYi&export=download\",\n",
    "        \"turma.parquet\": \"https://drive.google.com/uc?id=1OSrAB3oAAX-9NNWZ7dG0mcWFOIcjWUs8&export=download\",\n",
    "    }\n",
    "}"
   ]
  },
  {
   "cell_type": "markdown",
   "metadata": {
    "id": "DfB_YtVM5duR"
   },
   "source": [
    "### Caminhos "
   ]
  },
  {
   "cell_type": "code",
   "execution_count": null,
   "metadata": {
    "ExecuteTime": {
     "end_time": "2021-09-12T01:21:05.724650Z",
     "start_time": "2021-09-12T01:21:05.720677Z"
    },
    "id": "A8vUjsvR5duS"
   },
   "outputs": [],
   "source": [
    "vPATH_NOTEBOOK = Path(os.path.dirname(os.path.realpath(\"__file__\")))\n",
    "vPATH_DADOS = vPATH_NOTEBOOK.parent.parent / f\"dados/{TIPO_DADOS}\""
   ]
  },
  {
   "cell_type": "markdown",
   "metadata": {
    "id": "1Hfd3ztV5duS"
   },
   "source": [
    "---"
   ]
  },
  {
   "cell_type": "markdown",
   "metadata": {
    "id": "7MKPnFkz5duS"
   },
   "source": [
    "## Carregamento de Base "
   ]
  },
  {
   "cell_type": "markdown",
   "metadata": {
    "id": "aBuooqm_5duT"
   },
   "source": [
    "O primeiro passo na manipulação de dados é sempre realizar o carregamento dos dados a serem trabalhados. Para isso o pandas contém um conjunto de funções que começam com read_ e que terminam com o tipo de arquivo a ser baixado."
   ]
  },
  {
   "cell_type": "markdown",
   "metadata": {
    "id": "b6xBs6IW5duT"
   },
   "source": [
    "É importante notar que o pandas é capaz de trabalhar tanto com dados locais quanto com dados Web. Veja a célula abaixo por exemplo, temos 3 opções de download dos dados: Dentro do ambiente colab, na qual referenciamos um caminho para o arquivo a partir das pastas do ambiente, um segundo para o qual baixamos diretamenta de um link da internet e um terceiro, para quando temos os arquivos no diretório local"
   ]
  },
  {
   "cell_type": "code",
   "execution_count": null,
   "metadata": {
    "ExecuteTime": {
     "end_time": "2021-09-12T01:21:30.804831Z",
     "start_time": "2021-09-12T01:21:29.112356Z"
    },
    "id": "5DhFdyjp5duT"
   },
   "outputs": [],
   "source": [
    "if GOOGLE_COLAB and CAMINHO_DRIVE != \"\":\n",
    "    df = pd.read_parquet(\n",
    "        f\"drive/MyDrive/{CAMINHO_DRIVE}/dados/{TIPO_DADOS}/aquisicao/escola.parquet\",\n",
    "        filters=[(\"ANO\", \"=\", 2020)]\n",
    "    )\n",
    "elif GOOGLE_COLAB or not os.path.exists(vPATH_DADOS / \"saida/aquisicao/escola_temp.parquet\"):\n",
    "    df = pd.read_parquet(LINKS_DADOS[TIPO_DADOS][\"escola.parquet\"])\n",
    "else:\n",
    "    df = pd.read_parquet(vPATH_DADOS / \"aquisicao/escola.parquet\", filters=[(\"ANO\", \"=\", 2020)])"
   ]
  },
  {
   "cell_type": "code",
   "execution_count": null,
   "metadata": {
    "id": "xy0A-5AOeipu"
   },
   "outputs": [],
   "source": [
    "df"
   ]
  },
  {
   "cell_type": "markdown",
   "metadata": {
    "id": "2gUKEcFh5duW"
   },
   "source": [
    "---"
   ]
  },
  {
   "cell_type": "markdown",
   "metadata": {
    "ExecuteTime": {
     "end_time": "2021-09-13T15:21:52.069093Z",
     "start_time": "2021-09-13T15:21:52.050118Z"
    },
    "id": "yzVw1QTY5duX"
   },
   "source": [
    "## Representação dos Dados "
   ]
  },
  {
   "cell_type": "markdown",
   "metadata": {
    "id": "XRYY-LN45duX"
   },
   "source": [
    "Ok, agora nós temos nossos dados carregados no pandas, mas o que exatamente nós recebemos como variável?\n",
    "\n",
    "Resposta: Um DataFrame. \n",
    "\n",
    "Um DataFrame é uma estrutura de dados que representa uma tabela, sendo definido por linhas e colunas nomeadas que permitem acessar o conteúdo de cada célula \"dado\".\n",
    "\n",
    "<img src=\"https://media.geeksforgeeks.org/wp-content/cdn-uploads/creating_dataframe1.png\" />"
   ]
  },
  {
   "cell_type": "markdown",
   "metadata": {
    "id": "kLmXszgJ5duY"
   },
   "source": [
    "Computacionalmente, cada coluna de um data frame é representado por um outro elemento chamado \"Série\", e cada série é constituída por um nome (que corresponde ao nome da coluna) e os indices (que correspondem aos indices do data frame) além de seu conteúdo (dados)\n",
    "\n",
    "<img src=\"https://www.w3resource.com/w3r_images/pandas-series-add-image-1.svg\" />"
   ]
  },
  {
   "cell_type": "markdown",
   "metadata": {
    "id": "GiTDjVUY5dua"
   },
   "source": [
    "Os dados de Séries por sua vez são arrays da biblioteca numpy. Arrays (ou vetores) do numpy são representações que emulam arrays em outras linguagens (como C/C++) que representam uma lista de dados de dimensões fixas e de tipo único usada para calculos de algebra linear"
   ]
  },
  {
   "cell_type": "markdown",
   "metadata": {
    "id": "g8hSTcwq5dub"
   },
   "source": [
    "<img src=\"https://miro.medium.com/max/3184/1*X0Dg7QfSYtWhSAu-afi8-g.png\" />"
   ]
  },
  {
   "cell_type": "markdown",
   "metadata": {
    "id": "zkfB0EWy5duc"
   },
   "source": [
    "Nós raramente trabalharemos dados usando numpy, entretanto os conceitos são úteis pois o numpy acaba por facilitar algumas operações que seriam mais complexas no pandas que nós veremos mais a frente.\n",
    "\n",
    "**Além disso, lembre-se: Séries e DataFrames são baseadas em Arrays, portanto se você entender como determinadas operações funcionam para um desses objetos você consegue entender como funciona para todos**"
   ]
  },
  {
   "cell_type": "markdown",
   "metadata": {
    "id": "RqZ5MNur5duc"
   },
   "source": [
    "---"
   ]
  }
 ],
 "metadata": {
  "colab": {
   "collapsed_sections": [],
   "name": "Introdução.ipynb",
   "provenance": [],
   "toc_visible": true
  },
  "hide_input": false,
  "kernelspec": {
   "display_name": "Python 3 (ipykernel)",
   "language": "python",
   "name": "python3"
  },
  "language_info": {
   "codemirror_mode": {
    "name": "ipython",
    "version": 3
   },
   "file_extension": ".py",
   "mimetype": "text/x-python",
   "name": "python",
   "nbconvert_exporter": "python",
   "pygments_lexer": "ipython3",
   "version": "3.9.7"
  },
  "toc": {
   "base_numbering": 1,
   "nav_menu": {},
   "number_sections": true,
   "sideBar": true,
   "skip_h1_title": true,
   "title_cell": "Table of Contents",
   "title_sidebar": "Contents",
   "toc_cell": false,
   "toc_position": {},
   "toc_section_display": true,
   "toc_window_display": true
  },
  "varInspector": {
   "cols": {
    "lenName": 16,
    "lenType": 16,
    "lenVar": 40
   },
   "kernels_config": {
    "python": {
     "delete_cmd_postfix": "",
     "delete_cmd_prefix": "del ",
     "library": "var_list.py",
     "varRefreshCmd": "print(var_dic_list())"
    },
    "r": {
     "delete_cmd_postfix": ") ",
     "delete_cmd_prefix": "rm(",
     "library": "var_list.r",
     "varRefreshCmd": "cat(var_dic_list()) "
    }
   },
   "types_to_exclude": [
    "module",
    "function",
    "builtin_function_or_method",
    "instance",
    "_Feature"
   ],
   "window_display": false
  }
 },
 "nbformat": 4,
 "nbformat_minor": 1
}
