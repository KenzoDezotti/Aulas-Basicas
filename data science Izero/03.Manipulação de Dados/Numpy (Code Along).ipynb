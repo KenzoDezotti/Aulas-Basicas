{
 "cells": [
  {
   "cell_type": "markdown",
   "metadata": {
    "id": "nhK6mEZD5duG"
   },
   "source": [
    "# Numpy"
   ]
  },
  {
   "cell_type": "markdown",
   "metadata": {
    "id": "jDFIlB9H5duK"
   },
   "source": [
    "**OBJETIVO**: O objetivo deste notebook é explicar como a biblioteca numpy funciona e as principais operações com arrays"
   ]
  },
  {
   "cell_type": "markdown",
   "metadata": {
    "id": "lgK-hdeI5duL"
   },
   "source": [
    "---"
   ]
  },
  {
   "cell_type": "code",
   "execution_count": 2,
   "metadata": {
    "ExecuteTime": {
     "end_time": "2021-09-17T18:30:28.816304Z",
     "start_time": "2021-09-17T18:30:28.381461Z"
    },
    "colab": {
     "base_uri": "https://localhost:8080/"
    },
    "executionInfo": {
     "elapsed": 905,
     "status": "ok",
     "timestamp": 1643131497113,
     "user": {
      "displayName": "Ignorância Zero",
      "photoUrl": "https://lh3.googleusercontent.com/a/default-user=s64",
      "userId": "00329270583361032720"
     },
     "user_tz": 180
    },
    "id": "c9P9KIqufTzX",
    "outputId": "f285b169-734a-437a-94ab-82688d7140de"
   },
   "outputs": [],
   "source": [
    "import os\n",
    "import numpy as np\n",
    "import pandas as pd\n",
    "\n",
    "from pathlib import Path\n",
    "\n",
    "%config Completer.use_jedi = False"
   ]
  },
  {
   "cell_type": "markdown",
   "metadata": {
    "id": "1Hfd3ztV5duS"
   },
   "source": [
    "---"
   ]
  },
  {
   "cell_type": "markdown",
   "metadata": {
    "id": "Bjahvxem5dud"
   },
   "source": [
    "## Criação "
   ]
  },
  {
   "cell_type": "markdown",
   "metadata": {
    "id": "TYBFHGFvfTzc"
   },
   "source": [
    "Arrays são objetos que armazenam estruturas sequencias de dados de tipo e tamanhos determinado que apontam para uma sequência de dados na memória RAM. Em Python, a biblioteca que lida com essas estruturas é o Numpy que não só oferece as funcionalidades clássicas de um array (que pode ser vista em C, C++, Java, ...), mas também propriedades vetoriais utilizadas em operações de algebra linear"
   ]
  },
  {
   "cell_type": "markdown",
   "metadata": {
    "id": "7976rCLF6CZO"
   },
   "source": [
    "Criar um array é uma tarefa simples, que pode ser realizada por meio de uma lista como abaixo"
   ]
  },
  {
   "cell_type": "code",
   "execution_count": 2,
   "metadata": {},
   "outputs": [
    {
     "data": {
      "text/plain": [
       "array([1, 2, 3, 4, 5])"
      ]
     },
     "execution_count": 2,
     "metadata": {},
     "output_type": "execute_result"
    }
   ],
   "source": [
    "array = np.array([1,2,3,4,5])\n",
    "array"
   ]
  },
  {
   "cell_type": "code",
   "execution_count": 3,
   "metadata": {},
   "outputs": [
    {
     "data": {
      "text/plain": [
       "array([[1, 2, 3],\n",
       "       [4, 5, 6]])"
      ]
     },
     "execution_count": 3,
     "metadata": {},
     "output_type": "execute_result"
    }
   ],
   "source": [
    "matriz = np.array([[1,2,3],[4,5,6]])\n",
    "matriz"
   ]
  },
  {
   "cell_type": "markdown",
   "metadata": {
    "id": "Su0b01RRfTzi"
   },
   "source": [
    "Ao fazer isso estaremos alocando os valores selecionados dentro da RAM do computador em endereços sequenciais, igualmente espaçados de acordo com o tipo de dado do array.\n",
    "\n",
    "<img src=\"https://miro.medium.com/max/497/1*-ImKrqrT14UlG6wMpAEIJQ.png\" />"
   ]
  },
  {
   "cell_type": "markdown",
   "metadata": {
    "id": "lEMrz_INfTzj"
   },
   "source": [
    "Dados isso é fácil perceber que um array tem as seguintes características que podem ser acessadas na forma de atributos deste objeto:\n",
    "\n",
    "- dtype: O tipo de dados do array\n",
    "- shape: O tamanho do array em linhas e colunas\n",
    "- size: O tamanho do array em quantidade de elementos\n",
    "- itemsize: O consumo de memória de cada elemento do array (em bytes)\n",
    "- strides: Uma distancia em bytes entre os elementos armazenados na memória"
   ]
  },
  {
   "cell_type": "code",
   "execution_count": 4,
   "metadata": {},
   "outputs": [
    {
     "name": "stdout",
     "output_type": "stream",
     "text": [
      "array: dtype=int64| shape = (5,)| size= 5 | itemsize.8 | strides=(8,)\n",
      "matriz: dtype=int64| shape = (2, 3)| size= 6 | itemsize.8 | strides=(24, 8)\n"
     ]
    }
   ],
   "source": [
    "print(f\"array: dtype={array.dtype}| shape = {array.shape}| size= {array.size} |\" \n",
    "f\" itemsize.{array.itemsize} | strides={array.strides}\")\n",
    "\n",
    "print(f\"matriz: dtype={matriz.dtype}| shape = {matriz.shape}| size= {matriz.size} |\" \n",
    "f\" itemsize.{matriz.itemsize} | strides={matriz.strides}\")"
   ]
  },
  {
   "cell_type": "markdown",
   "metadata": {
    "id": "d5Gn-74CfTzl"
   },
   "source": [
    "Dado que inicializações de diferentes tipos de array são bastante comuns, a biblioteca contém uma série de funcionalidades que permitem criar arrays com diferentes tipos de dados"
   ]
  },
  {
   "cell_type": "markdown",
   "metadata": {
    "id": "__h88Wqs6n6N"
   },
   "source": [
    "**np.zeros** -> Cria um array preenchido com zeros"
   ]
  },
  {
   "cell_type": "code",
   "execution_count": 5,
   "metadata": {},
   "outputs": [
    {
     "data": {
      "text/plain": [
       "array([[0., 0., 0.],\n",
       "       [0., 0., 0.],\n",
       "       [0., 0., 0.]])"
      ]
     },
     "execution_count": 5,
     "metadata": {},
     "output_type": "execute_result"
    }
   ],
   "source": [
    "np.zeros(shape=(3,3))"
   ]
  },
  {
   "cell_type": "markdown",
   "metadata": {
    "id": "-VTRQoSP6zuh"
   },
   "source": [
    "**np.ones** -> Cria um array preenchido com um's"
   ]
  },
  {
   "cell_type": "code",
   "execution_count": 6,
   "metadata": {},
   "outputs": [
    {
     "data": {
      "text/plain": [
       "array([[1., 1., 1.],\n",
       "       [1., 1., 1.],\n",
       "       [1., 1., 1.]])"
      ]
     },
     "execution_count": 6,
     "metadata": {},
     "output_type": "execute_result"
    }
   ],
   "source": [
    "np.ones(shape=(3,3))"
   ]
  },
  {
   "cell_type": "markdown",
   "metadata": {
    "id": "NSHhgQHU_e5q"
   },
   "source": [
    "**np.eye** -> Cria a matriz identidade com o tamanho específicado"
   ]
  },
  {
   "cell_type": "code",
   "execution_count": 7,
   "metadata": {},
   "outputs": [
    {
     "data": {
      "text/plain": [
       "array([[1., 0., 0., 0.],\n",
       "       [0., 1., 0., 0.],\n",
       "       [0., 0., 1., 0.],\n",
       "       [0., 0., 0., 1.]])"
      ]
     },
     "execution_count": 7,
     "metadata": {},
     "output_type": "execute_result"
    }
   ],
   "source": [
    "np.eye(4)"
   ]
  },
  {
   "cell_type": "markdown",
   "metadata": {
    "id": "iWKH3Drs6_Rm"
   },
   "source": [
    "**np.arange** -> Mesma coisa que a função range, só que para arrays"
   ]
  },
  {
   "cell_type": "code",
   "execution_count": 8,
   "metadata": {},
   "outputs": [
    {
     "data": {
      "text/plain": [
       "array([1, 3, 5, 7, 9])"
      ]
     },
     "execution_count": 8,
     "metadata": {},
     "output_type": "execute_result"
    }
   ],
   "source": [
    "np.arange(1,10,2)"
   ]
  },
  {
   "cell_type": "markdown",
   "metadata": {
    "id": "RFOHITf17MKa"
   },
   "source": [
    "**np.linspace** -> Cria um array entre dois números espaçados linearmente"
   ]
  },
  {
   "cell_type": "code",
   "execution_count": 9,
   "metadata": {},
   "outputs": [
    {
     "data": {
      "text/plain": [
       "array([ 5.  ,  6.25,  7.5 ,  8.75, 10.  ])"
      ]
     },
     "execution_count": 9,
     "metadata": {},
     "output_type": "execute_result"
    }
   ],
   "source": [
    "np.linspace(5,10,num=5)"
   ]
  },
  {
   "cell_type": "markdown",
   "metadata": {
    "id": "2RRkGSzx78OF"
   },
   "source": [
    "**np.logspace** -> Cria um array entre dois números espaçados logaritimicamente"
   ]
  },
  {
   "cell_type": "code",
   "execution_count": 10,
   "metadata": {},
   "outputs": [
    {
     "data": {
      "text/plain": [
       "array([  10.,  100., 1000.])"
      ]
     },
     "execution_count": 10,
     "metadata": {},
     "output_type": "execute_result"
    }
   ],
   "source": [
    "np.logspace(1,3,3)"
   ]
  },
  {
   "cell_type": "markdown",
   "metadata": {
    "id": "m9P0ay7K_OSK"
   },
   "source": [
    "**np.random.int** -> Cria um array de valores aleatóries entre um valor menor e maior (exclusivo)"
   ]
  },
  {
   "cell_type": "code",
   "execution_count": 11,
   "metadata": {},
   "outputs": [
    {
     "data": {
      "text/plain": [
       "array([[4, 3, 6, 5, 5],\n",
       "       [2, 3, 2, 8, 2],\n",
       "       [2, 8, 2, 2, 2],\n",
       "       [1, 5, 9, 1, 8],\n",
       "       [9, 0, 2, 9, 9]])"
      ]
     },
     "execution_count": 11,
     "metadata": {},
     "output_type": "execute_result"
    }
   ],
   "source": [
    "np.random.randint(0,10,size=(5,5))"
   ]
  },
  {
   "cell_type": "markdown",
   "metadata": {
    "id": "xxxyJPsu8RvF"
   },
   "source": [
    "**np.random.normal** -> Cria um array aleatório com valores baseados em uma distribuição normal"
   ]
  },
  {
   "cell_type": "code",
   "execution_count": 12,
   "metadata": {},
   "outputs": [
    {
     "data": {
      "text/plain": [
       "array([ 0.205378  ,  0.60180513,  4.53501907,  1.44621473,  2.12208856,\n",
       "        2.94588594,  0.78851372,  2.41091445,  0.50527671, -1.23787496])"
      ]
     },
     "execution_count": 12,
     "metadata": {},
     "output_type": "execute_result"
    }
   ],
   "source": [
    "np.random.normal(1,2,10)"
   ]
  },
  {
   "cell_type": "markdown",
   "metadata": {
    "id": "8eagUl3yfTzw"
   },
   "source": [
    "É interassante notar que algumas dessas funções não permitem passar o tamanho do array (como np.arange), por isso muitas vezes é comum combina-las com o método reshape"
   ]
  },
  {
   "cell_type": "code",
   "execution_count": 13,
   "metadata": {},
   "outputs": [
    {
     "data": {
      "text/plain": [
       "array([ 0,  1,  2,  3,  4,  5,  6,  7,  8,  9, 10, 11])"
      ]
     },
     "execution_count": 13,
     "metadata": {},
     "output_type": "execute_result"
    }
   ],
   "source": [
    "a = np.arange(12)\n",
    "a\n"
   ]
  },
  {
   "cell_type": "code",
   "execution_count": 14,
   "metadata": {},
   "outputs": [],
   "source": [
    "a = a.reshape(3,4)\n"
   ]
  },
  {
   "cell_type": "markdown",
   "metadata": {
    "id": "_Kt9R3AEfTzw"
   },
   "source": [
    "---"
   ]
  },
  {
   "cell_type": "markdown",
   "metadata": {
    "id": "XW5-JSe3fTzx"
   },
   "source": [
    "**Exercício** \n",
    "\n",
    "Gere uma matriz 4x4 de números igualmente espaçados entre 5 e 11 e calcule o total de memória utilizado para armazenar este array"
   ]
  },
  {
   "cell_type": "code",
   "execution_count": 15,
   "metadata": {
    "ExecuteTime": {
     "end_time": "2021-09-16T14:50:30.980653Z",
     "start_time": "2021-09-16T14:50:30.963699Z"
    },
    "id": "6BHeSn7ofTzx",
    "solution2": "hidden",
    "solution2_first": true
   },
   "outputs": [
    {
     "name": "stdout",
     "output_type": "stream",
     "text": [
      "[[ 5.   5.4  5.8  6.2]\n",
      " [ 6.6  7.   7.4  7.8]\n",
      " [ 8.2  8.6  9.   9.4]\n",
      " [ 9.8 10.2 10.6 11. ]]\n"
     ]
    },
    {
     "data": {
      "text/plain": [
       "128"
      ]
     },
     "execution_count": 15,
     "metadata": {},
     "output_type": "execute_result"
    }
   ],
   "source": [
    "mat = np.linspace(5,11,num=16).reshape(4,4)\n",
    "print(mat)\n",
    "size = mat.size\n",
    "size*mat.itemsize"
   ]
  },
  {
   "cell_type": "code",
   "execution_count": 16,
   "metadata": {
    "cellView": "form",
    "id": "4RDUZ0W8fTzx",
    "solution2": "hidden"
   },
   "outputs": [
    {
     "name": "stdout",
     "output_type": "stream",
     "text": [
      "[[ 5.   5.4  5.8  6.2]\n",
      " [ 6.6  7.   7.4  7.8]\n",
      " [ 8.2  8.6  9.   9.4]\n",
      " [ 9.8 10.2 10.6 11. ]]\n",
      "Bytes: 128\n"
     ]
    }
   ],
   "source": [
    "#@title Resposta\n",
    "arr = np.linspace(5, 11, num=16).reshape(4, 4)\n",
    "print(arr)\n",
    "print(\"Bytes:\", arr.size * arr.itemsize)"
   ]
  },
  {
   "cell_type": "markdown",
   "metadata": {
    "id": "Eja3bFtXfTzy"
   },
   "source": [
    "---"
   ]
  },
  {
   "cell_type": "markdown",
   "metadata": {
    "id": "5foiZBoD_oMR"
   },
   "source": [
    "## Tipagem"
   ]
  },
  {
   "cell_type": "markdown",
   "metadata": {
    "id": "QiwowYVP_n9u"
   },
   "source": [
    "Uma das diferenças mais gritantes entre arrays e listas é sua tipagem. Enquanto listas podem conter múltiplos tipos de dados (inteiros, strings, floats, etc) arrays tendem a possuir tipagem fixa e tal tipagem pode ser modificada utilizando o método astype"
   ]
  },
  {
   "cell_type": "code",
   "execution_count": 17,
   "metadata": {},
   "outputs": [
    {
     "name": "stdout",
     "output_type": "stream",
     "text": [
      "int64 [1 2 3]\n"
     ]
    }
   ],
   "source": [
    "arr = np.array([1,2,3])\n",
    "print(arr.dtype, arr)"
   ]
  },
  {
   "cell_type": "markdown",
   "metadata": {
    "id": "XjQGj_bXfTz0"
   },
   "source": [
    "Abaixo temos a lista dos tipos de dados numéricos do numpy\n",
    "\n",
    "<img src=\"https://miro.medium.com/max/1240/1*lbPigku_qn_NeKAHHTGYPg.png\" />"
   ]
  },
  {
   "cell_type": "markdown",
   "metadata": {
    "id": "dcTZ4cEffTz0"
   },
   "source": [
    "---"
   ]
  },
  {
   "cell_type": "markdown",
   "metadata": {
    "id": "jjiS0LL4fTz1"
   },
   "source": [
    "**Exercício** \n",
    "\n",
    "Assumindo que você tenha um array de apenas inteiros, crie uma função que converte-o para o tipo de dado que minimiza seu uso de memória"
   ]
  },
  {
   "cell_type": "code",
   "execution_count": 18,
   "metadata": {
    "ExecuteTime": {
     "end_time": "2021-09-17T18:30:37.060660Z",
     "start_time": "2021-09-17T18:30:37.051713Z"
    },
    "id": "GJxhQLftfTz1",
    "solution2": "hidden",
    "solution2_first": true
   },
   "outputs": [],
   "source": [
    "def minimiza_memoria(array: np.ndarray) -> np.ndarray:\n",
    "    \"\"\"\n",
    "    Minimiza o uso de memório de um determinado array\n",
    "    de inteiros\n",
    "    \n",
    "    :param array: array a ser minimizado\n",
    "    :return: array com o tipo ajustado\n",
    "    \"\"\"\n",
    "    np.array(np.ndarray, dtype=np.uint8)\n",
    "\n",
    "    pass\n"
   ]
  },
  {
   "cell_type": "code",
   "execution_count": 19,
   "metadata": {
    "cellView": "form",
    "id": "8Lq3T2dgfTz1",
    "solution2": "hidden"
   },
   "outputs": [
    {
     "name": "stdout",
     "output_type": "stream",
     "text": [
      "uint8\n",
      "int8\n",
      "uint8\n",
      "int16\n"
     ]
    }
   ],
   "source": [
    "#@title Resposta\n",
    "def minimiza_memoria(array: np.ndarray) -> np.ndarray:\n",
    "    \"\"\"\n",
    "    Minimiza o uso de memório de um determinado array\n",
    "    de inteiros\n",
    "    \n",
    "    :param array: array a ser minimizado\n",
    "    :return: array com o tipo ajustado\n",
    "    \"\"\"\n",
    "    # cria um dicionário com o uso de memória por bytes\n",
    "    uso = {\n",
    "        8: 127,\n",
    "        16: 32767,\n",
    "        32: 2147483647,\n",
    "    }\n",
    "    \n",
    "    # obtém os valores mínimos e máximos do array\n",
    "    minimo = min(array)\n",
    "    maximo = max(array)\n",
    "    \n",
    "    # cria os parâmetros para a seleção do tipo com base no\n",
    "    # valor mínimo\n",
    "    if minimo > 0:\n",
    "        prefix = \"u\"\n",
    "        menor = lambda m: 0\n",
    "        maior = lambda m: 2 * m + 1\n",
    "    else:\n",
    "        prefix = \"\"\n",
    "        menor = lambda m: -(m + 1)\n",
    "        maior = lambda m: m\n",
    "    \n",
    "    # percorre os diferentes tipos de inteiro e seleciona o mais adequado\n",
    "    for b, m in uso.items():\n",
    "        if minimo >= menor(m) and maximo <= maior(m):\n",
    "            return array.astype(f\"{prefix}int{b}\")\n",
    "        \n",
    "print(minimiza_memoria(np.array([1, 2, 3])).dtype)\n",
    "print(minimiza_memoria(np.array([-1, 2, 3])).dtype)\n",
    "print(minimiza_memoria(np.array([1, 2, 130])).dtype)\n",
    "print(minimiza_memoria(np.array([-1, 2, 130])).dtype)"
   ]
  },
  {
   "cell_type": "markdown",
   "metadata": {
    "id": "YTHtOxwgfTz2"
   },
   "source": [
    "---"
   ]
  },
  {
   "cell_type": "markdown",
   "metadata": {
    "id": "_6364I-L5dud"
   },
   "source": [
    "## Indexação "
   ]
  },
  {
   "cell_type": "markdown",
   "metadata": {
    "id": "1B1YxYy85dur"
   },
   "source": [
    "Tal como listas arrays são objetos indexáveis de maneira similar, de forma que a sintaxe de chaves e os slices funcionam normalmente"
   ]
  },
  {
   "cell_type": "code",
   "execution_count": 20,
   "metadata": {},
   "outputs": [
    {
     "name": "stdout",
     "output_type": "stream",
     "text": [
      "[[ 0.11311075 -0.15408982 -1.01329627]\n",
      " [ 0.69185593  0.93463556  1.30061804]\n",
      " [-0.25773571  1.21220778  1.06469744]] [1 2 3 4 5 6 7 8 9]\n"
     ]
    }
   ],
   "source": [
    "array = np.arange(1,10)\n",
    "matriz = np.random.normal(1,2,(3,3))\n",
    "print(matriz,array)"
   ]
  },
  {
   "cell_type": "markdown",
   "metadata": {
    "id": "5dLHhgaq5dus"
   },
   "source": [
    "Entretanto o numpy oferece uma maneira adicional de indexar elementos selecionando múltiplos indices por meio de uma lista"
   ]
  },
  {
   "cell_type": "code",
   "execution_count": 21,
   "metadata": {},
   "outputs": [
    {
     "data": {
      "text/plain": [
       "array([[0.]])"
      ]
     },
     "execution_count": 21,
     "metadata": {},
     "output_type": "execute_result"
    }
   ],
   "source": [
    "import numpy as np\n",
    "np.zeros(shape=(1,1))"
   ]
  },
  {
   "cell_type": "markdown",
   "metadata": {
    "id": "mmdn7i4r8rSL"
   },
   "source": [
    "Por fim, numpy nos oferece a flexibilidade, especialmente com matrizes, de selecionar os elementos de linhas e colunas em conjunto por meio da sintaxe de \",\", na qual fornecemos dois slices, o primeiro selecionando linhas e o segundo selecionado colunas"
   ]
  },
  {
   "cell_type": "code",
   "execution_count": 22,
   "metadata": {},
   "outputs": [
    {
     "data": {
      "text/plain": [
       "array([-0.15408982,  0.93463556,  1.21220778])"
      ]
     },
     "execution_count": 22,
     "metadata": {},
     "output_type": "execute_result"
    }
   ],
   "source": [
    "matriz[:,1]"
   ]
  },
  {
   "cell_type": "markdown",
   "metadata": {
    "id": "PNlBET2vfTz6"
   },
   "source": [
    "---"
   ]
  },
  {
   "cell_type": "markdown",
   "metadata": {
    "id": "ZU8gERxqfTz6"
   },
   "source": [
    "**Exercício**\n",
    "\n",
    "Dado um vetor unidimensional de valores converta-o para uma matriz bi-dimensional com base em um valor de passo e um valor de janela, de tal forma que cada linha dessa matriz contenha o número de colunas definido na janela e que nós percorremos, a cada iteração, o número de passo em termos de elemento.\n",
    "\n",
    "Por exemplo:\n",
    "\n",
    "    Entrada > \n",
    "    array = [0, 1, 2, 3, 4, 5, 6, 7, 8, 9, 10, 11, 12, 13, 14, 15, 16, 17, 18]\n",
    "    Passo = 2\n",
    "    Janela = 4\n",
    "    \n",
    "Geraria uma saída de:\n",
    "\n",
    "    Saída > [[ 0  1  2  3]\n",
    "             [ 2  3  4  5]\n",
    "             [ 4  5  6  7]\n",
    "             [ 6  7  8  9]\n",
    "             [ 8  9 10 11]\n",
    "             [10 11 12 13]\n",
    "             [12 13 14 15]\n",
    "             [14 15 16 17]]\n",
    "\n",
    "Veja que cada linha contém 4 colunas = janelas. A primeira linha é formada por 0-3, ou seja, os 4 primeiros elementos do array, enquanto que a segunda linha é de 2-5, de forma que ela pula os 2 primeiros elementos (passo) e percorre mais 4 elementos (janela) do array"
   ]
  },
  {
   "cell_type": "code",
   "execution_count": 23,
   "metadata": {
    "id": "R4rkEQMGfTz7",
    "solution2": "hidden",
    "solution2_first": true
   },
   "outputs": [
    {
     "data": {
      "text/plain": [
       "array(0)"
      ]
     },
     "execution_count": 23,
     "metadata": {},
     "output_type": "execute_result"
    }
   ],
   "source": [
    "np.array(0)"
   ]
  },
  {
   "cell_type": "code",
   "execution_count": 24,
   "metadata": {},
   "outputs": [],
   "source": [
    "def GeraMatriz(matriz, passo = 5, janela = 4):\n",
    "    matriz_final = np.zeros(shape=(1,1))\n",
    "    distancia = len(matriz*passo)//janela\n",
    "    for i in range(distancia):\n",
    "        x = []\n",
    "        for j in range(janela):\n",
    "            x.append(matriz[distancia+i+j])\n",
    "        print(x)\n",
    "        np.append(matriz_final, x)\n",
    " "
   ]
  },
  {
   "cell_type": "code",
   "execution_count": 25,
   "metadata": {
    "cellView": "form",
    "id": "NfMyDpbffTz7",
    "solution2": "hidden"
   },
   "outputs": [
    {
     "name": "stdout",
     "output_type": "stream",
     "text": [
      "[[ 0  1  2  3]\n",
      " [ 2  3  4  5]\n",
      " [ 4  5  6  7]\n",
      " [ 6  7  8  9]\n",
      " [ 8  9 10 11]\n",
      " [10 11 12 13]\n",
      " [12 13 14 15]\n",
      " [14 15 16 17]]\n"
     ]
    }
   ],
   "source": [
    "#@title Resposta\n",
    "def gera_matriz(array, passo=5, janela=5):\n",
    "    n_iter = ((array.size - janela) // passo) + 1\n",
    "    return np.array(\n",
    "        [\n",
    "            array[s:(s + janela)] \n",
    "            for s in np.arange(0, n_iter * passo, passo)\n",
    "        ]\n",
    "    )\n",
    "\n",
    "print(gera_matriz(np.arange(19), passo=2, janela=4))"
   ]
  },
  {
   "cell_type": "markdown",
   "metadata": {
    "id": "CZVIReqqfTz7"
   },
   "source": [
    "---"
   ]
  },
  {
   "cell_type": "markdown",
   "metadata": {
    "id": "1Geirqr8Ahcu"
   },
   "source": [
    "## Mutabilidade"
   ]
  },
  {
   "cell_type": "markdown",
   "metadata": {
    "id": "9qsrYUqqAktf"
   },
   "source": [
    "Diferente de listas arrays são objetos imutáveis em tamanho e tipo (como você viu mais acima, para mudar o tipo de array nós criamos um novo)"
   ]
  },
  {
   "cell_type": "code",
   "execution_count": null,
   "metadata": {},
   "outputs": [],
   "source": []
  },
  {
   "cell_type": "markdown",
   "metadata": {
    "id": "umhiWOMgfTz8"
   },
   "source": [
    "Entretanto, diferente de tuplas, arrays são mútaveis em conteúdo"
   ]
  },
  {
   "cell_type": "code",
   "execution_count": null,
   "metadata": {},
   "outputs": [],
   "source": []
  },
  {
   "cell_type": "markdown",
   "metadata": {
    "id": "tkU-Ik83fTz9"
   },
   "source": [
    "Ao tentar mudar o valor de um elemento o numpy o converterá para a tipagem adequada quando possível"
   ]
  },
  {
   "cell_type": "code",
   "execution_count": null,
   "metadata": {},
   "outputs": [],
   "source": []
  },
  {
   "cell_type": "markdown",
   "metadata": {
    "id": "ymdNpgqFfTz-"
   },
   "source": [
    "É interessante notar como funciona a alocação de memória para transformações particulares do array que podem afetar sua mutabilidade. Por exemplo, suponhamos que temos os array a, b e c todos criados a partir de transformações do vetor a"
   ]
  },
  {
   "cell_type": "code",
   "execution_count": null,
   "metadata": {},
   "outputs": [],
   "source": []
  },
  {
   "cell_type": "markdown",
   "metadata": {
    "id": "5ykVQKAufTz_"
   },
   "source": [
    "O que acontece, neste caso, se eu alterar o vetor a?"
   ]
  },
  {
   "cell_type": "code",
   "execution_count": null,
   "metadata": {},
   "outputs": [],
   "source": []
  },
  {
   "cell_type": "markdown",
   "metadata": {
    "ExecuteTime": {
     "end_time": "2021-09-16T14:41:30.338652Z",
     "start_time": "2021-09-16T14:41:30.322726Z"
    },
    "id": "jgcNizWWfTz_"
   },
   "source": [
    "Veja que se altera os vetores b e c. Isso acontece porque na visão de memória esses vetores apontam para a mesma localização na RAM. Por exemplo os vetores a e b são compartilhados como no diagrama abaixo:\n",
    "\n",
    "<img src=\"https://ajcr.net/images/stride-guide/array-anatomy.png\" />"
   ]
  },
  {
   "cell_type": "code",
   "execution_count": null,
   "metadata": {},
   "outputs": [],
   "source": []
  },
  {
   "cell_type": "markdown",
   "metadata": {
    "id": "VQOH4SBIfT0A"
   },
   "source": [
    "Da mesma forma o vetor c é uma representação especial do vetor a, na qual mudamos o valor de passo entre elementos do array"
   ]
  },
  {
   "cell_type": "markdown",
   "metadata": {
    "id": "t2hgbxo0fT0A"
   },
   "source": [
    "<img src=\"https://ajcr.net/images/stride-guide/1d_array_a_getitem_step_2.png\" />"
   ]
  },
  {
   "cell_type": "code",
   "execution_count": null,
   "metadata": {},
   "outputs": [],
   "source": []
  },
  {
   "cell_type": "markdown",
   "metadata": {
    "id": "HhhORlBifT0B"
   },
   "source": [
    "Por fim é importante lembrar que tal como listas e dicionário, arrays são passados como referência em função, de forma que qualquer alteração no array feito dentro de uma função será carregada para fora da mesma"
   ]
  },
  {
   "cell_type": "code",
   "execution_count": null,
   "metadata": {},
   "outputs": [],
   "source": []
  },
  {
   "cell_type": "markdown",
   "metadata": {
    "id": "8UOx9d_RfT0B"
   },
   "source": [
    "---"
   ]
  },
  {
   "cell_type": "markdown",
   "metadata": {
    "id": "IVrWWTKzfT0B"
   },
   "source": [
    "**Exercício**\n",
    "\n",
    "Crie uma função que permita criar uma matriz quadrada com os seguintes formatos:\n",
    "\n",
    "    Q -> 1 1 1 1\n",
    "         1 0 0 1\n",
    "         1 0 0 1\n",
    "         1 1 1 1\n",
    "    V -> 1 0 0 1\n",
    "         1 0 0 1\n",
    "         1 0 0 1\n",
    "         1 0 0 1\n",
    "    H -> 1 1 1 1\n",
    "         0 0 0 0\n",
    "         0 0 0 0\n",
    "         1 1 1 1\n",
    "    P -> 0 0 0 0\n",
    "         0 1 1 0\n",
    "         0 1 1 0\n",
    "         0 0 0 0"
   ]
  },
  {
   "cell_type": "code",
   "execution_count": 26,
   "metadata": {
    "id": "WQWESQjMfT0C",
    "scrolled": false,
    "solution2": "hidden",
    "solution2_first": true
   },
   "outputs": [
    {
     "name": "stdout",
     "output_type": "stream",
     "text": [
      "[[1. 1. 1. 1. 1. 1. 1. 1. 1. 1.]\n",
      " [1. 0. 0. 0. 0. 0. 0. 0. 0. 1.]\n",
      " [1. 0. 0. 0. 0. 0. 0. 0. 0. 1.]\n",
      " [1. 0. 0. 0. 0. 0. 0. 0. 0. 1.]\n",
      " [1. 0. 0. 0. 0. 0. 0. 0. 0. 1.]\n",
      " [1. 0. 0. 0. 0. 0. 0. 0. 0. 1.]\n",
      " [1. 0. 0. 0. 0. 0. 0. 0. 0. 1.]\n",
      " [1. 0. 0. 0. 0. 0. 0. 0. 0. 1.]\n",
      " [1. 0. 0. 0. 0. 0. 0. 0. 0. 1.]\n",
      " [1. 1. 1. 1. 1. 1. 1. 1. 1. 1.]]\n"
     ]
    }
   ],
   "source": [
    "def gera_quadrado(formato1=5,formato2=5):\n",
    "    arr = np.zeros(shape=(formato1,formato2))\n",
    "    for i in range(arr.size):\n",
    "        arr[:,0] = 1\n",
    "        arr[0,:] = 1\n",
    "        arr[:,-1]=1\n",
    "        arr[-1,:]=1\n",
    "    print(arr)\n",
    "    \n",
    "    \n",
    "gera_quadrado(10)                    "
   ]
  },
  {
   "cell_type": "code",
   "execution_count": 27,
   "metadata": {
    "cellView": "form",
    "id": "salozbmYfT0C",
    "solution2": "hidden"
   },
   "outputs": [
    {
     "name": "stdout",
     "output_type": "stream",
     "text": [
      "[[1. 1. 1. 1. 1.]\n",
      " [1. 0. 0. 0. 1.]\n",
      " [1. 0. 0. 0. 1.]\n",
      " [1. 0. 0. 0. 1.]\n",
      " [1. 1. 1. 1. 1.]]\n",
      "[[1. 0. 0. 0. 1.]\n",
      " [1. 0. 0. 0. 1.]\n",
      " [1. 0. 0. 0. 1.]\n",
      " [1. 0. 0. 0. 1.]\n",
      " [1. 0. 0. 0. 1.]]\n",
      "[[1. 1. 1. 1. 1.]\n",
      " [0. 0. 0. 0. 0.]\n",
      " [0. 0. 0. 0. 0.]\n",
      " [0. 0. 0. 0. 0.]\n",
      " [1. 1. 1. 1. 1.]]\n",
      "[[0. 0. 0. 0. 0.]\n",
      " [0. 1. 1. 1. 0.]\n",
      " [0. 1. 1. 1. 0.]\n",
      " [0. 1. 1. 1. 0.]\n",
      " [0. 0. 0. 0. 0.]]\n"
     ]
    }
   ],
   "source": [
    "#@title Resposta\n",
    "def cria_array_formato(tamanho: int, fmt: str) -> np.ndarray:\n",
    "    \"\"\"\n",
    "    Cria um array de acordo com o formato desejado que pode ser\n",
    "    Q, V, H, P\n",
    "    \n",
    "    :param tamanho: tamanho do array\n",
    "    :param fmt: formato desejado\n",
    "    :return: array gerado\n",
    "    \"\"\"\n",
    "    arr = np.zeros(shape=(tamanho, tamanho))\n",
    "    \n",
    "    if fmt in [\"Q\", \"H\"]:\n",
    "        arr[0, :] = 1\n",
    "        arr[-1, :] = 1\n",
    "    if fmt in [\"Q\", \"V\"]:\n",
    "        arr[:, 0] = 1\n",
    "        arr[:, -1] = 1\n",
    "    if fmt == \"P\":\n",
    "        arr[1:-1, 1:-1] = 1\n",
    "    \n",
    "    return arr\n",
    "\n",
    "print(cria_array_formato(5, \"Q\"))\n",
    "print(cria_array_formato(5, \"V\"))\n",
    "print(cria_array_formato(5, \"H\"))\n",
    "print(cria_array_formato(5, \"P\"))"
   ]
  },
  {
   "cell_type": "markdown",
   "metadata": {
    "id": "BNEUx8WefT0C"
   },
   "source": [
    "---"
   ]
  },
  {
   "cell_type": "markdown",
   "metadata": {
    "id": "N-EJ7xAW5due"
   },
   "source": [
    "## Operações "
   ]
  },
  {
   "cell_type": "markdown",
   "metadata": {
    "id": "FnS5Vdb79E5q"
   },
   "source": [
    "Como descrito anteriormente, numpy é uma biblioteca de algebra linear, de forma que suporta todas as operações vetoriais tradicionais"
   ]
  },
  {
   "cell_type": "code",
   "execution_count": 28,
   "metadata": {},
   "outputs": [
    {
     "name": "stdout",
     "output_type": "stream",
     "text": [
      "[[ 1  2  3]\n",
      " [10  5 30]]\n",
      "[[4 5 7]\n",
      " [4 7 6]]\n"
     ]
    },
    {
     "data": {
      "image/png": "[encoded data removed]",
      "text/plain": [
       "<Figure size 432x288 with 1 Axes>"
      ]
     },
     "metadata": {
      "needs_background": "light"
     },
     "output_type": "display_data"
    }
   ],
   "source": [
    "from matplotlib import pyplot as plt\n",
    "import matplotlib as mt\n",
    "np.random.seed(42)\n",
    "arr1 = np.array([[1,2,3],[10,5,30]])\n",
    "arr2 = np.array([[4,5,7],[4,7,6]])\n",
    "m1 = np.random.randint(1,10,size=(1,3))\n",
    "m2 = np.random.randint(1,10,size=(3,3))\n",
    "print(arr1)\n",
    "print(arr2)\n",
    "plt.plot(arr2,arr1)\n",
    "plt.show()"
   ]
  },
  {
   "cell_type": "markdown",
   "metadata": {
    "id": "lOgU9eqEHZkF"
   },
   "source": [
    "Soma"
   ]
  },
  {
   "cell_type": "code",
   "execution_count": 29,
   "metadata": {},
   "outputs": [
    {
     "data": {
      "text/plain": [
       "array([[ 5,  7, 10],\n",
       "       [14, 12, 36]])"
      ]
     },
     "execution_count": 29,
     "metadata": {},
     "output_type": "execute_result"
    }
   ],
   "source": [
    "arr1 + arr2"
   ]
  },
  {
   "cell_type": "markdown",
   "metadata": {
    "id": "b7VrPDPqHatA"
   },
   "source": [
    "Subtração"
   ]
  },
  {
   "cell_type": "code",
   "execution_count": 30,
   "metadata": {},
   "outputs": [
    {
     "data": {
      "text/plain": [
       "array([21. , 10.5, 63. ])"
      ]
     },
     "execution_count": 30,
     "metadata": {},
     "output_type": "execute_result"
    }
   ],
   "source": [
    "arr1[1] * 2.1"
   ]
  },
  {
   "cell_type": "markdown",
   "metadata": {
    "id": "BG9N5ovUfT0F"
   },
   "source": [
    "Multiplicação (escalar)"
   ]
  },
  {
   "cell_type": "code",
   "execution_count": null,
   "metadata": {},
   "outputs": [],
   "source": []
  },
  {
   "cell_type": "markdown",
   "metadata": {
    "id": "E638lJL2HcZo"
   },
   "source": [
    "Multiplicação (element-wise)"
   ]
  },
  {
   "cell_type": "code",
   "execution_count": null,
   "metadata": {},
   "outputs": [],
   "source": []
  },
  {
   "cell_type": "markdown",
   "metadata": {
    "id": "Lh1_2VVSHlMa"
   },
   "source": [
    "Multiplicação (produto vetorial)"
   ]
  },
  {
   "cell_type": "code",
   "execution_count": null,
   "metadata": {},
   "outputs": [],
   "source": []
  },
  {
   "cell_type": "markdown",
   "metadata": {
    "id": "4lmeVJ_afT0I"
   },
   "source": [
    "Multiplicação (cruzada)\n",
    "\n",
    "<img src=\"data:image/png;base64,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\" />"
   ]
  },
  {
   "cell_type": "code",
   "execution_count": null,
   "metadata": {},
   "outputs": [],
   "source": []
  },
  {
   "cell_type": "markdown",
   "metadata": {
    "id": "_4UkI75OHneN"
   },
   "source": [
    "Multiplicação (matricial)\n",
    "\n",
    "<img src=\"https://www.geeksforgeeks.org/wp-content/uploads/strassen_new.png\" />"
   ]
  },
  {
   "cell_type": "code",
   "execution_count": null,
   "metadata": {},
   "outputs": [],
   "source": []
  },
  {
   "cell_type": "markdown",
   "metadata": {
    "id": "PFuoy9XuHgPk"
   },
   "source": [
    "Divisão"
   ]
  },
  {
   "cell_type": "code",
   "execution_count": null,
   "metadata": {},
   "outputs": [],
   "source": []
  },
  {
   "cell_type": "markdown",
   "metadata": {
    "id": "eXbwvZYUHh6R"
   },
   "source": [
    "Exponenciação"
   ]
  },
  {
   "cell_type": "code",
   "execution_count": null,
   "metadata": {},
   "outputs": [],
   "source": []
  },
  {
   "cell_type": "markdown",
   "metadata": {
    "id": "jhaIylkDfT0P"
   },
   "source": [
    "Módulo de um vetor"
   ]
  },
  {
   "cell_type": "code",
   "execution_count": null,
   "metadata": {},
   "outputs": [],
   "source": []
  },
  {
   "cell_type": "markdown",
   "metadata": {
    "id": "tfkClCgGfT0Q"
   },
   "source": [
    "Determinante de uma matriz"
   ]
  },
  {
   "cell_type": "code",
   "execution_count": null,
   "metadata": {},
   "outputs": [],
   "source": []
  },
  {
   "cell_type": "markdown",
   "metadata": {
    "id": "puv5Xhm1fT0R"
   },
   "source": [
    "Matriz inversa"
   ]
  },
  {
   "cell_type": "code",
   "execution_count": null,
   "metadata": {},
   "outputs": [],
   "source": []
  },
  {
   "cell_type": "markdown",
   "metadata": {
    "id": "7Zl-nqWofT0R"
   },
   "source": [
    "Matriz transposta"
   ]
  },
  {
   "cell_type": "code",
   "execution_count": null,
   "metadata": {},
   "outputs": [],
   "source": []
  },
  {
   "cell_type": "markdown",
   "metadata": {
    "id": "0DG50J_I98PL"
   },
   "source": [
    "Uma propriedade especial de arrays é \"broadcasting\", na qual uma operação pode ser propagada entre arrays de diferentes tamanhos contato que obdeçam algumas propriedades especificas. Por exemplo, podemos somar dois arrays de tamanho diferente, contato que possamos \"reproduzir\" um deles para ficar com o tamanho do outro"
   ]
  },
  {
   "cell_type": "code",
   "execution_count": null,
   "metadata": {},
   "outputs": [],
   "source": []
  },
  {
   "cell_type": "markdown",
   "metadata": {
    "id": "qdiCywyOfT0U"
   },
   "source": [
    "Duas dimensões de arrays são compatíveis se (1) elas são iguais (2) uma delas é 1"
   ]
  },
  {
   "cell_type": "markdown",
   "metadata": {
    "id": "ql0VqR9QfT0U"
   },
   "source": [
    "Arrays que podem ser combinados\n",
    "\n",
    "    A      (3d array): 256 x 256 x 3\n",
    "    B      (1d array):             3\n",
    "    Result (3d array): 256 x 256 x 3\n",
    "\n",
    "    A      (4d array):  8 x 1 x 6 x 1\n",
    "    B      (3d array):      7 x 1 x 5\n",
    "    Result (4d array):  8 x 7 x 6 x 5\n",
    "\n",
    "    A      (2d array):  5 x 4\n",
    "    B      (1d array):      1\n",
    "    Result (2d array):  5 x 4\n",
    "\n",
    "    A      (2d array):  5 x 4\n",
    "    B      (1d array):      4\n",
    "    Result (2d array):  5 x 4\n",
    "\n",
    "    A      (3d array):  15 x 3 x 5\n",
    "    B      (3d array):  15 x 1 x 5\n",
    "    Result (3d array):  15 x 3 x 5\n",
    "\n",
    "    A      (3d array):  15 x 3 x 5\n",
    "    B      (2d array):       3 x 5\n",
    "    Result (3d array):  15 x 3 x 5\n",
    "\n",
    "    A      (3d array):  15 x 3 x 5\n",
    "    B      (2d array):       3 x 1\n",
    "    Result (3d array):  15 x 3 x 5\n",
    "\n",
    "Arrays que podem **NÃO** ser combinados:\n",
    "\n",
    "    A      (1d array):  3\n",
    "    B      (1d array):  4\n",
    "\n",
    "    A      (2d array):      2 x 1\n",
    "    B      (3d array):  8 x 4 x 3 # a dimensão 4 não combina com a 2"
   ]
  },
  {
   "cell_type": "code",
   "execution_count": null,
   "metadata": {},
   "outputs": [],
   "source": []
  },
  {
   "cell_type": "markdown",
   "metadata": {
    "id": "2BvgeVoDfT0V"
   },
   "source": [
    "Para mais detalhes veja https://numpy.org/doc/stable/user/basics.broadcasting.html"
   ]
  },
  {
   "cell_type": "markdown",
   "metadata": {
    "id": "kvuOC_q9fT0V"
   },
   "source": [
    "---"
   ]
  },
  {
   "cell_type": "markdown",
   "metadata": {
    "id": "y4Lp6kIRfT0V"
   },
   "source": [
    "**Exercício**\n",
    "\n",
    "Calcule a distância euclidiana entre dois arrays"
   ]
  },
  {
   "cell_type": "code",
   "execution_count": 31,
   "metadata": {
    "ExecuteTime": {
     "end_time": "2021-09-17T18:30:59.109117Z",
     "start_time": "2021-09-17T18:30:59.100141Z"
    },
    "id": "Tq_jq265fT0V",
    "solution2": "hidden",
    "solution2_first": true
   },
   "outputs": [],
   "source": [
    "np.random.seed(42)\n",
    "a = np.random.random(size=3)\n",
    "b = np.random.random(size=3)"
   ]
  },
  {
   "cell_type": "code",
   "execution_count": 32,
   "metadata": {},
   "outputs": [
    {
     "data": {
      "text/plain": [
       "1.0067500070694184"
      ]
     },
     "execution_count": 32,
     "metadata": {},
     "output_type": "execute_result"
    }
   ],
   "source": [
    "np.linalg.norm(a - b)"
   ]
  },
  {
   "cell_type": "code",
   "execution_count": 33,
   "metadata": {
    "cellView": "form",
    "id": "xVtd6naKfT0W",
    "solution2": "hidden"
   },
   "outputs": [
    {
     "data": {
      "text/plain": [
       "1.0067500070694184"
      ]
     },
     "execution_count": 33,
     "metadata": {},
     "output_type": "execute_result"
    }
   ],
   "source": [
    "#@title Resposta\n",
    "np.random.seed(42)\n",
    "a = np.random.random(size=3)\n",
    "b = np.random.random(size=3)\n",
    "np.linalg.norm(a - b)"
   ]
  },
  {
   "cell_type": "markdown",
   "metadata": {
    "id": "teOybt6MfT0W"
   },
   "source": [
    "---"
   ]
  },
  {
   "cell_type": "markdown",
   "metadata": {
    "id": "IqKfUERUfT0W"
   },
   "source": [
    "## Representações"
   ]
  },
  {
   "cell_type": "markdown",
   "metadata": {
    "id": "gSeW9nYLfT0W"
   },
   "source": [
    "Há alguns elementos matemáticos que possuem representações especiais no numpy. Abaixo listamos os principais"
   ]
  },
  {
   "cell_type": "markdown",
   "metadata": {
    "ExecuteTime": {
     "end_time": "2021-09-16T19:07:26.299932Z",
     "start_time": "2021-09-16T19:07:26.292951Z"
    },
    "id": "Ty_nbdQ1fT0X"
   },
   "source": [
    "np.nan -> Not a Number, é a representação de um dado faltante"
   ]
  },
  {
   "cell_type": "code",
   "execution_count": 34,
   "metadata": {},
   "outputs": [
    {
     "data": {
      "text/plain": [
       "array([ 1.,  2.,  3., nan,  5.])"
      ]
     },
     "execution_count": 34,
     "metadata": {},
     "output_type": "execute_result"
    }
   ],
   "source": [
    "arr = np.array([1,2,3,np.nan,5])\n",
    "arr"
   ]
  },
  {
   "cell_type": "code",
   "execution_count": 35,
   "metadata": {},
   "outputs": [
    {
     "data": {
      "text/plain": [
       "array([False, False, False,  True, False])"
      ]
     },
     "execution_count": 35,
     "metadata": {},
     "output_type": "execute_result"
    }
   ],
   "source": [
    "np.isnan(arr)"
   ]
  },
  {
   "cell_type": "markdown",
   "metadata": {
    "id": "T3AjGzs7fT0Y"
   },
   "source": [
    "É importante destacar que None e NaN não são a mesma coisa. Not a Number indica que é uma operação matemática ou um dado numérico não existente dentro de um array, enquanto None é o objeto nulo de Python."
   ]
  },
  {
   "cell_type": "code",
   "execution_count": 36,
   "metadata": {},
   "outputs": [
    {
     "data": {
      "text/plain": [
       "False"
      ]
     },
     "execution_count": 36,
     "metadata": {},
     "output_type": "execute_result"
    }
   ],
   "source": [
    "np.nan is None #np.nan é considerado um resultado nao numerico e ainda assim um type int"
   ]
  },
  {
   "cell_type": "markdown",
   "metadata": {
    "id": "id-8JImQfT0Z"
   },
   "source": [
    "np.inf -> Infinito, representa valores infinitos"
   ]
  },
  {
   "cell_type": "code",
   "execution_count": 37,
   "metadata": {},
   "outputs": [
    {
     "data": {
      "text/plain": [
       "-inf"
      ]
     },
     "execution_count": 37,
     "metadata": {},
     "output_type": "execute_result"
    }
   ],
   "source": [
    "np.inf #essa é a representação de um numero infinito em Numpy e é considerado um numero valido\n",
    "-np.inf #bom como esse é um numero menos infinito "
   ]
  },
  {
   "cell_type": "code",
   "execution_count": 38,
   "metadata": {},
   "outputs": [
    {
     "data": {
      "text/plain": [
       "False"
      ]
     },
     "execution_count": 38,
     "metadata": {},
     "output_type": "execute_result"
    }
   ],
   "source": [
    "np.isfinite(np.inf) #para nao dar rolo tem esse isfinite para ter certeza que o numero a ser utilizado é finito"
   ]
  },
  {
   "cell_type": "code",
   "execution_count": 39,
   "metadata": {},
   "outputs": [
    {
     "name": "stderr",
     "output_type": "stream",
     "text": [
      "/tmp/ipykernel_18262/1633929309.py:2: RuntimeWarning: invalid value encountered in true_divide\n",
      "  np.zeros(3)/0\n"
     ]
    },
    {
     "data": {
      "text/plain": [
       "array([nan, nan, nan])"
      ]
     },
     "execution_count": 39,
     "metadata": {},
     "output_type": "execute_result"
    }
   ],
   "source": [
    "#em numpy nao tem o erro zero division pois é considerado um resultado np.nan\n",
    "np.zeros(3)/0"
   ]
  },
  {
   "cell_type": "markdown",
   "metadata": {
    "id": "nNlYFVDWfT0a"
   },
   "source": [
    "Constantes numéricas:\n",
    "- np.pi: 3.14 (constante PI)\n",
    "- np.e: 2.72 (número de euler)"
   ]
  },
  {
   "cell_type": "code",
   "execution_count": 40,
   "metadata": {},
   "outputs": [
    {
     "data": {
      "text/plain": [
       "3.141592653589793"
      ]
     },
     "execution_count": 40,
     "metadata": {},
     "output_type": "execute_result"
    }
   ],
   "source": [
    "np.pi"
   ]
  },
  {
   "cell_type": "code",
   "execution_count": 41,
   "metadata": {},
   "outputs": [
    {
     "data": {
      "text/plain": [
       "2.718281828459045"
      ]
     },
     "execution_count": 41,
     "metadata": {},
     "output_type": "execute_result"
    }
   ],
   "source": [
    "np.e #numero de Euler e na documentação aparecem varias outras constantes"
   ]
  },
  {
   "cell_type": "markdown",
   "metadata": {
    "id": "lFOB4ZIAfT0b"
   },
   "source": [
    "---"
   ]
  },
  {
   "cell_type": "markdown",
   "metadata": {
    "id": "VwHk1L765due"
   },
   "source": [
    "## Filtros "
   ]
  },
  {
   "cell_type": "markdown",
   "metadata": {
    "id": "hb9_UGJX-gwF"
   },
   "source": [
    "Uma particularidade interessante de arrays é a habilidade de realizar filtros de seus dados a partir de comparações booleanas."
   ]
  },
  {
   "cell_type": "code",
   "execution_count": 42,
   "metadata": {},
   "outputs": [
    {
     "data": {
      "text/plain": [
       "array([51, 92, 14, 71, 60, 20, 82, 86, 74, 74])"
      ]
     },
     "execution_count": 42,
     "metadata": {},
     "output_type": "execute_result"
    }
   ],
   "source": [
    "np.random.seed(42)\n",
    "arr = np.random.randint(0,100, size = 10)\n",
    "arr"
   ]
  },
  {
   "cell_type": "markdown",
   "metadata": {
    "id": "59irdyMHEiR9"
   },
   "source": [
    "Ao gerar uma comparação (tratando arrays como uma variável) o resultado é um array de booleanos com o resultado da comparação de cada elemento do array"
   ]
  },
  {
   "cell_type": "code",
   "execution_count": 43,
   "metadata": {},
   "outputs": [
    {
     "ename": "ValueError",
     "evalue": "The truth value of an array with more than one element is ambiguous. Use a.any() or a.all()",
     "output_type": "error",
     "traceback": [
      "\u001b[0;31m---------------------------------------------------------------------------\u001b[0m",
      "\u001b[0;31mValueError\u001b[0m                                Traceback (most recent call last)",
      "\u001b[1;32m/home/kenzo/Documents/GitHub/Aulas-Basicas/data science/03.Manipulação de Dados/Numpy (Code Along).ipynb Cell 144'\u001b[0m in \u001b[0;36m<cell line: 1>\u001b[0;34m()\u001b[0m\n\u001b[0;32m----> <a href='vscode-notebook-cell:/home/kenzo/Documents/GitHub/Aulas-Basicas/data%20science/03.Manipula%C3%A7%C3%A3o%20de%20Dados/Numpy%20%28Code%20Along%29.ipynb#ch0000143?line=0'>1</a>\u001b[0m arr \u001b[39m>\u001b[39m \u001b[39m50\u001b[39m \u001b[39m&\u001b[39m arr \u001b[39m<\u001b[39m \u001b[39m75\u001b[39m\n",
      "\u001b[0;31mValueError\u001b[0m: The truth value of an array with more than one element is ambiguous. Use a.any() or a.all()"
     ]
    }
   ],
   "source": [
    "arr > 50 & arr < 75"
   ]
  },
  {
   "cell_type": "markdown",
   "metadata": {
    "id": "VPsu9OxEE5h3"
   },
   "source": [
    "Essas comparações também aceitam os operadores lógicos and/or/not, entretanto os mesmos devem vir no formato &/|/~ (respectivamente) e, além disso, obrigatoriamente necessitam de () para cada operação lógica"
   ]
  },
  {
   "cell_type": "code",
   "execution_count": null,
   "metadata": {},
   "outputs": [
    {
     "data": {
      "text/plain": [
       "array([False,  True, False, False, False, False,  True,  True, False,\n",
       "       False])"
      ]
     },
     "execution_count": 43,
     "metadata": {},
     "output_type": "execute_result"
    }
   ],
   "source": [
    "(arr > 50) & (arr > 75)"
   ]
  },
  {
   "cell_type": "markdown",
   "metadata": {
    "id": "m0O8fkiKFJKo"
   },
   "source": [
    "O filtro do array ocorre ao passar uma comparação como parte da sintaxe de chaves, de forma que é como se estivessemos indexando o array onde o resultado da comparação lógica é verdadeiro"
   ]
  },
  {
   "cell_type": "code",
   "execution_count": null,
   "metadata": {},
   "outputs": [
    {
     "ename": "IndexError",
     "evalue": "only integers, slices (`:`), ellipsis (`...`), numpy.newaxis (`None`) and integer or boolean arrays are valid indices",
     "output_type": "error",
     "traceback": [
      "\u001b[0;31m---------------------------------------------------------------------------\u001b[0m",
      "\u001b[0;31mIndexError\u001b[0m                                Traceback (most recent call last)",
      "\u001b[1;32m/home/kenzo/Documents/GitHub/Aulas-Basicas/data science/03.Manipulação de Dados/Numpy (Code Along).ipynb Cell 148'\u001b[0m in \u001b[0;36m<cell line: 1>\u001b[0;34m()\u001b[0m\n\u001b[0;32m----> <a href='vscode-notebook-cell:/home/kenzo/Documents/GitHub/Aulas-Basicas/data%20science/03.Manipula%C3%A7%C3%A3o%20de%20Dados/Numpy%20%28Code%20Along%29.ipynb#ch0000142?line=0'>1</a>\u001b[0m arr[(arr \u001b[39m>\u001b[39;49m \u001b[39m50\u001b[39;49m) \u001b[39m&\u001b[39;49m (arr \u001b[39m<\u001b[39;49m \u001b[39m75\u001b[39;49m),\u001b[39m\"\u001b[39;49m\u001b[39m0\u001b[39;49m\u001b[39m\"\u001b[39;49m,\u001b[39m\"\u001b[39;49m\u001b[39m.\u001b[39;49m\u001b[39m\"\u001b[39;49m]\n",
      "\u001b[0;31mIndexError\u001b[0m: only integers, slices (`:`), ellipsis (`...`), numpy.newaxis (`None`) and integer or boolean arrays are valid indices"
     ]
    }
   ],
   "source": [
    "arr[(arr > 50) & (arr < 75)]"
   ]
  },
  {
   "cell_type": "markdown",
   "metadata": {
    "id": "OatBWtduFhFg"
   },
   "source": [
    "Uma função muito interessante criada com esse propósito é where, na qual espera-se receber como primeiro input um comparação e devolve como output os indices na qual a comparação é verdadeira"
   ]
  },
  {
   "cell_type": "code",
   "execution_count": null,
   "metadata": {},
   "outputs": [
    {
     "data": {
      "text/plain": [
       "(array([], dtype=int64),)"
      ]
     },
     "execution_count": 90,
     "metadata": {},
     "output_type": "execute_result"
    }
   ],
   "source": [
    "np.where((arr > 50) & (arr < 75))"
   ]
  },
  {
   "cell_type": "markdown",
   "metadata": {
    "id": "ym-doPVNF66l"
   },
   "source": [
    "Alternativamente ainda podemos passar mais dois parâmetros para a função where, de tal forma que criaremos um novo array obtendo o segundo parametro como resultado onde a comparação é verdadeira e o terceiro onde a comparação é falsa"
   ]
  },
  {
   "cell_type": "code",
   "execution_count": null,
   "metadata": {},
   "outputs": [
    {
     "data": {
      "text/plain": [
       "array(['.', '.', '.', '.', '.', '.', '.', '.', '.', '.'], dtype='<U1')"
      ]
     },
     "execution_count": 62,
     "metadata": {},
     "output_type": "execute_result"
    }
   ],
   "source": [
    "np.where((arr > 50) & (arr < 75),\"0\",\".\")\n"
   ]
  },
  {
   "cell_type": "markdown",
   "metadata": {
    "id": "akZaoirGfT0f"
   },
   "source": [
    "Nós inclusive conseguimos fazer alterações em arrays utilizando filtros"
   ]
  },
  {
   "cell_type": "code",
   "execution_count": null,
   "metadata": {},
   "outputs": [
    {
     "data": {
      "text/plain": [
       "array([-1, 92, 14, -1, -1, 20, 82, 86, -1, -1])"
      ]
     },
     "execution_count": 60,
     "metadata": {},
     "output_type": "execute_result"
    }
   ],
   "source": [
    "arr[(arr > 50) & (arr < 75)] = - 1\n",
    "arr"
   ]
  },
  {
   "cell_type": "markdown",
   "metadata": {
    "id": "sYSptHTefT0g"
   },
   "source": [
    "Além dos comparadores lógicos entre elementos, o numpy ainda contém agregadores lógicos tais com as funções nativas de python all e any, na qual checamos se todos (all) elementos de uma sequência são verdadeiros ou se algum (any) dos elementos são verdadeiros"
   ]
  },
  {
   "cell_type": "code",
   "execution_count": null,
   "metadata": {},
   "outputs": [
    {
     "name": "stdout",
     "output_type": "stream",
     "text": [
      "[51 92 14 71 60 20 82 86 74 74]\n",
      "[ True False False  True  True False False False  True  True]\n",
      "False\n",
      "True\n"
     ]
    }
   ],
   "source": [
    "np.random.seed(42)\n",
    "arr = np.random.randint(0,100, size = 10)\n",
    "print(arr)\n",
    "print((arr > 50) & (arr < 75))\n",
    "print(all((arr > 50) & (arr < 75)))\n",
    "print(np.all(arr > 50) & (arr < 75)) #só diferencia do de cima quando é bi ou tridimensional\n",
    "print(any((arr > 50) & (arr < 75)))\n"
   ]
  },
  {
   "cell_type": "markdown",
   "metadata": {
    "id": "u_5RBhqafT0h"
   },
   "source": [
    "A vantagem dos operadores do numpy em contrapartida as funções do Python é a possibilidade de fazer isso em arrays multidimensionais, até mesmo selecionando eixos específicos"
   ]
  },
  {
   "cell_type": "code",
   "execution_count": null,
   "metadata": {},
   "outputs": [
    {
     "data": {
      "text/plain": [
       "array([[ True, False,  True, False,  True],\n",
       "       [ True, False, False, False, False]])"
      ]
     },
     "execution_count": 66,
     "metadata": {},
     "output_type": "execute_result"
    }
   ],
   "source": [
    "arr.reshape(2,5)<70"
   ]
  },
  {
   "cell_type": "code",
   "execution_count": null,
   "metadata": {},
   "outputs": [
    {
     "ename": "ValueError",
     "evalue": "The truth value of an array with more than one element is ambiguous. Use a.any() or a.all()",
     "output_type": "error",
     "traceback": [
      "\u001b[0;31m---------------------------------------------------------------------------\u001b[0m",
      "\u001b[0;31mValueError\u001b[0m                                Traceback (most recent call last)",
      "\u001b[1;32m/home/kenzo/Documents/GitHub/Aulas-Basicas/data science/03.Manipulação de Dados/Numpy (Code Along).ipynb Cell 159'\u001b[0m in \u001b[0;36m<cell line: 1>\u001b[0;34m()\u001b[0m\n\u001b[0;32m----> <a href='vscode-notebook-cell:/home/kenzo/Documents/GitHub/Aulas-Basicas/data%20science/03.Manipula%C3%A7%C3%A3o%20de%20Dados/Numpy%20%28Code%20Along%29.ipynb#ch0000229?line=0'>1</a>\u001b[0m \u001b[39mall\u001b[39;49m(arr\u001b[39m.\u001b[39;49mreshape(\u001b[39m2\u001b[39;49m,\u001b[39m5\u001b[39;49m)\u001b[39m<\u001b[39;49m\u001b[39m70\u001b[39;49m)\n",
      "\u001b[0;31mValueError\u001b[0m: The truth value of an array with more than one element is ambiguous. Use a.any() or a.all()"
     ]
    }
   ],
   "source": [
    "all(arr.reshape(2,5)<70) # tem de utilizar o np.all para uma matriz maior que uma linha/coluna"
   ]
  },
  {
   "cell_type": "markdown",
   "metadata": {
    "id": "I19E0TflfT0h"
   },
   "source": [
    "<img src=\"https://predictivehacks.com/wp-content/uploads/2020/08/numpy_arrays-1024x572.png\" width=400 height=300/>"
   ]
  },
  {
   "cell_type": "code",
   "execution_count": null,
   "metadata": {},
   "outputs": [
    {
     "data": {
      "text/plain": [
       "False"
      ]
     },
     "execution_count": 70,
     "metadata": {},
     "output_type": "execute_result"
    }
   ],
   "source": [
    "np.all(arr.reshape(2,5)<70) #agr deu certo"
   ]
  },
  {
   "cell_type": "code",
   "execution_count": null,
   "metadata": {},
   "outputs": [
    {
     "data": {
      "text/plain": [
       "array([ True, False, False, False, False])"
      ]
     },
     "execution_count": 71,
     "metadata": {},
     "output_type": "execute_result"
    }
   ],
   "source": [
    "np.all(arr.reshape(2,5)<70, axis=0) #o argumento axis percorre as linhas e colunas separadamente, 0 = eixo x e 1 eixo y (e assim por diante, creio eu)"
   ]
  },
  {
   "cell_type": "markdown",
   "metadata": {
    "id": "KZozKqb9fT0i"
   },
   "source": [
    "Por fim, vale destacar que as mesmas regras de broadcast que se aplicam a operações matemáticas se aplicam a operadores lógicos"
   ]
  },
  {
   "cell_type": "code",
   "execution_count": null,
   "metadata": {},
   "outputs": [
    {
     "data": {
      "text/plain": [
       "array([[51, 92, 14, 71, 60],\n",
       "       [20, 82, 86, 74, 74]])"
      ]
     },
     "execution_count": 74,
     "metadata": {},
     "output_type": "execute_result"
    }
   ],
   "source": [
    "arr.reshape(2,5)"
   ]
  },
  {
   "cell_type": "code",
   "execution_count": null,
   "metadata": {},
   "outputs": [
    {
     "data": {
      "text/plain": [
       "array([[False, False,  True, False, False],\n",
       "       [False, False, False, False, False]])"
      ]
     },
     "execution_count": 75,
     "metadata": {},
     "output_type": "execute_result"
    }
   ],
   "source": [
    "arr.reshape(2,5) < np.array([20,30,40,50,40]) #dá pra usar o comparador como broadcasting"
   ]
  },
  {
   "cell_type": "markdown",
   "metadata": {
    "id": "sefblbzqfT0j"
   },
   "source": [
    "---"
   ]
  },
  {
   "cell_type": "markdown",
   "metadata": {
    "id": "48b7PmSFfT0b"
   },
   "source": [
    "**Exercício**\n",
    "\n",
    "Substitua todos os valores nulos de um array por 0"
   ]
  },
  {
   "cell_type": "code",
   "execution_count": null,
   "metadata": {
    "ExecuteTime": {
     "end_time": "2021-09-17T14:17:02.702154Z",
     "start_time": "2021-09-17T14:17:02.686197Z"
    },
    "id": "AKnI3nXhfT0b",
    "solution2": "hidden",
    "solution2_first": true
   },
   "outputs": [],
   "source": [
    "np.random.seed(42)\n",
    "array = np.random.choice([1, 2, 3, 4, 5, 6, 7, 8, 9, 10, np.nan], size=(5, 5))"
   ]
  },
  {
   "cell_type": "code",
   "execution_count": null,
   "metadata": {},
   "outputs": [],
   "source": [
    "array[np.isnan(array)] = 0\n",
    "\n"
   ]
  },
  {
   "cell_type": "code",
   "execution_count": null,
   "metadata": {},
   "outputs": [],
   "source": []
  },
  {
   "cell_type": "code",
   "execution_count": null,
   "metadata": {
    "cellView": "form",
    "id": "VFTF1uDifT0b",
    "solution2": "hidden"
   },
   "outputs": [
    {
     "name": "stdout",
     "output_type": "stream",
     "text": [
      "[[ 7.  4. nan  8.  5.]\n",
      " [ 7. 10.  3.  7. nan]\n",
      " [nan  8.  5.  4.  8.]\n",
      " [ 8.  3.  6.  5.  2.]\n",
      " [ 8.  6.  2.  5.  1.]]\n",
      "[[ 7.  4.  0.  8.  5.]\n",
      " [ 7. 10.  3.  7.  0.]\n",
      " [ 0.  8.  5.  4.  8.]\n",
      " [ 8.  3.  6.  5.  2.]\n",
      " [ 8.  6.  2.  5.  1.]]\n"
     ]
    }
   ],
   "source": [
    "#@title Resposta\n",
    "np.random.seed(42)\n",
    "array = np.random.choice([1, 2, 3, 4, 5, 6, 7, 8, 9, 10, np.nan], size=(5, 5))\n",
    "print(array)\n",
    "array[np.isnan(array)] = 0\n",
    "print(array)"
   ]
  },
  {
   "cell_type": "markdown",
   "metadata": {
    "id": "EkgFTWM7fT0j"
   },
   "source": [
    "**Exercício**\n",
    "\n",
    "Dadas duas matrizes, A de dimensão 8x3 e B de dimensão 2x2, encontre as linhas de A que possuem algum elemento de ambas as linhas de B. Cada linha de A não precisa ter todos os elementos, mas ao menos 1 de cada linha, independente da ordem.\n",
    "\n",
    "NOTA: Este exercício pode ser 100% resolvido com arrays. Pense com utilizar broadcasting a seu favor\n",
    "\n",
    "Exemplo:\n",
    "\n",
    "    A = [3, 4, 2]\n",
    "        [4, 4, 1]\n",
    "        [2, 2, 2]\n",
    "        [4, 3, 2]\n",
    "        [4, 1, 3]\n",
    "        [1, 3, 4]\n",
    "        [0, 3, 1]\n",
    "        [4, 3, 0]\n",
    "        \n",
    "    B = [0, 2]\n",
    "        [2, 1]\n",
    "        \n",
    "    0 -> contém 2 que está em ambas linhas de B\n",
    "    1 -> não contém nenhum elemento da primeira linha de B\n",
    "    2 -> contém 2 que está em ambas linhas de B\n",
    "    3 -> contém 2 que está em ambas linhas de B\n",
    "    4 -> não contém nenhum elemento da primeira linha de B\n",
    "    5 -> não contém nenhum elemento da primeira linha de B\n",
    "    6 -> contém 0 que está na primeira linha e 1 que está na segunda\n",
    "    7 -> não contém nenhum elemento da segunda linha de B\n",
    "    \n",
    "    Saída = [0 2 3 6]"
   ]
  },
  {
   "cell_type": "code",
   "execution_count": 4,
   "metadata": {
    "id": "F7ARWtQOfT0o",
    "solution2": "hidden",
    "solution2_first": true
   },
   "outputs": [],
   "source": [
    "np.random.seed(42)\n",
    "A = np.random.randint(0, 5, (8, 3))\n",
    "B = np.random.randint(0, 5, (2, 2))\n"
   ]
  },
  {
   "cell_type": "code",
   "execution_count": 5,
   "metadata": {},
   "outputs": [],
   "source": [
    "C = A.reshape(8,3,1,1)"
   ]
  },
  {
   "cell_type": "code",
   "execution_count": 4,
   "metadata": {},
   "outputs": [
    {
     "data": {
      "text/html": [
       "<div>\n",
       "<style scoped>\n",
       "    .dataframe tbody tr th:only-of-type {\n",
       "        vertical-align: middle;\n",
       "    }\n",
       "\n",
       "    .dataframe tbody tr th {\n",
       "        vertical-align: top;\n",
       "    }\n",
       "\n",
       "    .dataframe thead th {\n",
       "        text-align: right;\n",
       "    }\n",
       "</style>\n",
       "<table border=\"1\" class=\"dataframe\">\n",
       "  <thead>\n",
       "    <tr style=\"text-align: right;\">\n",
       "      <th></th>\n",
       "      <th>NU_ANO_CENSO|ID_GESTOR|NU_MES|NU_ANO|NU_IDADE_REFERENCIA|NU_IDADE|TP_SEXO|TP_COR_RACA|TP_NACIONALIDADE|CO_PAIS_ORIGEM|CO_UF_NASC|CO_MUNICIPIO_NASC|IN_NECESSIDADE_ESPECIAL|IN_BAIXA_VISAO|IN_CEGUEIRA|IN_DEF_AUDITIVA|IN_DEF_FISICA|IN_DEF_INTELECTUAL|IN_SURDEZ|IN_SURDOCEGUEIRA|IN_DEF_MULTIPLA|IN_AUTISMO|IN_SUPERDOTACAO|TP_ESCOLARIDADE|TP_ENSINO_MEDIO|CO_AREA_CURSO_1|CO_CURSO_1|IN_LICENCIATURA_1|NU_ANO_CONCLUSAO_1|TP_TIPO_IES_1|CO_IES_1|CO_AREA_CURSO_2|CO_CURSO_2|IN_LICENCIATURA_2|NU_ANO_CONCLUSAO_2|TP_TIPO_IES_2|CO_IES_2|IN_ESPECIALIZACAO|IN_MESTRADO|IN_DOUTORADO|IN_POS_NENHUM|IN_ESPECIFICO_CRECHE|IN_ESPECIFICO_PRE_ESCOLA|IN_ESPECIFICO_ANOS_INICIAIS|IN_ESPECIFICO_ANOS_FINAIS|IN_ESPECIFICO_ENS_MEDIO|IN_ESPECIFICO_EJA|IN_ESPECIFICO_ED_ESPECIAL|IN_ESPECIFICO_ED_INDIGENA|IN_ESPECIFICO_CAMPO|IN_ESPECIFICO_AMBIENTAL|IN_ESPECIFICO_DIR_HUMANOS|IN_ESPECIFICO_DIV_SEXUAL|IN_ESPECIFICO_DIR_ADOLESC|IN_ESPECIFICO_AFRO|IN_ESPECIFICO_GESTAO|IN_ESPECIFICO_OUTROS|IN_ESPECIFICO_NENHUM|TP_CARGO_GESTOR|TP_TIPO_ACESSO_CARGO|TP_TIPO_CONTRATACAO|CO_ENTIDADE|CO_REGIAO|CO_MESORREGIAO|CO_MICRORREGIAO|CO_UF|CO_MUNICIPIO|CO_DISTRITO|TP_DEPENDENCIA|TP_LOCALIZACAO|TP_CATEGORIA_ESCOLA_PRIVADA|IN_CONVENIADA_PP|TP_CONVENIO_PODER_PUBLICO|IN_MANT_ESCOLA_PRIVADA_EMP|IN_MANT_ESCOLA_PRIVADA_ONG|IN_MANT_ESCOLA_PRIV_ONG_OSCIP|IN_MANT_ESCOLA_PRIVADA_OSCIP|IN_MANT_ESCOLA_PRIVADA_SIND|IN_MANT_ESCOLA_PRIVADA_SIST_S|IN_MANT_ESCOLA_PRIVADA_S_FINS|TP_REGULAMENTACAO|TP_LOCALIZACAO_DIFERENCIADA|IN_EDUCACAO_INDIGENA</th>\n",
       "    </tr>\n",
       "  </thead>\n",
       "  <tbody>\n",
       "    <tr>\n",
       "      <th>0</th>\n",
       "      <td>2020|0806A47682ED9B2623545A093A78E251|6|1963|5...</td>\n",
       "    </tr>\n",
       "    <tr>\n",
       "      <th>1</th>\n",
       "      <td>2020|EAB8B462AF980DD0573716BA48E4CF65|2|1968|5...</td>\n",
       "    </tr>\n",
       "    <tr>\n",
       "      <th>2</th>\n",
       "      <td>2020|524EBEBA473F580794138450E3D14280|12|1976|...</td>\n",
       "    </tr>\n",
       "    <tr>\n",
       "      <th>3</th>\n",
       "      <td>2020|5CA8772535CE419ED1C8A3562D5836A4|12|1945|...</td>\n",
       "    </tr>\n",
       "    <tr>\n",
       "      <th>4</th>\n",
       "      <td>2020|EF19AAEE073A092AB527A0F324BDFEFD|1|1976|4...</td>\n",
       "    </tr>\n",
       "    <tr>\n",
       "      <th>...</th>\n",
       "      <td>...</td>\n",
       "    </tr>\n",
       "    <tr>\n",
       "      <th>9995</th>\n",
       "      <td>2020|5F2E8E2B513A2B5FC9331773FA78B420|7|1996|2...</td>\n",
       "    </tr>\n",
       "    <tr>\n",
       "      <th>9996</th>\n",
       "      <td>2020|47DBC938A4186DB053B87562A8CF350E|9|1981|3...</td>\n",
       "    </tr>\n",
       "    <tr>\n",
       "      <th>9997</th>\n",
       "      <td>2020|6181B74D0A1255A4144D124612F728C7|7|1992|2...</td>\n",
       "    </tr>\n",
       "    <tr>\n",
       "      <th>9998</th>\n",
       "      <td>2020|F106310C02774737250B27924A468BD8|6|1975|4...</td>\n",
       "    </tr>\n",
       "    <tr>\n",
       "      <th>9999</th>\n",
       "      <td>2020|D76E95A0D33D2B80476550E4DFB64427|8|1990|2...</td>\n",
       "    </tr>\n",
       "  </tbody>\n",
       "</table>\n",
       "<p>10000 rows × 1 columns</p>\n",
       "</div>"
      ],
      "text/plain": [
       "     NU_ANO_CENSO|ID_GESTOR|NU_MES|NU_ANO|NU_IDADE_REFERENCIA|NU_IDADE|TP_SEXO|TP_COR_RACA|TP_NACIONALIDADE|CO_PAIS_ORIGEM|CO_UF_NASC|CO_MUNICIPIO_NASC|IN_NECESSIDADE_ESPECIAL|IN_BAIXA_VISAO|IN_CEGUEIRA|IN_DEF_AUDITIVA|IN_DEF_FISICA|IN_DEF_INTELECTUAL|IN_SURDEZ|IN_SURDOCEGUEIRA|IN_DEF_MULTIPLA|IN_AUTISMO|IN_SUPERDOTACAO|TP_ESCOLARIDADE|TP_ENSINO_MEDIO|CO_AREA_CURSO_1|CO_CURSO_1|IN_LICENCIATURA_1|NU_ANO_CONCLUSAO_1|TP_TIPO_IES_1|CO_IES_1|CO_AREA_CURSO_2|CO_CURSO_2|IN_LICENCIATURA_2|NU_ANO_CONCLUSAO_2|TP_TIPO_IES_2|CO_IES_2|IN_ESPECIALIZACAO|IN_MESTRADO|IN_DOUTORADO|IN_POS_NENHUM|IN_ESPECIFICO_CRECHE|IN_ESPECIFICO_PRE_ESCOLA|IN_ESPECIFICO_ANOS_INICIAIS|IN_ESPECIFICO_ANOS_FINAIS|IN_ESPECIFICO_ENS_MEDIO|IN_ESPECIFICO_EJA|IN_ESPECIFICO_ED_ESPECIAL|IN_ESPECIFICO_ED_INDIGENA|IN_ESPECIFICO_CAMPO|IN_ESPECIFICO_AMBIENTAL|IN_ESPECIFICO_DIR_HUMANOS|IN_ESPECIFICO_DIV_SEXUAL|IN_ESPECIFICO_DIR_ADOLESC|IN_ESPECIFICO_AFRO|IN_ESPECIFICO_GESTAO|IN_ESPECIFICO_OUTROS|IN_ESPECIFICO_NENHUM|TP_CARGO_GESTOR|TP_TIPO_ACESSO_CARGO|TP_TIPO_CONTRATACAO|CO_ENTIDADE|CO_REGIAO|CO_MESORREGIAO|CO_MICRORREGIAO|CO_UF|CO_MUNICIPIO|CO_DISTRITO|TP_DEPENDENCIA|TP_LOCALIZACAO|TP_CATEGORIA_ESCOLA_PRIVADA|IN_CONVENIADA_PP|TP_CONVENIO_PODER_PUBLICO|IN_MANT_ESCOLA_PRIVADA_EMP|IN_MANT_ESCOLA_PRIVADA_ONG|IN_MANT_ESCOLA_PRIV_ONG_OSCIP|IN_MANT_ESCOLA_PRIVADA_OSCIP|IN_MANT_ESCOLA_PRIVADA_SIND|IN_MANT_ESCOLA_PRIVADA_SIST_S|IN_MANT_ESCOLA_PRIVADA_S_FINS|TP_REGULAMENTACAO|TP_LOCALIZACAO_DIFERENCIADA|IN_EDUCACAO_INDIGENA\n",
       "0     2020|0806A47682ED9B2623545A093A78E251|6|1963|5...                                                                                                                                                                                                                                                                                                                                                                                                                                                                                                                                                                                                                                                                                                                                                                                                                                                                                                                                                                                                                                                                                                                                                                                                                                                                                                                                                                                                                                                                                            \n",
       "1     2020|EAB8B462AF980DD0573716BA48E4CF65|2|1968|5...                                                                                                                                                                                                                                                                                                                                                                                                                                                                                                                                                                                                                                                                                                                                                                                                                                                                                                                                                                                                                                                                                                                                                                                                                                                                                                                                                                                                                                                                                            \n",
       "2     2020|524EBEBA473F580794138450E3D14280|12|1976|...                                                                                                                                                                                                                                                                                                                                                                                                                                                                                                                                                                                                                                                                                                                                                                                                                                                                                                                                                                                                                                                                                                                                                                                                                                                                                                                                                                                                                                                                                            \n",
       "3     2020|5CA8772535CE419ED1C8A3562D5836A4|12|1945|...                                                                                                                                                                                                                                                                                                                                                                                                                                                                                                                                                                                                                                                                                                                                                                                                                                                                                                                                                                                                                                                                                                                                                                                                                                                                                                                                                                                                                                                                                            \n",
       "4     2020|EF19AAEE073A092AB527A0F324BDFEFD|1|1976|4...                                                                                                                                                                                                                                                                                                                                                                                                                                                                                                                                                                                                                                                                                                                                                                                                                                                                                                                                                                                                                                                                                                                                                                                                                                                                                                                                                                                                                                                                                            \n",
       "...                                                 ...                                                                                                                                                                                                                                                                                                                                                                                                                                                                                                                                                                                                                                                                                                                                                                                                                                                                                                                                                                                                                                                                                                                                                                                                                                                                                                                                                                                                                                                                                            \n",
       "9995  2020|5F2E8E2B513A2B5FC9331773FA78B420|7|1996|2...                                                                                                                                                                                                                                                                                                                                                                                                                                                                                                                                                                                                                                                                                                                                                                                                                                                                                                                                                                                                                                                                                                                                                                                                                                                                                                                                                                                                                                                                                            \n",
       "9996  2020|47DBC938A4186DB053B87562A8CF350E|9|1981|3...                                                                                                                                                                                                                                                                                                                                                                                                                                                                                                                                                                                                                                                                                                                                                                                                                                                                                                                                                                                                                                                                                                                                                                                                                                                                                                                                                                                                                                                                                            \n",
       "9997  2020|6181B74D0A1255A4144D124612F728C7|7|1992|2...                                                                                                                                                                                                                                                                                                                                                                                                                                                                                                                                                                                                                                                                                                                                                                                                                                                                                                                                                                                                                                                                                                                                                                                                                                                                                                                                                                                                                                                                                            \n",
       "9998  2020|F106310C02774737250B27924A468BD8|6|1975|4...                                                                                                                                                                                                                                                                                                                                                                                                                                                                                                                                                                                                                                                                                                                                                                                                                                                                                                                                                                                                                                                                                                                                                                                                                                                                                                                                                                                                                                                                                            \n",
       "9999  2020|D76E95A0D33D2B80476550E4DFB64427|8|1990|2...                                                                                                                                                                                                                                                                                                                                                                                                                                                                                                                                                                                                                                                                                                                                                                                                                                                                                                                                                                                                                                                                                                                                                                                                                                                                                                                                                                                                                                                                                            \n",
       "\n",
       "[10000 rows x 1 columns]"
      ]
     },
     "execution_count": 4,
     "metadata": {},
     "output_type": "execute_result"
    }
   ],
   "source": []
  },
  {
   "cell_type": "code",
   "execution_count": null,
   "metadata": {
    "cellView": "form",
    "id": "bTpLNxXKfT0o",
    "solution2": "hidden"
   },
   "outputs": [],
   "source": [
    "#@title Resposta\n",
    "np.random.seed(42)\n",
    "A = np.random.randint(0, 5, (8, 3))\n",
    "B = np.random.randint(0, 5, (2, 2))\n",
    "\n",
    "# ao fazer o reshape de A nós podemos compara-lo com b\n",
    "# de forma que obteremos um array 8x3x2x2, no qual o que \n",
    "# obteremos é como se fosse a matriz B comparada a cada \n",
    "# elemento A\n",
    "C = (A.reshape(8, 3, 1, 1) == B)\n",
    "# em seguida nós precisamos garantir que nos eixos finais\n",
    "# haja um elemento verdadeiro em cada linha. Para fazer isto\n",
    "# bastaria usar a função any.\n",
    "# Pensando sequencialmente any(3) deveria nos dar se o elemento\n",
    "# da matriz A era parte de algum elemento de cada linha de B\n",
    "# resultando numa matriz 8x3x2\n",
    "# Depois se resumirmos os eixo 1, nós deveriamos obter uma matriz\n",
    "# 8x2, que nos diz se há, em cada linha de A, algum elemento numa\n",
    "# linha de B, para cada linha de B\n",
    "# Por fim podemos executar all para garantir que todos a linha de\n",
    "# A contenha elementos de todas as linhas de B\n",
    "contem = C.any(3).any(1).all(1)\n",
    "\n",
    "# por fim o np.where vai nos devolver os indices das linhas na qual\n",
    "# encontramos uma condição verdadeira\n",
    "linhas = np.where(contem)[0]\n",
    "\n",
    "print(linhas)"
   ]
  },
  {
   "cell_type": "markdown",
   "metadata": {
    "id": "gkVqHPjRfT0p"
   },
   "source": [
    "---"
   ]
  },
  {
   "cell_type": "markdown",
   "metadata": {
    "id": "h28jgwBb5due"
   },
   "source": [
    "## Funções "
   ]
  },
  {
   "cell_type": "markdown",
   "metadata": {
    "id": "IZwbkDbofT0p"
   },
   "source": [
    "Ao longo das sessões anteriores nós já vimos uma série de funcionalidades úteis que podem ser utilizadas para realizar cálculos especiais, como np.cross, np.isnan e assim vai. O Numpy é recheado dessas funções que nos ajudam a realizar todo o tipo de calculo, como algebra linear, estatística, funções matemáticas e mais.\n",
    "\n",
    "Poderíamos passar horas apenas só falando sobre essas diferentes funções, mas é verdade é que nós vamos nos familiarizando com elas conforme vamos aplicando-as em diferentes contexto.\n",
    "\n",
    "Abaixo nós agrupamos as funções que esperamos encontrar mais recorrentemente em nossos cálculos e colocamos alguns exemplos de como elas funcionam, além de alguns exercícios."
   ]
  },
  {
   "cell_type": "code",
   "execution_count": 37,
   "metadata": {},
   "outputs": [],
   "source": [
    "np.random.seed(42)\n",
    "A = np.random.normal(loc=5,size=(5,3))\n",
    "B = np.random.choice([\"A\",'B','C'],size = (5,3))\n",
    "C = np.array([0,1,2,0,4,5,np.nan])\n",
    "D = np.random.normal(size=(5,3))"
   ]
  },
  {
   "cell_type": "code",
   "execution_count": 21,
   "metadata": {},
   "outputs": [
    {
     "data": {
      "text/plain": [
       "array([[5.49671415, 4.8617357 , 5.64768854],\n",
       "       [6.52302986, 4.76584663, 4.76586304],\n",
       "       [6.57921282, 5.76743473, 4.53052561],\n",
       "       [5.54256004, 4.53658231, 4.53427025],\n",
       "       [5.24196227, 3.08671976, 3.27508217]])"
      ]
     },
     "execution_count": 21,
     "metadata": {},
     "output_type": "execute_result"
    }
   ],
   "source": [
    "A"
   ]
  },
  {
   "cell_type": "markdown",
   "metadata": {
    "id": "3PfWMaoyfT0p"
   },
   "source": [
    "**Agregação**:\n",
    "- np.mean: Calcula a média\n",
    "- np.median: Calcula a mediana\n",
    "- np.min: Calcula o valor mínimo\n",
    "- np.max: Calcula o valor máximo\n",
    "- np.std: Calcula o desvio-padrão\n",
    "- np.var: Calcula a variância\n",
    "- np.percentile: Calcula o percentil específicado\n",
    "- np.sum: Calcula a soma de todos os elementos\n",
    "- np.count_nonzero: Realiza a contagem dos elementos não nulos do array\n",
    "- np.unique: Obtém os valores únicos de um array"
   ]
  },
  {
   "cell_type": "code",
   "execution_count": 13,
   "metadata": {},
   "outputs": [
    {
     "data": {
      "text/plain": [
       "5.010348524333337"
      ]
     },
     "execution_count": 13,
     "metadata": {},
     "output_type": "execute_result"
    }
   ],
   "source": [
    "np.mean(A)"
   ]
  },
  {
   "cell_type": "markdown",
   "metadata": {},
   "source": [
    "É possivel pegar a média por coluna/linha separadamente                  \n",
    "~Japa"
   ]
  },
  {
   "cell_type": "code",
   "execution_count": 40,
   "metadata": {},
   "outputs": [
    {
     "name": "stdout",
     "output_type": "stream",
     "text": [
      "[[5.49671415 4.8617357  5.64768854]\n",
      " [6.52302986 4.76584663 4.76586304]\n",
      " [6.57921282 5.76743473 4.53052561]\n",
      " [5.54256004 4.53658231 4.53427025]\n",
      " [5.24196227 3.08671976 3.27508217]]\n",
      "--------------------------------------------------\n",
      "[5.33537946 5.35157984 5.62572439 4.87113753 3.8679214 ]\n"
     ]
    }
   ],
   "source": [
    "print(A)\n",
    "print(\"-\"*50)\n",
    "print(np.mean(A,axis=1))"
   ]
  },
  {
   "cell_type": "markdown",
   "metadata": {},
   "source": [
    "é possivel retirar uma unica linha/coluna e realizar o calculo separadamente para agilizar o processo"
   ]
  },
  {
   "cell_type": "code",
   "execution_count": 26,
   "metadata": {},
   "outputs": [
    {
     "data": {
      "text/plain": [
       "5.351579841578503"
      ]
     },
     "execution_count": 26,
     "metadata": {},
     "output_type": "execute_result"
    }
   ],
   "source": [
    "F = A[1,:]\n",
    "np.mean(F)"
   ]
  },
  {
   "cell_type": "markdown",
   "metadata": {},
   "source": [
    "Não entendi direito o que o np.pecentile faz ainda\n",
    " ~Japa\n",
    " \n",
    " entendi para que serve, na hr de plotar um histograma\n",
    " ~Japa"
   ]
  },
  {
   "cell_type": "code",
   "execution_count": 32,
   "metadata": {},
   "outputs": [
    {
     "name": "stdout",
     "output_type": "stream",
     "text": [
      "[[5.49671415 4.8617357  5.64768854]\n",
      " [6.52302986 4.76584663 4.76586304]\n",
      " [6.57921282 5.76743473 4.53052561]\n",
      " [5.54256004 4.53658231 4.53427025]\n",
      " [5.24196227 3.08671976 3.27508217]]\n",
      "--------------------------------------------------\n",
      "3.093312439767269\n"
     ]
    }
   ],
   "source": [
    "print(A)\n",
    "print(\"-\"*50)\n",
    "print(np.percentile(A,0.25))"
   ]
  },
  {
   "cell_type": "markdown",
   "metadata": {},
   "source": [
    "O np.unique mostra os itens uma unica vez, no caso como o array B é formado por a,b,c ele somente deve mostrar um array com essas 3 letras sem se repetir"
   ]
  },
  {
   "cell_type": "code",
   "execution_count": 34,
   "metadata": {},
   "outputs": [
    {
     "name": "stdout",
     "output_type": "stream",
     "text": [
      "[['C' 'C' 'B']\n",
      " ['C' 'B' 'B']\n",
      " ['C' 'B' 'C']\n",
      " ['C' 'A' 'C']\n",
      " ['A' 'C' 'C']]\n",
      "--------------------------------------------------\n",
      "['A' 'B' 'C']\n"
     ]
    }
   ],
   "source": [
    "print(B)\n",
    "print(\"-\"*50)\n",
    "print(np.unique(B))"
   ]
  },
  {
   "cell_type": "markdown",
   "metadata": {},
   "source": [
    "np.count_nonzero mostra quantos numeros da tabela não sao zeros, no caso abaixo o array só tem 4 de 6 numeros nonzero.\n",
    "*np.nan é diferente de zero\n",
    "~Japa"
   ]
  },
  {
   "cell_type": "code",
   "execution_count": 41,
   "metadata": {},
   "outputs": [
    {
     "name": "stdout",
     "output_type": "stream",
     "text": [
      "[ 0.  1.  2.  0.  4.  5. nan]\n",
      "--------------------------------------------------\n",
      "(7,)\n",
      "--------------------------------------------------\n",
      "5\n"
     ]
    }
   ],
   "source": [
    "print(C)\n",
    "print(\"-\"*50)\n",
    "print(C.shape)\n",
    "print(\"-\"*50)\n",
    "print(np.count_nonzero(C))"
   ]
  },
  {
   "cell_type": "markdown",
   "metadata": {
    "id": "eVpoKbXAfT0r"
   },
   "source": [
    "**Transformação**:\n",
    "\n",
    "- np.ceil: Arredonda os valores de um array para cima\n",
    "- np.floor: Arredonda os valores de um array para baixo\n",
    "- np.round: Arredonda os valores de um array para as casas decimais desejadas\n",
    "- np.trunc: Remove as casas decimais do valor numérico\n",
    "- np.abs: Calcula o valor absoluto dos elementos\n",
    "- np.sign: Obtém os sinais dos números de um array"
   ]
  },
  {
   "cell_type": "markdown",
   "metadata": {},
   "source": [
    "np.ceil arredonda pra cima os numeros do array, o np.floor faz exatamente o contrário.\n",
    "~Japa"
   ]
  },
  {
   "cell_type": "code",
   "execution_count": 42,
   "metadata": {},
   "outputs": [
    {
     "name": "stdout",
     "output_type": "stream",
     "text": [
      "[[5.49671415 4.8617357  5.64768854]\n",
      " [6.52302986 4.76584663 4.76586304]\n",
      " [6.57921282 5.76743473 4.53052561]\n",
      " [5.54256004 4.53658231 4.53427025]\n",
      " [5.24196227 3.08671976 3.27508217]]\n",
      "--------------------------------------------------\n",
      "[[6. 5. 6.]\n",
      " [7. 5. 5.]\n",
      " [7. 6. 5.]\n",
      " [6. 5. 5.]\n",
      " [6. 4. 4.]]\n"
     ]
    }
   ],
   "source": [
    "print(A)\n",
    "print(\"-\"*50)\n",
    "print(np.ceil(A))"
   ]
  },
  {
   "cell_type": "markdown",
   "metadata": {},
   "source": [
    "O np.round arredonda os numeros do array para a quantidade de casas desejadas, no caso abaixo duas casas.\n",
    "~Japa\n"
   ]
  },
  {
   "cell_type": "code",
   "execution_count": 43,
   "metadata": {},
   "outputs": [
    {
     "name": "stdout",
     "output_type": "stream",
     "text": [
      "[[5.49671415 4.8617357  5.64768854]\n",
      " [6.52302986 4.76584663 4.76586304]\n",
      " [6.57921282 5.76743473 4.53052561]\n",
      " [5.54256004 4.53658231 4.53427025]\n",
      " [5.24196227 3.08671976 3.27508217]]\n",
      "--------------------------------------------------\n",
      "[[5.5  4.86 5.65]\n",
      " [6.52 4.77 4.77]\n",
      " [6.58 5.77 4.53]\n",
      " [5.54 4.54 4.53]\n",
      " [5.24 3.09 3.28]]\n"
     ]
    }
   ],
   "source": [
    "print(A)\n",
    "print(\"-\"*50)\n",
    "print(np.round(A,2))"
   ]
  },
  {
   "cell_type": "markdown",
   "metadata": {},
   "source": [
    "O np.trunc faz com que o arredondamento siga as regras de 0,5 > arredondado pra cima e 0,5 < arredondado pra baixo. ~Japa"
   ]
  },
  {
   "cell_type": "code",
   "execution_count": 44,
   "metadata": {},
   "outputs": [
    {
     "name": "stdout",
     "output_type": "stream",
     "text": [
      "[[5.49671415 4.8617357  5.64768854]\n",
      " [6.52302986 4.76584663 4.76586304]\n",
      " [6.57921282 5.76743473 4.53052561]\n",
      " [5.54256004 4.53658231 4.53427025]\n",
      " [5.24196227 3.08671976 3.27508217]]\n",
      "--------------------------------------------------\n",
      "[[5. 4. 5.]\n",
      " [6. 4. 4.]\n",
      " [6. 5. 4.]\n",
      " [5. 4. 4.]\n",
      " [5. 3. 3.]]\n"
     ]
    }
   ],
   "source": [
    "print(A)\n",
    "print(\"-\"*50)\n",
    "print(np.trunc(A))"
   ]
  },
  {
   "cell_type": "markdown",
   "metadata": {},
   "source": [
    "O no.sign tem interesse somente no valor ser positivo ou negativo, ajustando todos os numeros para 1 ou -1\n",
    "~Japa"
   ]
  },
  {
   "cell_type": "code",
   "execution_count": 58,
   "metadata": {},
   "outputs": [
    {
     "name": "stdout",
     "output_type": "stream",
     "text": [
      "[[-0.56228753 -0.60025385  0.94743982]\n",
      " [ 0.291034   -0.63555974 -1.02155219]\n",
      " [-0.16175539 -0.5336488  -0.00552786]\n",
      " [-0.22945045  0.38934891 -1.26511911]\n",
      " [ 1.09199226  2.77831304  1.19363972]]\n",
      "--------------------------------------------------\n",
      "[[-1. -1.  1.]\n",
      " [ 1. -1. -1.]\n",
      " [-1. -1. -1.]\n",
      " [-1.  1. -1.]\n",
      " [ 1.  1.  1.]]\n"
     ]
    }
   ],
   "source": [
    "print(D)\n",
    "print(\"-\"*50)\n",
    "print(np.sign(D))"
   ]
  },
  {
   "cell_type": "markdown",
   "metadata": {
    "id": "-kAi26rcfT0s"
   },
   "source": [
    "**Função Matemática**: \n",
    "\n",
    "- np.exp: Realiza a exponenciação dos elementos\n",
    "- np.log: Aplica o log sobre os elementos\n",
    "- np.expm1: Aplica a função exp(x) - 1 sobre os elementos\n",
    "- np.log1p: Aplica a função log(x + 1) sobre os elementos\n",
    "- np.power: Eleva os elementos do array a uma potência\n",
    "- np.sqrt: Extraí a raíz quadrada dos números de um array\n",
    "- np.sin/cos/tan: Aplica a função seno/cosseno/tangente sobre os elementos\n",
    "- np.asin/acos/atan: Aplica a função de arc seno/cosseno/tangente sobre os elementos"
   ]
  },
  {
   "cell_type": "markdown",
   "metadata": {},
   "source": []
  },
  {
   "cell_type": "code",
   "execution_count": 62,
   "metadata": {},
   "outputs": [
    {
     "name": "stderr",
     "output_type": "stream",
     "text": [
      "/tmp/ipykernel_27785/2504368718.py:1: RuntimeWarning: divide by zero encountered in log\n",
      "  np.log(C)\n"
     ]
    },
    {
     "data": {
      "text/plain": [
       "array([      -inf, 0.        , 0.69314718,       -inf, 1.38629436,\n",
       "       1.60943791,        nan])"
      ]
     },
     "execution_count": 62,
     "metadata": {},
     "output_type": "execute_result"
    }
   ],
   "source": [
    "np.log(C)"
   ]
  },
  {
   "cell_type": "markdown",
   "metadata": {},
   "source": [
    "np.sqrt tira a raiza quadrada de cada item do array"
   ]
  },
  {
   "cell_type": "code",
   "execution_count": 49,
   "metadata": {},
   "outputs": [
    {
     "data": {
      "text/plain": [
       "array([[2.34450723, 2.2049344 , 2.3764866 ],\n",
       "       [2.55402229, 2.18308191, 2.18308567],\n",
       "       [2.56499762, 2.4015484 , 2.12850314],\n",
       "       [2.35426423, 2.12992542, 2.1293826 ],\n",
       "       [2.2895332 , 1.7569063 , 1.80971881]])"
      ]
     },
     "execution_count": 49,
     "metadata": {},
     "output_type": "execute_result"
    }
   ],
   "source": [
    "np.sqrt(A)"
   ]
  },
  {
   "cell_type": "markdown",
   "metadata": {
    "id": "zrt23Os4fT0t"
   },
   "source": [
    "**Elemento a Elemento**\n",
    "- np.diff: Obtém a diferença entre valores sequenciais do array\n",
    "- np.cumsum: Obtém a soma dos valores cumulativos\n",
    "- np.cummin: Obtém o valor mínimo cumulativo do array\n",
    "- np.cummax: Obtém o valor máximo cumulativo do array\n",
    "- np.cumprod: Obtém o valor produto cumulativo do array"
   ]
  },
  {
   "cell_type": "code",
   "execution_count": null,
   "metadata": {},
   "outputs": [],
   "source": [
    "#não vi utilidade nessa parte, ate chegar no primeiro exercicio"
   ]
  },
  {
   "cell_type": "markdown",
   "metadata": {
    "id": "szgA6aO35duf"
   },
   "source": [
    "---"
   ]
  },
  {
   "cell_type": "markdown",
   "metadata": {
    "ExecuteTime": {
     "end_time": "2021-09-16T15:18:30.851648Z",
     "start_time": "2021-09-16T15:18:30.835721Z"
    },
    "id": "3Z5El8ZofT0u"
   },
   "source": [
    "**Exercício**\n",
    "\n",
    "Obtenha os indices do array onde ocorrem os máximos locais, isto é o maior valor de uma sequência crescente de valores. \n",
    "\n",
    "Para o array de exemplo, estes valores são os 7 e 6, que ocorrem nos indices 2 e 5."
   ]
  },
  {
   "cell_type": "code",
   "execution_count": 6,
   "metadata": {
    "ExecuteTime": {
     "end_time": "2021-09-16T17:23:45.050788Z",
     "start_time": "2021-09-16T17:23:45.042837Z"
    },
    "id": "OFEsQZPxfT0u",
    "solution2": "hidden",
    "solution2_first": true
   },
   "outputs": [],
   "source": [
    "a = np.array([1, 3, 7, 1, 2, 6, 0, 1])"
   ]
  },
  {
   "cell_type": "code",
   "execution_count": 34,
   "metadata": {},
   "outputs": [
    {
     "name": "stdout",
     "output_type": "stream",
     "text": [
      "7\n",
      "6\n"
     ]
    }
   ],
   "source": [
    "Diferenca = np.diff(a)\n",
    "for i in range(len(Diferenca)):\n",
    "    if Diferenca[i] < 0:\n",
    "        print(a[i])"
   ]
  },
  {
   "cell_type": "code",
   "execution_count": 53,
   "metadata": {
    "cellView": "form",
    "id": "8UcRjg-LfT0u",
    "solution2": "hidden"
   },
   "outputs": [
    {
     "name": "stdout",
     "output_type": "stream",
     "text": [
      "[ 2  4 -6  1  4 -6  1]\n",
      "[ 1  1 -1  1  1 -1  1]\n",
      "[ 0 -2  2  0 -2  2]\n",
      "[2 5]\n"
     ]
    }
   ],
   "source": [
    "#@title Resposta\n",
    "a = np.array([1, 3, 7, 1, 2, 6, 0, 1])\n",
    "\n",
    "# obtém as diferenças entre um valor e o valor anterior\n",
    "diff = np.diff(a)\n",
    "print(diff)\n",
    "\n",
    "# extraí apenas o sinal da diferença, i.e. um array de 1 e -1\n",
    "sign = np.sign(diff)\n",
    "print(sign)\n",
    "\n",
    "# obtém a diferença no valor de sinais.\n",
    "# Se tivermos 0, significa que temos dois crescimentos ou decrescimentos seguidos\n",
    "# Se tivermos 2, significa que há um decrescimento seguido de um crescimento\n",
    "# Se tivermos -2, significa que há um crescimento seguido de um decrescimento\n",
    "cres = np.diff(sign)\n",
    "print(cres)\n",
    "\n",
    "# os máximos locais ocorrem no indice do -2\n",
    "max_local = np.where(cres == -2)[0] + 1\n",
    "print(max_local)"
   ]
  },
  {
   "cell_type": "markdown",
   "metadata": {
    "ExecuteTime": {
     "end_time": "2021-09-16T15:18:30.851648Z",
     "start_time": "2021-09-16T15:18:30.835721Z"
    },
    "id": "8GAo5cQofT0u"
   },
   "source": [
    "**Exercício**\n",
    "\n",
    "Crie uma função que calcule a média móvel de um array dado um tamanho de janela"
   ]
  },
  {
   "cell_type": "code",
   "execution_count": 47,
   "metadata": {
    "ExecuteTime": {
     "end_time": "2021-09-16T19:03:45.597747Z",
     "start_time": "2021-09-16T19:03:45.588528Z"
    },
    "id": "bxwicOz8fT0v",
    "solution2": "hidden",
    "solution2_first": true
   },
   "outputs": [
    {
     "data": {
      "text/plain": [
       "array([18.59895682, 15.39501705, 14.9440772 ])"
      ]
     },
     "execution_count": 47,
     "metadata": {},
     "output_type": "execute_result"
    }
   ],
   "source": [
    "def media_movel(arr: np.ndarray, janela: int = 3) -> np.ndarray:\n",
    "    \"\"\"\n",
    "    Calcula o valor da média movel de um array\n",
    "    \n",
    "    :param arr: array com valores a serem calculados\n",
    "    :param janela: janela de cálculo\n",
    "    :return: array com média móvel\n",
    "    \"\"\"\n",
    "    \n",
    "    num = 0\n",
    "\n",
    "    for i in range(janela):\n",
    "        num += arr[i]\n",
    "\n",
    "    return np.mean(num)\n",
    "\n",
    "media_movel(A)\n",
    "\n"
   ]
  },
  {
   "cell_type": "code",
   "execution_count": 50,
   "metadata": {
    "cellView": "form",
    "id": "c9NKSzM1fT0v",
    "solution2": "hidden"
   },
   "outputs": [
    {
     "data": {
      "text/plain": [
       "array([5.33537946, 5.6774847 , 5.64552167, 5.35157984, 5.37030749,\n",
       "       5.7041702 , 5.62572439, 5.28017346, 4.86988932, 4.87113753,\n",
       "       4.77093828, 4.28765076, 3.8679214 ])"
      ]
     },
     "execution_count": 50,
     "metadata": {},
     "output_type": "execute_result"
    }
   ],
   "source": [
    "#@title Resposta\n",
    "def media_movel(arr: np.ndarray, janela: int = 3) -> np.ndarray:\n",
    "    \"\"\"\n",
    "    Calcula o valor da média movel de um array\n",
    "    \n",
    "    :param arr: array com valores a serem calculados\n",
    "    :param janela: janela de cálculo\n",
    "    :return: array com média móvel\n",
    "    \"\"\"\n",
    "    # calcula a soma cumulativa de valores\n",
    "    soma = np.cumsum(arr)\n",
    "    \n",
    "    # aplica a diferença para obter a soma da janela\n",
    "    soma[janela:] = soma[janela:] - soma[:-janela]\n",
    "    \n",
    "    # calcula o valor de média\n",
    "    return soma[janela - 1:] / janela\n",
    "\n",
    "media_movel(A)\n"
   ]
  },
  {
   "cell_type": "markdown",
   "metadata": {
    "id": "PP_j-gBb5duf"
   },
   "source": [
    "**Exercício**\n",
    "\n",
    "Para a maioria dos algoritmos preditivos não é possível processar texto diretamente, apesar de ser fácil encontrar relações entre dados qualitativos e variáveis quantitativas (por exemplo One-hot encoding é um método de codificação de dados categóricos, na qual nós transformamos dados categóricos em flags 1 e 0 de acordo com cada dado categórico. Desta forma, por exemplo, se uma lista de valores tem 5 categorias possiveis, para cada linha gerariamos 5 colunas com valores 1 e 0 de acordo com a categoria.\n",
    "\n",
    "Por exemplo se tivessemos\n",
    "\n",
    "    array -> [\"A\", \"A\", \"B\", \"A\", \"C\", \"B\"]\n",
    "\n",
    "Por meio do one-hot encoding obteriamos:\n",
    "    \n",
    "    array -> matriz ohe\n",
    "              A  B  C\n",
    "    A     -> [1, 0, 0]\n",
    "    A     -> [1, 0, 0]\n",
    "    B     -> [0, 1, 0]\n",
    "    A     -> [1, 0, 0]\n",
    "    C     -> [0, 0, 1]\n",
    "    B     -> [0, 1, 0]"
   ]
  },
  {
   "cell_type": "code",
   "execution_count": 1,
   "metadata": {
    "ExecuteTime": {
     "end_time": "2021-09-16T18:43:30.059920Z",
     "start_time": "2021-09-16T18:43:30.052941Z"
    },
    "id": "bOwWsXoq5dug",
    "solution2": "hidden",
    "solution2_first": true
   },
   "outputs": [
    {
     "ename": "NameError",
     "evalue": "name 'np' is not defined",
     "output_type": "error",
     "traceback": [
      "\u001b[0;31m---------------------------------------------------------------------------\u001b[0m",
      "\u001b[0;31mNameError\u001b[0m                                 Traceback (most recent call last)",
      "\u001b[1;32m/home/kenzo/Documents/GitHub/Aulas-Basicas/data science/03.Manipulação de Dados/Numpy (Code Along).ipynb Cell 219'\u001b[0m in \u001b[0;36m<cell line: 1>\u001b[0;34m()\u001b[0m\n\u001b[0;32m----> <a href='vscode-notebook-cell:/home/kenzo/Documents/GitHub/Aulas-Basicas/data%20science/03.Manipula%C3%A7%C3%A3o%20de%20Dados/Numpy%20%28Code%20Along%29.ipynb#ch0000218?line=0'>1</a>\u001b[0m arr \u001b[39m=\u001b[39m np\u001b[39m.\u001b[39marray([\u001b[39m\"\u001b[39m\u001b[39mA\u001b[39m\u001b[39m\"\u001b[39m, \u001b[39m\"\u001b[39m\u001b[39mA\u001b[39m\u001b[39m\"\u001b[39m, \u001b[39m\"\u001b[39m\u001b[39mB\u001b[39m\u001b[39m\"\u001b[39m, \u001b[39m\"\u001b[39m\u001b[39mA\u001b[39m\u001b[39m\"\u001b[39m, \u001b[39m\"\u001b[39m\u001b[39mC\u001b[39m\u001b[39m\"\u001b[39m, \u001b[39m\"\u001b[39m\u001b[39mB\u001b[39m\u001b[39m\"\u001b[39m,\u001b[39m'\u001b[39m\u001b[39mC\u001b[39m\u001b[39m'\u001b[39m])\n",
      "\u001b[0;31mNameError\u001b[0m: name 'np' is not defined"
     ]
    }
   ],
   "source": [
    "arr = np.array([\"A\", \"A\", \"B\", \"A\", \"C\", \"B\",'C'])"
   ]
  },
  {
   "cell_type": "code",
   "execution_count": 4,
   "metadata": {},
   "outputs": [
    {
     "data": {
      "text/plain": [
       "array([['A'],\n",
       "       ['A'],\n",
       "       ['B'],\n",
       "       ['A'],\n",
       "       ['C'],\n",
       "       ['B']], dtype='<U1')"
      ]
     },
     "execution_count": 4,
     "metadata": {},
     "output_type": "execute_result"
    }
   ],
   "source": [
    "unicos = np.unique(arr)\n",
    "arrumado = arr.reshape(len(arr),1)\n",
    "arrumado"
   ]
  },
  {
   "cell_type": "code",
   "execution_count": 5,
   "metadata": {},
   "outputs": [
    {
     "data": {
      "text/plain": [
       "array([[0., 0., 0.],\n",
       "       [0., 0., 0.],\n",
       "       [0., 0., 0.],\n",
       "       [0., 0., 0.],\n",
       "       [0., 0., 0.],\n",
       "       [0., 0., 0.]])"
      ]
     },
     "execution_count": 5,
     "metadata": {},
     "output_type": "execute_result"
    }
   ],
   "source": [
    "matriz_cruzada = np.zeros(shape=(len(arrumado),len(unicos)))\n",
    "matriz_cruzada"
   ]
  },
  {
   "cell_type": "code",
   "execution_count": 6,
   "metadata": {},
   "outputs": [
    {
     "data": {
      "text/plain": [
       "array([[1., 0., 0.],\n",
       "       [1., 0., 0.],\n",
       "       [0., 1., 0.],\n",
       "       [1., 0., 0.],\n",
       "       [0., 0., 1.],\n",
       "       [0., 1., 0.]])"
      ]
     },
     "execution_count": 6,
     "metadata": {},
     "output_type": "execute_result"
    }
   ],
   "source": [
    "for i, k in enumerate(arr):\n",
    "    for j in enumerate(unicos):\n",
    "        matriz_cruzada[i, np.where(unicos==k)] = 1\n",
    "\n",
    "matriz_cruzada"
   ]
  },
  {
   "cell_type": "code",
   "execution_count": 111,
   "metadata": {
    "cellView": "form",
    "id": "sh8NKzNcfT0w",
    "solution2": "hidden"
   },
   "outputs": [
    {
     "name": "stdout",
     "output_type": "stream",
     "text": [
      "[[1 0 0]\n",
      " [1 0 0]\n",
      " [0 1 0]\n",
      " [1 0 0]\n",
      " [0 0 1]\n",
      " [0 1 0]]\n",
      "[[1 0 0]\n",
      " [1 0 0]\n",
      " [0 1 0]\n",
      " [1 0 0]\n",
      " [0 0 1]\n",
      " [0 1 0]]\n"
     ]
    }
   ],
   "source": [
    "#@title Resposta\n",
    "arr = np.array([\"A\", \"A\", \"B\", \"A\", \"C\", \"B\"])\n",
    "\n",
    "# solução 1 - broadcast\n",
    "ohe1 = (arr.reshape(-1, 1) == np.unique(arr)).astype(\"uint8\")\n",
    "print(ohe1)\n",
    "\n",
    "# solução 2 - for loop\n",
    "unique = np.unique(arr)\n",
    "ohe2 = np.zeros((arr.shape[0], unique.shape[0]), dtype=\"uint8\")\n",
    "for i, k in enumerate(arr):\n",
    "    ohe2[i, np.where(unique == k)] = 1\n",
    "print(ohe2)"
   ]
  },
  {
   "cell_type": "markdown",
   "metadata": {
    "id": "JhRwvjcBfT0w"
   },
   "source": [
    "---"
   ]
  },
  {
   "cell_type": "markdown",
   "metadata": {
    "id": "B9fOmsD-fT0w"
   },
   "source": [
    "## Vetorização"
   ]
  },
  {
   "cell_type": "markdown",
   "metadata": {
    "id": "mRUen4WdfT0x"
   },
   "source": [
    "Apesar do numpy ter muitas funções pré-prontas, muitas vezes nós teremos que criar tratamentos de dados específicos e aplicar essas transformações para os arrays.\n",
    "\n",
    "Para fazer isso de forma eficiente o numpy conta com algumas funcionalidades de vetorização de funções. Na verdade as funções pré prontas que trabalhamos (np.sum, np.mean, etc.) nada mais são do que a versão vetorizada de funções conhecidas do python e da biblioteca math"
   ]
  },
  {
   "cell_type": "code",
   "execution_count": 2,
   "metadata": {},
   "outputs": [],
   "source": [
    "import numpy as np"
   ]
  },
  {
   "cell_type": "code",
   "execution_count": 6,
   "metadata": {},
   "outputs": [
    {
     "name": "stdout",
     "output_type": "stream",
     "text": [
      "7.63 µs ± 103 ns per loop (mean ± std. dev. of 7 runs, 100,000 loops each)\n"
     ]
    }
   ],
   "source": [
    "%%timeit\n",
    "np.sum(np.arange(5000))"
   ]
  },
  {
   "cell_type": "code",
   "execution_count": 5,
   "metadata": {},
   "outputs": [
    {
     "name": "stdout",
     "output_type": "stream",
     "text": [
      "261 µs ± 6.77 µs per loop (mean ± std. dev. of 7 runs, 1,000 loops each)\n"
     ]
    }
   ],
   "source": [
    "sum(np.arange(5000))"
   ]
  },
  {
   "cell_type": "markdown",
   "metadata": {
    "id": "kF8FkiHIfT0x"
   },
   "source": [
    "Entretanto o numpy nos oferece a flexibilidade de criar nossas próprias funções através de algumas funções específicas"
   ]
  },
  {
   "cell_type": "markdown",
   "metadata": {
    "id": "0FfnONNEfT0y"
   },
   "source": [
    "np.vectorize -> Define uma função vetorizada que leva uma sequência aninhada de objetos ou matrizes numpy como entradas e retorna uma única matriz numpy ou uma tupla de numpy matrizes. A função vetorizada avalia `pyfunc` em tuplas sucessivas das matrizes de entrada como a função de mapa python, exceto que usa o regras de transmissão de numpy."
   ]
  },
  {
   "cell_type": "code",
   "execution_count": null,
   "metadata": {},
   "outputs": [],
   "source": [
    "func = np.vectorize(pyfunc=lambda a, b: a+b if a>b else a-b)"
   ]
  },
  {
   "cell_type": "markdown",
   "metadata": {
    "id": "e2YhcuDjfT0z"
   },
   "source": [
    "np.apply_along_axis -> Apply uma função a um slice 1-D de um array"
   ]
  },
  {
   "cell_type": "code",
   "execution_count": null,
   "metadata": {},
   "outputs": [],
   "source": []
  },
  {
   "cell_type": "markdown",
   "metadata": {
    "id": "K9bPOiBkfT00"
   },
   "source": [
    "A dúvida que você deve ter é porque usar? Bom, geralmente porque para operações simples ela costuma ser mais eficiente"
   ]
  },
  {
   "cell_type": "code",
   "execution_count": null,
   "metadata": {},
   "outputs": [],
   "source": []
  },
  {
   "cell_type": "markdown",
   "metadata": {
    "id": "ysOqdMrffT01"
   },
   "source": [
    "np.apply_over_axes -> Aplica uma função entre múltiplos eixos"
   ]
  },
  {
   "cell_type": "code",
   "execution_count": null,
   "metadata": {},
   "outputs": [],
   "source": []
  },
  {
   "cell_type": "markdown",
   "metadata": {
    "id": "84sWD_6yfT01"
   },
   "source": [
    "---"
   ]
  },
  {
   "cell_type": "markdown",
   "metadata": {
    "ExecuteTime": {
     "end_time": "2021-09-16T15:18:30.851648Z",
     "start_time": "2021-09-16T15:18:30.835721Z"
    },
    "id": "Eyt1MgVSfT01"
   },
   "source": [
    "**Exercício**\n",
    "\n",
    "Calcule a razão entre valores mínimos e máximos para cada coluna de uma matriz 5x3"
   ]
  },
  {
   "cell_type": "code",
   "execution_count": 47,
   "metadata": {
    "ExecuteTime": {
     "end_time": "2021-09-17T14:03:21.107163Z",
     "start_time": "2021-09-17T14:03:21.101178Z"
    },
    "id": "C9ltTuBzfT02",
    "solution2": "hidden",
    "solution2_first": true
   },
   "outputs": [],
   "source": [
    "np.random.seed(42)\n",
    "a = np.random.randint(1, 10, [5, 3])\n",
    "def Raz(a:np.array):\n",
    "    c = np.min(a,axis=0)\n",
    "    b = np.max(a,axis=0)\n",
    "    return np.divide(c,b)\n",
    "\n",
    "func = np.vectorize(pyfunc = lambda a: (np.min(a,axis=0))/(np.max(a,axis=0)))\n"
   ]
  },
  {
   "cell_type": "code",
   "execution_count": 48,
   "metadata": {},
   "outputs": [
    {
     "data": {
      "text/plain": [
       "array([[1., 1., 1.],\n",
       "       [1., 1., 1.],\n",
       "       [1., 1., 1.],\n",
       "       [1., 1., 1.],\n",
       "       [1., 1., 1.]])"
      ]
     },
     "execution_count": 48,
     "metadata": {},
     "output_type": "execute_result"
    }
   ],
   "source": [
    "func(a)"
   ]
  },
  {
   "cell_type": "code",
   "execution_count": 11,
   "metadata": {
    "cellView": "form",
    "id": "F6qD8rk4fT02",
    "solution2": "hidden"
   },
   "outputs": [
    {
     "data": {
      "text/plain": [
       "array([0.42857143, 0.5       , 0.375     ])"
      ]
     },
     "execution_count": 11,
     "metadata": {},
     "output_type": "execute_result"
    }
   ],
   "source": [
    "#@title Resposta\n",
    "np.random.seed(42)\n",
    "a = np.random.randint(1, 10, [5, 3])\n",
    "np.apply_along_axis(lambda x: np.min(x)/np.max(x), arr=a, axis=0)"
   ]
  },
  {
   "cell_type": "markdown",
   "metadata": {
    "id": "uV4iCSuVfT02"
   },
   "source": [
    "---"
   ]
  },
  {
   "cell_type": "markdown",
   "metadata": {
    "id": "ypHPyfrBG4mv"
   },
   "source": [
    "## Concatenação"
   ]
  },
  {
   "cell_type": "markdown",
   "metadata": {
    "id": "Ho4a3pVAHEhl"
   },
   "source": [
    "Apesar de serem imutáveis, arrays podem ser concatenados para formar novos arrays por meio de funções específicas da biblioteca"
   ]
  },
  {
   "cell_type": "markdown",
   "metadata": {
    "id": "c0H6yzVAHLhD"
   },
   "source": [
    "np.concatenate -> Concatena dois arrays ao longo de um eixo determinado"
   ]
  },
  {
   "cell_type": "code",
   "execution_count": null,
   "metadata": {},
   "outputs": [],
   "source": []
  },
  {
   "cell_type": "markdown",
   "metadata": {
    "id": "_OraTDApHNdl"
   },
   "source": [
    "np.vstack -> Empilha arrays verticalmente (linha a linha)"
   ]
  },
  {
   "cell_type": "code",
   "execution_count": null,
   "metadata": {},
   "outputs": [],
   "source": []
  },
  {
   "cell_type": "markdown",
   "metadata": {
    "id": "EJ7d6AnFHQYa"
   },
   "source": [
    "np.hstack -> Empilha arrays horizontalmente (coluna a coluna)"
   ]
  },
  {
   "cell_type": "code",
   "execution_count": null,
   "metadata": {},
   "outputs": [],
   "source": []
  },
  {
   "cell_type": "markdown",
   "metadata": {
    "id": "WmEo2C1EHUA4"
   },
   "source": [
    "np.append -> Adiciona um novo elemento ao final de um array. Se o array for >1-D, converte o array para 1-D"
   ]
  },
  {
   "cell_type": "code",
   "execution_count": null,
   "metadata": {},
   "outputs": [],
   "source": []
  },
  {
   "cell_type": "markdown",
   "metadata": {
    "id": "M_LbCSBofT08"
   },
   "source": [
    "---"
   ]
  },
  {
   "cell_type": "markdown",
   "metadata": {
    "id": "jJlNqtlYfT08"
   },
   "source": [
    "**Exercício**\n",
    "\n",
    "Dado um array de números inteiros adicione os números faltantes entre os valores mínimos e máximos ao final do array"
   ]
  },
  {
   "cell_type": "code",
   "execution_count": null,
   "metadata": {
    "ExecuteTime": {
     "end_time": "2021-09-16T17:16:36.193807Z",
     "start_time": "2021-09-16T17:16:36.179844Z"
    },
    "id": "b32Cr9-1fT08",
    "solution2": "hidden",
    "solution2_first": true
   },
   "outputs": [],
   "source": [
    "np.random.seed(42)\n",
    "arr = np.random.randint(0, 10, size=6)"
   ]
  },
  {
   "cell_type": "code",
   "execution_count": null,
   "metadata": {
    "cellView": "form",
    "id": "ISpLgStYfT08",
    "solution2": "hidden"
   },
   "outputs": [],
   "source": [
    "#@title Resposta\n",
    "np.random.seed(42)\n",
    "arr = np.random.randint(0, 10, size=6)\n",
    "adicionar = np.setdiff1d(np.arange(np.min(arr), np.max(arr) + 1), arr)\n",
    "arr = np.hstack([arr, adicionar])\n",
    "arr"
   ]
  },
  {
   "cell_type": "markdown",
   "metadata": {
    "id": "s3SjguIJfT09"
   },
   "source": [
    "---"
   ]
  },
  {
   "cell_type": "markdown",
   "metadata": {
    "id": "8sQSpLv3fT09"
   },
   "source": [
    "## O que mais?"
   ]
  },
  {
   "cell_type": "markdown",
   "metadata": {
    "id": "xOkGqMlVfT09"
   },
   "source": [
    "Muito mais. O Numpy é uma bibliotecas extremamente extensa, que permite fazer operações com texto, datas, criar modelos de regressão, trabalhar com polinômios e realizar múltiplas transformações que envolvem desde processamento de sinais até trabalho de imagens e algebra linear clássica.\n",
    "\n",
    "Poderia fazer um curso de 10h só pra falar de tudo o que o numpy tem a oferecer, entretanto aqui nós passamos apenas as principais funcionalidades que vão cobrir 90-95% das situações que serão encontradas no dia a dia de um cientista de dados.\n",
    "\n",
    "Entretanto se você quiser algo mais completo, veja abaixo algumas sugestões:\n",
    "\n",
    "- https://numpy.org/learn/\n",
    "- https://www.youtube.com/watch?v=cYugp9IN1-Q&ab_channel=Enthought\n",
    "- https://scipy-lectures.org/advanced/advanced_numpy/\n",
    "- https://www.oreilly.com/library/view/python-for-data/9781449323592/\n",
    "- https://www.kaggle.com/utsav15/100-numpy-exercises\n",
    "- https://www.geeksforgeeks.org/python-numpy-practice-exercises-questions-and-solutions/\n",
    "- https://www.machinelearningplus.com/python/101-numpy-exercises-python/"
   ]
  },
  {
   "cell_type": "markdown",
   "metadata": {
    "id": "Lf8l3dC2fT09"
   },
   "source": [
    "---"
   ]
  }
 ],
 "metadata": {
  "colab": {
   "collapsed_sections": [],
   "name": "Numpy (Code Along).ipynb",
   "provenance": [
    {
     "file_id": "1Zjzqmqz8GA90zNRssvqBvhQCp3vcA2Hl",
     "timestamp": 1642854938623
    }
   ],
   "toc_visible": true
  },
  "hide_input": false,
  "kernelspec": {
   "display_name": "Python 3 (ipykernel)",
   "language": "python",
   "name": "python3"
  },
  "language_info": {
   "codemirror_mode": {
    "name": "ipython",
    "version": 3
   },
   "file_extension": ".py",
   "mimetype": "text/x-python",
   "name": "python",
   "nbconvert_exporter": "python",
   "pygments_lexer": "ipython3",
   "version": "3.8.10"
  },
  "toc": {
   "base_numbering": 1,
   "nav_menu": {},
   "number_sections": true,
   "sideBar": true,
   "skip_h1_title": true,
   "title_cell": "Table of Contents",
   "title_sidebar": "Contents",
   "toc_cell": false,
   "toc_position": {
    "height": "calc(100% - 180px)",
    "left": "10px",
    "top": "150px",
    "width": "304.475px"
   },
   "toc_section_display": true,
   "toc_window_display": true
  },
  "varInspector": {
   "cols": {
    "lenName": 16,
    "lenType": 16,
    "lenVar": 40
   },
   "kernels_config": {
    "python": {
     "delete_cmd_postfix": "",
     "delete_cmd_prefix": "del ",
     "library": "var_list.py",
     "varRefreshCmd": "print(var_dic_list())"
    },
    "r": {
     "delete_cmd_postfix": ") ",
     "delete_cmd_prefix": "rm(",
     "library": "var_list.r",
     "varRefreshCmd": "cat(var_dic_list()) "
    }
   },
   "types_to_exclude": [
    "module",
    "function",
    "builtin_function_or_method",
    "instance",
    "_Feature"
   ],
   "window_display": false
  }
 },
 "nbformat": 4,
 "nbformat_minor": 1
}
