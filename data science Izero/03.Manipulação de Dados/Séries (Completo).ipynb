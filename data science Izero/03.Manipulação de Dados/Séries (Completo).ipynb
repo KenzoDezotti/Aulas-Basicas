{
 "cells": [
  {
   "cell_type": "markdown",
   "metadata": {
    "id": "nhK6mEZD5duG"
   },
   "source": [
    "# Séries"
   ]
  },
  {
   "cell_type": "markdown",
   "metadata": {
    "id": "jDFIlB9H5duK"
   },
   "source": [
    "**OBJETIVO**: O objetivo deste notebook é apresentar o objeto série e suas principais funcionalidades"
   ]
  },
  {
   "cell_type": "markdown",
   "metadata": {
    "id": "lgK-hdeI5duL"
   },
   "source": [
    "---"
   ]
  },
  {
   "cell_type": "code",
   "execution_count": null,
   "metadata": {
    "ExecuteTime": {
     "end_time": "2021-12-28T13:27:20.309453Z",
     "start_time": "2021-12-28T13:27:19.971828Z"
    },
    "colab": {
     "base_uri": "https://localhost:8080/"
    },
    "executionInfo": {
     "elapsed": 340,
     "status": "ok",
     "timestamp": 1643563667890,
     "user": {
      "displayName": "Ignorância Zero",
      "photoUrl": "https://lh3.googleusercontent.com/a/default-user=s64",
      "userId": "00329270583361032720"
     },
     "user_tz": 180
    },
    "id": "rd7CrW0E5duN",
    "outputId": "a1d6b942-850d-48a3-b5ec-50aacba8b196"
   },
   "outputs": [],
   "source": [
    "import os\n",
    "import numpy as np\n",
    "import pandas as pd\n",
    "\n",
    "from pathlib import Path\n",
    "\n",
    "%config Completer.use_jedi = False"
   ]
  },
  {
   "cell_type": "markdown",
   "metadata": {
    "id": "1Hfd3ztV5duS"
   },
   "source": [
    "---"
   ]
  },
  {
   "cell_type": "markdown",
   "metadata": {
    "id": "EYP5Hn6e5dug"
   },
   "source": [
    "## Criação "
   ]
  },
  {
   "cell_type": "markdown",
   "metadata": {
    "id": "3MBhhda4h_Kn"
   },
   "source": [
    "Como mostramos anteriormente séries são as estruturas que utilizamos para representar uma coluna numa tabela de dados, que é definida por 4 elementos:\n",
    "\n",
    "- index: Os nomes de cada dado dentro da série\n",
    "- values: Os dados em si que a série armazena \n",
    "- name: O nome da série (ou da coluna)\n",
    "- dtype: Os tipos de dados armazenados da série\n",
    "\n",
    "<img src=\"https://www.w3resource.com/w3r_images/pandas-series-add-image-1.svg\" />\n",
    "\n"
   ]
  },
  {
   "cell_type": "code",
   "execution_count": null,
   "metadata": {
    "ExecuteTime": {
     "end_time": "2021-09-20T12:30:53.304569Z",
     "start_time": "2021-09-20T12:30:53.280633Z"
    },
    "colab": {
     "base_uri": "https://localhost:8080/"
    },
    "executionInfo": {
     "elapsed": 229,
     "status": "ok",
     "timestamp": 1643139878079,
     "user": {
      "displayName": "Ignorância Zero",
      "photoUrl": "https://lh3.googleusercontent.com/a/default-user=s64",
      "userId": "00329270583361032720"
     },
     "user_tz": 180
    },
    "id": "Liw61H6T5dug",
    "outputId": "8ec1c31e-f567-47fa-98b9-927207746328"
   },
   "outputs": [],
   "source": [
    "serie = pd.Series(data=[1, 2, 2, np.nan], index=[\"p\", \"q\", \"r\", \"s\"], name=\"Data\")\n",
    "serie"
   ]
  },
  {
   "cell_type": "markdown",
   "metadata": {
    "id": "RzuNw7iIh_Ko"
   },
   "source": [
    "Os elementos descritos acima podem ser acessados como atributos da série"
   ]
  },
  {
   "cell_type": "code",
   "execution_count": null,
   "metadata": {
    "colab": {
     "base_uri": "https://localhost:8080/"
    },
    "executionInfo": {
     "elapsed": 4,
     "status": "ok",
     "timestamp": 1643139908258,
     "user": {
      "displayName": "Ignorância Zero",
      "photoUrl": "https://lh3.googleusercontent.com/a/default-user=s64",
      "userId": "00329270583361032720"
     },
     "user_tz": 180
    },
    "id": "SmM0635wwgGg",
    "outputId": "b32fead1-416d-43df-a50d-6a7125fb9edc"
   },
   "outputs": [],
   "source": [
    "serie.index"
   ]
  },
  {
   "cell_type": "code",
   "execution_count": null,
   "metadata": {
    "colab": {
     "base_uri": "https://localhost:8080/",
     "height": 35
    },
    "executionInfo": {
     "elapsed": 218,
     "status": "ok",
     "timestamp": 1643139929557,
     "user": {
      "displayName": "Ignorância Zero",
      "photoUrl": "https://lh3.googleusercontent.com/a/default-user=s64",
      "userId": "00329270583361032720"
     },
     "user_tz": 180
    },
    "id": "hBPBuHwIxYby",
    "outputId": "025783e7-4283-4759-a5f5-892b9a57dc12"
   },
   "outputs": [],
   "source": [
    "serie.name"
   ]
  },
  {
   "cell_type": "code",
   "execution_count": null,
   "metadata": {
    "colab": {
     "base_uri": "https://localhost:8080/"
    },
    "executionInfo": {
     "elapsed": 281,
     "status": "ok",
     "timestamp": 1643139937513,
     "user": {
      "displayName": "Ignorância Zero",
      "photoUrl": "https://lh3.googleusercontent.com/a/default-user=s64",
      "userId": "00329270583361032720"
     },
     "user_tz": 180
    },
    "id": "uV_9lcXxxadR",
    "outputId": "482f6ce8-f660-4607-fd20-79667cf3aac7"
   },
   "outputs": [],
   "source": [
    "serie.values"
   ]
  },
  {
   "cell_type": "markdown",
   "metadata": {
    "id": "V2p0wEmwh_Kq"
   },
   "source": [
    "Ao mesmo tempo, também conseguimos obter as propridades do array de dados da série pela própria série em si"
   ]
  },
  {
   "cell_type": "code",
   "execution_count": null,
   "metadata": {
    "colab": {
     "base_uri": "https://localhost:8080/"
    },
    "executionInfo": {
     "elapsed": 3,
     "status": "ok",
     "timestamp": 1643139954491,
     "user": {
      "displayName": "Ignorância Zero",
      "photoUrl": "https://lh3.googleusercontent.com/a/default-user=s64",
      "userId": "00329270583361032720"
     },
     "user_tz": 180
    },
    "id": "UcWBtRrqwgGh",
    "outputId": "84c2eb40-af87-4d82-8e38-415c4d271dd5"
   },
   "outputs": [],
   "source": [
    "serie.dtype"
   ]
  },
  {
   "cell_type": "code",
   "execution_count": null,
   "metadata": {
    "colab": {
     "base_uri": "https://localhost:8080/"
    },
    "executionInfo": {
     "elapsed": 216,
     "status": "ok",
     "timestamp": 1643139966376,
     "user": {
      "displayName": "Ignorância Zero",
      "photoUrl": "https://lh3.googleusercontent.com/a/default-user=s64",
      "userId": "00329270583361032720"
     },
     "user_tz": 180
    },
    "id": "4pgYk48SxhNw",
    "outputId": "ea58fa8b-1912-450b-b5bc-2aa854690f38"
   },
   "outputs": [],
   "source": [
    "serie.shape"
   ]
  },
  {
   "cell_type": "code",
   "execution_count": null,
   "metadata": {
    "colab": {
     "base_uri": "https://localhost:8080/"
    },
    "executionInfo": {
     "elapsed": 216,
     "status": "ok",
     "timestamp": 1643139975008,
     "user": {
      "displayName": "Ignorância Zero",
      "photoUrl": "https://lh3.googleusercontent.com/a/default-user=s64",
      "userId": "00329270583361032720"
     },
     "user_tz": 180
    },
    "id": "x5f2uUXNxjrg",
    "outputId": "279fd61b-73e2-4368-f000-104ed81d31ae"
   },
   "outputs": [],
   "source": [
    "serie.size"
   ]
  },
  {
   "cell_type": "code",
   "execution_count": null,
   "metadata": {
    "colab": {
     "base_uri": "https://localhost:8080/",
     "height": 287
    },
    "executionInfo": {
     "elapsed": 636,
     "status": "error",
     "timestamp": 1643139987669,
     "user": {
      "displayName": "Ignorância Zero",
      "photoUrl": "https://lh3.googleusercontent.com/a/default-user=s64",
      "userId": "00329270583361032720"
     },
     "user_tz": 180
    },
    "id": "QK2Fz89NxmMQ",
    "outputId": "ed4f7536-dd76-4c30-e497-938540baeaec"
   },
   "outputs": [],
   "source": [
    "serie.itemsize"
   ]
  },
  {
   "cell_type": "markdown",
   "metadata": {
    "id": "zQjGWL3ch_Ks"
   },
   "source": [
    "Séries podem ser criadas a partir de múltiplos tipos de objetos distintos"
   ]
  },
  {
   "cell_type": "code",
   "execution_count": null,
   "metadata": {
    "colab": {
     "base_uri": "https://localhost:8080/"
    },
    "executionInfo": {
     "elapsed": 3,
     "status": "ok",
     "timestamp": 1643140029508,
     "user": {
      "displayName": "Ignorância Zero",
      "photoUrl": "https://lh3.googleusercontent.com/a/default-user=s64",
      "userId": "00329270583361032720"
     },
     "user_tz": 180
    },
    "id": "mDUEp3uzwgGh",
    "outputId": "916ca563-c59c-4e1d-cc94-69975e9cfad7"
   },
   "outputs": [],
   "source": [
    "por_lista = [\"a\", \"b\", \"c\"]\n",
    "serie_lista = pd.Series(data=por_lista)\n",
    "serie_lista"
   ]
  },
  {
   "cell_type": "code",
   "execution_count": null,
   "metadata": {
    "colab": {
     "base_uri": "https://localhost:8080/"
    },
    "executionInfo": {
     "elapsed": 3,
     "status": "ok",
     "timestamp": 1643140067809,
     "user": {
      "displayName": "Ignorância Zero",
      "photoUrl": "https://lh3.googleusercontent.com/a/default-user=s64",
      "userId": "00329270583361032720"
     },
     "user_tz": 180
    },
    "id": "8aDbBHeZx1sh",
    "outputId": "5d26286e-09ff-458f-e609-4b7bf0278315"
   },
   "outputs": [],
   "source": [
    "por_array = np.arange(1, 4)\n",
    "serie_array = pd.Series(data=por_array)\n",
    "serie_array"
   ]
  },
  {
   "cell_type": "code",
   "execution_count": null,
   "metadata": {
    "colab": {
     "base_uri": "https://localhost:8080/"
    },
    "executionInfo": {
     "elapsed": 229,
     "status": "ok",
     "timestamp": 1643140108677,
     "user": {
      "displayName": "Ignorância Zero",
      "photoUrl": "https://lh3.googleusercontent.com/a/default-user=s64",
      "userId": "00329270583361032720"
     },
     "user_tz": 180
    },
    "id": "XrcLKKrHx9cC",
    "outputId": "cea908c3-50e5-412f-b132-1146cbb6ebc3"
   },
   "outputs": [],
   "source": [
    "por_dicionario = {\"a\": 10, \"b\": 20, \"c\": 30}\n",
    "serie_dicionario = pd.Series(data=por_dicionario)\n",
    "serie_dicionario"
   ]
  },
  {
   "cell_type": "markdown",
   "metadata": {
    "id": "0bQ950nGh_Ku"
   },
   "source": [
    "---"
   ]
  },
  {
   "cell_type": "markdown",
   "metadata": {
    "id": "GDORDEbUh_Ku"
   },
   "source": [
    "**Exercício**\n",
    "\n",
    "Represente a gráfico abaixo como uma série, na qual os paises são os índices e os casos são os dados.\n",
    "\n",
    "<img src=\"http://cdn.statcdn.com/Infographic/images/normal/21176.jpeg\" width=300 height=600/>"
   ]
  },
  {
   "cell_type": "code",
   "execution_count": null,
   "metadata": {
    "id": "0GTBcjVmh_Ku",
    "solution2": "hidden",
    "solution2_first": true
   },
   "outputs": [],
   "source": []
  },
  {
   "cell_type": "code",
   "execution_count": null,
   "metadata": {
    "cellView": "form",
    "id": "ejqGAxZzh_Ku",
    "solution2": "hidden"
   },
   "outputs": [],
   "source": [
    "#@title Resposta\n",
    "pd.Series({\n",
    "    \"Belgium\": 39166,\n",
    "    \"Israel\": 35572,\n",
    "    \"Czechia\": 33103,\n",
    "    \"Panama\": 32300,\n",
    "    \"Kuwait\": 30957,\n",
    "    \"United States\": 28414,\n",
    "    \"Peru\": 28213,\n",
    "    \"Chile\": 27455,\n",
    "    \"Argentina\": 26593,\n",
    "    \"Spain\": 26554\n",
    "})"
   ]
  },
  {
   "cell_type": "markdown",
   "metadata": {
    "id": "LYg_QVwoh_Kv"
   },
   "source": [
    "---"
   ]
  },
  {
   "cell_type": "markdown",
   "metadata": {
    "id": "mjMpz1m35dug"
   },
   "source": [
    "## Indexação "
   ]
  },
  {
   "cell_type": "markdown",
   "metadata": {
    "id": "nvjy0qq0h_Kv"
   },
   "source": [
    "Séries, diferente de arrays e listas, além de poderem ser indexadas pelo número do índice, também podem ser indexadas pelo nome do mesmo"
   ]
  },
  {
   "cell_type": "code",
   "execution_count": null,
   "metadata": {
    "colab": {
     "base_uri": "https://localhost:8080/"
    },
    "executionInfo": {
     "elapsed": 240,
     "status": "ok",
     "timestamp": 1643140298110,
     "user": {
      "displayName": "Ignorância Zero",
      "photoUrl": "https://lh3.googleusercontent.com/a/default-user=s64",
      "userId": "00329270583361032720"
     },
     "user_tz": 180
    },
    "id": "SJ6CBmMBwgGj",
    "outputId": "cb9a1db2-cffd-4f34-e64c-bc0a9c57047b"
   },
   "outputs": [],
   "source": [
    "por_dicionario = {\"a\": 10, \"b\": 20, \"c\": 30, \"d\": 40, \"e\": 50}\n",
    "serie_dicionario = pd.Series(data=por_dicionario)\n",
    "serie_dicionario"
   ]
  },
  {
   "cell_type": "code",
   "execution_count": null,
   "metadata": {
    "colab": {
     "base_uri": "https://localhost:8080/"
    },
    "executionInfo": {
     "elapsed": 240,
     "status": "ok",
     "timestamp": 1643140315527,
     "user": {
      "displayName": "Ignorância Zero",
      "photoUrl": "https://lh3.googleusercontent.com/a/default-user=s64",
      "userId": "00329270583361032720"
     },
     "user_tz": 180
    },
    "id": "8O6QrlSzy1a3",
    "outputId": "18dc97da-eb0b-4269-c242-672e8a8da660"
   },
   "outputs": [],
   "source": [
    "serie_dicionario[1]"
   ]
  },
  {
   "cell_type": "code",
   "execution_count": null,
   "metadata": {
    "colab": {
     "base_uri": "https://localhost:8080/"
    },
    "executionInfo": {
     "elapsed": 239,
     "status": "ok",
     "timestamp": 1643140338633,
     "user": {
      "displayName": "Ignorância Zero",
      "photoUrl": "https://lh3.googleusercontent.com/a/default-user=s64",
      "userId": "00329270583361032720"
     },
     "user_tz": 180
    },
    "id": "y6UfCLPhy7P2",
    "outputId": "f03850e2-a5e0-40c3-8dfa-3d9431d699de"
   },
   "outputs": [],
   "source": [
    "serie_dicionario[[1, 2]]"
   ]
  },
  {
   "cell_type": "code",
   "execution_count": null,
   "metadata": {
    "colab": {
     "base_uri": "https://localhost:8080/"
    },
    "executionInfo": {
     "elapsed": 3,
     "status": "ok",
     "timestamp": 1643140366147,
     "user": {
      "displayName": "Ignorância Zero",
      "photoUrl": "https://lh3.googleusercontent.com/a/default-user=s64",
      "userId": "00329270583361032720"
     },
     "user_tz": 180
    },
    "id": "z2ymf_m6zCOB",
    "outputId": "e69ad745-aeb0-490d-c827-2568ad6f1a42"
   },
   "outputs": [],
   "source": [
    "serie_dicionario[\"b\"]"
   ]
  },
  {
   "cell_type": "code",
   "execution_count": null,
   "metadata": {
    "colab": {
     "base_uri": "https://localhost:8080/"
    },
    "executionInfo": {
     "elapsed": 245,
     "status": "ok",
     "timestamp": 1643140379786,
     "user": {
      "displayName": "Ignorância Zero",
      "photoUrl": "https://lh3.googleusercontent.com/a/default-user=s64",
      "userId": "00329270583361032720"
     },
     "user_tz": 180
    },
    "id": "zv6L3wzhzFhB",
    "outputId": "e37e4e8e-f4fc-48f2-c88e-c6351c0fb057"
   },
   "outputs": [],
   "source": [
    "serie_dicionario[[\"b\", \"c\"]]"
   ]
  },
  {
   "cell_type": "markdown",
   "metadata": {
    "id": "3bgqJGCTh_Kw"
   },
   "source": [
    "Entretanto, o que acontece se os índices da série também forem números?"
   ]
  },
  {
   "cell_type": "code",
   "execution_count": null,
   "metadata": {
    "colab": {
     "base_uri": "https://localhost:8080/"
    },
    "executionInfo": {
     "elapsed": 4,
     "status": "ok",
     "timestamp": 1643140446047,
     "user": {
      "displayName": "Ignorância Zero",
      "photoUrl": "https://lh3.googleusercontent.com/a/default-user=s64",
      "userId": "00329270583361032720"
     },
     "user_tz": 180
    },
    "id": "x6d-hHPdwgGk",
    "outputId": "a029c422-022b-48b6-d117-08c1e2a949e6"
   },
   "outputs": [],
   "source": [
    "serie_complexa = pd.Series(data=[1, 2, 3], index=[3, 2, 1])\n",
    "serie_complexa"
   ]
  },
  {
   "cell_type": "code",
   "execution_count": null,
   "metadata": {
    "colab": {
     "base_uri": "https://localhost:8080/",
     "height": 571
    },
    "executionInfo": {
     "elapsed": 372,
     "status": "error",
     "timestamp": 1643140455036,
     "user": {
      "displayName": "Ignorância Zero",
      "photoUrl": "https://lh3.googleusercontent.com/a/default-user=s64",
      "userId": "00329270583361032720"
     },
     "user_tz": 180
    },
    "id": "RkLCczVmzYby",
    "outputId": "b9cfa626-5ed1-4bc8-e8b8-060283861162"
   },
   "outputs": [],
   "source": [
    "serie_complexa[0]"
   ]
  },
  {
   "cell_type": "markdown",
   "metadata": {
    "id": "d3WnPq8jh_Kx"
   },
   "source": [
    "Veja que neste caso ao procurar o valor 0 a série deu um erro, pois não existe um índice de nome zero. Desta forma, no caso de índices de séries nomeados como números a série nos obriga a procurar o nome daquele índice"
   ]
  },
  {
   "cell_type": "code",
   "execution_count": null,
   "metadata": {
    "colab": {
     "base_uri": "https://localhost:8080/"
    },
    "executionInfo": {
     "elapsed": 234,
     "status": "ok",
     "timestamp": 1643140474426,
     "user": {
      "displayName": "Ignorância Zero",
      "photoUrl": "https://lh3.googleusercontent.com/a/default-user=s64",
      "userId": "00329270583361032720"
     },
     "user_tz": 180
    },
    "id": "TPxWweKdwgGk",
    "outputId": "aea85ec1-28f6-47d2-931e-f160d7c1792a"
   },
   "outputs": [],
   "source": [
    "serie_complexa[3]"
   ]
  },
  {
   "cell_type": "markdown",
   "metadata": {
    "id": "3IrtZ2Ivh_Kx"
   },
   "source": [
    "Porém, nós ainda conseguimos encontrar os valores da série pelo número do índice utilizando a sintaxe do .iloc"
   ]
  },
  {
   "cell_type": "code",
   "execution_count": null,
   "metadata": {
    "colab": {
     "base_uri": "https://localhost:8080/"
    },
    "executionInfo": {
     "elapsed": 212,
     "status": "ok",
     "timestamp": 1643140523466,
     "user": {
      "displayName": "Ignorância Zero",
      "photoUrl": "https://lh3.googleusercontent.com/a/default-user=s64",
      "userId": "00329270583361032720"
     },
     "user_tz": 180
    },
    "id": "MDvIw_f3wgGk",
    "outputId": "84c5d5e1-0c09-4d0b-cbde-4891c580adfb"
   },
   "outputs": [],
   "source": [
    "serie_complexa.iloc[0]"
   ]
  },
  {
   "cell_type": "markdown",
   "metadata": {
    "id": "rLPj26VUh_Kx"
   },
   "source": [
    "Essa sintaxe vai aceitar as mesmas funcionalidades de indexação que listas e arrays. Desta forma, independente de como os índices das séries forem construídos recomendamos sempre utilizar o nome dos itens para a sintaxe de chaves e o .iloc caso esteja procurando pelo número do índice"
   ]
  },
  {
   "cell_type": "code",
   "execution_count": null,
   "metadata": {
    "colab": {
     "base_uri": "https://localhost:8080/"
    },
    "executionInfo": {
     "elapsed": 2,
     "status": "ok",
     "timestamp": 1643140541819,
     "user": {
      "displayName": "Ignorância Zero",
      "photoUrl": "https://lh3.googleusercontent.com/a/default-user=s64",
      "userId": "00329270583361032720"
     },
     "user_tz": 180
    },
    "id": "2k5gsFqiwgGl",
    "outputId": "06c4460f-1fe3-4237-de7e-b1077ebb9bf7"
   },
   "outputs": [],
   "source": [
    "serie_complexa.iloc[[1, 2]]"
   ]
  },
  {
   "cell_type": "code",
   "execution_count": null,
   "metadata": {
    "colab": {
     "base_uri": "https://localhost:8080/"
    },
    "executionInfo": {
     "elapsed": 349,
     "status": "ok",
     "timestamp": 1643140555670,
     "user": {
      "displayName": "Ignorância Zero",
      "photoUrl": "https://lh3.googleusercontent.com/a/default-user=s64",
      "userId": "00329270583361032720"
     },
     "user_tz": 180
    },
    "id": "x-nHSmjKzv9h",
    "outputId": "11a23415-1418-4206-e63e-6777314a2637"
   },
   "outputs": [],
   "source": [
    "serie_complexa.iloc[1:]"
   ]
  },
  {
   "cell_type": "markdown",
   "metadata": {
    "id": "M2OpSZFZh_Ky"
   },
   "source": [
    "É interessante notar que séries também aceitam slicing, só que não só pelo número como também pelo nome"
   ]
  },
  {
   "cell_type": "code",
   "execution_count": null,
   "metadata": {
    "colab": {
     "base_uri": "https://localhost:8080/"
    },
    "executionInfo": {
     "elapsed": 358,
     "status": "ok",
     "timestamp": 1643140591195,
     "user": {
      "displayName": "Ignorância Zero",
      "photoUrl": "https://lh3.googleusercontent.com/a/default-user=s64",
      "userId": "00329270583361032720"
     },
     "user_tz": 180
    },
    "id": "w6UPv7NmwgGl",
    "outputId": "4c7cd036-30e0-4629-f951-7c881ad2c0b5"
   },
   "outputs": [],
   "source": [
    "serie_dicionario[\"b\":]"
   ]
  },
  {
   "cell_type": "code",
   "execution_count": null,
   "metadata": {
    "colab": {
     "base_uri": "https://localhost:8080/"
    },
    "executionInfo": {
     "elapsed": 232,
     "status": "ok",
     "timestamp": 1643140656280,
     "user": {
      "displayName": "Ignorância Zero",
      "photoUrl": "https://lh3.googleusercontent.com/a/default-user=s64",
      "userId": "00329270583361032720"
     },
     "user_tz": 180
    },
    "id": "4XskNPr6z9Ph",
    "outputId": "558530d0-e447-4d9e-ee48-06698066bf9a"
   },
   "outputs": [],
   "source": [
    "serie_dicionario[\"b\":\"c\"]"
   ]
  },
  {
   "cell_type": "code",
   "execution_count": null,
   "metadata": {
    "colab": {
     "base_uri": "https://localhost:8080/"
    },
    "executionInfo": {
     "elapsed": 3,
     "status": "ok",
     "timestamp": 1643140699997,
     "user": {
      "displayName": "Ignorância Zero",
      "photoUrl": "https://lh3.googleusercontent.com/a/default-user=s64",
      "userId": "00329270583361032720"
     },
     "user_tz": 180
    },
    "id": "rj2nzs8J0Pch",
    "outputId": "968169cd-66f9-4f39-ec89-5f4adff59bf2"
   },
   "outputs": [],
   "source": [
    "serie_dicionario[\"e\":\"b\":-2]"
   ]
  },
  {
   "cell_type": "markdown",
   "metadata": {
    "id": "fmpFo4_th_Kz"
   },
   "source": [
    "Tal como arrays podemos alterar os valores da série selecionando os índices que desejamos alterar"
   ]
  },
  {
   "cell_type": "code",
   "execution_count": null,
   "metadata": {
    "colab": {
     "base_uri": "https://localhost:8080/"
    },
    "executionInfo": {
     "elapsed": 237,
     "status": "ok",
     "timestamp": 1643140746027,
     "user": {
      "displayName": "Ignorância Zero",
      "photoUrl": "https://lh3.googleusercontent.com/a/default-user=s64",
      "userId": "00329270583361032720"
     },
     "user_tz": 180
    },
    "id": "tDjX_PN8wgGl",
    "outputId": "ef07a127-beec-4387-ef1a-e760245abf3b"
   },
   "outputs": [],
   "source": [
    "print(serie_dicionario)\n",
    "serie_dicionario[\"b\":\"c\"] = 3\n",
    "print(serie_dicionario)"
   ]
  },
  {
   "cell_type": "markdown",
   "metadata": {
    "id": "TnBL2pj4h_Kz"
   },
   "source": [
    "É interessante notar que por padrão nunca alteramos o objeto de origem da série, mas a alteração do slice gerará alteração na série original"
   ]
  },
  {
   "cell_type": "code",
   "execution_count": null,
   "metadata": {
    "colab": {
     "base_uri": "https://localhost:8080/"
    },
    "executionInfo": {
     "elapsed": 212,
     "status": "ok",
     "timestamp": 1643140773802,
     "user": {
      "displayName": "Ignorância Zero",
      "photoUrl": "https://lh3.googleusercontent.com/a/default-user=s64",
      "userId": "00329270583361032720"
     },
     "user_tz": 180
    },
    "id": "wle1sZAnwgGm",
    "outputId": "47744111-eca8-4ec0-c942-0a7f8bb90f6c"
   },
   "outputs": [],
   "source": [
    "por_dicionario"
   ]
  },
  {
   "cell_type": "code",
   "execution_count": null,
   "metadata": {
    "colab": {
     "base_uri": "https://localhost:8080/"
    },
    "executionInfo": {
     "elapsed": 219,
     "status": "ok",
     "timestamp": 1643140808310,
     "user": {
      "displayName": "Ignorância Zero",
      "photoUrl": "https://lh3.googleusercontent.com/a/default-user=s64",
      "userId": "00329270583361032720"
     },
     "user_tz": 180
    },
    "id": "woptREtO0pGB",
    "outputId": "348c83c3-cebb-430c-805d-36849739140f"
   },
   "outputs": [],
   "source": [
    "sl = serie_dicionario[\"b\":\"c\"]\n",
    "sl[:] = 20\n",
    "serie_dicionario"
   ]
  },
  {
   "cell_type": "markdown",
   "metadata": {
    "id": "krwtpC90h_Kz"
   },
   "source": [
    "Tal como arrays, listas e dicionários ao passar uma série para uma função você a passa como referência, de forma que ela será copiada"
   ]
  },
  {
   "cell_type": "code",
   "execution_count": null,
   "metadata": {
    "colab": {
     "base_uri": "https://localhost:8080/"
    },
    "executionInfo": {
     "elapsed": 4,
     "status": "ok",
     "timestamp": 1643140879676,
     "user": {
      "displayName": "Ignorância Zero",
      "photoUrl": "https://lh3.googleusercontent.com/a/default-user=s64",
      "userId": "00329270583361032720"
     },
     "user_tz": 180
    },
    "id": "qlFDZjqbwgGm",
    "outputId": "70575dca-19d3-4de6-d00b-9b03fd77fdc9"
   },
   "outputs": [],
   "source": [
    "def muda_serie(serie):\n",
    "  serie.iloc[-1] = np.inf\n",
    "muda_serie(serie_dicionario)\n",
    "serie_dicionario"
   ]
  },
  {
   "cell_type": "markdown",
   "metadata": {
    "id": "g_I0QUINUxDU"
   },
   "source": [
    "---"
   ]
  },
  {
   "cell_type": "markdown",
   "metadata": {
    "id": "zl_KOkQSUxDU"
   },
   "source": [
    "**Exercício**\n",
    "\n",
    "Abaixo carregamos uma série de dados com o número de casos de COVID registrados por país na data mais recente. \n",
    "\n",
    "Cada país é representadado por um código ISO de 3 letras, entretanto, dentro dessa série há alguns códigos que começam com \"OWID_\", que representam grupos de países não oficiais. Por exemplo, \"OWID_AFR\" representa todos os países da áfrica. \n",
    "\n",
    "Para os países que começam com \"OWID_\" troque o valor registrado por np.nan"
   ]
  },
  {
   "cell_type": "code",
   "execution_count": null,
   "metadata": {
    "ExecuteTime": {
     "end_time": "2021-12-28T13:32:00.666589Z",
     "start_time": "2021-12-28T13:32:00.522973Z"
    },
    "id": "KGx7D-5eUxDU",
    "solution2": "hidden",
    "solution2_first": true
   },
   "outputs": [],
   "source": [
    "serie_owid = pd.read_csv(\n",
    "    \"https://raw.githubusercontent.com/owid/covid-19-data/master/public/data/latest/owid-covid-latest.csv\"\n",
    ").set_index(\"iso_code\")[\"total_cases\"]"
   ]
  },
  {
   "cell_type": "code",
   "execution_count": null,
   "metadata": {
    "ExecuteTime": {
     "end_time": "2021-12-28T13:33:05.173336Z",
     "start_time": "2021-12-28T13:33:04.964369Z"
    },
    "cellView": "form",
    "id": "i55TbjZqUxDU",
    "solution2": "hidden"
   },
   "outputs": [],
   "source": [
    "#@title Resposta\n",
    "serie_owid = pd.read_csv(\n",
    "    \"https://raw.githubusercontent.com/owid/covid-19-data/master/public/data/latest/owid-covid-latest.csv\"\n",
    ").set_index(\"iso_code\")[\"total_cases\"]\n",
    "\n",
    "anular = [s for s in serie_owid.index if s.startswith(\"OWID_\")]\n",
    "serie_owid[anular] = np.nan\n",
    "serie_owid"
   ]
  },
  {
   "cell_type": "markdown",
   "metadata": {
    "id": "vSg3JCVTh_K0"
   },
   "source": [
    "---"
   ]
  },
  {
   "cell_type": "markdown",
   "metadata": {
    "id": "fxEy04sg5duh"
   },
   "source": [
    "## Operações "
   ]
  },
  {
   "cell_type": "markdown",
   "metadata": {
    "id": "pn8Rewu5h_K0"
   },
   "source": [
    "Tal como arrays, séries vem recheadas de operações matemáticas clássicas que podem ser aplicadas entre séries. Entretanto, diferente arrays onde fazemos o match dos índices ou o broadcasting de um array em outro, séries esperam que ocorre o match dos nomes de índices para funcionar"
   ]
  },
  {
   "cell_type": "code",
   "execution_count": null,
   "metadata": {
    "id": "XEtmz1Z4wgGn"
   },
   "outputs": [],
   "source": [
    "np.random.seed(42)\n",
    "\n",
    "serie1 = pd.Series(data=np.random.normal(size=5))\n",
    "serie2 = pd.Series(data=np.random.normal(size=5), index=np.arange(4, -1, -1))\n",
    "serie3 = pd.Series(data=np.random.normal(size=5), index=np.arange(10, 15))\n",
    "serie4 = pd.Series(data=np.random.normal(size=5), index=np.arange(4, 9))"
   ]
  },
  {
   "cell_type": "code",
   "execution_count": null,
   "metadata": {
    "colab": {
     "base_uri": "https://localhost:8080/"
    },
    "executionInfo": {
     "elapsed": 270,
     "status": "ok",
     "timestamp": 1643220453957,
     "user": {
      "displayName": "Ignorância Zero",
      "photoUrl": "https://lh3.googleusercontent.com/a/default-user=s64",
      "userId": "00329270583361032720"
     },
     "user_tz": 180
    },
    "id": "DsDgRVDqjwen",
    "outputId": "ebc4990d-eb4a-4c82-9805-358f9070113e"
   },
   "outputs": [],
   "source": [
    "print(serie1, serie2, serie3, serie4)"
   ]
  },
  {
   "cell_type": "code",
   "execution_count": null,
   "metadata": {
    "colab": {
     "base_uri": "https://localhost:8080/"
    },
    "executionInfo": {
     "elapsed": 237,
     "status": "ok",
     "timestamp": 1643220268541,
     "user": {
      "displayName": "Ignorância Zero",
      "photoUrl": "https://lh3.googleusercontent.com/a/default-user=s64",
      "userId": "00329270583361032720"
     },
     "user_tz": 180
    },
    "id": "C0Etkrf3j1Eo",
    "outputId": "82263147-f39f-4821-a126-66908af64c08"
   },
   "outputs": [],
   "source": [
    "serie1 + serie2"
   ]
  },
  {
   "cell_type": "markdown",
   "metadata": {
    "id": "qv9DsCk0h_K1"
   },
   "source": [
    "Veja que ao tentar somar as séries onde os índices não batem nós iremos produzir uma série com todos os índices combinados, isto acontece porque antes da operação o pandas cria os índices faltantes em cada uma das séries e preenche os valores desses índices com nulos. Dado que o resultado da operação de soma de NaN + Número = NaN este é o valor que obtemos"
   ]
  },
  {
   "cell_type": "code",
   "execution_count": null,
   "metadata": {
    "colab": {
     "base_uri": "https://localhost:8080/"
    },
    "executionInfo": {
     "elapsed": 232,
     "status": "ok",
     "timestamp": 1643220348399,
     "user": {
      "displayName": "Ignorância Zero",
      "photoUrl": "https://lh3.googleusercontent.com/a/default-user=s64",
      "userId": "00329270583361032720"
     },
     "user_tz": 180
    },
    "id": "TE6CHPk6wgGn",
    "outputId": "02e30222-bdd7-4e07-cc66-9c2fd863ce1a"
   },
   "outputs": [],
   "source": [
    "serie1 + serie3"
   ]
  },
  {
   "cell_type": "code",
   "execution_count": null,
   "metadata": {
    "colab": {
     "base_uri": "https://localhost:8080/"
    },
    "executionInfo": {
     "elapsed": 265,
     "status": "ok",
     "timestamp": 1643220399551,
     "user": {
      "displayName": "Ignorância Zero",
      "photoUrl": "https://lh3.googleusercontent.com/a/default-user=s64",
      "userId": "00329270583361032720"
     },
     "user_tz": 180
    },
    "id": "y6Wzq9ZFkWK4",
    "outputId": "8708ec66-7ed7-4a4d-9d2e-f7c1d3889ad5"
   },
   "outputs": [],
   "source": [
    "np.nan + 3"
   ]
  },
  {
   "cell_type": "code",
   "execution_count": null,
   "metadata": {
    "colab": {
     "base_uri": "https://localhost:8080/"
    },
    "executionInfo": {
     "elapsed": 3,
     "status": "ok",
     "timestamp": 1643220442914,
     "user": {
      "displayName": "Ignorância Zero",
      "photoUrl": "https://lh3.googleusercontent.com/a/default-user=s64",
      "userId": "00329270583361032720"
     },
     "user_tz": 180
    },
    "id": "3frVPDTBkgon",
    "outputId": "15e755cc-8911-41fa-9f35-fc782d4944b3"
   },
   "outputs": [],
   "source": [
    "serie1 + serie4"
   ]
  },
  {
   "cell_type": "markdown",
   "metadata": {
    "id": "8u1aPrsxh_K1"
   },
   "source": [
    "Todas as principais operações matemáticas são suportadas por séries"
   ]
  },
  {
   "cell_type": "markdown",
   "metadata": {
    "id": "e0rlvegPh_K1"
   },
   "source": [
    "Soma"
   ]
  },
  {
   "cell_type": "code",
   "execution_count": null,
   "metadata": {
    "colab": {
     "base_uri": "https://localhost:8080/"
    },
    "executionInfo": {
     "elapsed": 229,
     "status": "ok",
     "timestamp": 1643220475641,
     "user": {
      "displayName": "Ignorância Zero",
      "photoUrl": "https://lh3.googleusercontent.com/a/default-user=s64",
      "userId": "00329270583361032720"
     },
     "user_tz": 180
    },
    "id": "3fYCFEfcwgGo",
    "outputId": "08dc6a04-77d6-4c65-d468-742ec98ffca6"
   },
   "outputs": [],
   "source": [
    "serie1 + serie2"
   ]
  },
  {
   "cell_type": "code",
   "execution_count": null,
   "metadata": {
    "colab": {
     "base_uri": "https://localhost:8080/"
    },
    "executionInfo": {
     "elapsed": 239,
     "status": "ok",
     "timestamp": 1643220480564,
     "user": {
      "displayName": "Ignorância Zero",
      "photoUrl": "https://lh3.googleusercontent.com/a/default-user=s64",
      "userId": "00329270583361032720"
     },
     "user_tz": 180
    },
    "id": "52lbeUjBkqJn",
    "outputId": "8848577c-06be-4539-c0a9-a0c0f2bcd87e"
   },
   "outputs": [],
   "source": [
    "serie1 + 2"
   ]
  },
  {
   "cell_type": "code",
   "execution_count": null,
   "metadata": {
    "colab": {
     "base_uri": "https://localhost:8080/"
    },
    "executionInfo": {
     "elapsed": 418,
     "status": "ok",
     "timestamp": 1643220494096,
     "user": {
      "displayName": "Ignorância Zero",
      "photoUrl": "https://lh3.googleusercontent.com/a/default-user=s64",
      "userId": "00329270583361032720"
     },
     "user_tz": 180
    },
    "id": "_VH6Be-2ksS3",
    "outputId": "1fbf9932-1536-47de-e157-8de3b0776c74"
   },
   "outputs": [],
   "source": [
    "serie1.add(serie2)"
   ]
  },
  {
   "cell_type": "code",
   "execution_count": null,
   "metadata": {
    "colab": {
     "base_uri": "https://localhost:8080/"
    },
    "executionInfo": {
     "elapsed": 230,
     "status": "ok",
     "timestamp": 1643220522136,
     "user": {
      "displayName": "Ignorância Zero",
      "photoUrl": "https://lh3.googleusercontent.com/a/default-user=s64",
      "userId": "00329270583361032720"
     },
     "user_tz": 180
    },
    "id": "l1fVD8uRkvXn",
    "outputId": "6ec641b1-9eac-4d44-f301-8914dbf69061"
   },
   "outputs": [],
   "source": [
    "serie1.add(np.array([1, 2, 3, 4, 5])) # pode ser array, lista ou tupla"
   ]
  },
  {
   "cell_type": "code",
   "execution_count": null,
   "metadata": {
    "colab": {
     "base_uri": "https://localhost:8080/"
    },
    "executionInfo": {
     "elapsed": 235,
     "status": "ok",
     "timestamp": 1643220564320,
     "user": {
      "displayName": "Ignorância Zero",
      "photoUrl": "https://lh3.googleusercontent.com/a/default-user=s64",
      "userId": "00329270583361032720"
     },
     "user_tz": 180
    },
    "id": "534y-hP6k5yY",
    "outputId": "7ab3a0ab-62c5-47bc-b0c9-d2c65a8c809a"
   },
   "outputs": [],
   "source": [
    "serie1.add(serie4, fill_value=0)"
   ]
  },
  {
   "cell_type": "markdown",
   "metadata": {
    "id": "GqlcZ4-kh_K3"
   },
   "source": [
    "Subtração"
   ]
  },
  {
   "cell_type": "code",
   "execution_count": null,
   "metadata": {
    "colab": {
     "base_uri": "https://localhost:8080/"
    },
    "executionInfo": {
     "elapsed": 280,
     "status": "ok",
     "timestamp": 1643220617736,
     "user": {
      "displayName": "Ignorância Zero",
      "photoUrl": "https://lh3.googleusercontent.com/a/default-user=s64",
      "userId": "00329270583361032720"
     },
     "user_tz": 180
    },
    "id": "24EAjya1wgGo",
    "outputId": "f553cedf-b27a-461e-ec1a-56a9ec4cd024"
   },
   "outputs": [],
   "source": [
    "serie1 - serie2"
   ]
  },
  {
   "cell_type": "code",
   "execution_count": null,
   "metadata": {
    "colab": {
     "base_uri": "https://localhost:8080/"
    },
    "executionInfo": {
     "elapsed": 2,
     "status": "ok",
     "timestamp": 1643220626716,
     "user": {
      "displayName": "Ignorância Zero",
      "photoUrl": "https://lh3.googleusercontent.com/a/default-user=s64",
      "userId": "00329270583361032720"
     },
     "user_tz": 180
    },
    "id": "AfMSqRYClNCo",
    "outputId": "80223106-c3bf-405e-c9c2-e513cda590df"
   },
   "outputs": [],
   "source": [
    "serie1.sub(serie2)"
   ]
  },
  {
   "cell_type": "code",
   "execution_count": null,
   "metadata": {
    "colab": {
     "base_uri": "https://localhost:8080/"
    },
    "executionInfo": {
     "elapsed": 312,
     "status": "ok",
     "timestamp": 1643220635630,
     "user": {
      "displayName": "Ignorância Zero",
      "photoUrl": "https://lh3.googleusercontent.com/a/default-user=s64",
      "userId": "00329270583361032720"
     },
     "user_tz": 180
    },
    "id": "OLKeYcvclP7Y",
    "outputId": "c1484a6c-1582-4240-cefb-ae0aedcf1ecc"
   },
   "outputs": [],
   "source": [
    "serie1.subtract(serie2)"
   ]
  },
  {
   "cell_type": "markdown",
   "metadata": {
    "id": "aHtrP5fXh_K3"
   },
   "source": [
    "Multiplicação"
   ]
  },
  {
   "cell_type": "code",
   "execution_count": null,
   "metadata": {
    "colab": {
     "base_uri": "https://localhost:8080/"
    },
    "executionInfo": {
     "elapsed": 5,
     "status": "ok",
     "timestamp": 1643220652304,
     "user": {
      "displayName": "Ignorância Zero",
      "photoUrl": "https://lh3.googleusercontent.com/a/default-user=s64",
      "userId": "00329270583361032720"
     },
     "user_tz": 180
    },
    "id": "YoCOmAsEwgGo",
    "outputId": "bc675e42-5bcd-4524-e793-da7027e8108d"
   },
   "outputs": [],
   "source": [
    "serie1 * serie2"
   ]
  },
  {
   "cell_type": "code",
   "execution_count": null,
   "metadata": {
    "colab": {
     "base_uri": "https://localhost:8080/"
    },
    "executionInfo": {
     "elapsed": 3,
     "status": "ok",
     "timestamp": 1643220662166,
     "user": {
      "displayName": "Ignorância Zero",
      "photoUrl": "https://lh3.googleusercontent.com/a/default-user=s64",
      "userId": "00329270583361032720"
     },
     "user_tz": 180
    },
    "id": "s6I0fQsXlWFH",
    "outputId": "610a2436-85dd-4659-fc86-9c140c504989"
   },
   "outputs": [],
   "source": [
    "serie1 * serie4"
   ]
  },
  {
   "cell_type": "code",
   "execution_count": null,
   "metadata": {
    "colab": {
     "base_uri": "https://localhost:8080/"
    },
    "executionInfo": {
     "elapsed": 3,
     "status": "ok",
     "timestamp": 1643220672023,
     "user": {
      "displayName": "Ignorância Zero",
      "photoUrl": "https://lh3.googleusercontent.com/a/default-user=s64",
      "userId": "00329270583361032720"
     },
     "user_tz": 180
    },
    "id": "HQBflYFIlYO3",
    "outputId": "89a8e868-71de-49cd-d080-d6c54b0ac4bd"
   },
   "outputs": [],
   "source": [
    "serie1.mul(serie2)"
   ]
  },
  {
   "cell_type": "code",
   "execution_count": null,
   "metadata": {
    "colab": {
     "base_uri": "https://localhost:8080/"
    },
    "executionInfo": {
     "elapsed": 229,
     "status": "ok",
     "timestamp": 1643220683058,
     "user": {
      "displayName": "Ignorância Zero",
      "photoUrl": "https://lh3.googleusercontent.com/a/default-user=s64",
      "userId": "00329270583361032720"
     },
     "user_tz": 180
    },
    "id": "SN7NQJMSla43",
    "outputId": "a4df6f8a-bbfd-4fe3-f75b-68e4c443d764"
   },
   "outputs": [],
   "source": [
    "serie1.multiply(serie2)"
   ]
  },
  {
   "cell_type": "markdown",
   "metadata": {
    "id": "OiXVEmuTh_K4"
   },
   "source": [
    "Multiplicação (produto vetorial)"
   ]
  },
  {
   "cell_type": "code",
   "execution_count": null,
   "metadata": {
    "colab": {
     "base_uri": "https://localhost:8080/"
    },
    "executionInfo": {
     "elapsed": 2,
     "status": "ok",
     "timestamp": 1643220695157,
     "user": {
      "displayName": "Ignorância Zero",
      "photoUrl": "https://lh3.googleusercontent.com/a/default-user=s64",
      "userId": "00329270583361032720"
     },
     "user_tz": 180
    },
    "id": "r_begiEewgGo",
    "outputId": "81220b33-f317-4036-ae89-d5ce15fedd18"
   },
   "outputs": [],
   "source": [
    "serie1.dot(serie2)"
   ]
  },
  {
   "cell_type": "markdown",
   "metadata": {
    "id": "nqmyCaqbh_K4"
   },
   "source": [
    "Divisão"
   ]
  },
  {
   "cell_type": "code",
   "execution_count": null,
   "metadata": {
    "colab": {
     "base_uri": "https://localhost:8080/"
    },
    "executionInfo": {
     "elapsed": 231,
     "status": "ok",
     "timestamp": 1643220721606,
     "user": {
      "displayName": "Ignorância Zero",
      "photoUrl": "https://lh3.googleusercontent.com/a/default-user=s64",
      "userId": "00329270583361032720"
     },
     "user_tz": 180
    },
    "id": "nppQYQJBwgGp",
    "outputId": "8c53e1a3-d63d-44fe-caf5-526fcc062e41"
   },
   "outputs": [],
   "source": [
    "serie1 / serie2"
   ]
  },
  {
   "cell_type": "code",
   "execution_count": null,
   "metadata": {
    "colab": {
     "base_uri": "https://localhost:8080/"
    },
    "executionInfo": {
     "elapsed": 250,
     "status": "ok",
     "timestamp": 1643220731991,
     "user": {
      "displayName": "Ignorância Zero",
      "photoUrl": "https://lh3.googleusercontent.com/a/default-user=s64",
      "userId": "00329270583361032720"
     },
     "user_tz": 180
    },
    "id": "fqQESAWnlnFn",
    "outputId": "46d384fc-96f2-4993-ef62-7865dbae69c0"
   },
   "outputs": [],
   "source": [
    "serie1.div(serie2)"
   ]
  },
  {
   "cell_type": "code",
   "execution_count": null,
   "metadata": {
    "colab": {
     "base_uri": "https://localhost:8080/"
    },
    "executionInfo": {
     "elapsed": 3,
     "status": "ok",
     "timestamp": 1643220737626,
     "user": {
      "displayName": "Ignorância Zero",
      "photoUrl": "https://lh3.googleusercontent.com/a/default-user=s64",
      "userId": "00329270583361032720"
     },
     "user_tz": 180
    },
    "id": "Bm_3k9Omlol3",
    "outputId": "81b13d89-d638-469e-e688-2733a2decb28"
   },
   "outputs": [],
   "source": [
    "serie1.divide(serie2)"
   ]
  },
  {
   "cell_type": "markdown",
   "metadata": {
    "id": "CiI_Y8gmh_K5"
   },
   "source": [
    "Exponenciação"
   ]
  },
  {
   "cell_type": "code",
   "execution_count": null,
   "metadata": {
    "colab": {
     "base_uri": "https://localhost:8080/"
    },
    "executionInfo": {
     "elapsed": 262,
     "status": "ok",
     "timestamp": 1643220747510,
     "user": {
      "displayName": "Ignorância Zero",
      "photoUrl": "https://lh3.googleusercontent.com/a/default-user=s64",
      "userId": "00329270583361032720"
     },
     "user_tz": 180
    },
    "id": "G_I2pi48wgGp",
    "outputId": "ce3c1d63-fa7b-4997-cd4b-f88886680726"
   },
   "outputs": [],
   "source": [
    "serie1 ** serie2"
   ]
  },
  {
   "cell_type": "code",
   "execution_count": null,
   "metadata": {
    "colab": {
     "base_uri": "https://localhost:8080/"
    },
    "executionInfo": {
     "elapsed": 3,
     "status": "ok",
     "timestamp": 1643220763411,
     "user": {
      "displayName": "Ignorância Zero",
      "photoUrl": "https://lh3.googleusercontent.com/a/default-user=s64",
      "userId": "00329270583361032720"
     },
     "user_tz": 180
    },
    "id": "VwzXq70dlvOH",
    "outputId": "3e86af0e-b40e-4a69-d32f-f1a9681309d6"
   },
   "outputs": [],
   "source": [
    "serie1 ** 2"
   ]
  },
  {
   "cell_type": "code",
   "execution_count": null,
   "metadata": {
    "colab": {
     "base_uri": "https://localhost:8080/"
    },
    "executionInfo": {
     "elapsed": 262,
     "status": "ok",
     "timestamp": 1643220779822,
     "user": {
      "displayName": "Ignorância Zero",
      "photoUrl": "https://lh3.googleusercontent.com/a/default-user=s64",
      "userId": "00329270583361032720"
     },
     "user_tz": 180
    },
    "id": "UOQlin94lx8X",
    "outputId": "c97edf24-6814-4fbd-e0a2-4eae82885e92"
   },
   "outputs": [],
   "source": [
    "serie1.pow(serie2)"
   ]
  },
  {
   "cell_type": "markdown",
   "metadata": {
    "id": "HmsbXHvMh_K5"
   },
   "source": [
    "---"
   ]
  },
  {
   "cell_type": "markdown",
   "metadata": {
    "id": "5ZGl6LVmh_K5"
   },
   "source": [
    "**Exercício**\n",
    "\n",
    "Calcule a distância euclidiana entre duas séries"
   ]
  },
  {
   "cell_type": "code",
   "execution_count": null,
   "metadata": {
    "ExecuteTime": {
     "end_time": "2021-09-20T12:31:39.740441Z",
     "start_time": "2021-09-20T12:31:39.726502Z"
    },
    "id": "LOqT7_Tth_K6",
    "solution2": "hidden",
    "solution2_first": true
   },
   "outputs": [],
   "source": [
    "p = pd.Series([1, 2, 3, 4, 5, 6, 7, 8, 9, 10])\n",
    "q = pd.Series([10, 9, 8, 7, 6, 5, 4, 3, 2, 1])"
   ]
  },
  {
   "cell_type": "code",
   "execution_count": null,
   "metadata": {
    "cellView": "form",
    "id": "7wZ6Aw6Zh_K6",
    "solution2": "hidden"
   },
   "outputs": [],
   "source": [
    "#@title Resposta\n",
    "p = pd.Series([1, 2, 3, 4, 5, 6, 7, 8, 9, 10])\n",
    "q = pd.Series([10, 9, 8, 7, 6, 5, 4, 3, 2, 1])\n",
    "(p - q).dot(p - q) ** 0.5"
   ]
  },
  {
   "cell_type": "markdown",
   "metadata": {
    "id": "zY70hyR4h_K6"
   },
   "source": [
    "---"
   ]
  },
  {
   "cell_type": "markdown",
   "metadata": {
    "id": "UHu5ewtvh_K6"
   },
   "source": [
    "## Filtros "
   ]
  },
  {
   "cell_type": "markdown",
   "metadata": {
    "id": "fvXh-aBMh_K6"
   },
   "source": [
    "Tal como arrays, nós podemos comparar uma série vs algum valor numérico ou até mesmo contra uma segunda série, e o que receberemos é uma série de booleanos utilizando os índices da série original"
   ]
  },
  {
   "cell_type": "code",
   "execution_count": null,
   "metadata": {
    "colab": {
     "base_uri": "https://localhost:8080/"
    },
    "executionInfo": {
     "elapsed": 282,
     "status": "ok",
     "timestamp": 1643220893704,
     "user": {
      "displayName": "Ignorância Zero",
      "photoUrl": "https://lh3.googleusercontent.com/a/default-user=s64",
      "userId": "00329270583361032720"
     },
     "user_tz": 180
    },
    "id": "7I_uasqMwgGq",
    "outputId": "25d54e3e-fdfe-4b2f-b7e5-ea8858cb7327"
   },
   "outputs": [],
   "source": [
    "np.random.seed(42)\n",
    "\n",
    "serie = pd.Series(data=np.random.normal(size=10))\n",
    "serie"
   ]
  },
  {
   "cell_type": "code",
   "execution_count": null,
   "metadata": {
    "colab": {
     "base_uri": "https://localhost:8080/"
    },
    "executionInfo": {
     "elapsed": 2,
     "status": "ok",
     "timestamp": 1643220902514,
     "user": {
      "displayName": "Ignorância Zero",
      "photoUrl": "https://lh3.googleusercontent.com/a/default-user=s64",
      "userId": "00329270583361032720"
     },
     "user_tz": 180
    },
    "id": "YB5n16tlmRVH",
    "outputId": "3baf53af-5d5b-4250-e33f-54cd562b2cdb"
   },
   "outputs": [],
   "source": [
    "serie > 0"
   ]
  },
  {
   "cell_type": "markdown",
   "metadata": {
    "id": "vTKMQp7Hh_K7"
   },
   "source": [
    "Da mesma forma, podemos combinar expressões utilizando &/|/~ e ()"
   ]
  },
  {
   "cell_type": "code",
   "execution_count": null,
   "metadata": {
    "colab": {
     "base_uri": "https://localhost:8080/"
    },
    "executionInfo": {
     "elapsed": 3,
     "status": "ok",
     "timestamp": 1643220946685,
     "user": {
      "displayName": "Ignorância Zero",
      "photoUrl": "https://lh3.googleusercontent.com/a/default-user=s64",
      "userId": "00329270583361032720"
     },
     "user_tz": 180
    },
    "id": "gDRkHb5uwgGq",
    "outputId": "f905f12c-2ea8-4955-81d4-e4c5539a32e2"
   },
   "outputs": [],
   "source": [
    "(serie > 0) & (serie < 1)"
   ]
  },
  {
   "cell_type": "markdown",
   "metadata": {
    "id": "B4Fe9NiPh_K7"
   },
   "source": [
    "E utilizamos a mesma sintaxe de chaves para fazer filtros"
   ]
  },
  {
   "cell_type": "code",
   "execution_count": null,
   "metadata": {
    "colab": {
     "base_uri": "https://localhost:8080/"
    },
    "executionInfo": {
     "elapsed": 263,
     "status": "ok",
     "timestamp": 1643220971538,
     "user": {
      "displayName": "Ignorância Zero",
      "photoUrl": "https://lh3.googleusercontent.com/a/default-user=s64",
      "userId": "00329270583361032720"
     },
     "user_tz": 180
    },
    "id": "IMnUmQ4SwgGq",
    "outputId": "c78a6b3b-3786-4746-9043-626271bc92d9"
   },
   "outputs": [],
   "source": [
    "serie[(serie > 0) & (serie < 1)]"
   ]
  },
  {
   "cell_type": "markdown",
   "metadata": {
    "id": "dCxeOYMMh_K7"
   },
   "source": [
    "É importante destacar que a sintaxe acima espera que haja equivalência entre a série de booleanos usada como filtro e a série sendo filtrada, de forma que se não houver esse pareamento receberemos um erro de índices"
   ]
  },
  {
   "cell_type": "code",
   "execution_count": null,
   "metadata": {
    "colab": {
     "base_uri": "https://localhost:8080/",
     "height": 345
    },
    "executionInfo": {
     "elapsed": 240,
     "status": "error",
     "timestamp": 1643221031098,
     "user": {
      "displayName": "Ignorância Zero",
      "photoUrl": "https://lh3.googleusercontent.com/a/default-user=s64",
      "userId": "00329270583361032720"
     },
     "user_tz": 180
    },
    "id": "pDX_skR8wgGq",
    "outputId": "6553b792-85b9-4386-a96b-5916287065af"
   },
   "outputs": [],
   "source": [
    "serie1 = pd.Series(np.arange(10))\n",
    "serie2 = pd.Series(np.arange(10), index=np.arange(10, 20))\n",
    "serie1[serie2 > 5]"
   ]
  },
  {
   "cell_type": "markdown",
   "metadata": {
    "id": "jO7nxsGRh_K8"
   },
   "source": [
    "Apesar de ser possível fazer o filtro de uma série em outra, é extramemente desacomselhado a não ser que você tenha muita segurança no que está fazendo"
   ]
  },
  {
   "cell_type": "code",
   "execution_count": null,
   "metadata": {
    "colab": {
     "base_uri": "https://localhost:8080/"
    },
    "executionInfo": {
     "elapsed": 244,
     "status": "ok",
     "timestamp": 1643221607816,
     "user": {
      "displayName": "Ignorância Zero",
      "photoUrl": "https://lh3.googleusercontent.com/a/default-user=s64",
      "userId": "00329270583361032720"
     },
     "user_tz": 180
    },
    "id": "Z-d4FtEIorB3",
    "outputId": "1176fab2-ff3b-4175-a1ad-20db527e70d1"
   },
   "outputs": [],
   "source": [
    "serie1 = pd.Series(np.arange(10))\n",
    "serie2 = pd.Series(np.arange(10), index=np.arange(9, -1, -1))\n",
    "serie1[serie2 > 5]"
   ]
  },
  {
   "cell_type": "markdown",
   "metadata": {
    "id": "t0uMr2pNh_K8"
   },
   "source": [
    "De maneira análoga ao numpy, também temos os métodos de any e all"
   ]
  },
  {
   "cell_type": "code",
   "execution_count": null,
   "metadata": {
    "colab": {
     "base_uri": "https://localhost:8080/"
    },
    "executionInfo": {
     "elapsed": 3,
     "status": "ok",
     "timestamp": 1643221670712,
     "user": {
      "displayName": "Ignorância Zero",
      "photoUrl": "https://lh3.googleusercontent.com/a/default-user=s64",
      "userId": "00329270583361032720"
     },
     "user_tz": 180
    },
    "id": "oJ8GOvofwgGr",
    "outputId": "f1bbbcb2-a40c-46b4-bc7f-03bd32cf58f2"
   },
   "outputs": [],
   "source": [
    "((serie > 0) & (serie < 1)).any()"
   ]
  },
  {
   "cell_type": "code",
   "execution_count": null,
   "metadata": {
    "colab": {
     "base_uri": "https://localhost:8080/"
    },
    "executionInfo": {
     "elapsed": 228,
     "status": "ok",
     "timestamp": 1643221691853,
     "user": {
      "displayName": "Ignorância Zero",
      "photoUrl": "https://lh3.googleusercontent.com/a/default-user=s64",
      "userId": "00329270583361032720"
     },
     "user_tz": 180
    },
    "id": "5HYbKU-ZpQp0",
    "outputId": "80d6f96e-5c16-4042-c256-09cc5a31ab02"
   },
   "outputs": [],
   "source": [
    "any((serie > 0) & (serie < 1))"
   ]
  },
  {
   "cell_type": "code",
   "execution_count": null,
   "metadata": {
    "colab": {
     "base_uri": "https://localhost:8080/"
    },
    "executionInfo": {
     "elapsed": 238,
     "status": "ok",
     "timestamp": 1643221701101,
     "user": {
      "displayName": "Ignorância Zero",
      "photoUrl": "https://lh3.googleusercontent.com/a/default-user=s64",
      "userId": "00329270583361032720"
     },
     "user_tz": 180
    },
    "id": "jJF3GreGpTmE",
    "outputId": "c3da6e4e-03a1-42b1-92b1-2b93c790c9ba"
   },
   "outputs": [],
   "source": [
    "np.any((serie > 0) & (serie < 1))"
   ]
  },
  {
   "cell_type": "code",
   "execution_count": null,
   "metadata": {
    "colab": {
     "base_uri": "https://localhost:8080/"
    },
    "executionInfo": {
     "elapsed": 3,
     "status": "ok",
     "timestamp": 1643221679877,
     "user": {
      "displayName": "Ignorância Zero",
      "photoUrl": "https://lh3.googleusercontent.com/a/default-user=s64",
      "userId": "00329270583361032720"
     },
     "user_tz": 180
    },
    "id": "k8q_U4ICpO3H",
    "outputId": "9523a012-1feb-40be-bd5b-b4f6c33fabbe"
   },
   "outputs": [],
   "source": [
    "((serie > 0) & (serie < 1)).all()"
   ]
  },
  {
   "cell_type": "markdown",
   "metadata": {
    "id": "syyv_YQ2h_K9"
   },
   "source": [
    "Mas além da sintaxe tradicional, as séries ainda vem com alguns métodos adicionais que permitem fazer alguns filtros interessantes. Um que é muito utilizado, por exemplo, é o isin"
   ]
  },
  {
   "cell_type": "code",
   "execution_count": null,
   "metadata": {
    "id": "qz2xLu66wgGr"
   },
   "outputs": [],
   "source": [
    "serie = pd.Series(list(\"abcdefghijklmnopqrstuvwxyz\"))"
   ]
  },
  {
   "cell_type": "code",
   "execution_count": null,
   "metadata": {
    "colab": {
     "base_uri": "https://localhost:8080/"
    },
    "executionInfo": {
     "elapsed": 265,
     "status": "ok",
     "timestamp": 1643221778505,
     "user": {
      "displayName": "Ignorância Zero",
      "photoUrl": "https://lh3.googleusercontent.com/a/default-user=s64",
      "userId": "00329270583361032720"
     },
     "user_tz": 180
    },
    "id": "b9vRbKpMphdH",
    "outputId": "654d734e-c08f-4235-f983-d7c91410953d"
   },
   "outputs": [],
   "source": [
    "serie.isin([\"a\", \"e\", \"i\", \"o\", \"u\"])"
   ]
  },
  {
   "cell_type": "code",
   "execution_count": null,
   "metadata": {
    "colab": {
     "base_uri": "https://localhost:8080/"
    },
    "executionInfo": {
     "elapsed": 250,
     "status": "ok",
     "timestamp": 1643221797312,
     "user": {
      "displayName": "Ignorância Zero",
      "photoUrl": "https://lh3.googleusercontent.com/a/default-user=s64",
      "userId": "00329270583361032720"
     },
     "user_tz": 180
    },
    "id": "xikjTuiSprjI",
    "outputId": "cdb5aec1-3c74-438d-cb35-3b31c050e348"
   },
   "outputs": [],
   "source": [
    "serie[serie.isin([\"a\", \"e\", \"i\", \"o\", \"u\"])]"
   ]
  },
  {
   "cell_type": "markdown",
   "metadata": {
    "id": "_MHDLTGOh_K9"
   },
   "source": [
    "Para o caso de valores nulos, o pandas também consegue identifica-los a partir do método isnull"
   ]
  },
  {
   "cell_type": "code",
   "execution_count": null,
   "metadata": {
    "colab": {
     "base_uri": "https://localhost:8080/"
    },
    "executionInfo": {
     "elapsed": 225,
     "status": "ok",
     "timestamp": 1643221855770,
     "user": {
      "displayName": "Ignorância Zero",
      "photoUrl": "https://lh3.googleusercontent.com/a/default-user=s64",
      "userId": "00329270583361032720"
     },
     "user_tz": 180
    },
    "id": "mFM1jGn2wgGr",
    "outputId": "2b5d57bd-a696-4932-dd17-328bc880d959"
   },
   "outputs": [],
   "source": [
    "serie = pd.Series([1, 2, 3, np.nan, 5, np.nan, 7])\n",
    "np.isnan(serie)"
   ]
  },
  {
   "cell_type": "code",
   "execution_count": null,
   "metadata": {
    "colab": {
     "base_uri": "https://localhost:8080/"
    },
    "executionInfo": {
     "elapsed": 2,
     "status": "ok",
     "timestamp": 1643221839158,
     "user": {
      "displayName": "Ignorância Zero",
      "photoUrl": "https://lh3.googleusercontent.com/a/default-user=s64",
      "userId": "00329270583361032720"
     },
     "user_tz": 180
    },
    "id": "NmPqj5jPp1zX",
    "outputId": "7db756d4-b32f-41c8-d865-bf1a2266dd29"
   },
   "outputs": [],
   "source": [
    "serie.isnull()"
   ]
  },
  {
   "cell_type": "code",
   "execution_count": null,
   "metadata": {
    "colab": {
     "base_uri": "https://localhost:8080/"
    },
    "executionInfo": {
     "elapsed": 318,
     "status": "ok",
     "timestamp": 1643221888891,
     "user": {
      "displayName": "Ignorância Zero",
      "photoUrl": "https://lh3.googleusercontent.com/a/default-user=s64",
      "userId": "00329270583361032720"
     },
     "user_tz": 180
    },
    "id": "o0OJb_WPp4UY",
    "outputId": "357ca8da-7fd1-4f94-f016-94f7c58c9577"
   },
   "outputs": [],
   "source": [
    "pd.isnull(np.nan)"
   ]
  },
  {
   "cell_type": "markdown",
   "metadata": {
    "id": "bmI5olsSh_K9"
   },
   "source": [
    "No pandas nós também utilizamos a sintaxe do where, mas especificamente séries o utilizam como um método que pode ser aplicado sobre os elementos do mesmo"
   ]
  },
  {
   "cell_type": "code",
   "execution_count": null,
   "metadata": {
    "colab": {
     "base_uri": "https://localhost:8080/"
    },
    "executionInfo": {
     "elapsed": 225,
     "status": "ok",
     "timestamp": 1643221949867,
     "user": {
      "displayName": "Ignorância Zero",
      "photoUrl": "https://lh3.googleusercontent.com/a/default-user=s64",
      "userId": "00329270583361032720"
     },
     "user_tz": 180
    },
    "id": "J4KaDJ2FwgGs",
    "outputId": "8db85644-99a2-4d68-f1bd-1bbe743a20f5"
   },
   "outputs": [],
   "source": [
    "serie = pd.Series(np.arange(10))\n",
    "serie.where(lambda s: s > 5)"
   ]
  },
  {
   "cell_type": "markdown",
   "metadata": {
    "id": "XjE3Kqi7h_K-"
   },
   "source": [
    "Veja que muito diferente das séries de booleanos anteriores o where dentro do pandas não devolve os índices dos elementos onde a condição é verdadeira, mas utiliza a segunda funcionalidade do where, onde podemos, quando falso, substituir os valores pelo valor indicado"
   ]
  },
  {
   "cell_type": "code",
   "execution_count": null,
   "metadata": {
    "colab": {
     "base_uri": "https://localhost:8080/"
    },
    "executionInfo": {
     "elapsed": 229,
     "status": "ok",
     "timestamp": 1643221977271,
     "user": {
      "displayName": "Ignorância Zero",
      "photoUrl": "https://lh3.googleusercontent.com/a/default-user=s64",
      "userId": "00329270583361032720"
     },
     "user_tz": 180
    },
    "id": "wzNppl8QwgGs",
    "outputId": "9c6cea32-fd1b-44ae-d42a-f3645ae7d146"
   },
   "outputs": [],
   "source": [
    "serie.where(lambda s: s > 5, \"Não é maior que 5\")"
   ]
  },
  {
   "cell_type": "markdown",
   "metadata": {
    "id": "HPdFS3kuh_K-"
   },
   "source": [
    "---"
   ]
  },
  {
   "cell_type": "markdown",
   "metadata": {
    "id": "xRL9vV_bh_K-"
   },
   "source": [
    "**Exercício**\n",
    "\n",
    "Obtém os elementos da série 1 que não estão contidos na série 2"
   ]
  },
  {
   "cell_type": "code",
   "execution_count": null,
   "metadata": {
    "ExecuteTime": {
     "end_time": "2021-09-20T12:31:56.787119Z",
     "start_time": "2021-09-20T12:31:56.783156Z"
    },
    "id": "Ui6-Ypxwh_K-",
    "solution2": "hidden",
    "solution2_first": true
   },
   "outputs": [],
   "source": [
    "ser1 = pd.Series([1, 2, 3, 4, 5])\n",
    "ser2 = pd.Series([4, 5, 6, 7, 8])"
   ]
  },
  {
   "cell_type": "code",
   "execution_count": null,
   "metadata": {
    "cellView": "form",
    "id": "xz30WW_bh_K_",
    "solution2": "hidden"
   },
   "outputs": [],
   "source": [
    "#@title Resposta\n",
    "ser1 = pd.Series([1, 2, 3, 4, 5])\n",
    "ser2 = pd.Series([4, 5, 6, 7, 8])\n",
    "ser1[~ser1.isin(ser2.values)]"
   ]
  },
  {
   "cell_type": "markdown",
   "metadata": {
    "id": "eY7e1Hylh_K_"
   },
   "source": [
    "---"
   ]
  },
  {
   "cell_type": "markdown",
   "metadata": {
    "id": "fg-YVSqAh_K_"
   },
   "source": [
    "## Adição de Dados "
   ]
  },
  {
   "cell_type": "markdown",
   "metadata": {
    "id": "qUMMW672h_K_"
   },
   "source": [
    "Séries, tal como arrays, são imutáveis em tamanho, porém, de forma análoga, é possivel adicionar dados para as mesmas através das operações de append e concat"
   ]
  },
  {
   "cell_type": "markdown",
   "metadata": {
    "id": "_j0x80nih_K_"
   },
   "source": [
    "append -> adiciona dados ao final de uma série"
   ]
  },
  {
   "cell_type": "code",
   "execution_count": null,
   "metadata": {
    "colab": {
     "base_uri": "https://localhost:8080/"
    },
    "executionInfo": {
     "elapsed": 266,
     "status": "ok",
     "timestamp": 1643225903081,
     "user": {
      "displayName": "Ignorância Zero",
      "photoUrl": "https://lh3.googleusercontent.com/a/default-user=s64",
      "userId": "00329270583361032720"
     },
     "user_tz": 180
    },
    "id": "ILmq6UW6wgGt",
    "outputId": "120ebbff-aed6-48a5-ece4-fef074b3b20e"
   },
   "outputs": [],
   "source": [
    "serie = pd.Series(np.arange(5))\n",
    "add = pd.Series(np.arange(5, 10))\n",
    "serie.append(add)"
   ]
  },
  {
   "cell_type": "markdown",
   "metadata": {
    "id": "sa-0zu0Lh_LA"
   },
   "source": [
    "Note que o resultado da operação é uma nova série com índices duplicados, uma vez que os dados foram empilhados. Uma operação muito comum quando se altera uma série dessa forma é o reset index"
   ]
  },
  {
   "cell_type": "code",
   "execution_count": null,
   "metadata": {
    "colab": {
     "base_uri": "https://localhost:8080/"
    },
    "executionInfo": {
     "elapsed": 237,
     "status": "ok",
     "timestamp": 1643225953040,
     "user": {
      "displayName": "Ignorância Zero",
      "photoUrl": "https://lh3.googleusercontent.com/a/default-user=s64",
      "userId": "00329270583361032720"
     },
     "user_tz": 180
    },
    "id": "msLmfeP_wgGt",
    "outputId": "8e3ffc31-3ddb-4e5b-e663-1c040ce30354"
   },
   "outputs": [],
   "source": [
    "serie.append(add).reset_index(drop=True)"
   ]
  },
  {
   "cell_type": "markdown",
   "metadata": {
    "id": "K5y-UJdJh_LA"
   },
   "source": [
    "Uma das partes mais interessantes do pandas é a possibilidade de executar operações \"inplace\". Para quase todos os métodos de uma série (que vimos até aqui e que veremos a frente) é possível executar um comando que ao invés de gerar uma nova série como visto anteriormente"
   ]
  },
  {
   "cell_type": "code",
   "execution_count": null,
   "metadata": {
    "colab": {
     "base_uri": "https://localhost:8080/"
    },
    "executionInfo": {
     "elapsed": 258,
     "status": "ok",
     "timestamp": 1643226063109,
     "user": {
      "displayName": "Ignorância Zero",
      "photoUrl": "https://lh3.googleusercontent.com/a/default-user=s64",
      "userId": "00329270583361032720"
     },
     "user_tz": 180
    },
    "id": "ZJJsCLEmwgGt",
    "outputId": "f8167f1e-2082-4b3b-8df0-06d32bf6c31b"
   },
   "outputs": [],
   "source": [
    "serie_nova = serie.append(add)\n",
    "\n",
    "print(id(serie_nova), id(serie_nova.reset_index(drop=True)))"
   ]
  },
  {
   "cell_type": "code",
   "execution_count": null,
   "metadata": {
    "colab": {
     "base_uri": "https://localhost:8080/"
    },
    "executionInfo": {
     "elapsed": 254,
     "status": "ok",
     "timestamp": 1643226091838,
     "user": {
      "displayName": "Ignorância Zero",
      "photoUrl": "https://lh3.googleusercontent.com/a/default-user=s64",
      "userId": "00329270583361032720"
     },
     "user_tz": 180
    },
    "id": "LFtZXCFq6EOa",
    "outputId": "25a1f1ea-a96d-44f0-c8ea-abdbc1f44988"
   },
   "outputs": [],
   "source": [
    "serie_nova"
   ]
  },
  {
   "cell_type": "code",
   "execution_count": null,
   "metadata": {
    "id": "SGSQRK-c6Fn-"
   },
   "outputs": [],
   "source": [
    "serie_nova.reset_index(drop=True, inplace=True)"
   ]
  },
  {
   "cell_type": "code",
   "execution_count": null,
   "metadata": {
    "colab": {
     "base_uri": "https://localhost:8080/"
    },
    "executionInfo": {
     "elapsed": 253,
     "status": "ok",
     "timestamp": 1643226114276,
     "user": {
      "displayName": "Ignorância Zero",
      "photoUrl": "https://lh3.googleusercontent.com/a/default-user=s64",
      "userId": "00329270583361032720"
     },
     "user_tz": 180
    },
    "id": "s1Btrn5N6Jnp",
    "outputId": "6a58d613-bcb5-4d27-b6d3-b76fd911c879"
   },
   "outputs": [],
   "source": [
    "serie_nova"
   ]
  },
  {
   "cell_type": "markdown",
   "metadata": {
    "id": "MNoIJGDbh_LB"
   },
   "source": [
    "Outra maneira viável e mais simples, seria usando o parâmetro ignore_index"
   ]
  },
  {
   "cell_type": "code",
   "execution_count": null,
   "metadata": {
    "colab": {
     "base_uri": "https://localhost:8080/"
    },
    "executionInfo": {
     "elapsed": 241,
     "status": "ok",
     "timestamp": 1643226246076,
     "user": {
      "displayName": "Ignorância Zero",
      "photoUrl": "https://lh3.googleusercontent.com/a/default-user=s64",
      "userId": "00329270583361032720"
     },
     "user_tz": 180
    },
    "id": "YMC-vqVIwgGu",
    "outputId": "b33ca207-4606-4cce-89a4-aaa2c1528be6"
   },
   "outputs": [],
   "source": [
    "serie.append(add, ignore_index=True)"
   ]
  },
  {
   "cell_type": "markdown",
   "metadata": {
    "id": "imkObvXoh_LB"
   },
   "source": [
    "---"
   ]
  },
  {
   "cell_type": "markdown",
   "metadata": {
    "id": "lGNO1pTih_LC"
   },
   "source": [
    "**Exercício**\n",
    "\n",
    "Adiciona a uma série os elementos de outra série que não estão contidos na primeira"
   ]
  },
  {
   "cell_type": "code",
   "execution_count": null,
   "metadata": {
    "ExecuteTime": {
     "end_time": "2021-09-20T12:32:04.536368Z",
     "start_time": "2021-09-20T12:32:04.526422Z"
    },
    "id": "Bmyu_rGQh_LC",
    "solution2": "hidden",
    "solution2_first": true
   },
   "outputs": [],
   "source": [
    "np.random.seed(42)\n",
    "serie1 = pd.Series(np.random.randint(0, 10, size=5))\n",
    "serie2 = pd.Series(np.random.randint(0, 10, size=5))"
   ]
  },
  {
   "cell_type": "code",
   "execution_count": null,
   "metadata": {
    "cellView": "form",
    "id": "euf-kDGqh_LC",
    "solution2": "hidden"
   },
   "outputs": [],
   "source": [
    "#@title Resposta\n",
    "np.random.seed(42)\n",
    "serie1 = pd.Series(np.random.randint(0, 10, size=5))\n",
    "serie2 = pd.Series(np.random.randint(0, 10, size=5))\n",
    "serie1.append(serie2[~serie2.isin(serie1.values)], ignore_index=True)"
   ]
  },
  {
   "cell_type": "markdown",
   "metadata": {
    "id": "30uYRaQsh_LC"
   },
   "source": [
    "---"
   ]
  },
  {
   "cell_type": "markdown",
   "metadata": {
    "id": "kRyOWoUah_LC"
   },
   "source": [
    "## Remoção de Dados "
   ]
  },
  {
   "cell_type": "markdown",
   "metadata": {
    "id": "oIcU7uK_h_LC"
   },
   "source": [
    "Além de adicionar dados em séries também é muito comum remover dados, em particular podemos remover um índice específico por meio do método drop"
   ]
  },
  {
   "cell_type": "code",
   "execution_count": null,
   "metadata": {
    "colab": {
     "base_uri": "https://localhost:8080/"
    },
    "executionInfo": {
     "elapsed": 254,
     "status": "ok",
     "timestamp": 1643226442497,
     "user": {
      "displayName": "Ignorância Zero",
      "photoUrl": "https://lh3.googleusercontent.com/a/default-user=s64",
      "userId": "00329270583361032720"
     },
     "user_tz": 180
    },
    "id": "Wi0zDCbfwgGu",
    "outputId": "419fb0a1-098d-491b-9dc9-c2fab2488303"
   },
   "outputs": [],
   "source": [
    "np.random.seed(42)\n",
    "serie = pd.Series(np.random.randint(10, size=10))\n",
    "serie"
   ]
  },
  {
   "cell_type": "code",
   "execution_count": null,
   "metadata": {
    "colab": {
     "base_uri": "https://localhost:8080/"
    },
    "executionInfo": {
     "elapsed": 319,
     "status": "ok",
     "timestamp": 1643226460049,
     "user": {
      "displayName": "Ignorância Zero",
      "photoUrl": "https://lh3.googleusercontent.com/a/default-user=s64",
      "userId": "00329270583361032720"
     },
     "user_tz": 180
    },
    "id": "aIkckFnv7b6J",
    "outputId": "14cbecb4-d019-483d-f579-187526b5490f"
   },
   "outputs": [],
   "source": [
    "serie.drop(index=[3, 5])"
   ]
  },
  {
   "cell_type": "code",
   "execution_count": null,
   "metadata": {
    "id": "4FxGlI8k7i25"
   },
   "outputs": [],
   "source": [
    "serie.drop(index=[3, 5], inplace=True)"
   ]
  },
  {
   "cell_type": "code",
   "execution_count": null,
   "metadata": {
    "colab": {
     "base_uri": "https://localhost:8080/"
    },
    "executionInfo": {
     "elapsed": 297,
     "status": "ok",
     "timestamp": 1643226529767,
     "user": {
      "displayName": "Ignorância Zero",
      "photoUrl": "https://lh3.googleusercontent.com/a/default-user=s64",
      "userId": "00329270583361032720"
     },
     "user_tz": 180
    },
    "id": "d73byevr7pL5",
    "outputId": "875de047-4b64-4c92-e43b-56fcfc9a201a"
   },
   "outputs": [],
   "source": [
    "np.random.seed(42)\n",
    "serie = pd.Series(np.random.randint(10, size=10), index=list(\"abcdefghij\"))\n",
    "serie"
   ]
  },
  {
   "cell_type": "code",
   "execution_count": null,
   "metadata": {
    "colab": {
     "base_uri": "https://localhost:8080/",
     "height": 311
    },
    "executionInfo": {
     "elapsed": 266,
     "status": "error",
     "timestamp": 1643226540654,
     "user": {
      "displayName": "Ignorância Zero",
      "photoUrl": "https://lh3.googleusercontent.com/a/default-user=s64",
      "userId": "00329270583361032720"
     },
     "user_tz": 180
    },
    "id": "eKnAq6s97x3Y",
    "outputId": "faf8a2e6-914a-4da2-ecf2-b952185868a8"
   },
   "outputs": [],
   "source": [
    "serie.drop(index=[3, 5])"
   ]
  },
  {
   "cell_type": "markdown",
   "metadata": {
    "id": "1seBv3yUh_LD"
   },
   "source": [
    "Além disso é bastante comum removermos os valores nulos de uma determinada série por meio do dropna"
   ]
  },
  {
   "cell_type": "code",
   "execution_count": null,
   "metadata": {
    "colab": {
     "base_uri": "https://localhost:8080/"
    },
    "executionInfo": {
     "elapsed": 241,
     "status": "ok",
     "timestamp": 1643226636178,
     "user": {
      "displayName": "Ignorância Zero",
      "photoUrl": "https://lh3.googleusercontent.com/a/default-user=s64",
      "userId": "00329270583361032720"
     },
     "user_tz": 180
    },
    "id": "kr_IA19rwgGv",
    "outputId": "efe45546-b3b3-41f4-846f-8498b84ce79a"
   },
   "outputs": [],
   "source": [
    "np.random.seed(42)\n",
    "serie = pd.Series(np.random.randint(10, size=10))\n",
    "serie.iloc[np.random.randint(10, size=3)] = np.nan\n",
    "serie"
   ]
  },
  {
   "cell_type": "code",
   "execution_count": null,
   "metadata": {
    "colab": {
     "base_uri": "https://localhost:8080/"
    },
    "executionInfo": {
     "elapsed": 271,
     "status": "ok",
     "timestamp": 1643226680444,
     "user": {
      "displayName": "Ignorância Zero",
      "photoUrl": "https://lh3.googleusercontent.com/a/default-user=s64",
      "userId": "00329270583361032720"
     },
     "user_tz": 180
    },
    "id": "slG8InfZ8NfJ",
    "outputId": "3a63e666-8e70-41c5-988a-a5fe400a3a36"
   },
   "outputs": [],
   "source": [
    "serie.dropna() # .dropna(inplace=True)\n",
    "# serie = serie[serie.notnull()]"
   ]
  },
  {
   "cell_type": "markdown",
   "metadata": {
    "id": "bfcFx04hh_LE"
   },
   "source": [
    "Por fim, outra operações muito comum é a de remover duplicatas de uma série"
   ]
  },
  {
   "cell_type": "code",
   "execution_count": null,
   "metadata": {
    "colab": {
     "base_uri": "https://localhost:8080/"
    },
    "executionInfo": {
     "elapsed": 244,
     "status": "ok",
     "timestamp": 1643226718800,
     "user": {
      "displayName": "Ignorância Zero",
      "photoUrl": "https://lh3.googleusercontent.com/a/default-user=s64",
      "userId": "00329270583361032720"
     },
     "user_tz": 180
    },
    "id": "npmWY4WLwgGv",
    "outputId": "a4a2e082-a919-4af3-bf54-a227dc495005"
   },
   "outputs": [],
   "source": [
    "np.random.seed(42)\n",
    "serie = pd.Series(np.random.randint(10, size=10))\n",
    "serie"
   ]
  },
  {
   "cell_type": "code",
   "execution_count": null,
   "metadata": {
    "colab": {
     "base_uri": "https://localhost:8080/"
    },
    "executionInfo": {
     "elapsed": 301,
     "status": "ok",
     "timestamp": 1643226745284,
     "user": {
      "displayName": "Ignorância Zero",
      "photoUrl": "https://lh3.googleusercontent.com/a/default-user=s64",
      "userId": "00329270583361032720"
     },
     "user_tz": 180
    },
    "id": "fUHSTQAE8f_5",
    "outputId": "53cbeb6d-9495-4d63-c218-0bc7d567c7c0"
   },
   "outputs": [],
   "source": [
    "serie.drop_duplicates()"
   ]
  },
  {
   "cell_type": "code",
   "execution_count": null,
   "metadata": {
    "colab": {
     "base_uri": "https://localhost:8080/"
    },
    "executionInfo": {
     "elapsed": 265,
     "status": "ok",
     "timestamp": 1643226765838,
     "user": {
      "displayName": "Ignorância Zero",
      "photoUrl": "https://lh3.googleusercontent.com/a/default-user=s64",
      "userId": "00329270583361032720"
     },
     "user_tz": 180
    },
    "id": "cwHctMqd8oFJ",
    "outputId": "4c492871-1550-41f6-917d-8e407c3b3097"
   },
   "outputs": [],
   "source": [
    "serie.drop_duplicates(keep=\"last\")"
   ]
  },
  {
   "cell_type": "markdown",
   "metadata": {
    "id": "FG8Msh4aUxDi"
   },
   "source": [
    "---"
   ]
  },
  {
   "cell_type": "markdown",
   "metadata": {
    "id": "A7QQupmCUxDi"
   },
   "source": [
    "**Exercício**\n",
    "\n",
    "Abaixo carregamos uma série de dados com o número de casos de COVID registrados por país na data mais recente. \n",
    "\n",
    "Cada país é representadado por um código ISO de 3 letras, entretanto, dentro dessa série há alguns códigos que começam com \"OWID_\", que representam grupos de países não oficiais. Por exemplo, \"OWID_AFR\" representa todos os países da áfrica. \n",
    "\n",
    "Remova da série os países que começam com OWID"
   ]
  },
  {
   "cell_type": "code",
   "execution_count": null,
   "metadata": {
    "ExecuteTime": {
     "end_time": "2021-12-28T13:32:00.666589Z",
     "start_time": "2021-12-28T13:32:00.522973Z"
    },
    "id": "O_tfKJE-UxDi",
    "solution2": "hidden",
    "solution2_first": true
   },
   "outputs": [],
   "source": [
    "serie_owid = pd.read_csv(\n",
    "    \"https://raw.githubusercontent.com/owid/covid-19-data/master/public/data/latest/owid-covid-latest.csv\"\n",
    ").set_index(\"iso_code\")[\"total_cases\"]"
   ]
  },
  {
   "cell_type": "code",
   "execution_count": null,
   "metadata": {
    "ExecuteTime": {
     "end_time": "2021-12-28T13:35:45.999934Z",
     "start_time": "2021-12-28T13:35:45.930363Z"
    },
    "cellView": "form",
    "id": "XKl1WmkfUxDi",
    "solution2": "hidden"
   },
   "outputs": [],
   "source": [
    "#@title Resposta\n",
    "serie_owid = pd.read_csv(\n",
    "    \"https://raw.githubusercontent.com/owid/covid-19-data/master/public/data/latest/owid-covid-latest.csv\"\n",
    ").set_index(\"iso_code\")[\"total_cases\"]\n",
    "\n",
    "remover = [s for s in serie_owid.index if s.startswith(\"OWID_\")]\n",
    "serie_owid.drop(index=remover, inplace=True)\n",
    "serie_owid"
   ]
  },
  {
   "cell_type": "markdown",
   "metadata": {
    "id": "B8OZ8Y1nh_LE"
   },
   "source": [
    "---"
   ]
  },
  {
   "cell_type": "markdown",
   "metadata": {
    "id": "phHvKHx-h_LF"
   },
   "source": [
    "## Preenchimento de Nulos "
   ]
  },
  {
   "cell_type": "markdown",
   "metadata": {
    "id": "tosKxMrVh_LF"
   },
   "source": [
    "Um dos problemas mais recorrentes ao lidar com bases de dados é encontrar valores nulos dentro de determinadas colunas. Pensando nisso o pandas vem com uma série de funcionalidades que permitem preencher esses valores"
   ]
  },
  {
   "cell_type": "code",
   "execution_count": null,
   "metadata": {
    "colab": {
     "base_uri": "https://localhost:8080/"
    },
    "executionInfo": {
     "elapsed": 249,
     "status": "ok",
     "timestamp": 1643564478298,
     "user": {
      "displayName": "Ignorância Zero",
      "photoUrl": "https://lh3.googleusercontent.com/a/default-user=s64",
      "userId": "00329270583361032720"
     },
     "user_tz": 180
    },
    "id": "iDi4U8oFEtQU",
    "outputId": "7c838ffa-db77-40ca-cc61-dd7edf63bcd7"
   },
   "outputs": [],
   "source": [
    "np.random.seed(42)\n",
    "serie = pd.Series(np.random.randint(10, size=10))\n",
    "serie.iloc[np.random.randint(10, size=3)] = np.nan\n",
    "serie"
   ]
  },
  {
   "cell_type": "markdown",
   "metadata": {
    "id": "sde1oRKUh_LF"
   },
   "source": [
    "fillna -> preenche os valores nulos com o valor determinado"
   ]
  },
  {
   "cell_type": "code",
   "execution_count": null,
   "metadata": {
    "colab": {
     "base_uri": "https://localhost:8080/"
    },
    "executionInfo": {
     "elapsed": 259,
     "status": "ok",
     "timestamp": 1643564438922,
     "user": {
      "displayName": "Ignorância Zero",
      "photoUrl": "https://lh3.googleusercontent.com/a/default-user=s64",
      "userId": "00329270583361032720"
     },
     "user_tz": 180
    },
    "id": "pmDSeN4ywgGw",
    "outputId": "6cc929fe-eba8-478a-9a4f-65a8380290d7"
   },
   "outputs": [],
   "source": [
    "serie.fillna(-1)"
   ]
  },
  {
   "cell_type": "code",
   "execution_count": null,
   "metadata": {
    "colab": {
     "base_uri": "https://localhost:8080/"
    },
    "executionInfo": {
     "elapsed": 373,
     "status": "ok",
     "timestamp": 1643564470592,
     "user": {
      "displayName": "Ignorância Zero",
      "photoUrl": "https://lh3.googleusercontent.com/a/default-user=s64",
      "userId": "00329270583361032720"
     },
     "user_tz": 180
    },
    "id": "KAZkm1GzE0i0",
    "outputId": "8e75838c-ca10-4932-9783-b1cdf2541b08"
   },
   "outputs": [],
   "source": [
    "serie.fillna(-1, inplace=True)\n",
    "serie"
   ]
  },
  {
   "cell_type": "markdown",
   "metadata": {
    "id": "apWGawtvh_LF"
   },
   "source": [
    "ffill -> Preenche os valores nulos com o primeiro valor anterior não nulo"
   ]
  },
  {
   "cell_type": "code",
   "execution_count": null,
   "metadata": {
    "colab": {
     "base_uri": "https://localhost:8080/"
    },
    "executionInfo": {
     "elapsed": 247,
     "status": "ok",
     "timestamp": 1643564512427,
     "user": {
      "displayName": "Ignorância Zero",
      "photoUrl": "https://lh3.googleusercontent.com/a/default-user=s64",
      "userId": "00329270583361032720"
     },
     "user_tz": 180
    },
    "id": "95Sndy-lFCgV",
    "outputId": "d97b5b0b-eff4-4baf-a492-585326cffe49"
   },
   "outputs": [],
   "source": [
    "serie"
   ]
  },
  {
   "cell_type": "code",
   "execution_count": null,
   "metadata": {
    "colab": {
     "base_uri": "https://localhost:8080/"
    },
    "executionInfo": {
     "elapsed": 248,
     "status": "ok",
     "timestamp": 1643564504582,
     "user": {
      "displayName": "Ignorância Zero",
      "photoUrl": "https://lh3.googleusercontent.com/a/default-user=s64",
      "userId": "00329270583361032720"
     },
     "user_tz": 180
    },
    "id": "60iaJQGbwgGw",
    "outputId": "a4f7a56e-73d4-477b-f400-745e77ee3f6b"
   },
   "outputs": [],
   "source": [
    "serie.ffill()"
   ]
  },
  {
   "cell_type": "markdown",
   "metadata": {
    "id": "V9plVpyDh_LG"
   },
   "source": [
    "bfill -> Preenche os valores nulos com o primeiro valor posterior não nulo"
   ]
  },
  {
   "cell_type": "code",
   "execution_count": null,
   "metadata": {
    "colab": {
     "base_uri": "https://localhost:8080/"
    },
    "executionInfo": {
     "elapsed": 321,
     "status": "ok",
     "timestamp": 1643564540202,
     "user": {
      "displayName": "Ignorância Zero",
      "photoUrl": "https://lh3.googleusercontent.com/a/default-user=s64",
      "userId": "00329270583361032720"
     },
     "user_tz": 180
    },
    "id": "6hx4HcI-wgGx",
    "outputId": "68ef5510-44ac-40bd-b15e-bbc944e4ca91"
   },
   "outputs": [],
   "source": [
    "serie.bfill()"
   ]
  },
  {
   "cell_type": "markdown",
   "metadata": {
    "id": "NmB-P5erUxDj"
   },
   "source": [
    "---"
   ]
  },
  {
   "cell_type": "markdown",
   "metadata": {
    "id": "TaM6skNaUxDj"
   },
   "source": [
    "**Exercício**\n",
    "\n",
    "Abaixo carregamos os dados de índice de desenvolvimento humano para países Africanos. Você irá notar que há alguns valores nulos dentro dessa base. Preenche esses valores nulos com o valor médio da base."
   ]
  },
  {
   "cell_type": "code",
   "execution_count": null,
   "metadata": {
    "ExecuteTime": {
     "end_time": "2021-12-28T13:43:17.224389Z",
     "start_time": "2021-12-28T13:43:17.157568Z"
    },
    "id": "lKEF9QXUUxDk",
    "solution2": "hidden",
    "solution2_first": true
   },
   "outputs": [],
   "source": [
    "serie_owid = pd.read_csv(\n",
    "    \"https://raw.githubusercontent.com/owid/covid-19-data/master/public/data/latest/owid-covid-latest.csv\"\n",
    ").loc[\n",
    "    lambda f: (f[\"continent\"] == \"Africa\")\n",
    "    | (f[\"location\"] == \"Africa\")\n",
    "].set_index(\"iso_code\")[\"human_development_index\"]"
   ]
  },
  {
   "cell_type": "code",
   "execution_count": null,
   "metadata": {
    "ExecuteTime": {
     "end_time": "2021-12-28T13:45:48.545333Z",
     "start_time": "2021-12-28T13:45:48.454181Z"
    },
    "cellView": "form",
    "id": "KsYeQ47cUxDk",
    "solution2": "hidden"
   },
   "outputs": [],
   "source": [
    "#@title Resposta\n",
    "serie_owid = pd.read_csv(\n",
    "    \"https://raw.githubusercontent.com/owid/covid-19-data/master/public/data/latest/owid-covid-latest.csv\"\n",
    ").loc[\n",
    "    lambda f: (f[\"continent\"] == \"Africa\")\n",
    "    | (f[\"location\"] == \"Africa\")\n",
    "].set_index(\"iso_code\")[\"human_development_index\"]\n",
    "\n",
    "media = np.mean(serie_owid.dropna().values)\n",
    "serie_owid.fillna(media, inplace=True)\n",
    "serie_owid"
   ]
  },
  {
   "cell_type": "markdown",
   "metadata": {
    "id": "lYtrqu1Ch_LG"
   },
   "source": [
    "---"
   ]
  },
  {
   "cell_type": "markdown",
   "metadata": {
    "id": "j3Ttn1i35duh"
   },
   "source": [
    "## Funções e Métodos"
   ]
  },
  {
   "cell_type": "markdown",
   "metadata": {
    "id": "srTuQuyMh_LH"
   },
   "source": [
    "Tal como no numpy a biblioteca pandas vem com uma série de funcionalidades que permitem trabalhar os dados de maneira rápida. Como pandas e numpy são intimamentes relacionados é possível utilizar todas as funções de numpy que vimos anteriormente nas séries"
   ]
  },
  {
   "cell_type": "code",
   "execution_count": null,
   "metadata": {
    "executionInfo": {
     "elapsed": 243,
     "status": "ok",
     "timestamp": 1643564860561,
     "user": {
      "displayName": "Ignorância Zero",
      "photoUrl": "https://lh3.googleusercontent.com/a/default-user=s64",
      "userId": "00329270583361032720"
     },
     "user_tz": 180
    },
    "id": "3rC0rrwOwgGy"
   },
   "outputs": [],
   "source": [
    "np.random.seed(42)\n",
    "serie = pd.Series(np.random.randint(10, size=10))"
   ]
  },
  {
   "cell_type": "code",
   "execution_count": null,
   "metadata": {
    "colab": {
     "base_uri": "https://localhost:8080/"
    },
    "executionInfo": {
     "elapsed": 3,
     "status": "ok",
     "timestamp": 1643564867034,
     "user": {
      "displayName": "Ignorância Zero",
      "photoUrl": "https://lh3.googleusercontent.com/a/default-user=s64",
      "userId": "00329270583361032720"
     },
     "user_tz": 180
    },
    "id": "MxKs5BDjGWP0",
    "outputId": "e4d37010-11cb-433f-92ac-e978ed92e45b"
   },
   "outputs": [],
   "source": [
    "np.sum(serie)"
   ]
  },
  {
   "cell_type": "code",
   "execution_count": null,
   "metadata": {
    "colab": {
     "base_uri": "https://localhost:8080/"
    },
    "executionInfo": {
     "elapsed": 2,
     "status": "ok",
     "timestamp": 1643564873398,
     "user": {
      "displayName": "Ignorância Zero",
      "photoUrl": "https://lh3.googleusercontent.com/a/default-user=s64",
      "userId": "00329270583361032720"
     },
     "user_tz": 180
    },
    "id": "5eyxpD4IGaHj",
    "outputId": "00679667-0a27-4008-8dd0-5eee64c3c1c7"
   },
   "outputs": [],
   "source": [
    "np.diff(serie)"
   ]
  },
  {
   "cell_type": "code",
   "execution_count": null,
   "metadata": {
    "colab": {
     "base_uri": "https://localhost:8080/"
    },
    "executionInfo": {
     "elapsed": 2,
     "status": "ok",
     "timestamp": 1643564879593,
     "user": {
      "displayName": "Ignorância Zero",
      "photoUrl": "https://lh3.googleusercontent.com/a/default-user=s64",
      "userId": "00329270583361032720"
     },
     "user_tz": 180
    },
    "id": "tyWGqnbSGb7D",
    "outputId": "9265cff8-1bc3-45f8-bc51-ce96dce53b00"
   },
   "outputs": [],
   "source": [
    "np.unique(serie)"
   ]
  },
  {
   "cell_type": "code",
   "execution_count": null,
   "metadata": {
    "colab": {
     "base_uri": "https://localhost:8080/"
    },
    "executionInfo": {
     "elapsed": 265,
     "status": "ok",
     "timestamp": 1643564895434,
     "user": {
      "displayName": "Ignorância Zero",
      "photoUrl": "https://lh3.googleusercontent.com/a/default-user=s64",
      "userId": "00329270583361032720"
     },
     "user_tz": 180
    },
    "id": "vMBsF6ixGdpj",
    "outputId": "914c903c-85b6-4df2-bfd8-41f9f530fea3"
   },
   "outputs": [],
   "source": [
    "np.linalg.norm(serie)"
   ]
  },
  {
   "cell_type": "code",
   "execution_count": null,
   "metadata": {
    "colab": {
     "base_uri": "https://localhost:8080/"
    },
    "executionInfo": {
     "elapsed": 258,
     "status": "ok",
     "timestamp": 1643564902857,
     "user": {
      "displayName": "Ignorância Zero",
      "photoUrl": "https://lh3.googleusercontent.com/a/default-user=s64",
      "userId": "00329270583361032720"
     },
     "user_tz": 180
    },
    "id": "wYuN7-zwGhYz",
    "outputId": "7997a9e1-4e1e-45cf-be9c-77466bb3c32b"
   },
   "outputs": [],
   "source": [
    "np.sin(serie)"
   ]
  },
  {
   "cell_type": "markdown",
   "metadata": {
    "id": "YuTH0SNBh_LI"
   },
   "source": [
    "Entretanto, no pandas, diferente do numpy, a maior parte dessas facilidades vem no formato de métodos, ou seja, estão associados a uma instância de série, por exemplo. Desta forma, destacamos abaixo a equivalência entre diferentes funções que vimos no numpy e sua contraparte no pandas"
   ]
  },
  {
   "cell_type": "markdown",
   "metadata": {
    "id": "Qips-C5Ph_LI"
   },
   "source": [
    "Numpy             | Pandas     | Descrição                                                         | \n",
    ":-----------------|:-----------|:-------------------------------------------------------------------|\n",
    " np.mean          |  .mean     |  Calcula a média                                                   |\n",
    " np.median        |  .median   |  Calcula a mediana                                                 |\n",
    " np.min           |  .min      |  Calcula o valor mínimo                                            |\n",
    " np.max           |  .max      |  Calcula o valor máximo                                            |\n",
    " np.std           |  .std      |  Calcula o desvio-padrão                                           |\n",
    " np.var           |  .var      |  Calcula a variância                                               |\n",
    " np.percentile    |  .quantile |  Calcula o percentil específicado                                  |\n",
    " np.sum           |  .sum      |  Calcula a soma de todos os elementos                              |\n",
    " np.count_nonzero |  **N/A**   | Realiza a contagem dos elementos não zeros do array                |\n",
    " np.unique        |  .unique   |  Obtém os valores únicos de um array                               |\n",
    " np.ceil          |  **N/A**   |  Arredonda os valores de um array para cima                        |\n",
    " np.floor         |  **N/A**   |  Arredonda os valores de um array para baixo                       |\n",
    " np.round         |  .round    |  Arredonda os valores de um array para as casas decimais desejadas |\n",
    " np.trunc         |  .truncate |  Remove as casas decimais do valor numérico                        |\n",
    " np.abs           |  .abs      |  Calcula o valor absoluto dos elementos                            |\n",
    " np.sign          |  **N/A**   |  Obtém os sinais dos números de um array                           |\n",
    " np.diff          | .diff      | Obtém a diferença entre valores sequenciais do array               |\n",
    " np.cumsum        | .cumsum    | Obtém a soma dos valores cumulativos                               |\n",
    " np.cummin        | .cummin    | Obtém o valor mínimo cumulativo do array                           |\n",
    " np.cummax        | .cummax    | Obtém o valor máximo cumulativo do array                           |\n",
    " np.cumprod       | .cumprod   | Obtém o valor produto cumulativo do array                          |"
   ]
  },
  {
   "cell_type": "code",
   "execution_count": null,
   "metadata": {
    "colab": {
     "base_uri": "https://localhost:8080/"
    },
    "executionInfo": {
     "elapsed": 3,
     "status": "ok",
     "timestamp": 1643564994059,
     "user": {
      "displayName": "Ignorância Zero",
      "photoUrl": "https://lh3.googleusercontent.com/a/default-user=s64",
      "userId": "00329270583361032720"
     },
     "user_tz": 180
    },
    "id": "CQb-E-UYwgGy",
    "outputId": "4aa0b8e9-c1bf-450e-e3d7-3765a70f699e"
   },
   "outputs": [],
   "source": [
    "print(np.mean(serie), serie.mean())"
   ]
  },
  {
   "cell_type": "code",
   "execution_count": null,
   "metadata": {
    "colab": {
     "base_uri": "https://localhost:8080/"
    },
    "executionInfo": {
     "elapsed": 252,
     "status": "ok",
     "timestamp": 1643565011441,
     "user": {
      "displayName": "Ignorância Zero",
      "photoUrl": "https://lh3.googleusercontent.com/a/default-user=s64",
      "userId": "00329270583361032720"
     },
     "user_tz": 180
    },
    "id": "GK8jgVlGG6vk",
    "outputId": "40728f9a-0d2b-4e15-b8fe-442f5bd91f7a"
   },
   "outputs": [],
   "source": [
    "serie.quantile(0.1)"
   ]
  },
  {
   "cell_type": "code",
   "execution_count": null,
   "metadata": {
    "colab": {
     "base_uri": "https://localhost:8080/",
     "height": 287
    },
    "executionInfo": {
     "elapsed": 5,
     "status": "error",
     "timestamp": 1643565041807,
     "user": {
      "displayName": "Ignorância Zero",
      "photoUrl": "https://lh3.googleusercontent.com/a/default-user=s64",
      "userId": "00329270583361032720"
     },
     "user_tz": 180
    },
    "id": "IwYFvQfdHC5z",
    "outputId": "0e4e0b3c-a032-475b-b3d5-a9621bea58f6"
   },
   "outputs": [],
   "source": [
    "serie.count_nonzero()"
   ]
  },
  {
   "cell_type": "markdown",
   "metadata": {
    "id": "8bCf2e-Th_LI"
   },
   "source": [
    "Há, entretanto, alguns outros métodos que são exclusivos do pandas, mas são muito úteis\n",
    "\n",
    "- .describe: Gera o resumo estatístico da série\n",
    "- .mode: O valor da moda da série\n",
    "- .count: Obtém a contagem de elementos não nulos\n",
    "- .nunique: Conta o total de elementos únicos\n",
    "- .value_counts: Produz o número de ocorrências de cada elemento na série\n",
    "- .clip: Força os elementos da série a estarem dentro de um determinado intervalo\n",
    "- .pct_change: Variação percentual entre elementos consecutivos da série\n",
    "- .shift: Desloca a série por um certo número de elementos"
   ]
  },
  {
   "cell_type": "code",
   "execution_count": null,
   "metadata": {
    "colab": {
     "base_uri": "https://localhost:8080/"
    },
    "executionInfo": {
     "elapsed": 3,
     "status": "ok",
     "timestamp": 1643565101763,
     "user": {
      "displayName": "Ignorância Zero",
      "photoUrl": "https://lh3.googleusercontent.com/a/default-user=s64",
      "userId": "00329270583361032720"
     },
     "user_tz": 180
    },
    "id": "VP8ypevVwgGz",
    "outputId": "530841d4-3ab4-4b55-e8cf-7c10608d8ace"
   },
   "outputs": [],
   "source": [
    "serie.describe()"
   ]
  },
  {
   "cell_type": "code",
   "execution_count": null,
   "metadata": {
    "colab": {
     "base_uri": "https://localhost:8080/"
    },
    "executionInfo": {
     "elapsed": 3,
     "status": "ok",
     "timestamp": 1643565133299,
     "user": {
      "displayName": "Ignorância Zero",
      "photoUrl": "https://lh3.googleusercontent.com/a/default-user=s64",
      "userId": "00329270583361032720"
     },
     "user_tz": 180
    },
    "id": "vBWKZJ5KHaA0",
    "outputId": "bece2c3a-ca2e-4b88-d7a3-4dafbd51efde"
   },
   "outputs": [],
   "source": [
    "serie.mode()"
   ]
  },
  {
   "cell_type": "code",
   "execution_count": null,
   "metadata": {
    "colab": {
     "base_uri": "https://localhost:8080/"
    },
    "executionInfo": {
     "elapsed": 262,
     "status": "ok",
     "timestamp": 1643565156732,
     "user": {
      "displayName": "Ignorância Zero",
      "photoUrl": "https://lh3.googleusercontent.com/a/default-user=s64",
      "userId": "00329270583361032720"
     },
     "user_tz": 180
    },
    "id": "05tNpQhpHfEj",
    "outputId": "c3768c5f-71b0-44f8-d807-3bf2a45b34b7"
   },
   "outputs": [],
   "source": [
    "serie.count()"
   ]
  },
  {
   "cell_type": "code",
   "execution_count": null,
   "metadata": {
    "colab": {
     "base_uri": "https://localhost:8080/"
    },
    "executionInfo": {
     "elapsed": 243,
     "status": "ok",
     "timestamp": 1643565189985,
     "user": {
      "displayName": "Ignorância Zero",
      "photoUrl": "https://lh3.googleusercontent.com/a/default-user=s64",
      "userId": "00329270583361032720"
     },
     "user_tz": 180
    },
    "id": "_oC1EpwjHl5T",
    "outputId": "47e6bffc-96cf-49a2-b82b-c21a170a0dd6"
   },
   "outputs": [],
   "source": [
    "serie.nunique()"
   ]
  },
  {
   "cell_type": "code",
   "execution_count": null,
   "metadata": {
    "colab": {
     "base_uri": "https://localhost:8080/"
    },
    "executionInfo": {
     "elapsed": 2,
     "status": "ok",
     "timestamp": 1643565215768,
     "user": {
      "displayName": "Ignorância Zero",
      "photoUrl": "https://lh3.googleusercontent.com/a/default-user=s64",
      "userId": "00329270583361032720"
     },
     "user_tz": 180
    },
    "id": "Orny6gDKHrND",
    "outputId": "0166cfc8-ab94-467e-fb97-719abe29317a"
   },
   "outputs": [],
   "source": [
    "serie.value_counts()"
   ]
  },
  {
   "cell_type": "code",
   "execution_count": null,
   "metadata": {
    "colab": {
     "base_uri": "https://localhost:8080/"
    },
    "executionInfo": {
     "elapsed": 263,
     "status": "ok",
     "timestamp": 1643565294703,
     "user": {
      "displayName": "Ignorância Zero",
      "photoUrl": "https://lh3.googleusercontent.com/a/default-user=s64",
      "userId": "00329270583361032720"
     },
     "user_tz": 180
    },
    "id": "lI4e-vPyH1mT",
    "outputId": "1c4208a1-b1ef-461e-a606-4bc81effc580"
   },
   "outputs": [],
   "source": [
    "print(serie, serie.clip(4, 6))"
   ]
  },
  {
   "cell_type": "code",
   "execution_count": null,
   "metadata": {
    "colab": {
     "base_uri": "https://localhost:8080/"
    },
    "executionInfo": {
     "elapsed": 4,
     "status": "ok",
     "timestamp": 1643565352220,
     "user": {
      "displayName": "Ignorância Zero",
      "photoUrl": "https://lh3.googleusercontent.com/a/default-user=s64",
      "userId": "00329270583361032720"
     },
     "user_tz": 180
    },
    "id": "1tQRcLdKIM0T",
    "outputId": "0563870c-3a69-457f-98c4-8b5b1a7a063f"
   },
   "outputs": [],
   "source": [
    "serie.pct_change()"
   ]
  },
  {
   "cell_type": "code",
   "execution_count": null,
   "metadata": {
    "colab": {
     "base_uri": "https://localhost:8080/"
    },
    "executionInfo": {
     "elapsed": 289,
     "status": "ok",
     "timestamp": 1643565451909,
     "user": {
      "displayName": "Ignorância Zero",
      "photoUrl": "https://lh3.googleusercontent.com/a/default-user=s64",
      "userId": "00329270583361032720"
     },
     "user_tz": 180
    },
    "id": "ARsuag7NId8D",
    "outputId": "262d2daa-9370-4162-db41-9843317402b9"
   },
   "outputs": [],
   "source": [
    "serie.shift(-1)"
   ]
  },
  {
   "cell_type": "markdown",
   "metadata": {
    "id": "LY6zwR17h_LK"
   },
   "source": [
    "Há ainda outras funcionalidades mais desconhecidas como is_monotonic, ou nlargest, mas não tem como saber tudo o que realmente existe. Conforme você resolve problemas e programa você passa a conhecer cada vez mais essas funções, mas a que apresentamos aqui são as principais"
   ]
  },
  {
   "cell_type": "code",
   "execution_count": null,
   "metadata": {},
   "outputs": [],
   "source": [
    "serie.replace({6: \"OPA!\"})"
   ]
  },
  {
   "cell_type": "code",
   "execution_count": null,
   "metadata": {},
   "outputs": [],
   "source": [
    "serie.sort_values(ascending=False)"
   ]
  },
  {
   "cell_type": "markdown",
   "metadata": {
    "id": "rg0rApkKh_LK"
   },
   "source": [
    "---"
   ]
  },
  {
   "cell_type": "markdown",
   "metadata": {
    "id": "VGm144hOh_LK"
   },
   "source": [
    "**Exercício**\n",
    "\n",
    "Obtenha os indices dos máximos locais de uma série"
   ]
  },
  {
   "cell_type": "code",
   "execution_count": null,
   "metadata": {
    "ExecuteTime": {
     "end_time": "2021-09-20T12:33:03.643779Z",
     "start_time": "2021-09-20T12:33:03.631811Z"
    },
    "id": "7HX7csgyh_LK",
    "solution2": "hidden",
    "solution2_first": true
   },
   "outputs": [],
   "source": [
    "ser = pd.Series([2, 10, 3, 4, 9, 10, 2, 7, 3])"
   ]
  },
  {
   "cell_type": "code",
   "execution_count": null,
   "metadata": {
    "cellView": "form",
    "id": "TrolBPsKh_LK",
    "solution2": "hidden"
   },
   "outputs": [],
   "source": [
    "#@title Resposta\n",
    "ser = pd.Series([2, 10, 3, 4, 9, 10, 2, 7, 3])\n",
    "dd = np.diff(np.sign(np.diff(ser)))\n",
    "maximos = np.where(dd == -2)[0] + 1\n",
    "maximos"
   ]
  },
  {
   "cell_type": "markdown",
   "metadata": {
    "id": "OZdfB1bBh_LL"
   },
   "source": [
    "---"
   ]
  },
  {
   "cell_type": "markdown",
   "metadata": {
    "id": "PS6tngC95duh"
   },
   "source": [
    "## \"Vetorização\" "
   ]
  },
  {
   "cell_type": "markdown",
   "metadata": {
    "id": "_iw9nZurh_LL"
   },
   "source": [
    "Tal como o numpy o pandas vem com uma funcionalidade de \"vetorização\". Este nome está entre parênteses porque não segue exatamente a mesma lógica e propriedades internas do numpy, entretanto o resultado é o mesmo: Funções customizadas que são executadas de forma mais eficiente ao longo de uma série de dados."
   ]
  },
  {
   "cell_type": "markdown",
   "metadata": {
    "id": "1QLjKnRSh_LL"
   },
   "source": [
    "Há duas maneiras de fazer isso em pandas"
   ]
  },
  {
   "cell_type": "markdown",
   "metadata": {
    "id": "LGudeLZEh_LL"
   },
   "source": [
    "apply -> Aplica uma função sobre cada elemento de uma série"
   ]
  },
  {
   "cell_type": "code",
   "execution_count": null,
   "metadata": {
    "colab": {
     "base_uri": "https://localhost:8080/"
    },
    "executionInfo": {
     "elapsed": 2,
     "status": "ok",
     "timestamp": 1643565946336,
     "user": {
      "displayName": "Ignorância Zero",
      "photoUrl": "https://lh3.googleusercontent.com/a/default-user=s64",
      "userId": "00329270583361032720"
     },
     "user_tz": 180
    },
    "id": "RKxlKyWawgG1",
    "outputId": "8b2e95de-0e70-40fe-c29d-3240e33654e6"
   },
   "outputs": [],
   "source": [
    "np.random.seed(42)\n",
    "serie = pd.Series(np.random.randint(10, size=10))\n",
    "print(serie)\n",
    "print(serie.apply(lambda x: 1 if x > 5 else x / 5))\n",
    "def calculo(x):\n",
    "  if x > 5:\n",
    "    return 1\n",
    "  else:\n",
    "    return x / 5\n",
    "print(serie.apply(calculo))"
   ]
  },
  {
   "cell_type": "markdown",
   "metadata": {
    "id": "mTz_Caju5dui"
   },
   "source": [
    "map -> Mapeia os valores de uma série de acordo com uma função"
   ]
  },
  {
   "cell_type": "code",
   "execution_count": null,
   "metadata": {
    "colab": {
     "base_uri": "https://localhost:8080/"
    },
    "executionInfo": {
     "elapsed": 237,
     "status": "ok",
     "timestamp": 1643565968024,
     "user": {
      "displayName": "Ignorância Zero",
      "photoUrl": "https://lh3.googleusercontent.com/a/default-user=s64",
      "userId": "00329270583361032720"
     },
     "user_tz": 180
    },
    "id": "wdqhW3hmwgG1",
    "outputId": "72abc817-e762-4c0a-9fd6-98a6b41ad6ba"
   },
   "outputs": [],
   "source": [
    "np.random.seed(42)\n",
    "serie = pd.Series(np.random.randint(10, size=10))\n",
    "print(serie)\n",
    "print(serie.map(lambda x: 1 if x > 5 else x / 5))"
   ]
  },
  {
   "cell_type": "markdown",
   "metadata": {
    "id": "AZATbyKTh_LM"
   },
   "source": [
    "Ué?! Mas qual a diferença? Bom, existe uma diferença sutil primeiro na maneira como eles funcionam. O apply é uma função que trabalha por eixos, por isso podemos roda-lo tanto para executar um processo em linhas quanto em colunas (veremos em DataFrames como fazer isso) enquanto que o map substituí uma valor por outro na série de acordo com a função.\n",
    "\n",
    "Com base nisso quem você acha que é mais eficiente?"
   ]
  },
  {
   "cell_type": "code",
   "execution_count": null,
   "metadata": {
    "colab": {
     "base_uri": "https://localhost:8080/"
    },
    "executionInfo": {
     "elapsed": 3732,
     "status": "ok",
     "timestamp": 1643566066832,
     "user": {
      "displayName": "Ignorância Zero",
      "photoUrl": "https://lh3.googleusercontent.com/a/default-user=s64",
      "userId": "00329270583361032720"
     },
     "user_tz": 180
    },
    "id": "F6h57C59wgG1",
    "outputId": "588cfd71-bfbb-4b60-db34-83f1bcc1a31f"
   },
   "outputs": [],
   "source": [
    "%%timeit\n",
    "serie.map(lambda x: 1 if x > 5 else x / 5)"
   ]
  },
  {
   "cell_type": "code",
   "execution_count": null,
   "metadata": {
    "colab": {
     "base_uri": "https://localhost:8080/"
    },
    "executionInfo": {
     "elapsed": 2257,
     "status": "ok",
     "timestamp": 1643566078404,
     "user": {
      "displayName": "Ignorância Zero",
      "photoUrl": "https://lh3.googleusercontent.com/a/default-user=s64",
      "userId": "00329270583361032720"
     },
     "user_tz": 180
    },
    "id": "84T9svRVK-ej",
    "outputId": "ba9f27f4-6c53-4f7c-ef95-b0e062f26e6a"
   },
   "outputs": [],
   "source": [
    "%%timeit\n",
    "serie.apply(lambda x: 1 if x > 5 else x / 5)"
   ]
  },
  {
   "cell_type": "markdown",
   "metadata": {
    "id": "x-cAUhWXh_LM"
   },
   "source": [
    "---"
   ]
  },
  {
   "cell_type": "markdown",
   "metadata": {
    "id": "j30CK97-h_LM"
   },
   "source": [
    "**Exercício**\n",
    "\n",
    "Dada uma série de strings, calcule o número de vogais em cada uma"
   ]
  },
  {
   "cell_type": "code",
   "execution_count": null,
   "metadata": {
    "ExecuteTime": {
     "end_time": "2021-09-20T12:33:22.765655Z",
     "start_time": "2021-09-20T12:33:22.751686Z"
    },
    "id": "WP-8qOHvh_LN",
    "solution2": "hidden",
    "solution2_first": true
   },
   "outputs": [],
   "source": [
    "ser = pd.Series([\"Maça\", \"Laranja\", \"Plano\", \"Python\", \"Dinheiro\"])"
   ]
  },
  {
   "cell_type": "code",
   "execution_count": null,
   "metadata": {
    "cellView": "form",
    "id": "C2-bp0hwh_LN",
    "solution2": "hidden"
   },
   "outputs": [],
   "source": [
    "#@title Resposta\n",
    "ser = pd.Series([\"Maça\", \"Laranja\", \"Plano\", \"Python\", \"Dinheiro\"])\n",
    "ser.map(lambda x: sum([x.count(i) for i in list(\"aeiou\")]))"
   ]
  },
  {
   "cell_type": "markdown",
   "metadata": {
    "id": "K6xVSY1Th_LN"
   },
   "source": [
    "---"
   ]
  },
  {
   "cell_type": "markdown",
   "metadata": {
    "id": "e3ZglG1Fh_LN"
   },
   "source": [
    "## Tipos de Dados "
   ]
  },
  {
   "cell_type": "markdown",
   "metadata": {
    "id": "r1pjHxEXh_LN"
   },
   "source": [
    "Até agora estivemos trabalhandos com os dados sem se preocupar muito com a tipagem do mesmo. Entretanto, tal como numpy, a tipagem de dados é bastante relevante no pandas. Diriamos que é até mais relevante, porque dependendo do tipo dos dados há algumas funcionalidades adicionais que podem ser aplicadas e facilitam trabalhar com os dados, vamos ver a seguir."
   ]
  },
  {
   "cell_type": "markdown",
   "metadata": {
    "id": "8vyHiU_Fh_LN"
   },
   "source": [
    "### Numéricos "
   ]
  },
  {
   "cell_type": "markdown",
   "metadata": {
    "id": "MF1pLSfVh_LN"
   },
   "source": [
    "As variáveis de tipo numérico são exatamente as mesmas que já vimos em numpy. Inclusive a conversão de tipos é feita exatamente da mesma maneira, por meio do astype"
   ]
  },
  {
   "cell_type": "code",
   "execution_count": null,
   "metadata": {
    "executionInfo": {
     "elapsed": 302,
     "status": "ok",
     "timestamp": 1643566373974,
     "user": {
      "displayName": "Ignorância Zero",
      "photoUrl": "https://lh3.googleusercontent.com/a/default-user=s64",
      "userId": "00329270583361032720"
     },
     "user_tz": 180
    },
    "id": "Oe6qTOTDwgG3"
   },
   "outputs": [],
   "source": [
    "np.random.seed(42)\n",
    "serie = pd.Series(np.random.randint(10, size=10))"
   ]
  },
  {
   "cell_type": "code",
   "execution_count": null,
   "metadata": {
    "colab": {
     "base_uri": "https://localhost:8080/"
    },
    "executionInfo": {
     "elapsed": 263,
     "status": "ok",
     "timestamp": 1643566378771,
     "user": {
      "displayName": "Ignorância Zero",
      "photoUrl": "https://lh3.googleusercontent.com/a/default-user=s64",
      "userId": "00329270583361032720"
     },
     "user_tz": 180
    },
    "id": "H12KZ7Q0MJtz",
    "outputId": "ffabc781-6f95-4cfd-d07b-de32be4c442c"
   },
   "outputs": [],
   "source": [
    "serie"
   ]
  },
  {
   "cell_type": "code",
   "execution_count": null,
   "metadata": {
    "colab": {
     "base_uri": "https://localhost:8080/"
    },
    "executionInfo": {
     "elapsed": 261,
     "status": "ok",
     "timestamp": 1643566407659,
     "user": {
      "displayName": "Ignorância Zero",
      "photoUrl": "https://lh3.googleusercontent.com/a/default-user=s64",
      "userId": "00329270583361032720"
     },
     "user_tz": 180
    },
    "id": "pYp4U3L4MOeD",
    "outputId": "ec1d01f2-7f73-494e-cd0f-6a945f73ec12"
   },
   "outputs": [],
   "source": [
    "serie.astype(\"int8\")"
   ]
  },
  {
   "cell_type": "code",
   "execution_count": null,
   "metadata": {
    "colab": {
     "base_uri": "https://localhost:8080/"
    },
    "executionInfo": {
     "elapsed": 247,
     "status": "ok",
     "timestamp": 1643566415477,
     "user": {
      "displayName": "Ignorância Zero",
      "photoUrl": "https://lh3.googleusercontent.com/a/default-user=s64",
      "userId": "00329270583361032720"
     },
     "user_tz": 180
    },
    "id": "ldY9vNp_MSsk",
    "outputId": "394651c9-91f1-4571-e01b-1521ae0a19f7"
   },
   "outputs": [],
   "source": [
    "serie.astype(\"uint8\")"
   ]
  },
  {
   "cell_type": "code",
   "execution_count": null,
   "metadata": {
    "colab": {
     "base_uri": "https://localhost:8080/"
    },
    "executionInfo": {
     "elapsed": 3,
     "status": "ok",
     "timestamp": 1643566426745,
     "user": {
      "displayName": "Ignorância Zero",
      "photoUrl": "https://lh3.googleusercontent.com/a/default-user=s64",
      "userId": "00329270583361032720"
     },
     "user_tz": 180
    },
    "id": "5VUnX13rMVFS",
    "outputId": "6b9ce1bd-22bd-45d0-a4ca-ad56ebaeb1c7"
   },
   "outputs": [],
   "source": [
    "serie.astype(int)"
   ]
  },
  {
   "cell_type": "code",
   "execution_count": null,
   "metadata": {
    "colab": {
     "base_uri": "https://localhost:8080/"
    },
    "executionInfo": {
     "elapsed": 254,
     "status": "ok",
     "timestamp": 1643566443584,
     "user": {
      "displayName": "Ignorância Zero",
      "photoUrl": "https://lh3.googleusercontent.com/a/default-user=s64",
      "userId": "00329270583361032720"
     },
     "user_tz": 180
    },
    "id": "BEwFnAHnMYpC",
    "outputId": "56fe5de4-80de-44e0-8acf-4cb3ec2de771"
   },
   "outputs": [],
   "source": [
    "serie.astype(np.uint16)"
   ]
  },
  {
   "cell_type": "markdown",
   "metadata": {
    "id": "DZ79LY0zh_LO"
   },
   "source": [
    "---"
   ]
  },
  {
   "cell_type": "markdown",
   "metadata": {
    "id": "B4yCWArHh_LO"
   },
   "source": [
    "### Strings "
   ]
  },
  {
   "cell_type": "markdown",
   "metadata": {
    "id": "OKNBuSp-h_LO"
   },
   "source": [
    "O pandas vem com uma série de funcionalidades próprias que permitem utilizar os principais métodos de strings do python só que de maneira vetorizada. Para isso, basta tomar a série e colocar o prefixo .str antes do método e executa-lo"
   ]
  },
  {
   "cell_type": "code",
   "execution_count": null,
   "metadata": {
    "executionInfo": {
     "elapsed": 255,
     "status": "ok",
     "timestamp": 1643566809353,
     "user": {
      "displayName": "Ignorância Zero",
      "photoUrl": "https://lh3.googleusercontent.com/a/default-user=s64",
      "userId": "00329270583361032720"
     },
     "user_tz": 180
    },
    "id": "9chIupnnNJmj"
   },
   "outputs": [],
   "source": [
    "ser = pd.Series([\"Maça\", \"Laranja\", \"Plano\", \"Python\", \"Dinheiro\"])"
   ]
  },
  {
   "cell_type": "code",
   "execution_count": null,
   "metadata": {
    "colab": {
     "base_uri": "https://localhost:8080/",
     "height": 35
    },
    "executionInfo": {
     "elapsed": 4,
     "status": "ok",
     "timestamp": 1643566820414,
     "user": {
      "displayName": "Ignorância Zero",
      "photoUrl": "https://lh3.googleusercontent.com/a/default-user=s64",
      "userId": "00329270583361032720"
     },
     "user_tz": 180
    },
    "id": "0PETAaUrN0uS",
    "outputId": "4b934861-dba8-4daf-dcec-32840c4fc34c"
   },
   "outputs": [],
   "source": [
    "\"Maça\".upper()"
   ]
  },
  {
   "cell_type": "code",
   "execution_count": null,
   "metadata": {
    "colab": {
     "base_uri": "https://localhost:8080/"
    },
    "executionInfo": {
     "elapsed": 246,
     "status": "ok",
     "timestamp": 1643566844171,
     "user": {
      "displayName": "Ignorância Zero",
      "photoUrl": "https://lh3.googleusercontent.com/a/default-user=s64",
      "userId": "00329270583361032720"
     },
     "user_tz": 180
    },
    "id": "hu8msZKkN3gC",
    "outputId": "288719a7-b917-48b1-f6fe-48096bd3a7e4"
   },
   "outputs": [],
   "source": [
    "ser.map(lambda x: x.upper())"
   ]
  },
  {
   "cell_type": "code",
   "execution_count": null,
   "metadata": {
    "colab": {
     "base_uri": "https://localhost:8080/"
    },
    "executionInfo": {
     "elapsed": 3,
     "status": "ok",
     "timestamp": 1643566858432,
     "user": {
      "displayName": "Ignorância Zero",
      "photoUrl": "https://lh3.googleusercontent.com/a/default-user=s64",
      "userId": "00329270583361032720"
     },
     "user_tz": 180
    },
    "id": "YrNJhmYqN9-4",
    "outputId": "46427fc7-d83c-4b32-8976-afd681a7c764"
   },
   "outputs": [],
   "source": [
    "ser.str.upper()"
   ]
  },
  {
   "cell_type": "markdown",
   "metadata": {
    "id": "Ohuip37Oh_LP"
   },
   "source": [
    "Abaixo, apenas para relembrar, colocamos os principais métodos utilizados.\n",
    "\n"
   ]
  },
  {
   "cell_type": "markdown",
   "metadata": {
    "id": "UqzY3D3oh_LP"
   },
   "source": [
    "- contains: Testa se a string contém um determinado padrão de expressão regular\n",
    "- count: Conta o número de ocorrências de uma substring dentro da string\n",
    "- find: Devolve o índice de ocorrência de uma substring dentro da string (devolve -1 se não for encontrado)\n",
    "- isalpha: Checa se todos os caracteres da string são letras\n",
    "- isdigit: Checa se a string é um número\n",
    "- len: Obtém o tamanho da string\n",
    "- strip: Elimina espaços vazios nos extremos da string\n",
    "- startswith: Checa se a string começa com uma determinada sub-string\n",
    "- upper: Converte a string para maiúsculo\n",
    "- lower: Converte a string para minúsculo\n",
    "- split: Divide a string de acordo com uma sub-string (cada elemento da série passará a ser uma lista)"
   ]
  },
  {
   "cell_type": "code",
   "execution_count": null,
   "metadata": {
    "colab": {
     "base_uri": "https://localhost:8080/"
    },
    "executionInfo": {
     "elapsed": 288,
     "status": "ok",
     "timestamp": 1643566925250,
     "user": {
      "displayName": "Ignorância Zero",
      "photoUrl": "https://lh3.googleusercontent.com/a/default-user=s64",
      "userId": "00329270583361032720"
     },
     "user_tz": 180
    },
    "id": "GgUkZb-zwgG3",
    "outputId": "f9d71ae3-7e02-49a4-8144-3e57e10009c1"
   },
   "outputs": [],
   "source": [
    "ser.str.contains(\"a\")"
   ]
  },
  {
   "cell_type": "code",
   "execution_count": null,
   "metadata": {
    "colab": {
     "base_uri": "https://localhost:8080/"
    },
    "executionInfo": {
     "elapsed": 242,
     "status": "ok",
     "timestamp": 1643566954395,
     "user": {
      "displayName": "Ignorância Zero",
      "photoUrl": "https://lh3.googleusercontent.com/a/default-user=s64",
      "userId": "00329270583361032720"
     },
     "user_tz": 180
    },
    "id": "oWvthrLHOUtS",
    "outputId": "145b0282-4281-46d5-e30a-c5a8d0b96ae6"
   },
   "outputs": [],
   "source": [
    "ser.str.replace(\"a\", \"A\")"
   ]
  },
  {
   "cell_type": "code",
   "execution_count": null,
   "metadata": {
    "colab": {
     "base_uri": "https://localhost:8080/"
    },
    "executionInfo": {
     "elapsed": 247,
     "status": "ok",
     "timestamp": 1643566978788,
     "user": {
      "displayName": "Ignorância Zero",
      "photoUrl": "https://lh3.googleusercontent.com/a/default-user=s64",
      "userId": "00329270583361032720"
     },
     "user_tz": 180
    },
    "id": "5BMBNHxFOZOC",
    "outputId": "f42a9175-f3ca-4f42-f567-d5b645119b52"
   },
   "outputs": [],
   "source": [
    "ser.str.split(\"a\")"
   ]
  },
  {
   "cell_type": "code",
   "execution_count": null,
   "metadata": {
    "colab": {
     "base_uri": "https://localhost:8080/"
    },
    "executionInfo": {
     "elapsed": 242,
     "status": "ok",
     "timestamp": 1643567027900,
     "user": {
      "displayName": "Ignorância Zero",
      "photoUrl": "https://lh3.googleusercontent.com/a/default-user=s64",
      "userId": "00329270583361032720"
     },
     "user_tz": 180
    },
    "id": "YVeLds6aOgti",
    "outputId": "5bd3c608-1507-47b2-f9d1-3206731f0c8f"
   },
   "outputs": [],
   "source": [
    "ser.str.lower()"
   ]
  },
  {
   "cell_type": "markdown",
   "metadata": {
    "id": "f-OFSpvAh_LP"
   },
   "source": [
    "Além dos métodos, a sintaxe de .str permite realizar o slicing nos elementos da string"
   ]
  },
  {
   "cell_type": "code",
   "execution_count": null,
   "metadata": {
    "colab": {
     "base_uri": "https://localhost:8080/"
    },
    "executionInfo": {
     "elapsed": 286,
     "status": "ok",
     "timestamp": 1643567048979,
     "user": {
      "displayName": "Ignorância Zero",
      "photoUrl": "https://lh3.googleusercontent.com/a/default-user=s64",
      "userId": "00329270583361032720"
     },
     "user_tz": 180
    },
    "id": "kexgyQ8XwgG4",
    "outputId": "0f1d9797-ca07-4862-a442-91c9f636a4d5"
   },
   "outputs": [],
   "source": [
    "ser.str[:3]"
   ]
  },
  {
   "cell_type": "code",
   "execution_count": null,
   "metadata": {
    "colab": {
     "base_uri": "https://localhost:8080/"
    },
    "executionInfo": {
     "elapsed": 2,
     "status": "ok",
     "timestamp": 1643567066118,
     "user": {
      "displayName": "Ignorância Zero",
      "photoUrl": "https://lh3.googleusercontent.com/a/default-user=s64",
      "userId": "00329270583361032720"
     },
     "user_tz": 180
    },
    "id": "u68yqs8uOxdD",
    "outputId": "741b7577-d11e-4262-803b-1ff26e12983e"
   },
   "outputs": [],
   "source": [
    "ser.str[::-1]"
   ]
  },
  {
   "cell_type": "code",
   "execution_count": null,
   "metadata": {
    "colab": {
     "base_uri": "https://localhost:8080/"
    },
    "executionInfo": {
     "elapsed": 238,
     "status": "ok",
     "timestamp": 1643567093455,
     "user": {
      "displayName": "Ignorância Zero",
      "photoUrl": "https://lh3.googleusercontent.com/a/default-user=s64",
      "userId": "00329270583361032720"
     },
     "user_tz": 180
    },
    "id": "z8yecLPfO4Hi",
    "outputId": "3d0f2420-cff5-4d66-8f86-a358df445f5c"
   },
   "outputs": [],
   "source": [
    "ser.str[0]"
   ]
  },
  {
   "cell_type": "markdown",
   "metadata": {
    "id": "nR-TctN8h_LQ"
   },
   "source": [
    "Uma questão importante a ser notada, é que uma boa parte dos métodos para strings no pandas também vem da biblioteca \"re\", uma vez que trabalhar com dados de texto muitas vezes envolve a checagem de expressões regulares. \n",
    "\n",
    "O ensino de expressão regulares está além do escopo deste curso, entretanto eu recomendo as seguintes fontes para estudo:\n",
    "- https://www.youtube.com/watch?v=sa-TUpSx1JA&ab_channel=CoreySchafer\n",
    "- https://www.youtube.com/watch?v=wBI0yv2FG6U&ab_channel=Ot%C3%A1vioMiranda"
   ]
  },
  {
   "cell_type": "code",
   "execution_count": null,
   "metadata": {
    "executionInfo": {
     "elapsed": 248,
     "status": "ok",
     "timestamp": 1643567155980,
     "user": {
      "displayName": "Ignorância Zero",
      "photoUrl": "https://lh3.googleusercontent.com/a/default-user=s64",
      "userId": "00329270583361032720"
     },
     "user_tz": 180
    },
    "id": "OJi0WWNAwgG4"
   },
   "outputs": [],
   "source": [
    "import re"
   ]
  },
  {
   "cell_type": "code",
   "execution_count": null,
   "metadata": {
    "executionInfo": {
     "elapsed": 250,
     "status": "ok",
     "timestamp": 1643567180736,
     "user": {
      "displayName": "Ignorância Zero",
      "photoUrl": "https://lh3.googleusercontent.com/a/default-user=s64",
      "userId": "00329270583361032720"
     },
     "user_tz": 180
    },
    "id": "vI699j6zPJJi"
   },
   "outputs": [],
   "source": [
    "re.match(\"xxxx@provedor.[com, br]\", \"   Piloto\")"
   ]
  },
  {
   "cell_type": "code",
   "execution_count": null,
   "metadata": {
    "colab": {
     "base_uri": "https://localhost:8080/"
    },
    "executionInfo": {
     "elapsed": 263,
     "status": "ok",
     "timestamp": 1643567270971,
     "user": {
      "displayName": "Ignorância Zero",
      "photoUrl": "https://lh3.googleusercontent.com/a/default-user=s64",
      "userId": "00329270583361032720"
     },
     "user_tz": 180
    },
    "id": "2_JjfjyvPkQS",
    "outputId": "ec20c34b-5744-4b26-e91a-a9d27e9a63d2"
   },
   "outputs": [],
   "source": [
    "ser.str.match(\"^(P)\")"
   ]
  },
  {
   "cell_type": "code",
   "execution_count": null,
   "metadata": {
    "colab": {
     "base_uri": "https://localhost:8080/"
    },
    "executionInfo": {
     "elapsed": 254,
     "status": "ok",
     "timestamp": 1643567283169,
     "user": {
      "displayName": "Ignorância Zero",
      "photoUrl": "https://lh3.googleusercontent.com/a/default-user=s64",
      "userId": "00329270583361032720"
     },
     "user_tz": 180
    },
    "id": "v9prVOpZPfqT",
    "outputId": "823784c0-c2df-4b82-d44e-eef8cec41af0"
   },
   "outputs": [],
   "source": [
    "ser[ser.str.match(\"^(P)\")]"
   ]
  },
  {
   "cell_type": "markdown",
   "metadata": {
    "id": "_H236BUph_LQ"
   },
   "source": [
    "---"
   ]
  },
  {
   "cell_type": "markdown",
   "metadata": {
    "id": "0akU6BkSh_LQ"
   },
   "source": [
    "**Exercício**\n",
    "\n",
    "Dada uma série de strings utilize a expressão regular fornecida para encontrar os elementos que são e-mails válidos"
   ]
  },
  {
   "cell_type": "code",
   "execution_count": null,
   "metadata": {
    "ExecuteTime": {
     "end_time": "2021-09-20T12:33:28.103787Z",
     "start_time": "2021-09-20T12:33:28.094843Z"
    },
    "id": "DRicUqfyh_LQ",
    "solution2": "hidden",
    "solution2_first": true
   },
   "outputs": [],
   "source": [
    "emails = pd.Series([\"compre livros na amazom.com\", \"rameses@egypt.com\", \"matt@t.co\", \"narendra@modi.com\"])\n",
    "padrao = \"[A-Za-z0-9._%+-]+@[A-Za-z0-9.-]+\\\\.[A-Za-z]{2,4}\""
   ]
  },
  {
   "cell_type": "code",
   "execution_count": null,
   "metadata": {
    "cellView": "form",
    "id": "QgguJSw8h_LQ",
    "solution2": "hidden"
   },
   "outputs": [],
   "source": [
    "#@title Resposta\n",
    "import re\n",
    "\n",
    "emails = pd.Series([\"compre livros na amazom.com\", \"rameses@egypt.com\", \"matt@t.co\", \"narendra@modi.com\"])\n",
    "padrao = \"[A-Za-z0-9._%+-]+@[A-Za-z0-9.-]+\\\\.[A-Za-z]{2,4}\"\n",
    "\n",
    "emails[emails.str.match(padrao, flags=re.IGNORECASE)]"
   ]
  },
  {
   "cell_type": "markdown",
   "metadata": {
    "id": "LH5GzOa5h_LR"
   },
   "source": [
    "---"
   ]
  },
  {
   "cell_type": "markdown",
   "metadata": {
    "id": "3aQ5kBBrh_LR"
   },
   "source": [
    "### Objetos "
   ]
  },
  {
   "cell_type": "markdown",
   "metadata": {
    "id": "Jzyxr8S7h_LR"
   },
   "source": [
    "Além de texto e números, na verdade o pandas aceita qualquer objeto do Python como elemento de suas séries, apesar dos mais comuns de serem utilizados são listas, dicionários, tuplas e sets."
   ]
  },
  {
   "cell_type": "code",
   "execution_count": null,
   "metadata": {
    "colab": {
     "base_uri": "https://localhost:8080/"
    },
    "executionInfo": {
     "elapsed": 253,
     "status": "ok",
     "timestamp": 1643567497420,
     "user": {
      "displayName": "Ignorância Zero",
      "photoUrl": "https://lh3.googleusercontent.com/a/default-user=s64",
      "userId": "00329270583361032720"
     },
     "user_tz": 180
    },
    "id": "tfIi3JclwgG5",
    "outputId": "7e5ce2d4-cb79-4e24-995e-86265a3b7dc9"
   },
   "outputs": [],
   "source": [
    "serl = pd.Series([[\"Olá\", \"prazer\"], [\"a\", \"noite\"], [\"é\", \"nossa\"]])\n",
    "serl"
   ]
  },
  {
   "cell_type": "code",
   "execution_count": null,
   "metadata": {
    "colab": {
     "base_uri": "https://localhost:8080/"
    },
    "executionInfo": {
     "elapsed": 250,
     "status": "ok",
     "timestamp": 1643567549931,
     "user": {
      "displayName": "Ignorância Zero",
      "photoUrl": "https://lh3.googleusercontent.com/a/default-user=s64",
      "userId": "00329270583361032720"
     },
     "user_tz": 180
    },
    "id": "LIfo55nOQhBD",
    "outputId": "5c4613cd-310b-43d6-c3ea-43f6cbf2ff95"
   },
   "outputs": [],
   "source": [
    "serd = pd.Series([{\"Quando\": \"Hoje\"}, {\"Onde\": \"Meu ape\"}, {\"Pode\": \"Aparecer\"}])\n",
    "serd"
   ]
  },
  {
   "cell_type": "code",
   "execution_count": null,
   "metadata": {
    "colab": {
     "base_uri": "https://localhost:8080/"
    },
    "executionInfo": {
     "elapsed": 247,
     "status": "ok",
     "timestamp": 1643567621815,
     "user": {
      "displayName": "Ignorância Zero",
      "photoUrl": "https://lh3.googleusercontent.com/a/default-user=s64",
      "userId": "00329270583361032720"
     },
     "user_tz": 180
    },
    "id": "mjQMqpxpQyFD",
    "outputId": "00d83277-b6b6-4d9f-8a90-9ff18a6783b6"
   },
   "outputs": [],
   "source": [
    "sers = pd.Series([{\"Festa\"}, {\"Festa\", \"Tem\", \"Birita\"}, {\"Tem\", \"Até\", \"Amanhacer\"}])\n",
    "sers"
   ]
  },
  {
   "cell_type": "markdown",
   "metadata": {
    "id": "ryE1Z87Jh_LR"
   },
   "source": [
    "Uma das propriedades interessantes do pandas é a capacidade de executar determinadas funções de agregação contanto que exista essa função definida para um objeto. Por exemplo, a soma de duas listas é a concatenação das mesmas, logo:"
   ]
  },
  {
   "cell_type": "code",
   "execution_count": null,
   "metadata": {
    "colab": {
     "base_uri": "https://localhost:8080/"
    },
    "executionInfo": {
     "elapsed": 240,
     "status": "ok",
     "timestamp": 1643567676903,
     "user": {
      "displayName": "Ignorância Zero",
      "photoUrl": "https://lh3.googleusercontent.com/a/default-user=s64",
      "userId": "00329270583361032720"
     },
     "user_tz": 180
    },
    "id": "XlofkDfZwgG5",
    "outputId": "06399dc1-4c3b-4bdb-cb76-fbef23f21e9b"
   },
   "outputs": [],
   "source": [
    "[\"Olá\", \"prazer\"] + [\"a\", \"noite\"]"
   ]
  },
  {
   "cell_type": "code",
   "execution_count": null,
   "metadata": {
    "colab": {
     "base_uri": "https://localhost:8080/"
    },
    "executionInfo": {
     "elapsed": 247,
     "status": "ok",
     "timestamp": 1643567696675,
     "user": {
      "displayName": "Ignorância Zero",
      "photoUrl": "https://lh3.googleusercontent.com/a/default-user=s64",
      "userId": "00329270583361032720"
     },
     "user_tz": 180
    },
    "id": "FwiFJhLHRKtj",
    "outputId": "75e28435-3aa9-4187-bd11-4237046857d9"
   },
   "outputs": [],
   "source": [
    "serl + serl"
   ]
  },
  {
   "cell_type": "code",
   "execution_count": null,
   "metadata": {
    "colab": {
     "base_uri": "https://localhost:8080/"
    },
    "executionInfo": {
     "elapsed": 253,
     "status": "ok",
     "timestamp": 1643567733895,
     "user": {
      "displayName": "Ignorância Zero",
      "photoUrl": "https://lh3.googleusercontent.com/a/default-user=s64",
      "userId": "00329270583361032720"
     },
     "user_tz": 180
    },
    "id": "sFjp1SRVRScC",
    "outputId": "def63848-e99f-4785-d3ea-e25babb659d2"
   },
   "outputs": [],
   "source": [
    "serl.sum()"
   ]
  },
  {
   "cell_type": "code",
   "execution_count": null,
   "metadata": {
    "colab": {
     "base_uri": "https://localhost:8080/"
    },
    "executionInfo": {
     "elapsed": 239,
     "status": "ok",
     "timestamp": 1643567751833,
     "user": {
      "displayName": "Ignorância Zero",
      "photoUrl": "https://lh3.googleusercontent.com/a/default-user=s64",
      "userId": "00329270583361032720"
     },
     "user_tz": 180
    },
    "id": "7y0iEeA-RX3D",
    "outputId": "334f10b6-7f82-467b-89e0-06e12298fe00"
   },
   "outputs": [],
   "source": [
    "serl.cumsum()"
   ]
  },
  {
   "cell_type": "code",
   "execution_count": null,
   "metadata": {
    "colab": {
     "base_uri": "https://localhost:8080/"
    },
    "executionInfo": {
     "elapsed": 3,
     "status": "ok",
     "timestamp": 1643567761111,
     "user": {
      "displayName": "Ignorância Zero",
      "photoUrl": "https://lh3.googleusercontent.com/a/default-user=s64",
      "userId": "00329270583361032720"
     },
     "user_tz": 180
    },
    "id": "57Im9FdiRbiD",
    "outputId": "b393db38-88e7-4df3-aba2-a8d517f3d6ff"
   },
   "outputs": [],
   "source": [
    "ser.cumsum()"
   ]
  },
  {
   "cell_type": "code",
   "execution_count": null,
   "metadata": {
    "colab": {
     "base_uri": "https://localhost:8080/",
     "height": 311
    },
    "executionInfo": {
     "elapsed": 271,
     "status": "error",
     "timestamp": 1643567792222,
     "user": {
      "displayName": "Ignorância Zero",
      "photoUrl": "https://lh3.googleusercontent.com/a/default-user=s64",
      "userId": "00329270583361032720"
     },
     "user_tz": 180
    },
    "id": "c4xPxl6vRiiS",
    "outputId": "729cbcc2-682e-4948-edbc-abe3eba4f0ac"
   },
   "outputs": [],
   "source": [
    "serl.diff()"
   ]
  },
  {
   "cell_type": "code",
   "execution_count": null,
   "metadata": {
    "colab": {
     "base_uri": "https://localhost:8080/"
    },
    "executionInfo": {
     "elapsed": 263,
     "status": "ok",
     "timestamp": 1643567812228,
     "user": {
      "displayName": "Ignorância Zero",
      "photoUrl": "https://lh3.googleusercontent.com/a/default-user=s64",
      "userId": "00329270583361032720"
     },
     "user_tz": 180
    },
    "id": "X-oA-hnNRn2C",
    "outputId": "041cd998-4df6-4d0b-8a72-a83a19fcebad"
   },
   "outputs": [],
   "source": [
    "sers.diff()"
   ]
  },
  {
   "cell_type": "markdown",
   "metadata": {
    "id": "8tlC-ICKh_LS"
   },
   "source": [
    "---"
   ]
  },
  {
   "cell_type": "markdown",
   "metadata": {
    "id": "I6Thu3kEh_LS"
   },
   "source": [
    "**Exercício**\n",
    "\n",
    "Obtenha uma contagem das letras contidas numa série"
   ]
  },
  {
   "cell_type": "code",
   "execution_count": null,
   "metadata": {
    "ExecuteTime": {
     "end_time": "2021-09-20T12:33:34.890122Z",
     "start_time": "2021-09-20T12:33:34.879180Z"
    },
    "id": "k43iF1Ovh_LS",
    "solution2": "hidden",
    "solution2_first": true
   },
   "outputs": [],
   "source": [
    "ser = pd.Series([\"Maça\", \"Laranja\", \"Plano\", \"Python\", \"Dinheiro\"])"
   ]
  },
  {
   "cell_type": "code",
   "execution_count": null,
   "metadata": {
    "cellView": "form",
    "id": "42Td6juKh_LS",
    "solution2": "hidden"
   },
   "outputs": [],
   "source": [
    "#@title Resposta\n",
    "ser = pd.Series([\"Maça\", \"Laranja\", \"Plano\", \"Python\", \"Dinheiro\"])\n",
    "pd.Series(ser.str.lower().apply(list).sum()).value_counts()"
   ]
  },
  {
   "cell_type": "markdown",
   "metadata": {
    "id": "5HwN9srqh_LT"
   },
   "source": [
    "---"
   ]
  },
  {
   "cell_type": "markdown",
   "metadata": {
    "id": "YP2vpH0jh_LT"
   },
   "source": [
    "### Categóricos "
   ]
  },
  {
   "cell_type": "markdown",
   "metadata": {
    "id": "RVq4cQW2h_LT"
   },
   "source": [
    "As vezes você tem dados de texto mas você não pretende trabalha-los de alguma forma. Isto é muito comum quando nós temos variáveis qualitativas, como por exemplo cor, ou mesmo classificações, como escola pública e privada. Neste caso a mesma string aparece várias e várias vezes na mesma coluna e o consumo de memória é relativamente alto, sendo que você não está aproveitando as funcionalidades de texto que o pandas oferece.\n",
    "\n",
    "Em bancos de dados quando isso acontece, geralmente o que se faz é criar uma tabela com o de-para numérico dessas classificações. Por exemplo 0 = Pública e 1 = Privada. Assim, você pode colocar os números no lugar do texto e reduzir dratiscamente o consumo de memória.\n",
    "\n",
    "O pandas tem uma solução muito elegante para esses problemas que são as variáveis categóricas"
   ]
  },
  {
   "cell_type": "code",
   "execution_count": null,
   "metadata": {
    "colab": {
     "base_uri": "https://localhost:8080/"
    },
    "executionInfo": {
     "elapsed": 255,
     "status": "ok",
     "timestamp": 1643571748625,
     "user": {
      "displayName": "Ignorância Zero",
      "photoUrl": "https://lh3.googleusercontent.com/a/default-user=s64",
      "userId": "00329270583361032720"
     },
     "user_tz": 180
    },
    "id": "TWJ93bEpdWmA",
    "outputId": "477fb1eb-4d65-4705-d425-adad8583ab74"
   },
   "outputs": [],
   "source": [
    "np.random.seed(42)\n",
    "ser = pd.Series(np.random.choice([\"Azul\", \"Amarelo\", \"Vermelho\"], size=1000))\n",
    "ser"
   ]
  },
  {
   "cell_type": "code",
   "execution_count": null,
   "metadata": {
    "colab": {
     "base_uri": "https://localhost:8080/"
    },
    "executionInfo": {
     "elapsed": 5,
     "status": "ok",
     "timestamp": 1643571750346,
     "user": {
      "displayName": "Ignorância Zero",
      "photoUrl": "https://lh3.googleusercontent.com/a/default-user=s64",
      "userId": "00329270583361032720"
     },
     "user_tz": 180
    },
    "id": "k6RQryKJdjFw",
    "outputId": "d2809ec1-62e5-4a37-d10c-6efa011e3732"
   },
   "outputs": [],
   "source": [
    "serc = ser.astype(\"category\")\n",
    "serc"
   ]
  },
  {
   "cell_type": "code",
   "execution_count": null,
   "metadata": {
    "colab": {
     "base_uri": "https://localhost:8080/"
    },
    "executionInfo": {
     "elapsed": 3,
     "status": "ok",
     "timestamp": 1643571008512,
     "user": {
      "displayName": "Ignorância Zero",
      "photoUrl": "https://lh3.googleusercontent.com/a/default-user=s64",
      "userId": "00329270583361032720"
     },
     "user_tz": 180
    },
    "id": "GeYuX177dpIg",
    "outputId": "d642ee52-f183-44a6-f472-89be87d673ee"
   },
   "outputs": [],
   "source": [
    "ser.memory_usage()"
   ]
  },
  {
   "cell_type": "code",
   "execution_count": null,
   "metadata": {
    "colab": {
     "base_uri": "https://localhost:8080/"
    },
    "executionInfo": {
     "elapsed": 2,
     "status": "ok",
     "timestamp": 1643571017901,
     "user": {
      "displayName": "Ignorância Zero",
      "photoUrl": "https://lh3.googleusercontent.com/a/default-user=s64",
      "userId": "00329270583361032720"
     },
     "user_tz": 180
    },
    "id": "_Bxx5sW6d2FQ",
    "outputId": "ada217de-84c1-491b-c0d9-43db69b84594"
   },
   "outputs": [],
   "source": [
    "serc.memory_usage()"
   ]
  },
  {
   "cell_type": "markdown",
   "metadata": {
    "id": "zx5COAzrh_LT"
   },
   "source": [
    "Ao converter uma variável para categórica o pandas gera um novo objeto Category, que realiza exatamente este de-para sem a necessidade de realizar um cruzamento com outra tabela. Internamente, as operações de busca, por exemplo, podem ser feitas com strings normalmente"
   ]
  },
  {
   "cell_type": "code",
   "execution_count": null,
   "metadata": {
    "colab": {
     "base_uri": "https://localhost:8080/"
    },
    "executionInfo": {
     "elapsed": 260,
     "status": "ok",
     "timestamp": 1643571127468,
     "user": {
      "displayName": "Ignorância Zero",
      "photoUrl": "https://lh3.googleusercontent.com/a/default-user=s64",
      "userId": "00329270583361032720"
     },
     "user_tz": 180
    },
    "id": "cMfsLd4fwgG6",
    "outputId": "b74fe138-8267-45a6-b0f4-89f540f0510f"
   },
   "outputs": [],
   "source": [
    "serc[serc == \"Vermelho\"]"
   ]
  },
  {
   "cell_type": "markdown",
   "metadata": {
    "id": "3JEUv6Tuh_LU"
   },
   "source": [
    "E podemos inclusive aplicar as funcionalidades de strings, entretanto neste caso, internamente o pandas irá converter a coluna de volta para o tipo de texto e então aplicar a função pedida"
   ]
  },
  {
   "cell_type": "code",
   "execution_count": null,
   "metadata": {
    "colab": {
     "base_uri": "https://localhost:8080/"
    },
    "executionInfo": {
     "elapsed": 3,
     "status": "ok",
     "timestamp": 1643571828161,
     "user": {
      "displayName": "Ignorância Zero",
      "photoUrl": "https://lh3.googleusercontent.com/a/default-user=s64",
      "userId": "00329270583361032720"
     },
     "user_tz": 180
    },
    "id": "gHE7agd1guKv",
    "outputId": "f3df6286-5052-4074-a44d-43459f7ae0f5"
   },
   "outputs": [],
   "source": [
    "serc.str.upper()"
   ]
  },
  {
   "cell_type": "code",
   "execution_count": null,
   "metadata": {
    "colab": {
     "base_uri": "https://localhost:8080/"
    },
    "executionInfo": {
     "elapsed": 266,
     "status": "ok",
     "timestamp": 1643571843531,
     "user": {
      "displayName": "Ignorância Zero",
      "photoUrl": "https://lh3.googleusercontent.com/a/default-user=s64",
      "userId": "00329270583361032720"
     },
     "user_tz": 180
    },
    "id": "0lwK3opTg_oQ",
    "outputId": "b414283f-9f41-4852-8ddd-1898dfd1547b"
   },
   "outputs": [],
   "source": [
    "serc.str.contains(\"V\")"
   ]
  },
  {
   "cell_type": "markdown",
   "metadata": {
    "id": "JV3ENnPnh_LU"
   },
   "source": [
    "É possível inclusive criar categorias como tipos proprietários a serem usadas. Por exemplo, suponhamos que além das cores relatadas também houvesse a possibilidade da série conter a cor Verde, mas nenhuma entidade na amostra continha essa cor. Ao converter para categoria usando astype o pandas utiliza apenas as categorias que ele conhece, entretanto uma meneira mais robusta de lidar com isso seria:"
   ]
  },
  {
   "cell_type": "code",
   "execution_count": null,
   "metadata": {
    "colab": {
     "base_uri": "https://localhost:8080/"
    },
    "executionInfo": {
     "elapsed": 2,
     "status": "ok",
     "timestamp": 1643571973722,
     "user": {
      "displayName": "Ignorância Zero",
      "photoUrl": "https://lh3.googleusercontent.com/a/default-user=s64",
      "userId": "00329270583361032720"
     },
     "user_tz": 180
    },
    "id": "hPUNwEKVwgG6",
    "outputId": "6a9ceaf2-7f2d-4a80-e340-47102b3173e2"
   },
   "outputs": [],
   "source": [
    "categoria = pd.Categorical([\"Azul\", \"Amarelo\", \"Vermelho\", \"Verde\"])\n",
    "ser.astype(categoria.dtype)"
   ]
  },
  {
   "cell_type": "markdown",
   "metadata": {
    "id": "RAiaYdiGh_LV"
   },
   "source": [
    "---"
   ]
  },
  {
   "cell_type": "markdown",
   "metadata": {
    "id": "3rwKeDozh_LV"
   },
   "source": [
    "**Exercício**\n",
    "\n",
    "Calcule a memória consumida antes e depois da conversão de uma série para valores categóricos"
   ]
  },
  {
   "cell_type": "code",
   "execution_count": null,
   "metadata": {
    "ExecuteTime": {
     "end_time": "2021-09-20T12:33:59.101559Z",
     "start_time": "2021-09-20T12:33:59.087596Z"
    },
    "id": "4fAjPqMCh_LV",
    "solution2": "hidden",
    "solution2_first": true
   },
   "outputs": [],
   "source": [
    "np.random.seed(42)\n",
    "ser = pd.Series(np.random.choice([\"Azul\", \"Amarelo\", \"Vermelho\"], size=1000))"
   ]
  },
  {
   "cell_type": "code",
   "execution_count": null,
   "metadata": {
    "cellView": "form",
    "id": "jcUt4H-Ph_LV",
    "solution2": "hidden"
   },
   "outputs": [],
   "source": [
    "#@title Resposta\n",
    "np.random.seed(42)\n",
    "for s in [10, 100, 1000, 10000, 100000, 1000000]:\n",
    "  ser = pd.Series(np.random.choice([\"Azul\", \"Amarelo\", \"Vermelho\"], size=s))\n",
    "  m_ant = ser.memory_usage()\n",
    "  \n",
    "  ser = ser.astype(\"category\")\n",
    "  m_desp = ser.memory_usage()\n",
    "\n",
    "  print(f\"Tamanho = %7d:\" % s, end=\" \")\n",
    "  print(\"Antes > %7d\" % m_ant, end=\" | \")\n",
    "  print(\"Depois > %7d\" % m_desp, end=\" | \")\n",
    "  print(\"Delta > %8d\" % (m_desp - m_ant), end=\" | \")\n",
    "  print(\"Var > %3d%%\" % (100 * (m_desp - m_ant) / m_ant))"
   ]
  },
  {
   "cell_type": "markdown",
   "metadata": {
    "id": "iHffLaIDh_LW"
   },
   "source": [
    "---"
   ]
  },
  {
   "cell_type": "markdown",
   "metadata": {
    "id": "OqxsLM3Dh_LW"
   },
   "source": [
    "### Datetime "
   ]
  },
  {
   "cell_type": "markdown",
   "metadata": {
    "id": "zRnR09xKh_LW"
   },
   "source": [
    "Um tipo de estrutura com a qual nós lidamos recorrentemente são os dados temporais. O Python contém uma biblioteca nativa datetime, que contém uma série de funcionalidades para lidar com datas"
   ]
  },
  {
   "cell_type": "code",
   "execution_count": null,
   "metadata": {
    "executionInfo": {
     "elapsed": 262,
     "status": "ok",
     "timestamp": 1643572613513,
     "user": {
      "displayName": "Ignorância Zero",
      "photoUrl": "https://lh3.googleusercontent.com/a/default-user=s64",
      "userId": "00329270583361032720"
     },
     "user_tz": 180
    },
    "id": "7oIq5HLSwgG7"
   },
   "outputs": [],
   "source": [
    "import datetime\n",
    "\n",
    "data = datetime.datetime(2021, 7, 8, 23, 59, 32)"
   ]
  },
  {
   "cell_type": "markdown",
   "metadata": {
    "id": "xbQwp7-ch_LW"
   },
   "source": [
    "Um objeto data nada mais é do que uma estrura que conta os segundos desde 1970-01-01 e permite facilitar calculos entre datas que não são simples de realizar numericamente"
   ]
  },
  {
   "cell_type": "code",
   "execution_count": null,
   "metadata": {
    "colab": {
     "base_uri": "https://localhost:8080/"
    },
    "executionInfo": {
     "elapsed": 2,
     "status": "ok",
     "timestamp": 1643572652306,
     "user": {
      "displayName": "Ignorância Zero",
      "photoUrl": "https://lh3.googleusercontent.com/a/default-user=s64",
      "userId": "00329270583361032720"
     },
     "user_tz": 180
    },
    "id": "4V0GcFM0wgG7",
    "outputId": "fb9b477e-0156-45a8-fde6-c06afe8b1696"
   },
   "outputs": [],
   "source": [
    "print(data)"
   ]
  },
  {
   "cell_type": "markdown",
   "metadata": {
    "id": "X8p2xVrTh_LW"
   },
   "source": [
    "Por exemplo, suponhamos que eu queira somar 5 dias a uma determinada data"
   ]
  },
  {
   "cell_type": "code",
   "execution_count": null,
   "metadata": {
    "colab": {
     "base_uri": "https://localhost:8080/"
    },
    "executionInfo": {
     "elapsed": 242,
     "status": "ok",
     "timestamp": 1643572749066,
     "user": {
      "displayName": "Ignorância Zero",
      "photoUrl": "https://lh3.googleusercontent.com/a/default-user=s64",
      "userId": "00329270583361032720"
     },
     "user_tz": 180
    },
    "id": "oRS9LoDcwgG8",
    "outputId": "e324c291-f03e-42a8-eecb-9a3909821162"
   },
   "outputs": [],
   "source": [
    "print(data + datetime.timedelta(days=5))"
   ]
  },
  {
   "cell_type": "markdown",
   "metadata": {
    "id": "X2TlxHZoh_LX"
   },
   "source": [
    "Ou que eu queira obter características como o dia da semana (0 = Segunda)"
   ]
  },
  {
   "cell_type": "code",
   "execution_count": null,
   "metadata": {
    "colab": {
     "base_uri": "https://localhost:8080/"
    },
    "executionInfo": {
     "elapsed": 257,
     "status": "ok",
     "timestamp": 1643572772791,
     "user": {
      "displayName": "Ignorância Zero",
      "photoUrl": "https://lh3.googleusercontent.com/a/default-user=s64",
      "userId": "00329270583361032720"
     },
     "user_tz": 180
    },
    "id": "FQ2_WcuswgG8",
    "outputId": "95c6f108-c635-455c-8f45-ba6f290cce90"
   },
   "outputs": [],
   "source": [
    "data.weekday()"
   ]
  },
  {
   "cell_type": "markdown",
   "metadata": {
    "id": "2npAaAyBh_LX"
   },
   "source": [
    "Abaixo listamos os principais atributos e funções que a biblioteca datetime contém\n",
    "\n",
    "**Funções**\n",
    "- datetime.datetime(): Define um novo objeto datetime passando os dados de ano, mês, dia, hora, minutos, segundos, microsegundos e fuso\n",
    "- datetime.timedelta(): Permite somar um intervalo de tempo a uma data\n",
    "- datetime.datetime.now(): Obtém o dia e hora neste momento (utiliza o fuso horário do computador se nada for passado)\n",
    "- datetime.datetime.strptime(): Formata uma string em um datetime\n",
    "\n",
    "**Métodos do Datetime**\n",
    "- data.year/month/day/hour/minute/second/microsecond: Obtém informação sobre a data\n",
    "- data.weekday(): Dia da semana da data (sendo 0 = segunda-feira)\n",
    "- data.strftime(): Formata a data numa string "
   ]
  },
  {
   "cell_type": "code",
   "execution_count": null,
   "metadata": {
    "colab": {
     "base_uri": "https://localhost:8080/"
    },
    "executionInfo": {
     "elapsed": 281,
     "status": "ok",
     "timestamp": 1643572916170,
     "user": {
      "displayName": "Ignorância Zero",
      "photoUrl": "https://lh3.googleusercontent.com/a/default-user=s64",
      "userId": "00329270583361032720"
     },
     "user_tz": 180
    },
    "id": "GijI4RXWwgG8",
    "outputId": "a32281af-9ade-4797-c9fc-da81757bad92"
   },
   "outputs": [],
   "source": [
    "print(datetime.datetime.now())\n",
    "print(data.year)\n",
    "print(data.strftime(\"%d/%m/%Y %H:%M:%S\"))"
   ]
  },
  {
   "cell_type": "code",
   "execution_count": null,
   "metadata": {
    "colab": {
     "base_uri": "https://localhost:8080/"
    },
    "executionInfo": {
     "elapsed": 273,
     "status": "ok",
     "timestamp": 1643573151068,
     "user": {
      "displayName": "Ignorância Zero",
      "photoUrl": "https://lh3.googleusercontent.com/a/default-user=s64",
      "userId": "00329270583361032720"
     },
     "user_tz": 180
    },
    "id": "OerLG4zNlsr_",
    "outputId": "b14dac0e-2cd8-431a-a39e-a7baa4feec84"
   },
   "outputs": [],
   "source": [
    "datetime.datetime.strptime(\"11/03/2014 11:43:08\", \"%d/%m/%Y %H:%M:%S\")"
   ]
  },
  {
   "cell_type": "markdown",
   "metadata": {
    "id": "zxKHR3ZPh_LX"
   },
   "source": [
    "Uma parte bastante importante pra nós desse objeto é a formatação de strings, uma vez que será bastante comum realizar a conversão de strings para objetos datetime. Esta formatação é feita utilizando a sintaxe do % na qual cada caracter representa um tipo de formatação para o datetime. Abaixo descrevemos essas formações:\n",
    "\n",
    "<img src=\"https://i.stack.imgur.com/i6Hg7.jpg\" />"
   ]
  },
  {
   "cell_type": "markdown",
   "metadata": {
    "ExecuteTime": {
     "end_time": "2021-09-17T21:28:55.987119Z",
     "start_time": "2021-09-17T21:28:55.982132Z"
    },
    "id": "DC_S3rQAh_LY"
   },
   "source": [
    "Todas essas funcionalidades giram ao redor do objeto datetime, ao qual o pandas adaptou, tal como strings, de forma que podemos utiliza-los dentro de uma série usando o prefixo dt"
   ]
  },
  {
   "cell_type": "code",
   "execution_count": null,
   "metadata": {
    "colab": {
     "base_uri": "https://localhost:8080/"
    },
    "executionInfo": {
     "elapsed": 238,
     "status": "ok",
     "timestamp": 1643573268884,
     "user": {
      "displayName": "Ignorância Zero",
      "photoUrl": "https://lh3.googleusercontent.com/a/default-user=s64",
      "userId": "00329270583361032720"
     },
     "user_tz": 180
    },
    "id": "qTjiTvLiwgG8",
    "outputId": "1b76dd6f-18c7-46c5-ccdf-3027f55d35c3"
   },
   "outputs": [],
   "source": [
    "ser = pd.Series([\"2021-01-01\", \"2021-01-02\", \"2021-01-03\", \"2021-01-04\", \"2021-01-05\"], dtype=\"datetime64[ns]\")\n",
    "ser"
   ]
  },
  {
   "cell_type": "code",
   "execution_count": null,
   "metadata": {
    "colab": {
     "base_uri": "https://localhost:8080/"
    },
    "executionInfo": {
     "elapsed": 256,
     "status": "ok",
     "timestamp": 1643573464430,
     "user": {
      "displayName": "Ignorância Zero",
      "photoUrl": "https://lh3.googleusercontent.com/a/default-user=s64",
      "userId": "00329270583361032720"
     },
     "user_tz": 180
    },
    "id": "S3EpZynmmpyQ",
    "outputId": "6de047be-8511-48a3-9fd7-913c1b7f0238"
   },
   "outputs": [],
   "source": [
    "print(\"Dia da semana >\", ser.dt.dayofweek)\n",
    "print(\"Dia do ano >\", ser.dt.dayofyear)\n",
    "print(\"Número de dias do mês >\", ser.dt.daysinmonth)\n",
    "print(\"Número da semana do ano >\", ser.dt.week)\n",
    "print(\"Converte o datetime para texto >\", ser.dt.strftime(\"%d %b %Y\"))"
   ]
  },
  {
   "cell_type": "markdown",
   "metadata": {
    "id": "BETb-9NTh_LY"
   },
   "source": [
    "Apesar de ser possível converter strings para datetime aplicando o datetime.datetime.strptime, o mais comum é utilizar as funções pré-prontas do pandas para isso como o pd.to_datetime"
   ]
  },
  {
   "cell_type": "code",
   "execution_count": null,
   "metadata": {
    "colab": {
     "base_uri": "https://localhost:8080/"
    },
    "executionInfo": {
     "elapsed": 256,
     "status": "ok",
     "timestamp": 1643573518083,
     "user": {
      "displayName": "Ignorância Zero",
      "photoUrl": "https://lh3.googleusercontent.com/a/default-user=s64",
      "userId": "00329270583361032720"
     },
     "user_tz": 180
    },
    "id": "AwYwr9KwmqVA",
    "outputId": "09a465cf-29f9-487c-e300-fe2af796df7c"
   },
   "outputs": [],
   "source": [
    "ser = pd.Series([\"2021/01/01\", \"2021/01/02\", \"2021/01/03\", \"2021/01/04\", \"2021/01/05\"])\n",
    "pd.to_datetime(ser)"
   ]
  },
  {
   "cell_type": "code",
   "execution_count": null,
   "metadata": {
    "colab": {
     "base_uri": "https://localhost:8080/"
    },
    "executionInfo": {
     "elapsed": 242,
     "status": "ok",
     "timestamp": 1643573646802,
     "user": {
      "displayName": "Ignorância Zero",
      "photoUrl": "https://lh3.googleusercontent.com/a/default-user=s64",
      "userId": "00329270583361032720"
     },
     "user_tz": 180
    },
    "id": "0VxPbQE1nd6P",
    "outputId": "143956bc-8988-48cf-a3da-5f9a4712d7c6"
   },
   "outputs": [],
   "source": [
    "ser = pd.Series([\"01/01/2021\", \"02/01/2021\", \"03/01/2021\", \"04/01/2021\", \"05/01/2021\"])\n",
    "ser = pd.to_datetime(ser, format=\"%d/%m/%Y\")\n",
    "ser"
   ]
  },
  {
   "cell_type": "markdown",
   "metadata": {
    "id": "HCrIdA-gh_LZ"
   },
   "source": [
    "De maneira análoga se quisessemos poderíamos utilizar o timedelta para adicionar tempo as datas, entretanto o pandas vem com o pd.DateOffset que obtém os mesmos resultados"
   ]
  },
  {
   "cell_type": "code",
   "execution_count": null,
   "metadata": {
    "colab": {
     "base_uri": "https://localhost:8080/"
    },
    "executionInfo": {
     "elapsed": 253,
     "status": "ok",
     "timestamp": 1643573642343,
     "user": {
      "displayName": "Ignorância Zero",
      "photoUrl": "https://lh3.googleusercontent.com/a/default-user=s64",
      "userId": "00329270583361032720"
     },
     "user_tz": 180
    },
    "id": "7cLHW8lpwgG9",
    "outputId": "cdc182d9-93e0-4d65-8235-126b4a9e6a78"
   },
   "outputs": [],
   "source": [
    "ser + pd.DateOffset(days=5)"
   ]
  },
  {
   "cell_type": "code",
   "execution_count": null,
   "metadata": {
    "colab": {
     "base_uri": "https://localhost:8080/"
    },
    "executionInfo": {
     "elapsed": 2,
     "status": "ok",
     "timestamp": 1643573708410,
     "user": {
      "displayName": "Ignorância Zero",
      "photoUrl": "https://lh3.googleusercontent.com/a/default-user=s64",
      "userId": "00329270583361032720"
     },
     "user_tz": 180
    },
    "id": "LijWbv6mn6ef",
    "outputId": "857dcfd5-b6db-4a2b-c62b-441dffe4eca6"
   },
   "outputs": [],
   "source": [
    "ser + datetime.timedelta(days=5)"
   ]
  },
  {
   "cell_type": "code",
   "execution_count": null,
   "metadata": {
    "colab": {
     "base_uri": "https://localhost:8080/"
    },
    "executionInfo": {
     "elapsed": 3,
     "status": "ok",
     "timestamp": 1643573687755,
     "user": {
      "displayName": "Ignorância Zero",
      "photoUrl": "https://lh3.googleusercontent.com/a/default-user=s64",
      "userId": "00329270583361032720"
     },
     "user_tz": 180
    },
    "id": "cueiBgA9oCWe",
    "outputId": "42eb7101-80ab-4bbb-fc34-c4dc32a989a3"
   },
   "outputs": [],
   "source": [
    "ser + pd.DateOffset(month=5)"
   ]
  },
  {
   "cell_type": "markdown",
   "metadata": {
    "id": "fhAdo9ggh_LZ"
   },
   "source": [
    "Além disso, uma das funções mais utilizadas do pandas nos permite facilmente criar arrays de datas, o pd.date_range"
   ]
  },
  {
   "cell_type": "code",
   "execution_count": null,
   "metadata": {
    "colab": {
     "base_uri": "https://localhost:8080/"
    },
    "executionInfo": {
     "elapsed": 249,
     "status": "ok",
     "timestamp": 1643573748143,
     "user": {
      "displayName": "Ignorância Zero",
      "photoUrl": "https://lh3.googleusercontent.com/a/default-user=s64",
      "userId": "00329270583361032720"
     },
     "user_tz": 180
    },
    "id": "Bc9h6M7XwgG9",
    "outputId": "159eacaa-500c-4fff-c958-3212a8dbdcb5"
   },
   "outputs": [],
   "source": [
    "pd.date_range(\"2021-01-01\", \"2021-01-05\")"
   ]
  },
  {
   "cell_type": "code",
   "execution_count": null,
   "metadata": {
    "colab": {
     "base_uri": "https://localhost:8080/"
    },
    "executionInfo": {
     "elapsed": 269,
     "status": "ok",
     "timestamp": 1643573780789,
     "user": {
      "displayName": "Ignorância Zero",
      "photoUrl": "https://lh3.googleusercontent.com/a/default-user=s64",
      "userId": "00329270583361032720"
     },
     "user_tz": 180
    },
    "id": "pjcw0BRJoYPf",
    "outputId": "ccc6e0a5-2e18-4627-b6ae-9ada46f69626"
   },
   "outputs": [],
   "source": [
    "pd.Series(pd.date_range(\"2021-01-01\", \"2021-01-05\"))"
   ]
  },
  {
   "cell_type": "code",
   "execution_count": null,
   "metadata": {
    "colab": {
     "base_uri": "https://localhost:8080/"
    },
    "executionInfo": {
     "elapsed": 247,
     "status": "ok",
     "timestamp": 1643573799945,
     "user": {
      "displayName": "Ignorância Zero",
      "photoUrl": "https://lh3.googleusercontent.com/a/default-user=s64",
      "userId": "00329270583361032720"
     },
     "user_tz": 180
    },
    "id": "U_HbSqJKocJ-",
    "outputId": "bbe8109c-3037-41d6-bc73-4b2a65ba9043"
   },
   "outputs": [],
   "source": [
    "pd.Series(pd.date_range(\"2021-01-01\", \"2021-01-05\", freq=\"12H\"))"
   ]
  },
  {
   "cell_type": "code",
   "execution_count": null,
   "metadata": {
    "colab": {
     "base_uri": "https://localhost:8080/"
    },
    "executionInfo": {
     "elapsed": 288,
     "status": "ok",
     "timestamp": 1643573830356,
     "user": {
      "displayName": "Ignorância Zero",
      "photoUrl": "https://lh3.googleusercontent.com/a/default-user=s64",
      "userId": "00329270583361032720"
     },
     "user_tz": 180
    },
    "id": "6kAw6F0Gogl-",
    "outputId": "e3b0d0ec-87e3-49d9-c1ee-310baf6d01a6"
   },
   "outputs": [],
   "source": [
    "pd.Series(pd.date_range(\"2021-01-01\", \"2021-01-05\", periods=3))"
   ]
  },
  {
   "cell_type": "markdown",
   "metadata": {
    "id": "t3RkMhich_Ld"
   },
   "source": [
    "Por fim, é interessante notar que o pandas ainda permite operações entre séries de datatime"
   ]
  },
  {
   "cell_type": "code",
   "execution_count": null,
   "metadata": {
    "colab": {
     "base_uri": "https://localhost:8080/"
    },
    "executionInfo": {
     "elapsed": 3,
     "status": "ok",
     "timestamp": 1643573885233,
     "user": {
      "displayName": "Ignorância Zero",
      "photoUrl": "https://lh3.googleusercontent.com/a/default-user=s64",
      "userId": "00329270583361032720"
     },
     "user_tz": 180
    },
    "id": "s_RjWfP8wgG9",
    "outputId": "bbcb281a-658e-43e0-ad6f-2337a5879582"
   },
   "outputs": [],
   "source": [
    "ser1 = pd.Series(pd.date_range(\"2021-01-01\", \"2021-01-05\"))\n",
    "ser2 = pd.Series(pd.date_range(\"2021-02-01\", \"2021-02-05\"))\n",
    "ser1 - ser2"
   ]
  },
  {
   "cell_type": "code",
   "execution_count": null,
   "metadata": {
    "colab": {
     "base_uri": "https://localhost:8080/"
    },
    "executionInfo": {
     "elapsed": 2,
     "status": "ok",
     "timestamp": 1643573917510,
     "user": {
      "displayName": "Ignorância Zero",
      "photoUrl": "https://lh3.googleusercontent.com/a/default-user=s64",
      "userId": "00329270583361032720"
     },
     "user_tz": 180
    },
    "id": "It1YVJhHo5Yg",
    "outputId": "b6102a57-100b-4afb-eb8f-e2b6788b3c39"
   },
   "outputs": [],
   "source": [
    "datetime.timedelta(days=31)"
   ]
  },
  {
   "cell_type": "markdown",
   "metadata": {
    "id": "aUNE3bT3h_Ld"
   },
   "source": [
    "O resultado dessas operações é um objeto timedelta, que, tal como o datetime, tem suas propriedades"
   ]
  },
  {
   "cell_type": "code",
   "execution_count": null,
   "metadata": {
    "executionInfo": {
     "elapsed": 2,
     "status": "ok",
     "timestamp": 1643573934469,
     "user": {
      "displayName": "Ignorância Zero",
      "photoUrl": "https://lh3.googleusercontent.com/a/default-user=s64",
      "userId": "00329270583361032720"
     },
     "user_tz": 180
    },
    "id": "0QudF_TAwgG-"
   },
   "outputs": [],
   "source": [
    "delta = ser1 - ser2"
   ]
  },
  {
   "cell_type": "code",
   "execution_count": null,
   "metadata": {
    "colab": {
     "base_uri": "https://localhost:8080/"
    },
    "executionInfo": {
     "elapsed": 244,
     "status": "ok",
     "timestamp": 1643573963177,
     "user": {
      "displayName": "Ignorância Zero",
      "photoUrl": "https://lh3.googleusercontent.com/a/default-user=s64",
      "userId": "00329270583361032720"
     },
     "user_tz": 180
    },
    "id": "XWkZdo9qo_2u",
    "outputId": "c4518221-876d-4327-9041-fb87ed0273a8"
   },
   "outputs": [],
   "source": [
    "delta.dt.days"
   ]
  },
  {
   "cell_type": "markdown",
   "metadata": {
    "id": "P9Pa_hvLh_Le"
   },
   "source": [
    "---"
   ]
  },
  {
   "cell_type": "markdown",
   "metadata": {
    "id": "o_FF50Lch_Le"
   },
   "source": [
    "**Exercício**\n",
    "\n",
    "Converta a string abaixo para um objeto datetime.\n",
    "\n",
    "Dica: Eu não te dei todas as ferramentas para resolver esse exercício então veja como combinar datetime com a biblioteca locale"
   ]
  },
  {
   "cell_type": "code",
   "execution_count": null,
   "metadata": {
    "ExecuteTime": {
     "end_time": "2021-09-20T13:43:37.294197Z",
     "start_time": "2021-09-20T13:43:37.276245Z"
    },
    "id": "xulmrvHYh_Le",
    "solution2": "hidden",
    "solution2_first": true
   },
   "outputs": [],
   "source": [
    "import locale\n",
    "\n",
    "ser = pd.Series([\n",
    "    \"1 de Janeiro de 2021\", \n",
    "    \"2 de Janeiro de 2021\", \n",
    "    \"3 de Janeiro de 2021\", \n",
    "    \"4 de Janeiro de 2021\", \n",
    "    \"5 de Janeiro de 2021\"\n",
    "])"
   ]
  },
  {
   "cell_type": "code",
   "execution_count": null,
   "metadata": {
    "cellView": "form",
    "id": "mfq3eVGLh_Le",
    "solution2": "hidden"
   },
   "outputs": [],
   "source": [
    "#@title Resposta\n",
    "import locale\n",
    "string = \"2 de Janeiro de 2021\"\n",
    "locale.setlocale(locale.LC_ALL, \"pt_BR.utf8\")\n",
    "\n",
    "ser = pd.Series([\n",
    "    \"1 de Janeiro de 2021\", \n",
    "    \"2 de Janeiro de 2021\", \n",
    "    \"3 de Janeiro de 2021\", \n",
    "    \"4 de Janeiro de 2021\", \n",
    "    \"5 de Janeiro de 2021\"\n",
    "])\n",
    "pd.to_datetime(ser, format=\"%d de %B de %Y\")"
   ]
  },
  {
   "cell_type": "markdown",
   "metadata": {
    "id": "k5eRxaLNh_Le"
   },
   "source": [
    "---"
   ]
  },
  {
   "cell_type": "markdown",
   "metadata": {
    "id": "olgk4fz6h_Le"
   },
   "source": [
    "## Operações Avançadas "
   ]
  },
  {
   "cell_type": "markdown",
   "metadata": {
    "id": "H1M9prM1h_Le"
   },
   "source": [
    "Além das operações que vimos anteriormente o pandas vem com algumas funcionalidades úteis que facilitam algumas operações mais complexas que veremos a seguir"
   ]
  },
  {
   "cell_type": "markdown",
   "metadata": {
    "id": "qpmgwylZh_Lf"
   },
   "source": [
    "rolling -> Percorre os valores de uma série de forma iterativa em blocos, permitindo realizar uma função de agregação sob esses blocos\n",
    "\n",
    "Parameters\n",
    "\n",
    "- window: int, offset, or BaseIndexer subclass\n",
    "    \n",
    "      Size of the moving window. This is the number of observations used for calculating the statistic. Each window will be a fixed size. If its an offset then this will be the time period of each window. Each window will be a variable sized based on the observations included in the time-period. This is only valid for datetimelike indexes. If a BaseIndexer subclass is passed, calculates the window boundaries based on the defined ``get_window_bounds`` method. Additional rolling keyword arguments, namely `min_periods`, `center`, and `closed` will be passed to `get_window_bounds`.\n",
    "    \n",
    "- min_periods: int, default None\n",
    "\n",
    "      Minimum number of observations in window required to have a value (otherwise result is NA). For a window that is specified by an offset, `min_periods` will default to 1. Otherwise, `min_periods` will default to the size of the window.\n",
    "\n",
    "- center : bool, default False\n",
    "    \n",
    "      Set the labels at the center of the window.\n",
    "\n",
    "- win_type : str, default None\n",
    "    \n",
    "      Provide a window type. If ``None``, all points are evenly weighted.\n",
    "\n",
    "- on : str, optional\n",
    "    \n",
    "      For a DataFrame, a datetime-like column or Index level on which to calculate the rolling window, rather than the DataFrame's index. Provided integer column is ignored and excluded from result since an integer index is not used to calculate the rolling window.\n",
    "\n",
    "- axis : int or str, default 0\n",
    "\n",
    "- closed : str, default None\n",
    "    \n",
    "      Make the interval closed on the 'right', 'left', 'both' or 'neither' endpoints. Defaults to 'right'."
   ]
  },
  {
   "cell_type": "code",
   "execution_count": null,
   "metadata": {
    "colab": {
     "base_uri": "https://localhost:8080/"
    },
    "executionInfo": {
     "elapsed": 3,
     "status": "ok",
     "timestamp": 1643574239813,
     "user": {
      "displayName": "Ignorância Zero",
      "photoUrl": "https://lh3.googleusercontent.com/a/default-user=s64",
      "userId": "00329270583361032720"
     },
     "user_tz": 180
    },
    "id": "jzmLjG0twgHD",
    "outputId": "e8126536-09dc-471f-c251-0b6d85166e86"
   },
   "outputs": [],
   "source": [
    "serie = pd.Series(np.arange(10))\n",
    "serie.rolling(3)"
   ]
  },
  {
   "cell_type": "code",
   "execution_count": null,
   "metadata": {
    "colab": {
     "base_uri": "https://localhost:8080/"
    },
    "executionInfo": {
     "elapsed": 238,
     "status": "ok",
     "timestamp": 1643574266710,
     "user": {
      "displayName": "Ignorância Zero",
      "photoUrl": "https://lh3.googleusercontent.com/a/default-user=s64",
      "userId": "00329270583361032720"
     },
     "user_tz": 180
    },
    "id": "FizQke7DqQU-",
    "outputId": "cdbfba9f-55cb-4236-e404-ea1c32cdf1a2"
   },
   "outputs": [],
   "source": [
    "serie"
   ]
  },
  {
   "cell_type": "code",
   "execution_count": null,
   "metadata": {
    "colab": {
     "base_uri": "https://localhost:8080/"
    },
    "executionInfo": {
     "elapsed": 2,
     "status": "ok",
     "timestamp": 1643574261662,
     "user": {
      "displayName": "Ignorância Zero",
      "photoUrl": "https://lh3.googleusercontent.com/a/default-user=s64",
      "userId": "00329270583361032720"
     },
     "user_tz": 180
    },
    "id": "B700r1UVqOP-",
    "outputId": "f708ea2a-f121-45d5-8e3c-3937a7b1f7aa"
   },
   "outputs": [],
   "source": [
    "serie.rolling(3).mean()"
   ]
  },
  {
   "cell_type": "code",
   "execution_count": null,
   "metadata": {
    "colab": {
     "base_uri": "https://localhost:8080/"
    },
    "executionInfo": {
     "elapsed": 249,
     "status": "ok",
     "timestamp": 1643574380377,
     "user": {
      "displayName": "Ignorância Zero",
      "photoUrl": "https://lh3.googleusercontent.com/a/default-user=s64",
      "userId": "00329270583361032720"
     },
     "user_tz": 180
    },
    "id": "Yi2nYiVkqfEe",
    "outputId": "ea83de8a-ed4b-4b9f-cff4-db6de7d6b5da"
   },
   "outputs": [],
   "source": [
    "serie.rolling(3, min_periods=2).mean()"
   ]
  },
  {
   "cell_type": "markdown",
   "metadata": {
    "id": "NVNvdxOzh_Lf"
   },
   "source": [
    "interpolate\n",
    "\n",
    "Parameters\n",
    "\n",
    "- method : str, default 'linear'\n",
    "    \n",
    "      Interpolation technique to use. One of:\n",
    "\n",
    "      * 'linear': Ignore the index and treat the values as equally spaced. This is the only method supported on MultiIndexes.\n",
    "      * 'time': Works on daily and higher resolution data to interpolate given length of interval.\n",
    "      * 'index', 'values': use the actual numerical values of the index.\n",
    "      * 'pad': Fill in NaNs using existing values.\n",
    "      * 'nearest', 'zero', 'slinear', 'quadratic', 'cubic', 'spline', 'barycentric', 'polynomial': Passed to `scipy.interpolate.interp1d`.\n",
    "      * 'krogh', 'piecewise_polynomial', 'spline', 'pchip', 'akima', 'cubicspline': Wrappers around the SciPy interpolation methods of similar names.\n",
    "      * 'from_derivatives': Refers to `scipy.interpolate.BPoly.from_derivatives`\n",
    "\n",
    "- axis : {{0 or 'index', 1 or 'columns', None}}, default None. \n",
    "        \n",
    "      Axis to interpolate along.\n",
    "\n",
    "- limit : int, optional\n",
    "      \n",
    "      Maximum number of consecutive NaNs to fill. Must be greater than 0.\n",
    "\n",
    "- inplace : bool, default False\n",
    "    \n",
    "      Update the data in place if possible.\n",
    "\n",
    "- limit_direction : {{'forward', 'backward', 'both'}}, Optional\n",
    "    \n",
    "      Consecutive NaNs will be filled in this direction.\n",
    "\n",
    "      If limit is specified:\n",
    "      * If 'method' is 'pad' or 'ffill', 'limit_direction' must be 'forward'.\n",
    "      * If 'method' is 'backfill' or 'bfill', 'limit_direction' must be 'backwards'.\n",
    "\n",
    "      If 'limit' is not specified:\n",
    "      * If 'method' is 'backfill' or 'bfill', the default is 'backward'\n",
    "      * else the default is 'forward'\n",
    "\n",
    "- limit_area : {{`None`, 'inside', 'outside'}}, default None\n",
    "    \n",
    "      If limit is specified, consecutive NaNs will be filled with this restriction.\n",
    "\n",
    "      * ``None``: No fill restriction.\n",
    "      * 'inside': Only fill NaNs surrounded by valid values (interpolate).\n",
    "      * 'outside': Only fill NaNs outside valid values (extrapolate).\n",
    "\n",
    "- downcast : optional, 'infer' or None, defaults to None\n",
    "    \n",
    "      Downcast dtypes if possible."
   ]
  },
  {
   "cell_type": "code",
   "execution_count": null,
   "metadata": {
    "colab": {
     "base_uri": "https://localhost:8080/"
    },
    "executionInfo": {
     "elapsed": 254,
     "status": "ok",
     "timestamp": 1643574515328,
     "user": {
      "displayName": "Ignorância Zero",
      "photoUrl": "https://lh3.googleusercontent.com/a/default-user=s64",
      "userId": "00329270583361032720"
     },
     "user_tz": 180
    },
    "id": "-5bLhG4MwgHE",
    "outputId": "118fa4d9-2e87-4e05-ecc3-d1cbe6508b70"
   },
   "outputs": [],
   "source": [
    "np.random.seed(42)\n",
    "serie = pd.Series(np.random.normal(10, size=10))\n",
    "serie[np.random.randint(10, size=3)] = np.nan\n",
    "print(serie)\n",
    "print(serie.interpolate(\"linear\"))\n",
    "print(serie.interpolate(\"linear\", limit_direction=\"both\"))"
   ]
  },
  {
   "cell_type": "markdown",
   "metadata": {
    "id": "FOFQILkih_Lg"
   },
   "source": [
    "---"
   ]
  },
  {
   "cell_type": "markdown",
   "metadata": {
    "id": "TMm0QkZzh_Lg"
   },
   "source": [
    "**Exercício**\n",
    "\n",
    "Usando a série abaixo, calcule a média móvel de mortes em 14 dias no Brasil e responda se a média móvel de mortes está subindo ou não, com base na comparação da média móvel de 14 dias atrás, na qual se essa razão for < -15%, a média está caindo, se for > +15% está subindo, caso contrário está em estabilidade "
   ]
  },
  {
   "cell_type": "code",
   "execution_count": null,
   "metadata": {
    "ExecuteTime": {
     "end_time": "2021-09-20T13:39:16.982146Z",
     "start_time": "2021-09-20T13:39:16.874279Z"
    },
    "id": "z4kd1Xa3h_Lg",
    "solution2": "hidden",
    "solution2_first": true
   },
   "outputs": [],
   "source": [
    "ser = pd.read_csv(\n",
    "    \"https://raw.githubusercontent.com/CSSEGISandData/COVID-19/master/csse_covid_19_data/csse_covid_19_time_series/time_series_covid19_deaths_global.csv\"\n",
    ").loc[lambda f: f[\"Country/Region\"] == \"Brazil\"].T.iloc[4:, 0]\n",
    "ser.name = \"Mortes\""
   ]
  },
  {
   "cell_type": "code",
   "execution_count": null,
   "metadata": {
    "cellView": "form",
    "id": "m1A2nyS1h_Lg",
    "solution2": "hidden"
   },
   "outputs": [],
   "source": [
    "#@title Resposta\n",
    "ser = pd.read_csv(\n",
    "    \"https://raw.githubusercontent.com/CSSEGISandData/COVID-19/master/csse_covid_19_data/csse_covid_19_time_series/time_series_covid19_deaths_global.csv\"\n",
    ").loc[lambda f: f[\"Country/Region\"] == \"Brazil\"].T.iloc[4:, 0]\n",
    "ser.name = \"Mortes\"\n",
    "\n",
    "mortes_por_dia = ser.diff()\n",
    "media_movel = mortes_por_dia.rolling(14).mean()\n",
    "media_movel_lag14 = media_movel.shift(14)\n",
    "var = media_movel / media_movel_lag14 - 1\n",
    "\n",
    "def tendencia(x):\n",
    "  if pd.isnull(x):\n",
    "    return None\n",
    "  elif x >= 0.15:\n",
    "    return \"Em Alta\"\n",
    "  elif x <= -0.15: \n",
    "    return \"Em Queda\"\n",
    "  else:\n",
    "    return \"Em Estabilidade\"\n",
    "\n",
    "var = var.map(tendencia)\n",
    "var.tail(30)"
   ]
  },
  {
   "cell_type": "markdown",
   "metadata": {
    "id": "9JjuChTVh_Lg"
   },
   "source": [
    "---"
   ]
  }
 ],
 "metadata": {
  "colab": {
   "collapsed_sections": [],
   "name": "Séries (Code Along).ipynb",
   "provenance": [
    {
     "file_id": "1ZeOQKdUB1FMUbSy2Sd76oktBBcEis6UV",
     "timestamp": 1643139715873
    }
   ],
   "toc_visible": true
  },
  "hide_input": false,
  "kernelspec": {
   "display_name": "Python 3 (ipykernel)",
   "language": "python",
   "name": "python3"
  },
  "language_info": {
   "codemirror_mode": {
    "name": "ipython",
    "version": 3
   },
   "file_extension": ".py",
   "mimetype": "text/x-python",
   "name": "python",
   "nbconvert_exporter": "python",
   "pygments_lexer": "ipython3",
   "version": "3.9.7"
  },
  "toc": {
   "base_numbering": 1,
   "nav_menu": {},
   "number_sections": true,
   "sideBar": true,
   "skip_h1_title": true,
   "title_cell": "Table of Contents",
   "title_sidebar": "Contents",
   "toc_cell": false,
   "toc_position": {
    "height": "calc(100% - 180px)",
    "left": "10px",
    "top": "150px",
    "width": "312.475px"
   },
   "toc_section_display": true,
   "toc_window_display": true
  },
  "varInspector": {
   "cols": {
    "lenName": 16,
    "lenType": 16,
    "lenVar": 40
   },
   "kernels_config": {
    "python": {
     "delete_cmd_postfix": "",
     "delete_cmd_prefix": "del ",
     "library": "var_list.py",
     "varRefreshCmd": "print(var_dic_list())"
    },
    "r": {
     "delete_cmd_postfix": ") ",
     "delete_cmd_prefix": "rm(",
     "library": "var_list.r",
     "varRefreshCmd": "cat(var_dic_list()) "
    }
   },
   "types_to_exclude": [
    "module",
    "function",
    "builtin_function_or_method",
    "instance",
    "_Feature"
   ],
   "window_display": false
  }
 },
 "nbformat": 4,
 "nbformat_minor": 1
}
