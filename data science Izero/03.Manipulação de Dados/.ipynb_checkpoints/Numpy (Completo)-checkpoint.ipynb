{
 "cells": [
  {
   "cell_type": "markdown",
   "metadata": {
    "id": "nhK6mEZD5duG"
   },
   "source": [
    "# Numpy"
   ]
  },
  {
   "cell_type": "markdown",
   "metadata": {
    "id": "jDFIlB9H5duK"
   },
   "source": [
    "**OBJETIVO**: O objetivo deste notebook é explicar como a biblioteca numpy funciona e as principais operações com arrays"
   ]
  },
  {
   "cell_type": "markdown",
   "metadata": {
    "id": "lgK-hdeI5duL"
   },
   "source": [
    "---"
   ]
  },
  {
   "cell_type": "code",
   "execution_count": null,
   "metadata": {
    "ExecuteTime": {
     "end_time": "2021-09-17T18:30:28.816304Z",
     "start_time": "2021-09-17T18:30:28.381461Z"
    },
    "id": "c9P9KIqufTzX"
   },
   "outputs": [],
   "source": [
    "import os\n",
    "import numpy as np\n",
    "import pandas as pd\n",
    "\n",
    "from pathlib import Path\n",
    "\n",
    "%config Completer.use_jedi = False"
   ]
  },
  {
   "cell_type": "markdown",
   "metadata": {
    "id": "1Hfd3ztV5duS"
   },
   "source": [
    "---"
   ]
  },
  {
   "cell_type": "markdown",
   "metadata": {
    "id": "Bjahvxem5dud"
   },
   "source": [
    "## Criação "
   ]
  },
  {
   "cell_type": "markdown",
   "metadata": {
    "id": "TYBFHGFvfTzc"
   },
   "source": [
    "Arrays são objetos que armazenam estruturas sequencias de dados de tipo e tamanhos determinado que apontam para uma sequência de dados na memória RAM. Em Python, a biblioteca que lida com essas estruturas é o Numpy que não só oferece as funcionalidades clássicas de um array (que pode ser vista em C, C++, Java, ...), mas também propriedades vetoriais utilizadas em operações de algebra linear"
   ]
  },
  {
   "cell_type": "markdown",
   "metadata": {
    "id": "7976rCLF6CZO"
   },
   "source": [
    "Criar um array é uma tarefa simples, que pode ser realizada por meio de uma lista como abaixo"
   ]
  },
  {
   "cell_type": "code",
   "execution_count": null,
   "metadata": {
    "ExecuteTime": {
     "end_time": "2021-09-17T18:30:29.360339Z",
     "start_time": "2021-09-17T18:30:29.340422Z"
    },
    "executionInfo": {
     "elapsed": 241,
     "status": "ok",
     "timestamp": 1631717055130,
     "user": {
      "displayName": "Pedro Forli",
      "photoUrl": "https://lh3.googleusercontent.com/a/default-user=s64",
      "userId": "08325002347257917995"
     },
     "user_tz": 180
    },
    "id": "MNP3QjWF5dud",
    "outputId": "cc08ad88-5272-4e4a-e83a-00468b0004de"
   },
   "outputs": [
    {
     "data": {
      "text/plain": [
       "array([1, 2, 3, 4, 5])"
      ]
     },
     "execution_count": 2,
     "metadata": {},
     "output_type": "execute_result"
    }
   ],
   "source": [
    "array = np.array([1, 2, 3, 4, 5])\n",
    "array"
   ]
  },
  {
   "cell_type": "code",
   "execution_count": null,
   "metadata": {
    "ExecuteTime": {
     "end_time": "2021-09-17T18:30:29.594524Z",
     "start_time": "2021-09-17T18:30:29.579534Z"
    },
    "id": "Qr094kF3fTzh",
    "outputId": "91a420cb-00ba-49f9-fcae-4e7edabc8f77"
   },
   "outputs": [
    {
     "data": {
      "text/plain": [
       "array([[1, 2, 3],\n",
       "       [4, 5, 6]])"
      ]
     },
     "execution_count": 3,
     "metadata": {},
     "output_type": "execute_result"
    }
   ],
   "source": [
    "matriz = np.array([[1, 2, 3], [4, 5, 6]])\n",
    "matriz"
   ]
  },
  {
   "cell_type": "markdown",
   "metadata": {
    "id": "Su0b01RRfTzi"
   },
   "source": [
    "Ao fazer isso estaremos alocando os valores selecionados dentro da RAM do computador em endereços sequenciais, igualmente espaçados de acordo com o tipo de dado do array.\n",
    "\n",
    "<img src=\"https://miro.medium.com/max/497/1*-ImKrqrT14UlG6wMpAEIJQ.png\" />"
   ]
  },
  {
   "cell_type": "markdown",
   "metadata": {
    "id": "lEMrz_INfTzj"
   },
   "source": [
    "Dados isso é fácil perceber que um array tem as seguintes características que podem ser acessadas na forma de atributos deste objeto:\n",
    "\n",
    "- dtype: O tipo de dados do array\n",
    "- shape: O tamanho do array em linhas e colunas\n",
    "- size: O tamanho do array em quantidade de elementos\n",
    "- itemsize: O consumo de memória de cada elemento do array (em bytes)\n",
    "- strides: Uma distancia em bytes entre os elementos armazenados na memória"
   ]
  },
  {
   "cell_type": "code",
   "execution_count": null,
   "metadata": {
    "ExecuteTime": {
     "end_time": "2021-09-17T18:30:30.104860Z",
     "start_time": "2021-09-17T18:30:30.092892Z"
    },
    "id": "Ie5x6Q_bfTzk",
    "outputId": "8694e068-463c-4b20-ff13-d4c230dfda08"
   },
   "outputs": [
    {
     "name": "stdout",
     "output_type": "stream",
     "text": [
      "array: dtype=int32 | shape=(5,) | size=5 | itemsize=4 | strides=(4,)\n",
      "matriz: dtype=int32 | shape=(2, 3) | size=6 | itemsize=4 | strides=(12, 4)\n"
     ]
    }
   ],
   "source": [
    "print(\n",
    "    f\"array: dtype={array.dtype} | shape={array.shape} | size={array.size} \"\n",
    "    f\"| itemsize={array.itemsize} | strides={array.strides}\"\n",
    ")\n",
    "print(\n",
    "    f\"matriz: dtype={matriz.dtype} | shape={matriz.shape} | size={matriz.size} \"\n",
    "    f\"| itemsize={matriz.itemsize} | strides={matriz.strides}\"\n",
    ")"
   ]
  },
  {
   "cell_type": "markdown",
   "metadata": {
    "id": "d5Gn-74CfTzl"
   },
   "source": [
    "Dado que inicializações de diferentes tipos de array são bastante comuns, a biblioteca contém uma série de funcionalidades que permitem criar arrays com diferentes tipos de dados"
   ]
  },
  {
   "cell_type": "markdown",
   "metadata": {
    "id": "__h88Wqs6n6N"
   },
   "source": [
    "**np.zeros** -> Cria um array preenchido com zeros"
   ]
  },
  {
   "cell_type": "code",
   "execution_count": null,
   "metadata": {
    "ExecuteTime": {
     "end_time": "2021-09-17T18:30:30.652986Z",
     "start_time": "2021-09-17T18:30:30.637028Z"
    },
    "colab": {
     "base_uri": "https://localhost:8080/"
    },
    "executionInfo": {
     "elapsed": 10,
     "status": "ok",
     "timestamp": 1631717108608,
     "user": {
      "displayName": "Pedro Forli",
      "photoUrl": "https://lh3.googleusercontent.com/a/default-user=s64",
      "userId": "08325002347257917995"
     },
     "user_tz": 180
    },
    "id": "7t6RuQzw6nM0",
    "outputId": "d62642a7-df43-4089-cbfe-bc4afd17ced4"
   },
   "outputs": [
    {
     "data": {
      "text/plain": [
       "array([[0., 0.],\n",
       "       [0., 0.],\n",
       "       [0., 0.]])"
      ]
     },
     "execution_count": 5,
     "metadata": {},
     "output_type": "execute_result"
    }
   ],
   "source": [
    "np.zeros(shape=(3, 2))"
   ]
  },
  {
   "cell_type": "markdown",
   "metadata": {
    "id": "-VTRQoSP6zuh"
   },
   "source": [
    "**np.ones** -> Cria um array preenchido com um's"
   ]
  },
  {
   "cell_type": "code",
   "execution_count": null,
   "metadata": {
    "ExecuteTime": {
     "end_time": "2021-09-17T18:30:31.011758Z",
     "start_time": "2021-09-17T18:30:31.003807Z"
    },
    "colab": {
     "base_uri": "https://localhost:8080/"
    },
    "executionInfo": {
     "elapsed": 10,
     "status": "ok",
     "timestamp": 1631717156159,
     "user": {
      "displayName": "Pedro Forli",
      "photoUrl": "https://lh3.googleusercontent.com/a/default-user=s64",
      "userId": "08325002347257917995"
     },
     "user_tz": 180
    },
    "id": "pWI70buA68Nx",
    "outputId": "25dd1141-f0d7-4453-b43a-cd56eaa03474"
   },
   "outputs": [
    {
     "data": {
      "text/plain": [
       "array([1., 1., 1.])"
      ]
     },
     "execution_count": 6,
     "metadata": {},
     "output_type": "execute_result"
    }
   ],
   "source": [
    "np.ones(shape=(3,))"
   ]
  },
  {
   "cell_type": "markdown",
   "metadata": {
    "id": "NSHhgQHU_e5q"
   },
   "source": [
    "**np.eye** -> Cria a matriz identidade com o tamanho específicado"
   ]
  },
  {
   "cell_type": "code",
   "execution_count": null,
   "metadata": {
    "ExecuteTime": {
     "end_time": "2021-09-17T18:30:31.356395Z",
     "start_time": "2021-09-17T18:30:31.340438Z"
    },
    "colab": {
     "base_uri": "https://localhost:8080/"
    },
    "executionInfo": {
     "elapsed": 3,
     "status": "ok",
     "timestamp": 1631718369266,
     "user": {
      "displayName": "Pedro Forli",
      "photoUrl": "https://lh3.googleusercontent.com/a/default-user=s64",
      "userId": "08325002347257917995"
     },
     "user_tz": 180
    },
    "id": "OtGck9b7_eMP",
    "outputId": "9eb3bc6f-c5bf-4d0b-a273-adf9c3627009"
   },
   "outputs": [
    {
     "data": {
      "text/plain": [
       "array([[1., 0., 0., 0.],\n",
       "       [0., 1., 0., 0.],\n",
       "       [0., 0., 1., 0.],\n",
       "       [0., 0., 0., 1.]])"
      ]
     },
     "execution_count": 7,
     "metadata": {},
     "output_type": "execute_result"
    }
   ],
   "source": [
    "np.eye(4)"
   ]
  },
  {
   "cell_type": "markdown",
   "metadata": {
    "id": "iWKH3Drs6_Rm"
   },
   "source": [
    "**np.arange** -> Mesma coisa que a função range, só que para arrays"
   ]
  },
  {
   "cell_type": "code",
   "execution_count": null,
   "metadata": {
    "ExecuteTime": {
     "end_time": "2021-09-17T18:30:31.700950Z",
     "start_time": "2021-09-17T18:30:31.691975Z"
    },
    "colab": {
     "base_uri": "https://localhost:8080/"
    },
    "executionInfo": {
     "elapsed": 5,
     "status": "ok",
     "timestamp": 1631717479911,
     "user": {
      "displayName": "Pedro Forli",
      "photoUrl": "https://lh3.googleusercontent.com/a/default-user=s64",
      "userId": "08325002347257917995"
     },
     "user_tz": 180
    },
    "id": "_qZ5eFqS6-zj",
    "outputId": "dd5e7ecf-dec7-47ba-b010-cddbec741697"
   },
   "outputs": [
    {
     "data": {
      "text/plain": [
       "array([1, 3, 5, 7, 9])"
      ]
     },
     "execution_count": 8,
     "metadata": {},
     "output_type": "execute_result"
    }
   ],
   "source": [
    "np.arange(1, 10, 2)"
   ]
  },
  {
   "cell_type": "markdown",
   "metadata": {
    "id": "RFOHITf17MKa"
   },
   "source": [
    "**np.linspace** -> Cria um array entre dois números espaçados linearmente"
   ]
  },
  {
   "cell_type": "code",
   "execution_count": null,
   "metadata": {
    "ExecuteTime": {
     "end_time": "2021-09-17T18:30:32.072327Z",
     "start_time": "2021-09-17T18:30:32.060359Z"
    },
    "colab": {
     "base_uri": "https://localhost:8080/"
    },
    "executionInfo": {
     "elapsed": 8,
     "status": "ok",
     "timestamp": 1631717380150,
     "user": {
      "displayName": "Pedro Forli",
      "photoUrl": "https://lh3.googleusercontent.com/a/default-user=s64",
      "userId": "08325002347257917995"
     },
     "user_tz": 180
    },
    "id": "pL0Sgs367L3_",
    "outputId": "9476379f-d036-4cf3-970b-7e7a142fb05f"
   },
   "outputs": [
    {
     "data": {
      "text/plain": [
       "array([ 5.  ,  6.25,  7.5 ,  8.75, 10.  ])"
      ]
     },
     "execution_count": 9,
     "metadata": {},
     "output_type": "execute_result"
    }
   ],
   "source": [
    "np.linspace(5, 10, num=5)"
   ]
  },
  {
   "cell_type": "markdown",
   "metadata": {
    "id": "2RRkGSzx78OF"
   },
   "source": [
    "**np.logspace** -> Cria um array entre dois números espaçados logaritimicamente"
   ]
  },
  {
   "cell_type": "code",
   "execution_count": null,
   "metadata": {
    "ExecuteTime": {
     "end_time": "2021-09-17T18:30:32.418116Z",
     "start_time": "2021-09-17T18:30:32.412131Z"
    },
    "colab": {
     "base_uri": "https://localhost:8080/"
    },
    "executionInfo": {
     "elapsed": 6,
     "status": "ok",
     "timestamp": 1631717466102,
     "user": {
      "displayName": "Pedro Forli",
      "photoUrl": "https://lh3.googleusercontent.com/a/default-user=s64",
      "userId": "08325002347257917995"
     },
     "user_tz": 180
    },
    "id": "9Zpdt6wj7PMa",
    "outputId": "84797219-5bf8-4c5a-daad-65344e2a773b"
   },
   "outputs": [
    {
     "data": {
      "text/plain": [
       "array([ 1.        ,  1.29154967,  1.66810054,  2.15443469,  2.7825594 ,\n",
       "        3.59381366,  4.64158883,  5.9948425 ,  7.74263683, 10.        ])"
      ]
     },
     "execution_count": 10,
     "metadata": {},
     "output_type": "execute_result"
    }
   ],
   "source": [
    "np.logspace(0, 1, 10)"
   ]
  },
  {
   "cell_type": "markdown",
   "metadata": {
    "id": "m9P0ay7K_OSK"
   },
   "source": [
    "**np.random.int** -> Cria um array de valores aleatóries entre um valor menor e maior (exclusivo)"
   ]
  },
  {
   "cell_type": "code",
   "execution_count": null,
   "metadata": {
    "ExecuteTime": {
     "end_time": "2021-09-17T18:30:32.792392Z",
     "start_time": "2021-09-17T18:30:32.780424Z"
    },
    "colab": {
     "base_uri": "https://localhost:8080/"
    },
    "executionInfo": {
     "elapsed": 16,
     "status": "ok",
     "timestamp": 1631718290210,
     "user": {
      "displayName": "Pedro Forli",
      "photoUrl": "https://lh3.googleusercontent.com/a/default-user=s64",
      "userId": "08325002347257917995"
     },
     "user_tz": 180
    },
    "id": "Nq7tk-0V_OCP",
    "outputId": "e8cfeacb-7115-491c-9838-36040a3681b4"
   },
   "outputs": [
    {
     "data": {
      "text/plain": [
       "array([[3, 1, 6, 0, 8],\n",
       "       [1, 9, 7, 9, 7],\n",
       "       [0, 8, 2, 6, 3],\n",
       "       [6, 7, 7, 5, 4],\n",
       "       [1, 3, 2, 0, 7]])"
      ]
     },
     "execution_count": 11,
     "metadata": {},
     "output_type": "execute_result"
    }
   ],
   "source": [
    "np.random.randint(0, 10, size=(5, 5))"
   ]
  },
  {
   "cell_type": "markdown",
   "metadata": {
    "id": "xxxyJPsu8RvF"
   },
   "source": [
    "**np.random.normal** -> Cria um array aleatório com valores baseados em uma distribuição normal"
   ]
  },
  {
   "cell_type": "code",
   "execution_count": null,
   "metadata": {
    "ExecuteTime": {
     "end_time": "2021-09-17T18:30:33.178705Z",
     "start_time": "2021-09-17T18:30:33.164741Z"
    },
    "colab": {
     "base_uri": "https://localhost:8080/"
    },
    "executionInfo": {
     "elapsed": 15,
     "status": "ok",
     "timestamp": 1631717546115,
     "user": {
      "displayName": "Pedro Forli",
      "photoUrl": "https://lh3.googleusercontent.com/a/default-user=s64",
      "userId": "08325002347257917995"
     },
     "user_tz": 180
    },
    "id": "vbPD95nf8RdP",
    "outputId": "4fbc806d-cb05-4aed-c583-ec34aa9ea77d"
   },
   "outputs": [
    {
     "data": {
      "text/plain": [
       "array([ 1.24414437,  2.84692295,  0.35339637,  3.19806543, -0.66821734,\n",
       "        4.45850116,  1.90240574, -1.54304658,  0.62973106,  0.12431222])"
      ]
     },
     "execution_count": 12,
     "metadata": {},
     "output_type": "execute_result"
    }
   ],
   "source": [
    "np.random.normal(1, 2, 10)"
   ]
  },
  {
   "cell_type": "markdown",
   "metadata": {
    "id": "8eagUl3yfTzw"
   },
   "source": [
    "É interassante notar que algumas dessas funções não permitem passar o tamanho do array (como np.arange), por isso muitas vezes é comum combina-las com o método reshape"
   ]
  },
  {
   "cell_type": "code",
   "execution_count": null,
   "metadata": {
    "ExecuteTime": {
     "end_time": "2021-09-17T18:30:33.522347Z",
     "start_time": "2021-09-17T18:30:33.516364Z"
    },
    "id": "hgoc8W_xfTzw",
    "outputId": "91b21a5a-99d5-42c3-de1e-c866c05c9ab4"
   },
   "outputs": [
    {
     "name": "stdout",
     "output_type": "stream",
     "text": [
      "[ 0  1  2  3  4  5  6  7  8  9 10 11]\n",
      "[[ 0  1  2  3]\n",
      " [ 4  5  6  7]\n",
      " [ 8  9 10 11]]\n"
     ]
    }
   ],
   "source": [
    "a = np.arange(12)\n",
    "print(a)\n",
    "a = a.reshape(3, 4)\n",
    "print(a)"
   ]
  },
  {
   "cell_type": "markdown",
   "metadata": {
    "id": "_Kt9R3AEfTzw"
   },
   "source": [
    "---"
   ]
  },
  {
   "cell_type": "markdown",
   "metadata": {
    "id": "XW5-JSe3fTzx"
   },
   "source": [
    "**Exercício** \n",
    "\n",
    "Gere uma matriz 4x4 de números igualmente espaçados entre 5 e 11 e calcule o total de memória utilizado para armazenar este array"
   ]
  },
  {
   "cell_type": "code",
   "execution_count": null,
   "metadata": {
    "ExecuteTime": {
     "end_time": "2021-09-16T14:50:30.980653Z",
     "start_time": "2021-09-16T14:50:30.963699Z"
    },
    "id": "6BHeSn7ofTzx",
    "solution2": "hidden",
    "solution2_first": true
   },
   "outputs": [],
   "source": []
  },
  {
   "cell_type": "code",
   "execution_count": null,
   "metadata": {
    "cellView": "form",
    "id": "4RDUZ0W8fTzx",
    "solution2": "hidden"
   },
   "outputs": [],
   "source": [
    "#@title Resposta\n",
    "arr = np.linspace(5, 11, num=16).reshape(4, 4)\n",
    "print(arr)\n",
    "print(\"Bytes:\", arr.size * arr.itemsize)"
   ]
  },
  {
   "cell_type": "markdown",
   "metadata": {
    "id": "Eja3bFtXfTzy"
   },
   "source": [
    "---"
   ]
  },
  {
   "cell_type": "markdown",
   "metadata": {
    "id": "5foiZBoD_oMR"
   },
   "source": [
    "## Tipagem"
   ]
  },
  {
   "cell_type": "markdown",
   "metadata": {
    "id": "QiwowYVP_n9u"
   },
   "source": [
    "Uma das diferenças mais gritantes entre arrays e listas é sua tipagem. Enquanto listas podem conter múltiplos tipos de dados (inteiros, strings, floats, etc) arrays tendem a possuir tipagem fixa e tal tipagem pode ser modificada utilizando o método astype"
   ]
  },
  {
   "cell_type": "code",
   "execution_count": null,
   "metadata": {
    "ExecuteTime": {
     "end_time": "2021-09-17T18:30:35.610682Z",
     "start_time": "2021-09-17T18:30:35.595693Z"
    },
    "colab": {
     "base_uri": "https://localhost:8080/"
    },
    "executionInfo": {
     "elapsed": 7,
     "status": "ok",
     "timestamp": 1631718503712,
     "user": {
      "displayName": "Pedro Forli",
      "photoUrl": "https://lh3.googleusercontent.com/a/default-user=s64",
      "userId": "08325002347257917995"
     },
     "user_tz": 180
    },
    "id": "mj1D5zeb_ulr",
    "outputId": "f0fb6c10-4543-4748-802a-f0730753775e"
   },
   "outputs": [
    {
     "name": "stdout",
     "output_type": "stream",
     "text": [
      "int32 [1 2 3]\n"
     ]
    }
   ],
   "source": [
    "arr = np.array([1, 2, 3])\n",
    "print(arr.dtype, arr)"
   ]
  },
  {
   "cell_type": "code",
   "execution_count": null,
   "metadata": {
    "ExecuteTime": {
     "end_time": "2021-09-17T18:30:35.797544Z",
     "start_time": "2021-09-17T18:30:35.790563Z"
    },
    "colab": {
     "base_uri": "https://localhost:8080/"
    },
    "executionInfo": {
     "elapsed": 239,
     "status": "ok",
     "timestamp": 1631718521606,
     "user": {
      "displayName": "Pedro Forli",
      "photoUrl": "https://lh3.googleusercontent.com/a/default-user=s64",
      "userId": "08325002347257917995"
     },
     "user_tz": 180
    },
    "id": "-UtxlhlJAE40",
    "outputId": "bf5f9130-e18e-45b2-f83b-6c1c793dcafa"
   },
   "outputs": [
    {
     "name": "stdout",
     "output_type": "stream",
     "text": [
      "float64 [1. 2. 3.]\n"
     ]
    }
   ],
   "source": [
    "arr = np.array([1, 2, 3])\n",
    "arr = arr.astype(\"float\")\n",
    "print(arr.dtype, arr)"
   ]
  },
  {
   "cell_type": "code",
   "execution_count": null,
   "metadata": {
    "ExecuteTime": {
     "end_time": "2021-09-17T18:30:35.968122Z",
     "start_time": "2021-09-17T18:30:35.964133Z"
    },
    "id": "DW-4OwPkfTzz",
    "outputId": "d7122bcf-eca3-459b-aa72-0b030b3fab2f"
   },
   "outputs": [
    {
     "name": "stdout",
     "output_type": "stream",
     "text": [
      "uint8 [1 2 3]\n"
     ]
    }
   ],
   "source": [
    "arr = np.array([1, 2, 3])\n",
    "arr = arr.astype(np.uint8)\n",
    "print(arr.dtype, arr)"
   ]
  },
  {
   "cell_type": "code",
   "execution_count": null,
   "metadata": {
    "ExecuteTime": {
     "end_time": "2021-09-17T18:30:36.154656Z",
     "start_time": "2021-09-17T18:30:36.143654Z"
    },
    "colab": {
     "base_uri": "https://localhost:8080/"
    },
    "executionInfo": {
     "elapsed": 22,
     "status": "ok",
     "timestamp": 1631718563081,
     "user": {
      "displayName": "Pedro Forli",
      "photoUrl": "https://lh3.googleusercontent.com/a/default-user=s64",
      "userId": "08325002347257917995"
     },
     "user_tz": 180
    },
    "id": "HC5M-iVqAMBd",
    "outputId": "de9fc637-25c0-4c03-99da-d1154f9d37f6",
    "scrolled": true
   },
   "outputs": [
    {
     "data": {
      "text/plain": [
       "dtype('O')"
      ]
     },
     "execution_count": 18,
     "metadata": {},
     "output_type": "execute_result"
    }
   ],
   "source": [
    "arr = np.array([\"ola\", 2.1, [2, 3, 4]], dtype=\"object\")\n",
    "arr.dtype"
   ]
  },
  {
   "cell_type": "markdown",
   "metadata": {
    "id": "XjQGj_bXfTz0"
   },
   "source": [
    "Abaixo temos a lista dos tipos de dados numéricos do numpy\n",
    "\n",
    "<img src=\"https://miro.medium.com/max/1240/1*lbPigku_qn_NeKAHHTGYPg.png\" />"
   ]
  },
  {
   "cell_type": "markdown",
   "metadata": {
    "id": "dcTZ4cEffTz0"
   },
   "source": [
    "---"
   ]
  },
  {
   "cell_type": "markdown",
   "metadata": {
    "id": "jjiS0LL4fTz1"
   },
   "source": [
    "**Exercício** \n",
    "\n",
    "Assumindo que você tenha um array de apenas inteiros, crie uma função que converte-o para o tipo de dado que minimiza seu uso de memória"
   ]
  },
  {
   "cell_type": "code",
   "execution_count": null,
   "metadata": {
    "ExecuteTime": {
     "end_time": "2021-09-17T18:30:37.060660Z",
     "start_time": "2021-09-17T18:30:37.051713Z"
    },
    "id": "GJxhQLftfTz1",
    "solution2": "hidden",
    "solution2_first": true
   },
   "outputs": [],
   "source": [
    "def minimiza_memoria(array: np.ndarray) -> np.ndarray:\n",
    "    \"\"\"\n",
    "    Minimiza o uso de memório de um determinado array\n",
    "    de inteiros\n",
    "    \n",
    "    :param array: array a ser minimizado\n",
    "    :return: array com o tipo ajustado\n",
    "    \"\"\"\n",
    "    pass\n"
   ]
  },
  {
   "cell_type": "code",
   "execution_count": null,
   "metadata": {
    "cellView": "form",
    "id": "8Lq3T2dgfTz1",
    "solution2": "hidden"
   },
   "outputs": [],
   "source": [
    "#@title Resposta\n",
    "def minimiza_memoria(array: np.ndarray) -> np.ndarray:\n",
    "    \"\"\"\n",
    "    Minimiza o uso de memório de um determinado array\n",
    "    de inteiros\n",
    "    \n",
    "    :param array: array a ser minimizado\n",
    "    :return: array com o tipo ajustado\n",
    "    \"\"\"\n",
    "    # cria um dicionário com o uso de memória por bytes\n",
    "    uso = {\n",
    "        8: 127,\n",
    "        16: 32767,\n",
    "        32: 2147483647,\n",
    "    }\n",
    "    \n",
    "    # obtém os valores mínimos e máximos do array\n",
    "    minimo = min(array)\n",
    "    maximo = max(array)\n",
    "    \n",
    "    # cria os parâmetros para a seleção do tipo com base no\n",
    "    # valor mínimo\n",
    "    if minimo > 0:\n",
    "        prefix = \"u\"\n",
    "        menor = lambda m: 0\n",
    "        maior = lambda m: 2 * m + 1\n",
    "    else:\n",
    "        prefix = \"\"\n",
    "        menor = lambda m: -(m + 1)\n",
    "        maior = lambda m: m\n",
    "    \n",
    "    # percorre os diferentes tipos de inteiro e seleciona o mais adequado\n",
    "    for b, m in uso.items():\n",
    "        if minimo >= menor(m) and maximo <= maior(m):\n",
    "            return array.astype(f\"{prefix}int{b}\")\n",
    "        \n",
    "print(minimiza_memoria(np.array([1, 2, 3])).dtype)\n",
    "print(minimiza_memoria(np.array([-1, 2, 3])).dtype)\n",
    "print(minimiza_memoria(np.array([1, 2, 130])).dtype)\n",
    "print(minimiza_memoria(np.array([-1, 2, 130])).dtype)"
   ]
  },
  {
   "cell_type": "markdown",
   "metadata": {
    "id": "YTHtOxwgfTz2"
   },
   "source": [
    "---"
   ]
  },
  {
   "cell_type": "markdown",
   "metadata": {
    "id": "_6364I-L5dud"
   },
   "source": [
    "## Indexação "
   ]
  },
  {
   "cell_type": "markdown",
   "metadata": {
    "id": "1B1YxYy85dur"
   },
   "source": [
    "Tal como listas arrays são objetos indexáveis de maneira similar, de forma que a sintaxe de chaves e os slices funcionam normalmente"
   ]
  },
  {
   "cell_type": "code",
   "execution_count": null,
   "metadata": {
    "ExecuteTime": {
     "end_time": "2021-09-17T18:30:38.145173Z",
     "start_time": "2021-09-17T18:30:38.140213Z"
    },
    "id": "bzA1LoXtfTz3",
    "outputId": "d66ae94c-9685-421a-b534-e996b4640132"
   },
   "outputs": [
    {
     "name": "stdout",
     "output_type": "stream",
     "text": [
      "[1 2 3 4 5 6 7 8 9]\n",
      "[[-1.30905056  0.1153812   4.20355096]\n",
      " [ 3.06223925  4.14537777  3.45345367]\n",
      " [-0.83387333  2.09866525  2.94181273]]\n"
     ]
    }
   ],
   "source": [
    "array = np.arange(1, 10)\n",
    "matriz = np.random.normal(1, 2, (3, 3))\n",
    "\n",
    "print(array)\n",
    "print(matriz)"
   ]
  },
  {
   "cell_type": "code",
   "execution_count": null,
   "metadata": {
    "ExecuteTime": {
     "end_time": "2021-09-17T18:30:38.332198Z",
     "start_time": "2021-09-17T18:30:38.317240Z"
    },
    "id": "6_yN9nzB5dur",
    "outputId": "f3b0ce8b-887e-47b6-96dd-62d3f2740591"
   },
   "outputs": [
    {
     "data": {
      "text/plain": [
       "1"
      ]
     },
     "execution_count": 22,
     "metadata": {},
     "output_type": "execute_result"
    }
   ],
   "source": [
    "array[0]"
   ]
  },
  {
   "cell_type": "code",
   "execution_count": null,
   "metadata": {
    "ExecuteTime": {
     "end_time": "2021-09-17T18:30:38.536035Z",
     "start_time": "2021-09-17T18:30:38.528029Z"
    },
    "id": "a1JHZRZs5dus",
    "outputId": "1393fb12-7e75-4c1a-cddf-3338432fe061"
   },
   "outputs": [
    {
     "data": {
      "text/plain": [
       "2.941812726318938"
      ]
     },
     "execution_count": 23,
     "metadata": {},
     "output_type": "execute_result"
    }
   ],
   "source": [
    "matriz[2][-1]"
   ]
  },
  {
   "cell_type": "code",
   "execution_count": null,
   "metadata": {
    "ExecuteTime": {
     "end_time": "2021-09-17T18:30:38.737567Z",
     "start_time": "2021-09-17T18:30:38.733578Z"
    },
    "id": "i6tr--Ze5dus",
    "outputId": "a719beff-413b-4899-92c3-76a53ead0c8e"
   },
   "outputs": [
    {
     "data": {
      "text/plain": [
       "array([9, 7, 5, 3, 1])"
      ]
     },
     "execution_count": 24,
     "metadata": {},
     "output_type": "execute_result"
    }
   ],
   "source": [
    "array[::-2]"
   ]
  },
  {
   "cell_type": "markdown",
   "metadata": {
    "id": "5dLHhgaq5dus"
   },
   "source": [
    "Entretanto o numpy oferece uma maneira adicional de indexar elementos selecionando múltiplos indices por meio de uma lista"
   ]
  },
  {
   "cell_type": "code",
   "execution_count": null,
   "metadata": {
    "ExecuteTime": {
     "end_time": "2021-09-17T18:30:39.159751Z",
     "start_time": "2021-09-17T18:30:39.148780Z"
    },
    "id": "WL09AYWZ5dus",
    "outputId": "409d21e5-6af9-4e23-8ebb-aea48a8fe184"
   },
   "outputs": [
    {
     "data": {
      "text/plain": [
       "array([2, 3])"
      ]
     },
     "execution_count": 25,
     "metadata": {},
     "output_type": "execute_result"
    }
   ],
   "source": [
    "array[[1, 2]]"
   ]
  },
  {
   "cell_type": "markdown",
   "metadata": {
    "id": "mmdn7i4r8rSL"
   },
   "source": [
    "Por fim, numpy nos oferece a flexibilidade, especialmente com matrizes, de selecionar os elementos de linhas e colunas em conjunto por meio da sintaxe de \",\", na qual fornecemos dois slices, o primeiro selecionando linhas e o segundo selecionado colunas"
   ]
  },
  {
   "cell_type": "code",
   "execution_count": null,
   "metadata": {
    "ExecuteTime": {
     "end_time": "2021-09-17T18:30:39.549644Z",
     "start_time": "2021-09-17T18:30:39.531693Z"
    },
    "id": "qqygnydf5dut",
    "outputId": "65366795-da4a-449e-9af1-ad90a5b34c8d",
    "scrolled": true
   },
   "outputs": [
    {
     "data": {
      "text/plain": [
       "3.453453671974194"
      ]
     },
     "execution_count": 26,
     "metadata": {},
     "output_type": "execute_result"
    }
   ],
   "source": [
    "matriz[1, 2]"
   ]
  },
  {
   "cell_type": "code",
   "execution_count": null,
   "metadata": {
    "ExecuteTime": {
     "end_time": "2021-09-17T18:30:39.738182Z",
     "start_time": "2021-09-17T18:30:39.726214Z"
    },
    "id": "BoObLvVQ5dut",
    "outputId": "a42da934-c4e1-4d02-b681-2af72c479b2d"
   },
   "outputs": [
    {
     "data": {
      "text/plain": [
       "array([0.1153812 , 4.14537777, 2.09866525])"
      ]
     },
     "execution_count": 27,
     "metadata": {},
     "output_type": "execute_result"
    }
   ],
   "source": [
    "matriz[:, 1]"
   ]
  },
  {
   "cell_type": "code",
   "execution_count": null,
   "metadata": {
    "ExecuteTime": {
     "end_time": "2021-09-17T18:30:39.927035Z",
     "start_time": "2021-09-17T18:30:39.917061Z"
    },
    "id": "B1PAgEfJ5dut",
    "outputId": "9e9fddc9-4fd3-41b7-a859-bc2a5d148456"
   },
   "outputs": [
    {
     "data": {
      "text/plain": [
       "array([[0.1153812 , 4.20355096],\n",
       "       [4.14537777, 3.45345367],\n",
       "       [2.09866525, 2.94181273]])"
      ]
     },
     "execution_count": 28,
     "metadata": {},
     "output_type": "execute_result"
    }
   ],
   "source": [
    "matriz[:, [1, 2]]"
   ]
  },
  {
   "cell_type": "markdown",
   "metadata": {
    "id": "PNlBET2vfTz6"
   },
   "source": [
    "---"
   ]
  },
  {
   "cell_type": "markdown",
   "metadata": {
    "id": "ZU8gERxqfTz6"
   },
   "source": [
    "**Exercício**\n",
    "\n",
    "Dado um vetor unidimensional de valores converta-o para uma matriz bi-dimensional com base em um valor de passo e um valor de janela, de tal forma que cada linha dessa matriz contenha o número de colunas definido na janela e que nós percorremos, a cada iteração, o número de passo em termos de elemento.\n",
    "\n",
    "Por exemplo:\n",
    "\n",
    "    Entrada > \n",
    "    array = [0, 1, 2, 3, 4, 5, 6, 7, 8, 9, 10, 11, 12, 13, 14, 15, 16, 17, 18]\n",
    "    Passo = 2\n",
    "    Janela = 4\n",
    "    \n",
    "Geraria uma saída de:\n",
    "\n",
    "    Saída > [[ 0  1  2  3]\n",
    "             [ 2  3  4  5]\n",
    "             [ 4  5  6  7]\n",
    "             [ 6  7  8  9]\n",
    "             [ 8  9 10 11]\n",
    "             [10 11 12 13]\n",
    "             [12 13 14 15]\n",
    "             [14 15 16 17]]\n",
    "\n",
    "Veja que cada linha contém 4 colunas = janelas. A primeira linha é formada por 0-3, ou seja, os 4 primeiros elementos do array, enquanto que a segunda linha é de 2-5, de forma que ela pula os 2 primeiros elementos (passo) e percorre mais 4 elementos (janela) do array"
   ]
  },
  {
   "cell_type": "code",
   "execution_count": null,
   "metadata": {
    "id": "R4rkEQMGfTz7",
    "solution2": "hidden",
    "solution2_first": true
   },
   "outputs": [],
   "source": []
  },
  {
   "cell_type": "code",
   "execution_count": null,
   "metadata": {
    "cellView": "form",
    "id": "NfMyDpbffTz7",
    "solution2": "hidden"
   },
   "outputs": [],
   "source": [
    "#@title Resposta\n",
    "def gera_matriz(array, passo=5, janela=5):\n",
    "    n_iter = ((array.size - janela) // passo) + 1\n",
    "    return np.array(\n",
    "        [\n",
    "            array[s:(s + janela)] \n",
    "            for s in np.arange(0, n_iter * passo, passo)\n",
    "        ]\n",
    "    )\n",
    "\n",
    "print(gera_matriz(np.arange(19), passo=2, janela=4))"
   ]
  },
  {
   "cell_type": "markdown",
   "metadata": {
    "id": "CZVIReqqfTz7"
   },
   "source": [
    "---"
   ]
  },
  {
   "cell_type": "markdown",
   "metadata": {
    "id": "1Geirqr8Ahcu"
   },
   "source": [
    "## Mutabilidade"
   ]
  },
  {
   "cell_type": "markdown",
   "metadata": {
    "id": "9qsrYUqqAktf"
   },
   "source": [
    "Diferente de listas arrays são objetos imutáveis em tamanho e tipo (como você viu mais acima, para mudar o tipo de array nós criamos um novo)"
   ]
  },
  {
   "cell_type": "code",
   "execution_count": null,
   "metadata": {
    "ExecuteTime": {
     "end_time": "2021-09-17T18:30:41.661987Z",
     "start_time": "2021-09-17T18:30:41.651016Z"
    },
    "colab": {
     "base_uri": "https://localhost:8080/",
     "height": 185
    },
    "executionInfo": {
     "elapsed": 7,
     "status": "error",
     "timestamp": 1631718725682,
     "user": {
      "displayName": "Pedro Forli",
      "photoUrl": "https://lh3.googleusercontent.com/a/default-user=s64",
      "userId": "08325002347257917995"
     },
     "user_tz": 180
    },
    "id": "0MZq17p5AhNx",
    "outputId": "bb4280d8-cea9-455a-9f02-ae3952548777"
   },
   "outputs": [
    {
     "ename": "AttributeError",
     "evalue": "'numpy.ndarray' object has no attribute 'append'",
     "output_type": "error",
     "traceback": [
      "\u001b[1;31m---------------------------------------------------------------------------\u001b[0m",
      "\u001b[1;31mAttributeError\u001b[0m                            Traceback (most recent call last)",
      "\u001b[1;32m<ipython-input-30-a7d55a56acf4>\u001b[0m in \u001b[0;36m<module>\u001b[1;34m\u001b[0m\n\u001b[0;32m      1\u001b[0m \u001b[0marr\u001b[0m \u001b[1;33m=\u001b[0m \u001b[0mnp\u001b[0m\u001b[1;33m.\u001b[0m\u001b[0marray\u001b[0m\u001b[1;33m(\u001b[0m\u001b[1;33m[\u001b[0m\u001b[1;36m1\u001b[0m\u001b[1;33m,\u001b[0m \u001b[1;36m2\u001b[0m\u001b[1;33m,\u001b[0m \u001b[1;36m3\u001b[0m\u001b[1;33m]\u001b[0m\u001b[1;33m)\u001b[0m\u001b[1;33m\u001b[0m\u001b[1;33m\u001b[0m\u001b[0m\n\u001b[1;32m----> 2\u001b[1;33m \u001b[0marr\u001b[0m\u001b[1;33m.\u001b[0m\u001b[0mappend\u001b[0m\u001b[1;33m(\u001b[0m\u001b[1;36m4\u001b[0m\u001b[1;33m)\u001b[0m\u001b[1;33m\u001b[0m\u001b[1;33m\u001b[0m\u001b[0m\n\u001b[0m",
      "\u001b[1;31mAttributeError\u001b[0m: 'numpy.ndarray' object has no attribute 'append'"
     ]
    }
   ],
   "source": [
    "arr = np.array([1, 2, 3])\n",
    "arr.append(4)"
   ]
  },
  {
   "cell_type": "markdown",
   "metadata": {
    "id": "umhiWOMgfTz8"
   },
   "source": [
    "Entretanto, diferente de tuplas, arrays são mútaveis em conteúdo"
   ]
  },
  {
   "cell_type": "code",
   "execution_count": null,
   "metadata": {
    "ExecuteTime": {
     "end_time": "2021-09-17T18:30:41.925948Z",
     "start_time": "2021-09-17T18:30:41.915975Z"
    },
    "colab": {
     "base_uri": "https://localhost:8080/"
    },
    "executionInfo": {
     "elapsed": 7,
     "status": "ok",
     "timestamp": 1631718741072,
     "user": {
      "displayName": "Pedro Forli",
      "photoUrl": "https://lh3.googleusercontent.com/a/default-user=s64",
      "userId": "08325002347257917995"
     },
     "user_tz": 180
    },
    "id": "rZGLwrw-A-uF",
    "outputId": "7a7e6f83-5789-4645-b672-e512f8ae97f7"
   },
   "outputs": [
    {
     "data": {
      "text/plain": [
       "array([1, 2, 5])"
      ]
     },
     "execution_count": 31,
     "metadata": {},
     "output_type": "execute_result"
    }
   ],
   "source": [
    "arr[2] = 5\n",
    "arr"
   ]
  },
  {
   "cell_type": "markdown",
   "metadata": {
    "id": "tkU-Ik83fTz9"
   },
   "source": [
    "Ao tentar mudar o valor de um elemento o numpy o converterá para a tipagem adequada quando possível"
   ]
  },
  {
   "cell_type": "code",
   "execution_count": null,
   "metadata": {
    "ExecuteTime": {
     "end_time": "2021-09-17T18:30:42.331760Z",
     "start_time": "2021-09-17T18:30:42.315802Z"
    },
    "colab": {
     "base_uri": "https://localhost:8080/"
    },
    "executionInfo": {
     "elapsed": 371,
     "status": "ok",
     "timestamp": 1631718755894,
     "user": {
      "displayName": "Pedro Forli",
      "photoUrl": "https://lh3.googleusercontent.com/a/default-user=s64",
      "userId": "08325002347257917995"
     },
     "user_tz": 180
    },
    "id": "ZW45_ftQBBwQ",
    "outputId": "56522f93-790a-4063-8300-8b9e524e652b"
   },
   "outputs": [
    {
     "data": {
      "text/plain": [
       "array([1, 1, 5])"
      ]
     },
     "execution_count": 32,
     "metadata": {},
     "output_type": "execute_result"
    }
   ],
   "source": [
    "arr[1] = 1.7234\n",
    "arr"
   ]
  },
  {
   "cell_type": "code",
   "execution_count": null,
   "metadata": {
    "ExecuteTime": {
     "end_time": "2021-09-17T18:30:42.537906Z",
     "start_time": "2021-09-17T18:30:42.524941Z"
    },
    "id": "897GjdDCfTz9",
    "outputId": "546314f4-99c1-4184-9012-c09220f26701"
   },
   "outputs": [
    {
     "data": {
      "text/plain": [
       "array([1, 3, 5])"
      ]
     },
     "execution_count": 33,
     "metadata": {},
     "output_type": "execute_result"
    }
   ],
   "source": [
    "arr[1] = \"3\"\n",
    "arr"
   ]
  },
  {
   "cell_type": "code",
   "execution_count": null,
   "metadata": {
    "ExecuteTime": {
     "end_time": "2021-09-17T18:30:42.708538Z",
     "start_time": "2021-09-17T18:30:42.700588Z"
    },
    "id": "baG_BPKVfTz-",
    "outputId": "47968cf4-6de4-4ea2-e2b0-4b57f880ff1c"
   },
   "outputs": [
    {
     "ename": "ValueError",
     "evalue": "invalid literal for int() with base 10: '3.2'",
     "output_type": "error",
     "traceback": [
      "\u001b[1;31m---------------------------------------------------------------------------\u001b[0m",
      "\u001b[1;31mValueError\u001b[0m                                Traceback (most recent call last)",
      "\u001b[1;32m<ipython-input-34-87e1b967f655>\u001b[0m in \u001b[0;36m<module>\u001b[1;34m\u001b[0m\n\u001b[1;32m----> 1\u001b[1;33m \u001b[0marr\u001b[0m\u001b[1;33m[\u001b[0m\u001b[1;36m1\u001b[0m\u001b[1;33m]\u001b[0m \u001b[1;33m=\u001b[0m \u001b[1;34m\"3.2\"\u001b[0m\u001b[1;33m\u001b[0m\u001b[1;33m\u001b[0m\u001b[0m\n\u001b[0m\u001b[0;32m      2\u001b[0m \u001b[0marr\u001b[0m\u001b[1;33m\u001b[0m\u001b[1;33m\u001b[0m\u001b[0m\n",
      "\u001b[1;31mValueError\u001b[0m: invalid literal for int() with base 10: '3.2'"
     ]
    }
   ],
   "source": [
    "arr[1] = \"3.2\"\n",
    "arr"
   ]
  },
  {
   "cell_type": "markdown",
   "metadata": {
    "id": "ymdNpgqFfTz-"
   },
   "source": [
    "É interessante notar como funciona a alocação de memória para transformações particulares do array que podem afetar sua mutabilidade. Por exemplo, suponhamos que temos os array a, b e c todos criados a partir de transformações do vetor a"
   ]
  },
  {
   "cell_type": "code",
   "execution_count": null,
   "metadata": {
    "ExecuteTime": {
     "end_time": "2021-09-17T18:30:43.133084Z",
     "start_time": "2021-09-17T18:30:43.116157Z"
    },
    "id": "BBfFETShfTz-",
    "outputId": "9da4931f-5fe2-4d88-bfdd-a4ebe99a6d66"
   },
   "outputs": [
    {
     "name": "stdout",
     "output_type": "stream",
     "text": [
      "[ 0  1  2  3  4  5  6  7  8  9 10 11]\n",
      "[[ 0  1  2  3]\n",
      " [ 4  5  6  7]\n",
      " [ 8  9 10 11]]\n",
      "[ 0  2  4  6  8 10]\n"
     ]
    }
   ],
   "source": [
    "a = np.arange(12, dtype=\"int64\")\n",
    "b = a.reshape(3, 4)\n",
    "c = a[::2]\n",
    "print(a)\n",
    "print(b)\n",
    "print(c)"
   ]
  },
  {
   "cell_type": "markdown",
   "metadata": {
    "id": "5ykVQKAufTz_"
   },
   "source": [
    "O que acontece, neste caso, se eu alterar o vetor a?"
   ]
  },
  {
   "cell_type": "code",
   "execution_count": null,
   "metadata": {
    "ExecuteTime": {
     "end_time": "2021-09-17T18:30:43.507921Z",
     "start_time": "2021-09-17T18:30:43.499331Z"
    },
    "id": "iQ3BNx5QfTz_",
    "outputId": "d9c9f032-449d-4076-fcc7-7e955d349871"
   },
   "outputs": [
    {
     "name": "stdout",
     "output_type": "stream",
     "text": [
      "[[-1  1  2  3]\n",
      " [ 4  5  6  7]\n",
      " [ 8  9 10 11]] [-1  2  4  6  8 10]\n"
     ]
    }
   ],
   "source": [
    "a[0] = -1\n",
    "print(b, c)"
   ]
  },
  {
   "cell_type": "markdown",
   "metadata": {
    "ExecuteTime": {
     "end_time": "2021-09-16T14:41:30.338652Z",
     "start_time": "2021-09-16T14:41:30.322726Z"
    },
    "id": "jgcNizWWfTz_"
   },
   "source": [
    "Veja que se altera os vetores b e c. Isso acontece porque na visão de memória esses vetores apontam para a mesma localização na RAM. Por exemplo os vetores a e b são compartilhados como no diagrama abaixo:\n",
    "\n",
    "<img src=\"https://ajcr.net/images/stride-guide/array-anatomy.png\" />"
   ]
  },
  {
   "cell_type": "code",
   "execution_count": null,
   "metadata": {
    "ExecuteTime": {
     "end_time": "2021-09-17T18:30:43.901860Z",
     "start_time": "2021-09-17T18:30:43.883908Z"
    },
    "id": "6KtBxgl-fTz_",
    "outputId": "2bc96a09-fd41-4c62-8cfd-da8abdabce59"
   },
   "outputs": [
    {
     "name": "stdout",
     "output_type": "stream",
     "text": [
      "a: dtype=int64 | shape=(12,) | size=12 | itemsize=8 | strides=(8,)\n",
      "b: dtype=int64 | shape=(3, 4) | size=12 | itemsize=8 | strides=(32, 8)\n"
     ]
    }
   ],
   "source": [
    "print(f\"a: dtype={a.dtype} | shape={a.shape} | size={a.size} | itemsize={a.itemsize} | strides={a.strides}\")\n",
    "print(f\"b: dtype={b.dtype} | shape={b.shape} | size={b.size} | itemsize={b.itemsize} | strides={b.strides}\")"
   ]
  },
  {
   "cell_type": "markdown",
   "metadata": {
    "id": "VQOH4SBIfT0A"
   },
   "source": [
    "Da mesma forma o vetor c é uma representação especial do vetor a, na qual mudamos o valor de passo entre elementos do array"
   ]
  },
  {
   "cell_type": "markdown",
   "metadata": {
    "id": "t2hgbxo0fT0A"
   },
   "source": [
    "<img src=\"https://ajcr.net/images/stride-guide/1d_array_a_getitem_step_2.png\" />"
   ]
  },
  {
   "cell_type": "code",
   "execution_count": null,
   "metadata": {
    "ExecuteTime": {
     "end_time": "2021-09-17T18:30:44.629437Z",
     "start_time": "2021-09-17T18:30:44.619463Z"
    },
    "id": "ITHFkLEofT0A",
    "outputId": "f8492099-22da-4504-8e61-1e320ec0e249"
   },
   "outputs": [
    {
     "name": "stdout",
     "output_type": "stream",
     "text": [
      "a: dtype=int64 | shape=(12,) | size=12 | itemsize=8 | strides=(8,)\n",
      "c: dtype=int64 | shape=(6,) | size=6 | itemsize=8 | strides=(16,)\n"
     ]
    }
   ],
   "source": [
    "print(f\"a: dtype={a.dtype} | shape={a.shape} | size={a.size} | itemsize={a.itemsize} | strides={a.strides}\")\n",
    "print(f\"c: dtype={c.dtype} | shape={c.shape} | size={c.size} | itemsize={c.itemsize} | strides={c.strides}\")"
   ]
  },
  {
   "cell_type": "markdown",
   "metadata": {
    "id": "HhhORlBifT0B"
   },
   "source": [
    "Por fim é importante lembrar que tal como listas e dicionário, arrays são passados como referência em função, de forma que qualquer alteração no array feito dentro de uma função será carregada para fora da mesma"
   ]
  },
  {
   "cell_type": "code",
   "execution_count": null,
   "metadata": {
    "ExecuteTime": {
     "end_time": "2021-09-17T18:30:45.001890Z",
     "start_time": "2021-09-17T18:30:44.987928Z"
    },
    "id": "PK4th93AfT0B",
    "outputId": "f5330cdf-1a51-4f2e-92b5-ac1f3bf7adb1"
   },
   "outputs": [
    {
     "name": "stdout",
     "output_type": "stream",
     "text": [
      "[-1  1  2  3  4  5  6  7  8  9 10 11]\n",
      "[   -1 12890     2     3     4     5     6     7     8     9    10    11]\n",
      "[[   -1 12890     2     3]\n",
      " [    4     5     6     7]\n",
      " [    8     9    10    11]]\n",
      "[-1  2  4  6  8 10]\n"
     ]
    }
   ],
   "source": [
    "def muda_a(a):\n",
    "    a[1] = 12890\n",
    "print(a)\n",
    "muda_a(a)\n",
    "print(a)\n",
    "print(b)\n",
    "print(c)"
   ]
  },
  {
   "cell_type": "markdown",
   "metadata": {
    "id": "8UOx9d_RfT0B"
   },
   "source": [
    "---"
   ]
  },
  {
   "cell_type": "markdown",
   "metadata": {
    "id": "IVrWWTKzfT0B"
   },
   "source": [
    "**Exercício**\n",
    "\n",
    "Crie uma função que permita criar uma matriz quadrada com os seguintes formatos:\n",
    "\n",
    "    Q -> 1 1 1 1\n",
    "         1 0 0 1\n",
    "         1 0 0 1\n",
    "         1 1 1 1\n",
    "    V -> 1 0 0 1\n",
    "         1 0 0 1\n",
    "         1 0 0 1\n",
    "         1 0 0 1\n",
    "    H -> 1 1 1 1\n",
    "         0 0 0 0\n",
    "         0 0 0 0\n",
    "         1 1 1 1\n",
    "    P -> 0 0 0 0\n",
    "         0 1 1 0\n",
    "         0 1 1 0\n",
    "         0 0 0 0"
   ]
  },
  {
   "cell_type": "code",
   "execution_count": null,
   "metadata": {
    "id": "WQWESQjMfT0C",
    "solution2": "hidden",
    "solution2_first": true
   },
   "outputs": [],
   "source": []
  },
  {
   "cell_type": "code",
   "execution_count": null,
   "metadata": {
    "cellView": "form",
    "id": "salozbmYfT0C",
    "solution2": "hidden"
   },
   "outputs": [],
   "source": [
    "#@title Resposta\n",
    "def cria_array_formato(tamanho: int, fmt: str) -> np.ndarray:\n",
    "    \"\"\"\n",
    "    Cria um array de acordo com o formato desejado que pode ser\n",
    "    Q, V, H, P\n",
    "    \n",
    "    :param tamanho: tamanho do array\n",
    "    :param fmt: formato desejado\n",
    "    :return: array gerado\n",
    "    \"\"\"\n",
    "    arr = np.zeros(shape=(tamanho, tamanho))\n",
    "    \n",
    "    if fmt in [\"Q\", \"H\"]:\n",
    "        arr[0, :] = 1\n",
    "        arr[-1, :] = 1\n",
    "    if fmt in [\"Q\", \"V\"]:\n",
    "        arr[:, 0] = 1\n",
    "        arr[:, -1] = 1\n",
    "    if fmt == \"P\":\n",
    "        arr[1:-1, 1:-1] = 1\n",
    "    \n",
    "    return arr\n",
    "\n",
    "print(cria_array_formato(5, \"Q\"))\n",
    "print(cria_array_formato(5, \"V\"))\n",
    "print(cria_array_formato(5, \"H\"))\n",
    "print(cria_array_formato(5, \"P\"))"
   ]
  },
  {
   "cell_type": "markdown",
   "metadata": {
    "id": "BNEUx8WefT0C"
   },
   "source": [
    "---"
   ]
  },
  {
   "cell_type": "markdown",
   "metadata": {
    "id": "N-EJ7xAW5due"
   },
   "source": [
    "## Operações "
   ]
  },
  {
   "cell_type": "markdown",
   "metadata": {
    "id": "FnS5Vdb79E5q"
   },
   "source": [
    "Como descrito anteriormente, numpy é uma biblioteca de algebra linear, de forma que suporta todas as operações vetoriais tradicionais"
   ]
  },
  {
   "cell_type": "code",
   "execution_count": null,
   "metadata": {
    "ExecuteTime": {
     "end_time": "2021-09-17T18:30:46.951016Z",
     "start_time": "2021-09-17T18:30:46.940046Z"
    },
    "executionInfo": {
     "elapsed": 6,
     "status": "ok",
     "timestamp": 1631717758105,
     "user": {
      "displayName": "Pedro Forli",
      "photoUrl": "https://lh3.googleusercontent.com/a/default-user=s64",
      "userId": "08325002347257917995"
     },
     "user_tz": 180
    },
    "id": "y_xoIVok5due",
    "outputId": "aac419a4-9ae0-499d-fafc-2ef7f221393f"
   },
   "outputs": [
    {
     "name": "stdout",
     "output_type": "stream",
     "text": [
      "[[7 4 8]\n",
      " [5 7 3]\n",
      " [7 8 5]]\n",
      "[[4 8 8]\n",
      " [3 6 5]\n",
      " [2 8 6]]\n"
     ]
    }
   ],
   "source": [
    "np.random.seed(42)\n",
    "arr1 = np.array([1, 2, 3])\n",
    "arr2 = np.array([4, 5, 6])\n",
    "m1 = np.random.randint(1, 10, size=(3, 3))\n",
    "m2 = np.random.randint(1, 10, size=(3, 3))\n",
    "\n",
    "print(m1)\n",
    "print(m2)"
   ]
  },
  {
   "cell_type": "markdown",
   "metadata": {
    "id": "lOgU9eqEHZkF"
   },
   "source": [
    "Soma"
   ]
  },
  {
   "cell_type": "code",
   "execution_count": null,
   "metadata": {
    "ExecuteTime": {
     "end_time": "2021-09-17T18:30:47.651203Z",
     "start_time": "2021-09-17T18:30:47.644222Z"
    },
    "colab": {
     "base_uri": "https://localhost:8080/"
    },
    "executionInfo": {
     "elapsed": 4,
     "status": "ok",
     "timestamp": 1631717776498,
     "user": {
      "displayName": "Pedro Forli",
      "photoUrl": "https://lh3.googleusercontent.com/a/default-user=s64",
      "userId": "08325002347257917995"
     },
     "user_tz": 180
    },
    "id": "VUGvbV9O9Ulb",
    "outputId": "c7408ddf-e099-465d-84a5-d4529ba3cfec"
   },
   "outputs": [
    {
     "data": {
      "text/plain": [
       "array([5, 7, 9])"
      ]
     },
     "execution_count": 42,
     "metadata": {},
     "output_type": "execute_result"
    }
   ],
   "source": [
    "arr1 + arr2"
   ]
  },
  {
   "cell_type": "code",
   "execution_count": null,
   "metadata": {
    "ExecuteTime": {
     "end_time": "2021-09-17T18:30:47.945809Z",
     "start_time": "2021-09-17T18:30:47.935836Z"
    },
    "id": "-qemhBkwfT0E",
    "outputId": "94c03e19-b1df-4c9e-d9e5-93ce60ea46dd"
   },
   "outputs": [
    {
     "data": {
      "text/plain": [
       "array([5, 7, 9])"
      ]
     },
     "execution_count": 43,
     "metadata": {},
     "output_type": "execute_result"
    }
   ],
   "source": [
    "np.add(arr1, arr2)"
   ]
  },
  {
   "cell_type": "markdown",
   "metadata": {
    "id": "b7VrPDPqHatA"
   },
   "source": [
    "Subtração"
   ]
  },
  {
   "cell_type": "code",
   "execution_count": null,
   "metadata": {
    "ExecuteTime": {
     "end_time": "2021-09-17T18:30:48.363260Z",
     "start_time": "2021-09-17T18:30:48.348299Z"
    },
    "colab": {
     "base_uri": "https://localhost:8080/"
    },
    "executionInfo": {
     "elapsed": 4,
     "status": "ok",
     "timestamp": 1631717768624,
     "user": {
      "displayName": "Pedro Forli",
      "photoUrl": "https://lh3.googleusercontent.com/a/default-user=s64",
      "userId": "08325002347257917995"
     },
     "user_tz": 180
    },
    "id": "QDmMvc379Swh",
    "outputId": "8cdb4cd8-988f-4cb7-fe81-5633071c26f5"
   },
   "outputs": [
    {
     "data": {
      "text/plain": [
       "array([-3, -3, -3])"
      ]
     },
     "execution_count": 44,
     "metadata": {},
     "output_type": "execute_result"
    }
   ],
   "source": [
    "arr1 - arr2"
   ]
  },
  {
   "cell_type": "code",
   "execution_count": null,
   "metadata": {
    "ExecuteTime": {
     "end_time": "2021-09-17T18:30:48.580392Z",
     "start_time": "2021-09-17T18:30:48.572413Z"
    },
    "id": "dFM_-DhZfT0F",
    "outputId": "e8be4549-a34f-4f58-ba40-3f3ae6670900"
   },
   "outputs": [
    {
     "data": {
      "text/plain": [
       "array([-3, -3, -3])"
      ]
     },
     "execution_count": 45,
     "metadata": {},
     "output_type": "execute_result"
    }
   ],
   "source": [
    "np.subtract(arr1, arr2)"
   ]
  },
  {
   "cell_type": "markdown",
   "metadata": {
    "id": "BG9N5ovUfT0F"
   },
   "source": [
    "Multiplicação (escalar)"
   ]
  },
  {
   "cell_type": "code",
   "execution_count": null,
   "metadata": {
    "ExecuteTime": {
     "end_time": "2021-09-17T18:30:49.530998Z",
     "start_time": "2021-09-17T18:30:49.517034Z"
    },
    "id": "U9Le2yIGfT0F",
    "outputId": "f34338d3-726a-49a9-f7d8-097b9ee3231c"
   },
   "outputs": [
    {
     "data": {
      "text/plain": [
       "array([2, 4, 6])"
      ]
     },
     "execution_count": 46,
     "metadata": {},
     "output_type": "execute_result"
    }
   ],
   "source": [
    "arr1 * 2"
   ]
  },
  {
   "cell_type": "code",
   "execution_count": null,
   "metadata": {
    "ExecuteTime": {
     "end_time": "2021-09-17T18:30:49.749852Z",
     "start_time": "2021-09-17T18:30:49.741905Z"
    },
    "id": "09Jmpas8fT0F",
    "outputId": "dfaa22ec-0a5f-4955-c084-42a9826152dd"
   },
   "outputs": [
    {
     "data": {
      "text/plain": [
       "array([2, 4, 6])"
      ]
     },
     "execution_count": 47,
     "metadata": {},
     "output_type": "execute_result"
    }
   ],
   "source": [
    "np.multiply(arr1, 2)"
   ]
  },
  {
   "cell_type": "markdown",
   "metadata": {
    "id": "E638lJL2HcZo"
   },
   "source": [
    "Multiplicação (element-wise)"
   ]
  },
  {
   "cell_type": "code",
   "execution_count": null,
   "metadata": {
    "ExecuteTime": {
     "end_time": "2021-09-17T18:30:50.156925Z",
     "start_time": "2021-09-17T18:30:50.138973Z"
    },
    "colab": {
     "base_uri": "https://localhost:8080/"
    },
    "executionInfo": {
     "elapsed": 5,
     "status": "ok",
     "timestamp": 1631717787623,
     "user": {
      "displayName": "Pedro Forli",
      "photoUrl": "https://lh3.googleusercontent.com/a/default-user=s64",
      "userId": "08325002347257917995"
     },
     "user_tz": 180
    },
    "id": "QSazTTtB9WqH",
    "outputId": "2d018389-f733-4062-e91d-6f8d1603a17d"
   },
   "outputs": [
    {
     "data": {
      "text/plain": [
       "array([ 4, 10, 18])"
      ]
     },
     "execution_count": 48,
     "metadata": {},
     "output_type": "execute_result"
    }
   ],
   "source": [
    "arr1 * arr2"
   ]
  },
  {
   "cell_type": "code",
   "execution_count": null,
   "metadata": {
    "ExecuteTime": {
     "end_time": "2021-09-17T18:30:50.325585Z",
     "start_time": "2021-09-17T18:30:50.316609Z"
    },
    "id": "KP_uuP6PfT0G",
    "outputId": "3bb2c295-468a-4b7b-fabf-9299f6cbdf26"
   },
   "outputs": [
    {
     "data": {
      "text/plain": [
       "array([ 4, 10, 18])"
      ]
     },
     "execution_count": 49,
     "metadata": {},
     "output_type": "execute_result"
    }
   ],
   "source": [
    "np.multiply(arr1, arr2)"
   ]
  },
  {
   "cell_type": "markdown",
   "metadata": {
    "id": "Lh1_2VVSHlMa"
   },
   "source": [
    "Multiplicação (produto vetorial)"
   ]
  },
  {
   "cell_type": "code",
   "execution_count": null,
   "metadata": {
    "ExecuteTime": {
     "end_time": "2021-09-17T18:30:50.730801Z",
     "start_time": "2021-09-17T18:30:50.715865Z"
    },
    "id": "3-LhUSMKfT0H",
    "outputId": "ea3fc48e-9eb8-439e-dd9f-e1eb0b6b2734"
   },
   "outputs": [
    {
     "data": {
      "text/plain": [
       "32"
      ]
     },
     "execution_count": 50,
     "metadata": {},
     "output_type": "execute_result"
    }
   ],
   "source": [
    "sum(arr1 * arr2)"
   ]
  },
  {
   "cell_type": "code",
   "execution_count": null,
   "metadata": {
    "ExecuteTime": {
     "end_time": "2021-09-17T18:30:50.902694Z",
     "start_time": "2021-09-17T18:30:50.891724Z"
    },
    "id": "KAgjrxJl9eRu",
    "outputId": "68e5c01e-435f-4566-d603-e1df09213b41"
   },
   "outputs": [
    {
     "data": {
      "text/plain": [
       "32"
      ]
     },
     "execution_count": 51,
     "metadata": {},
     "output_type": "execute_result"
    }
   ],
   "source": [
    "arr1.dot(arr2)"
   ]
  },
  {
   "cell_type": "code",
   "execution_count": null,
   "metadata": {
    "ExecuteTime": {
     "end_time": "2021-09-17T18:30:51.086976Z",
     "start_time": "2021-09-17T18:30:51.069052Z"
    },
    "id": "VxzmQHYWfT0H",
    "outputId": "0d760d97-2b73-41e6-c6c1-613a990b505b"
   },
   "outputs": [
    {
     "data": {
      "text/plain": [
       "32"
      ]
     },
     "execution_count": 52,
     "metadata": {},
     "output_type": "execute_result"
    }
   ],
   "source": [
    "np.dot(arr1, arr2)"
   ]
  },
  {
   "cell_type": "markdown",
   "metadata": {
    "id": "4lmeVJ_afT0I"
   },
   "source": [
    "Multiplicação (cruzada)\n",
    "\n",
    "<img src=\"data:image/png;base64,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\" />"
   ]
  },
  {
   "cell_type": "code",
   "execution_count": null,
   "metadata": {
    "ExecuteTime": {
     "end_time": "2021-09-17T18:30:51.444071Z",
     "start_time": "2021-09-17T18:30:51.438087Z"
    },
    "id": "6Fr3xECDfT0K",
    "outputId": "6d2d0dc4-dc2d-4527-ab2e-5300b5e4689d"
   },
   "outputs": [
    {
     "data": {
      "text/plain": [
       "array([-3,  6, -3])"
      ]
     },
     "execution_count": 53,
     "metadata": {},
     "output_type": "execute_result"
    }
   ],
   "source": [
    "np.cross(arr1, arr2)"
   ]
  },
  {
   "cell_type": "markdown",
   "metadata": {
    "id": "_4UkI75OHneN"
   },
   "source": [
    "Multiplicação (matricial)\n",
    "\n",
    "<img src=\"https://www.geeksforgeeks.org/wp-content/uploads/strassen_new.png\" />"
   ]
  },
  {
   "cell_type": "code",
   "execution_count": null,
   "metadata": {
    "ExecuteTime": {
     "end_time": "2021-09-17T18:30:51.835382Z",
     "start_time": "2021-09-17T18:30:51.823414Z"
    },
    "colab": {
     "base_uri": "https://localhost:8080/"
    },
    "executionInfo": {
     "elapsed": 235,
     "status": "ok",
     "timestamp": 1631720609218,
     "user": {
      "displayName": "Pedro Forli",
      "photoUrl": "https://lh3.googleusercontent.com/a/default-user=s64",
      "userId": "08325002347257917995"
     },
     "user_tz": 180
    },
    "id": "hHZeTHt1HqBR",
    "outputId": "cfc9fca8-c058-44e5-a80b-8b2d80c97cc7"
   },
   "outputs": [
    {
     "name": "stdout",
     "output_type": "stream",
     "text": [
      "[[ 56 144 124]\n",
      " [ 47 106  93]\n",
      " [ 62 144 126]]\n"
     ]
    }
   ],
   "source": [
    "print(m1@m2)"
   ]
  },
  {
   "cell_type": "code",
   "execution_count": null,
   "metadata": {
    "ExecuteTime": {
     "end_time": "2021-09-17T18:30:52.021478Z",
     "start_time": "2021-09-17T18:30:52.012503Z"
    },
    "id": "EGCezP_rfT0N",
    "outputId": "cef56648-87b3-49ba-b276-3e21158a8fce"
   },
   "outputs": [
    {
     "data": {
      "text/plain": [
       "array([[ 56, 144, 124],\n",
       "       [ 47, 106,  93],\n",
       "       [ 62, 144, 126]])"
      ]
     },
     "execution_count": 55,
     "metadata": {},
     "output_type": "execute_result"
    }
   ],
   "source": [
    "np.matmul(m1, m2)"
   ]
  },
  {
   "cell_type": "markdown",
   "metadata": {
    "id": "PFuoy9XuHgPk"
   },
   "source": [
    "Divisão"
   ]
  },
  {
   "cell_type": "code",
   "execution_count": null,
   "metadata": {
    "ExecuteTime": {
     "end_time": "2021-09-17T18:30:52.430641Z",
     "start_time": "2021-09-17T18:30:52.412717Z"
    },
    "id": "bln1UYTT9Y86",
    "outputId": "eaf6c075-7e72-41dc-90c2-e63b9ed55280"
   },
   "outputs": [
    {
     "data": {
      "text/plain": [
       "array([0.25, 0.4 , 0.5 ])"
      ]
     },
     "execution_count": 56,
     "metadata": {},
     "output_type": "execute_result"
    }
   ],
   "source": [
    "arr1 / arr2"
   ]
  },
  {
   "cell_type": "code",
   "execution_count": null,
   "metadata": {
    "ExecuteTime": {
     "end_time": "2021-09-17T18:30:52.605273Z",
     "start_time": "2021-09-17T18:30:52.590314Z"
    },
    "id": "XCvgPMSyfT0N",
    "outputId": "5c919c3e-7732-4173-bce8-048220fa0617"
   },
   "outputs": [
    {
     "data": {
      "text/plain": [
       "array([0.25, 0.4 , 0.5 ])"
      ]
     },
     "execution_count": 57,
     "metadata": {},
     "output_type": "execute_result"
    }
   ],
   "source": [
    "np.divide(arr1, arr2)"
   ]
  },
  {
   "cell_type": "markdown",
   "metadata": {
    "id": "eXbwvZYUHh6R"
   },
   "source": [
    "Exponenciação"
   ]
  },
  {
   "cell_type": "code",
   "execution_count": null,
   "metadata": {
    "ExecuteTime": {
     "end_time": "2021-09-17T18:30:52.978917Z",
     "start_time": "2021-09-17T18:30:52.973930Z"
    },
    "colab": {
     "base_uri": "https://localhost:8080/"
    },
    "executionInfo": {
     "elapsed": 5,
     "status": "ok",
     "timestamp": 1631717802830,
     "user": {
      "displayName": "Pedro Forli",
      "photoUrl": "https://lh3.googleusercontent.com/a/default-user=s64",
      "userId": "08325002347257917995"
     },
     "user_tz": 180
    },
    "id": "tZeqTLyK9a1J",
    "outputId": "53835212-b406-4e94-df5a-de299d12b87f"
   },
   "outputs": [
    {
     "data": {
      "text/plain": [
       "array([1, 4, 9], dtype=int32)"
      ]
     },
     "execution_count": 58,
     "metadata": {},
     "output_type": "execute_result"
    }
   ],
   "source": [
    "arr1 ** 2"
   ]
  },
  {
   "cell_type": "code",
   "execution_count": null,
   "metadata": {
    "ExecuteTime": {
     "end_time": "2021-09-17T18:30:53.181498Z",
     "start_time": "2021-09-17T18:30:53.164544Z"
    },
    "colab": {
     "base_uri": "https://localhost:8080/"
    },
    "executionInfo": {
     "elapsed": 5,
     "status": "ok",
     "timestamp": 1631717808998,
     "user": {
      "displayName": "Pedro Forli",
      "photoUrl": "https://lh3.googleusercontent.com/a/default-user=s64",
      "userId": "08325002347257917995"
     },
     "user_tz": 180
    },
    "id": "QfgJbDbJ9cVl",
    "outputId": "c2e52785-8a47-4ac1-c1f3-70747be907cc"
   },
   "outputs": [
    {
     "data": {
      "text/plain": [
       "array([  1,  32, 729], dtype=int32)"
      ]
     },
     "execution_count": 59,
     "metadata": {},
     "output_type": "execute_result"
    }
   ],
   "source": [
    "arr1 ** arr2"
   ]
  },
  {
   "cell_type": "code",
   "execution_count": null,
   "metadata": {
    "ExecuteTime": {
     "end_time": "2021-09-17T18:30:53.370304Z",
     "start_time": "2021-09-17T18:30:53.357338Z"
    },
    "id": "smSkzQupfT0P",
    "outputId": "bfaf505a-3a08-47b8-fe32-974fd71e63d1"
   },
   "outputs": [
    {
     "data": {
      "text/plain": [
       "array([  1,  32, 729], dtype=int32)"
      ]
     },
     "execution_count": 60,
     "metadata": {},
     "output_type": "execute_result"
    }
   ],
   "source": [
    "np.power(arr1, arr2)"
   ]
  },
  {
   "cell_type": "markdown",
   "metadata": {
    "id": "jhaIylkDfT0P"
   },
   "source": [
    "Módulo de um vetor"
   ]
  },
  {
   "cell_type": "code",
   "execution_count": null,
   "metadata": {
    "ExecuteTime": {
     "end_time": "2021-09-17T18:30:53.770585Z",
     "start_time": "2021-09-17T18:30:53.758645Z"
    },
    "id": "e3UOi-qnfT0P",
    "outputId": "7c798e39-33c0-42ea-e88a-f9c5373fe684"
   },
   "outputs": [
    {
     "data": {
      "text/plain": [
       "3.7416573867739413"
      ]
     },
     "execution_count": 61,
     "metadata": {},
     "output_type": "execute_result"
    }
   ],
   "source": [
    "sum(arr1 * arr1) ** 0.5"
   ]
  },
  {
   "cell_type": "code",
   "execution_count": null,
   "metadata": {
    "ExecuteTime": {
     "end_time": "2021-09-17T18:30:53.971026Z",
     "start_time": "2021-09-17T18:30:53.964074Z"
    },
    "id": "AEC7NGpEfT0Q",
    "outputId": "c57dcc2d-7757-4bf7-aede-46869b50cc37"
   },
   "outputs": [
    {
     "data": {
      "text/plain": [
       "3.7416573867739413"
      ]
     },
     "execution_count": 62,
     "metadata": {},
     "output_type": "execute_result"
    }
   ],
   "source": [
    "np.linalg.norm(arr1)"
   ]
  },
  {
   "cell_type": "markdown",
   "metadata": {
    "id": "tfkClCgGfT0Q"
   },
   "source": [
    "Determinante de uma matriz"
   ]
  },
  {
   "cell_type": "code",
   "execution_count": null,
   "metadata": {
    "ExecuteTime": {
     "end_time": "2021-09-17T18:30:54.344901Z",
     "start_time": "2021-09-17T18:30:54.332905Z"
    },
    "id": "rF6v0mCSfT0Q",
    "outputId": "d55488a7-b3df-4158-e18e-622f7b948352"
   },
   "outputs": [
    {
     "data": {
      "text/plain": [
       "-11.00000000000003"
      ]
     },
     "execution_count": 63,
     "metadata": {},
     "output_type": "execute_result"
    }
   ],
   "source": [
    "np.linalg.det(m1)"
   ]
  },
  {
   "cell_type": "markdown",
   "metadata": {
    "id": "puv5Xhm1fT0R"
   },
   "source": [
    "Matriz inversa"
   ]
  },
  {
   "cell_type": "code",
   "execution_count": null,
   "metadata": {
    "ExecuteTime": {
     "end_time": "2021-09-17T18:30:54.749433Z",
     "start_time": "2021-09-17T18:30:54.732481Z"
    },
    "id": "55Cg2jQIfT0R",
    "outputId": "0d8479ab-dd5f-4946-ca20-05056d48429c"
   },
   "outputs": [
    {
     "data": {
      "text/plain": [
       "array([[-1.        , -4.        ,  4.        ],\n",
       "       [ 0.36363636,  1.90909091, -1.72727273],\n",
       "       [ 0.81818182,  2.54545455, -2.63636364]])"
      ]
     },
     "execution_count": 64,
     "metadata": {},
     "output_type": "execute_result"
    }
   ],
   "source": [
    "np.linalg.inv(m1)"
   ]
  },
  {
   "cell_type": "markdown",
   "metadata": {
    "id": "7Zl-nqWofT0R"
   },
   "source": [
    "Matriz transposta"
   ]
  },
  {
   "cell_type": "code",
   "execution_count": null,
   "metadata": {
    "ExecuteTime": {
     "end_time": "2021-09-17T18:30:55.137915Z",
     "start_time": "2021-09-17T18:30:55.131930Z"
    },
    "id": "LkTn3PLIfT0R",
    "outputId": "f4698cc6-573b-49a6-f0d8-796c3ee807d5"
   },
   "outputs": [
    {
     "data": {
      "text/plain": [
       "array([[7, 5, 7],\n",
       "       [4, 7, 8],\n",
       "       [8, 3, 5]])"
      ]
     },
     "execution_count": 65,
     "metadata": {},
     "output_type": "execute_result"
    }
   ],
   "source": [
    "np.transpose(m1)"
   ]
  },
  {
   "cell_type": "code",
   "execution_count": null,
   "metadata": {
    "ExecuteTime": {
     "end_time": "2021-09-17T18:30:55.385200Z",
     "start_time": "2021-09-17T18:30:55.373232Z"
    },
    "id": "K29NqyH0fT0S",
    "outputId": "5e1a1b51-dc9f-421b-e306-b699886b7aed"
   },
   "outputs": [
    {
     "data": {
      "text/plain": [
       "array([[7, 5, 7],\n",
       "       [4, 7, 8],\n",
       "       [8, 3, 5]])"
      ]
     },
     "execution_count": 66,
     "metadata": {},
     "output_type": "execute_result"
    }
   ],
   "source": [
    "m1.T"
   ]
  },
  {
   "cell_type": "markdown",
   "metadata": {
    "id": "0DG50J_I98PL"
   },
   "source": [
    "Uma propriedade especial de arrays é \"broadcasting\", na qual uma operação pode ser propagada entre arrays de diferentes tamanhos contato que obdeçam algumas propriedades especificas. Por exemplo, podemos somar dois arrays de tamanho diferente, contato que possamos \"reproduzir\" um deles para ficar com o tamanho do outro"
   ]
  },
  {
   "cell_type": "code",
   "execution_count": null,
   "metadata": {
    "ExecuteTime": {
     "end_time": "2021-09-17T18:30:55.773637Z",
     "start_time": "2021-09-17T18:30:55.756711Z"
    },
    "id": "FA1MLAJf9olU"
   },
   "outputs": [],
   "source": [
    "arr3 = np.array([1, 2, 3, 4])"
   ]
  },
  {
   "cell_type": "code",
   "execution_count": null,
   "metadata": {
    "ExecuteTime": {
     "end_time": "2021-09-17T18:30:55.962599Z",
     "start_time": "2021-09-17T18:30:55.948605Z"
    },
    "colab": {
     "base_uri": "https://localhost:8080/",
     "height": 167
    },
    "executionInfo": {
     "elapsed": 278,
     "status": "error",
     "timestamp": 1631717878747,
     "user": {
      "displayName": "Pedro Forli",
      "photoUrl": "https://lh3.googleusercontent.com/a/default-user=s64",
      "userId": "08325002347257917995"
     },
     "user_tz": 180
    },
    "id": "E8KbocuW9tHq",
    "outputId": "f4d4a86d-f985-40a7-a295-79299fdc6b5f"
   },
   "outputs": [
    {
     "ename": "ValueError",
     "evalue": "operands could not be broadcast together with shapes (4,) (3,) ",
     "output_type": "error",
     "traceback": [
      "\u001b[1;31m---------------------------------------------------------------------------\u001b[0m",
      "\u001b[1;31mValueError\u001b[0m                                Traceback (most recent call last)",
      "\u001b[1;32m<ipython-input-68-7a1818b95248>\u001b[0m in \u001b[0;36m<module>\u001b[1;34m\u001b[0m\n\u001b[1;32m----> 1\u001b[1;33m \u001b[0marr3\u001b[0m \u001b[1;33m+\u001b[0m \u001b[0marr1\u001b[0m\u001b[1;33m\u001b[0m\u001b[1;33m\u001b[0m\u001b[0m\n\u001b[0m",
      "\u001b[1;31mValueError\u001b[0m: operands could not be broadcast together with shapes (4,) (3,) "
     ]
    }
   ],
   "source": [
    "arr3 + arr1"
   ]
  },
  {
   "cell_type": "code",
   "execution_count": null,
   "metadata": {
    "ExecuteTime": {
     "end_time": "2021-09-17T18:30:56.164053Z",
     "start_time": "2021-09-17T18:30:56.150090Z"
    },
    "id": "6XWqZcbv9w-n"
   },
   "outputs": [],
   "source": [
    "arr3 = np.array([[1, 2, 3], [4, 5, 6]])"
   ]
  },
  {
   "cell_type": "code",
   "execution_count": null,
   "metadata": {
    "ExecuteTime": {
     "end_time": "2021-09-17T18:30:56.337071Z",
     "start_time": "2021-09-17T18:30:56.332084Z"
    },
    "colab": {
     "base_uri": "https://localhost:8080/"
    },
    "executionInfo": {
     "elapsed": 11,
     "status": "ok",
     "timestamp": 1631717917073,
     "user": {
      "displayName": "Pedro Forli",
      "photoUrl": "https://lh3.googleusercontent.com/a/default-user=s64",
      "userId": "08325002347257917995"
     },
     "user_tz": 180
    },
    "id": "OcHt8Iep9yz4",
    "outputId": "25e0a475-c1ef-45f5-a649-eaa9d7b29a9e",
    "scrolled": true
   },
   "outputs": [
    {
     "data": {
      "text/plain": [
       "array([[2, 4, 6],\n",
       "       [5, 7, 9]])"
      ]
     },
     "execution_count": 70,
     "metadata": {},
     "output_type": "execute_result"
    }
   ],
   "source": [
    "arr3 + arr1"
   ]
  },
  {
   "cell_type": "code",
   "execution_count": null,
   "metadata": {
    "ExecuteTime": {
     "end_time": "2021-09-17T18:30:56.552193Z",
     "start_time": "2021-09-17T18:30:56.545212Z"
    },
    "id": "cZ9m_prXfT0T",
    "outputId": "4655735c-a628-4333-ad9c-c73f0ce8a643"
   },
   "outputs": [
    {
     "data": {
      "text/plain": [
       "array([[ 1,  4,  9],\n",
       "       [ 4, 10, 18]])"
      ]
     },
     "execution_count": 71,
     "metadata": {},
     "output_type": "execute_result"
    }
   ],
   "source": [
    "arr3 * arr1"
   ]
  },
  {
   "cell_type": "markdown",
   "metadata": {
    "id": "qdiCywyOfT0U"
   },
   "source": [
    "Duas dimensões de arrays são compatíveis se (1) elas são iguais (2) uma delas é 1"
   ]
  },
  {
   "cell_type": "markdown",
   "metadata": {
    "id": "ql0VqR9QfT0U"
   },
   "source": [
    "Arrays que podem ser combinados\n",
    "\n",
    "    A      (3d array): 256 x 256 x 3\n",
    "    B      (1d array):             3\n",
    "    Result (3d array): 256 x 256 x 3\n",
    "\n",
    "    A      (4d array):  8 x 1 x 6 x 1\n",
    "    B      (3d array):      7 x 1 x 5\n",
    "    Result (4d array):  8 x 7 x 6 x 5\n",
    "\n",
    "    A      (2d array):  5 x 4\n",
    "    B      (1d array):      1\n",
    "    Result (2d array):  5 x 4\n",
    "\n",
    "    A      (2d array):  5 x 4\n",
    "    B      (1d array):      4\n",
    "    Result (2d array):  5 x 4\n",
    "\n",
    "    A      (3d array):  15 x 3 x 5\n",
    "    B      (3d array):  15 x 1 x 5\n",
    "    Result (3d array):  15 x 3 x 5\n",
    "\n",
    "    A      (3d array):  15 x 3 x 5\n",
    "    B      (2d array):       3 x 5\n",
    "    Result (3d array):  15 x 3 x 5\n",
    "\n",
    "    A      (3d array):  15 x 3 x 5\n",
    "    B      (2d array):       3 x 1\n",
    "    Result (3d array):  15 x 3 x 5\n",
    "\n",
    "Arrays que podem **NÃO** ser combinados:\n",
    "\n",
    "    A      (1d array):  3\n",
    "    B      (1d array):  4\n",
    "\n",
    "    A      (2d array):      2 x 1\n",
    "    B      (3d array):  8 x 4 x 3 # a dimensão 4 não combina com a 2"
   ]
  },
  {
   "cell_type": "code",
   "execution_count": null,
   "metadata": {
    "id": "5ABr-A_QfT0U"
   },
   "outputs": [],
   "source": [
    "x = np.arange(4)\n",
    "xx = x.reshape(4, 1)\n",
    "y = np.ones(5)\n",
    "z = np.ones((3, 4))\n",
    "\n",
    "# não é possível\n",
    "# x + y\n",
    "# ValueError: operands could not be broadcast together with shapes (4,) (5,)\n",
    "\n",
    "print((xx + y).shape)\n",
    "print((xx + y))\n",
    "\n",
    "print((x + z).shape)\n",
    "print((x + z))"
   ]
  },
  {
   "cell_type": "markdown",
   "metadata": {
    "id": "2BvgeVoDfT0V"
   },
   "source": [
    "Para mais detalhes veja https://numpy.org/doc/stable/user/basics.broadcasting.html"
   ]
  },
  {
   "cell_type": "markdown",
   "metadata": {
    "id": "kvuOC_q9fT0V"
   },
   "source": [
    "---"
   ]
  },
  {
   "cell_type": "markdown",
   "metadata": {
    "id": "y4Lp6kIRfT0V"
   },
   "source": [
    "**Exercício**\n",
    "\n",
    "Calcule a distância euclidiana entre dois arrays"
   ]
  },
  {
   "cell_type": "code",
   "execution_count": null,
   "metadata": {
    "ExecuteTime": {
     "end_time": "2021-09-17T18:30:59.109117Z",
     "start_time": "2021-09-17T18:30:59.100141Z"
    },
    "id": "Tq_jq265fT0V",
    "solution2": "hidden",
    "solution2_first": true
   },
   "outputs": [],
   "source": [
    "np.random.seed(42)\n",
    "a = np.random.random(size=3)\n",
    "b = np.random.random(size=3)"
   ]
  },
  {
   "cell_type": "code",
   "execution_count": null,
   "metadata": {
    "cellView": "form",
    "id": "xVtd6naKfT0W",
    "solution2": "hidden"
   },
   "outputs": [],
   "source": [
    "#@title Resposta\n",
    "np.random.seed(42)\n",
    "a = np.random.random(size=3)\n",
    "b = np.random.random(size=3)\n",
    "np.linalg.norm(a - b)"
   ]
  },
  {
   "cell_type": "markdown",
   "metadata": {
    "id": "teOybt6MfT0W"
   },
   "source": [
    "---"
   ]
  },
  {
   "cell_type": "markdown",
   "metadata": {
    "id": "IqKfUERUfT0W"
   },
   "source": [
    "## Representações"
   ]
  },
  {
   "cell_type": "markdown",
   "metadata": {
    "id": "gSeW9nYLfT0W"
   },
   "source": [
    "Há alguns elementos matemáticos que possuem representações especiais no numpy. Abaixo listamos os principais"
   ]
  },
  {
   "cell_type": "markdown",
   "metadata": {
    "ExecuteTime": {
     "end_time": "2021-09-16T19:07:26.299932Z",
     "start_time": "2021-09-16T19:07:26.292951Z"
    },
    "id": "Ty_nbdQ1fT0X"
   },
   "source": [
    "np.nan -> Not a Number, é a representação de um dado faltante"
   ]
  },
  {
   "cell_type": "code",
   "execution_count": null,
   "metadata": {
    "ExecuteTime": {
     "end_time": "2021-09-17T18:31:01.520953Z",
     "start_time": "2021-09-17T18:31:01.516960Z"
    },
    "id": "psn-4NhtfT0X",
    "outputId": "a289b82d-7fe5-4130-b856-8d59756c7ccb"
   },
   "outputs": [
    {
     "data": {
      "text/plain": [
       "array([ 1.,  2., nan,  4.])"
      ]
     },
     "execution_count": 75,
     "metadata": {},
     "output_type": "execute_result"
    }
   ],
   "source": [
    "arr = np.array([1, 2, np.nan, 4])\n",
    "arr"
   ]
  },
  {
   "cell_type": "code",
   "execution_count": null,
   "metadata": {
    "ExecuteTime": {
     "end_time": "2021-09-17T18:31:01.768760Z",
     "start_time": "2021-09-17T18:31:01.756764Z"
    },
    "id": "8GvhmXQcfT0X",
    "outputId": "242f2d16-2383-4689-f4ff-2877177ae75d"
   },
   "outputs": [
    {
     "data": {
      "text/plain": [
       "array([False, False,  True, False])"
      ]
     },
     "execution_count": 76,
     "metadata": {},
     "output_type": "execute_result"
    }
   ],
   "source": [
    "np.isnan(arr)"
   ]
  },
  {
   "cell_type": "code",
   "execution_count": null,
   "metadata": {
    "ExecuteTime": {
     "end_time": "2021-09-17T18:31:02.124665Z",
     "start_time": "2021-09-17T18:31:02.108707Z"
    },
    "id": "C0-VhKYHfT0Y",
    "outputId": "ef94a1f6-caa2-4814-b8cb-90d469b5e9bb"
   },
   "outputs": [
    {
     "name": "stderr",
     "output_type": "stream",
     "text": [
      "<ipython-input-77-8e2683f917d3>:1: RuntimeWarning: invalid value encountered in true_divide\n",
      "  np.zeros(3) / 0\n"
     ]
    },
    {
     "data": {
      "text/plain": [
       "array([nan, nan, nan])"
      ]
     },
     "execution_count": 77,
     "metadata": {},
     "output_type": "execute_result"
    }
   ],
   "source": [
    "np.zeros(3) / 0"
   ]
  },
  {
   "cell_type": "markdown",
   "metadata": {
    "id": "T3AjGzs7fT0Y"
   },
   "source": [
    "É importante destacar que None e NaN não são a mesma coisa. Not a Number indica que é uma operação matemática ou um dado numérico não existente dentro de um array, enquanto None é o objeto nulo de Python."
   ]
  },
  {
   "cell_type": "code",
   "execution_count": null,
   "metadata": {
    "ExecuteTime": {
     "end_time": "2021-09-17T18:31:13.620335Z",
     "start_time": "2021-09-17T18:31:13.613353Z"
    },
    "id": "VKaCf21ZfT0Y",
    "outputId": "aedf87eb-4060-4364-d6ed-26e66712f894"
   },
   "outputs": [
    {
     "ename": "TypeError",
     "evalue": "ufunc 'isnan' not supported for the input types, and the inputs could not be safely coerced to any supported types according to the casting rule ''safe''",
     "output_type": "error",
     "traceback": [
      "\u001b[1;31m---------------------------------------------------------------------------\u001b[0m",
      "\u001b[1;31mTypeError\u001b[0m                                 Traceback (most recent call last)",
      "\u001b[1;32m<ipython-input-80-f53008f0bd14>\u001b[0m in \u001b[0;36m<module>\u001b[1;34m\u001b[0m\n\u001b[1;32m----> 1\u001b[1;33m \u001b[0mnp\u001b[0m\u001b[1;33m.\u001b[0m\u001b[0misnan\u001b[0m\u001b[1;33m(\u001b[0m\u001b[1;32mNone\u001b[0m\u001b[1;33m)\u001b[0m\u001b[1;33m\u001b[0m\u001b[1;33m\u001b[0m\u001b[0m\n\u001b[0m",
      "\u001b[1;31mTypeError\u001b[0m: ufunc 'isnan' not supported for the input types, and the inputs could not be safely coerced to any supported types according to the casting rule ''safe''"
     ]
    }
   ],
   "source": [
    "np.isnan(None)"
   ]
  },
  {
   "cell_type": "code",
   "execution_count": null,
   "metadata": {
    "ExecuteTime": {
     "end_time": "2021-09-17T18:31:18.551191Z",
     "start_time": "2021-09-17T18:31:18.540221Z"
    },
    "id": "T4MtuptlfT0Y",
    "outputId": "2a1c2cf4-c271-45b7-ccdc-330a2705cadf"
   },
   "outputs": [
    {
     "data": {
      "text/plain": [
       "True"
      ]
     },
     "execution_count": 81,
     "metadata": {},
     "output_type": "execute_result"
    }
   ],
   "source": [
    "np.isnan(np.nan)"
   ]
  },
  {
   "cell_type": "markdown",
   "metadata": {
    "id": "id-8JImQfT0Z"
   },
   "source": [
    "np.inf -> Infinito, representa valores infinitos"
   ]
  },
  {
   "cell_type": "code",
   "execution_count": null,
   "metadata": {
    "ExecuteTime": {
     "end_time": "2021-09-17T14:11:12.716864Z",
     "start_time": "2021-09-17T14:11:12.699881Z"
    },
    "id": "Jtxccst1fT0Z",
    "outputId": "06d950a5-20f8-4cc0-d820-b2a555ce2c38"
   },
   "outputs": [
    {
     "data": {
      "text/plain": [
       "array([  1.,   2.,  inf,   4., -inf])"
      ]
     },
     "execution_count": 76,
     "metadata": {},
     "output_type": "execute_result"
    }
   ],
   "source": [
    "arr = np.array([1, 2, np.inf, 4, -np.inf])\n",
    "arr"
   ]
  },
  {
   "cell_type": "code",
   "execution_count": null,
   "metadata": {
    "ExecuteTime": {
     "end_time": "2021-09-17T14:11:13.217204Z",
     "start_time": "2021-09-17T14:11:13.212217Z"
    },
    "id": "qkOlWWxGfT0Z",
    "outputId": "c1264dd4-ad4d-41f5-9fd5-2ca638a149b2"
   },
   "outputs": [
    {
     "data": {
      "text/plain": [
       "array([ True,  True, False,  True, False])"
      ]
     },
     "execution_count": 77,
     "metadata": {},
     "output_type": "execute_result"
    }
   ],
   "source": [
    "np.isfinite(arr)"
   ]
  },
  {
   "cell_type": "code",
   "execution_count": null,
   "metadata": {
    "ExecuteTime": {
     "end_time": "2021-09-17T14:11:13.758329Z",
     "start_time": "2021-09-17T14:11:13.740377Z"
    },
    "id": "HGR95oMSfT0a",
    "outputId": "f3077247-621b-474f-a0af-fabcdbb976e0"
   },
   "outputs": [
    {
     "name": "stderr",
     "output_type": "stream",
     "text": [
      "<ipython-input-78-205b2f87aecf>:1: RuntimeWarning: divide by zero encountered in true_divide\n",
      "  np.ones(3) / 0\n"
     ]
    },
    {
     "data": {
      "text/plain": [
       "array([inf, inf, inf])"
      ]
     },
     "execution_count": 78,
     "metadata": {},
     "output_type": "execute_result"
    }
   ],
   "source": [
    "np.ones(3) / 0"
   ]
  },
  {
   "cell_type": "markdown",
   "metadata": {
    "id": "nNlYFVDWfT0a"
   },
   "source": [
    "Constantes numéricas:\n",
    "- np.pi: 3.14 (constante PI)\n",
    "- np.e: 2.72 (número de euler)"
   ]
  },
  {
   "cell_type": "code",
   "execution_count": null,
   "metadata": {
    "ExecuteTime": {
     "end_time": "2021-09-17T14:11:15.247297Z",
     "start_time": "2021-09-17T14:11:15.243335Z"
    },
    "id": "b1BHjmp9fT0a",
    "outputId": "05377a5d-73d5-4cbf-a435-5e49b8cc4907"
   },
   "outputs": [
    {
     "data": {
      "text/plain": [
       "3.141592653589793"
      ]
     },
     "execution_count": 79,
     "metadata": {},
     "output_type": "execute_result"
    }
   ],
   "source": [
    "np.pi"
   ]
  },
  {
   "cell_type": "code",
   "execution_count": null,
   "metadata": {
    "ExecuteTime": {
     "end_time": "2021-09-17T14:11:15.587417Z",
     "start_time": "2021-09-17T14:11:15.582439Z"
    },
    "id": "RuWC4Go0fT0a",
    "outputId": "47438a5c-c3c5-4eee-8df4-a05bae74ba99"
   },
   "outputs": [
    {
     "data": {
      "text/plain": [
       "2.718281828459045"
      ]
     },
     "execution_count": 80,
     "metadata": {},
     "output_type": "execute_result"
    }
   ],
   "source": [
    "np.e"
   ]
  },
  {
   "cell_type": "markdown",
   "metadata": {
    "id": "lFOB4ZIAfT0b"
   },
   "source": [
    "---"
   ]
  },
  {
   "cell_type": "markdown",
   "metadata": {
    "id": "48b7PmSFfT0b"
   },
   "source": [
    "**Exercício**\n",
    "\n",
    "Substitua todos os valores nulos de um array por 0"
   ]
  },
  {
   "cell_type": "code",
   "execution_count": null,
   "metadata": {
    "ExecuteTime": {
     "end_time": "2021-09-17T14:17:02.702154Z",
     "start_time": "2021-09-17T14:17:02.686197Z"
    },
    "id": "AKnI3nXhfT0b",
    "solution2": "hidden",
    "solution2_first": true
   },
   "outputs": [],
   "source": [
    "np.random.seed(42)\n",
    "array = np.random.choice([1, 2, 3, 4, 5, 6, 7, 8, 9, 10, np.nan], size=(5, 5))"
   ]
  },
  {
   "cell_type": "code",
   "execution_count": null,
   "metadata": {
    "cellView": "form",
    "id": "VFTF1uDifT0b",
    "solution2": "hidden"
   },
   "outputs": [],
   "source": [
    "#@title Resposta\n",
    "np.random.seed(42)\n",
    "array = np.random.choice([1, 2, 3, 4, 5, 6, 7, 8, 9, 10, np.nan], size=(5, 5))\n",
    "print(array)\n",
    "array[np.isnan(array)] = 0\n",
    "print(array)"
   ]
  },
  {
   "cell_type": "markdown",
   "metadata": {
    "id": "I5t5ghaN5dug"
   },
   "source": [
    "---"
   ]
  },
  {
   "cell_type": "markdown",
   "metadata": {
    "id": "VwHk1L765due"
   },
   "source": [
    "## Filtros "
   ]
  },
  {
   "cell_type": "markdown",
   "metadata": {
    "id": "hb9_UGJX-gwF"
   },
   "source": [
    "Uma particularidade interessante de arrays é a habilidade de realizar filtros de seus dados a partir de comparações booleanas."
   ]
  },
  {
   "cell_type": "code",
   "execution_count": null,
   "metadata": {
    "ExecuteTime": {
     "end_time": "2021-09-17T14:11:17.875050Z",
     "start_time": "2021-09-17T14:11:17.867071Z"
    },
    "colab": {
     "base_uri": "https://localhost:8080/"
    },
    "executionInfo": {
     "elapsed": 3,
     "status": "ok",
     "timestamp": 1631720132207,
     "user": {
      "displayName": "Pedro Forli",
      "photoUrl": "https://lh3.googleusercontent.com/a/default-user=s64",
      "userId": "08325002347257917995"
     },
     "user_tz": 180
    },
    "id": "W6KmR7QF5due",
    "outputId": "bf25dc7d-f8c7-4623-810a-2cf25173ff5a"
   },
   "outputs": [
    {
     "data": {
      "text/plain": [
       "array([51, 92, 14, 71, 60, 20, 82, 86, 74, 74])"
      ]
     },
     "execution_count": 81,
     "metadata": {},
     "output_type": "execute_result"
    }
   ],
   "source": [
    "np.random.seed(42)\n",
    "arr = np.random.randint(0, 100, size=10)\n",
    "arr"
   ]
  },
  {
   "cell_type": "markdown",
   "metadata": {
    "id": "59irdyMHEiR9"
   },
   "source": [
    "Ao gerar uma comparação (tratando arrays como uma variável) o resultado é um array de booleanos com o resultado da comparação de cada elemento do array"
   ]
  },
  {
   "cell_type": "code",
   "execution_count": null,
   "metadata": {
    "ExecuteTime": {
     "end_time": "2021-09-17T14:11:18.663205Z",
     "start_time": "2021-09-17T14:11:18.652264Z"
    },
    "colab": {
     "base_uri": "https://localhost:8080/"
    },
    "executionInfo": {
     "elapsed": 404,
     "status": "ok",
     "timestamp": 1631720134594,
     "user": {
      "displayName": "Pedro Forli",
      "photoUrl": "https://lh3.googleusercontent.com/a/default-user=s64",
      "userId": "08325002347257917995"
     },
     "user_tz": 180
    },
    "id": "nV_Iti9oEEWy",
    "outputId": "2aec7b07-a4b9-403c-9ee8-0b2cc01436fb"
   },
   "outputs": [
    {
     "data": {
      "text/plain": [
       "array([ True,  True, False,  True,  True, False,  True,  True,  True,\n",
       "        True])"
      ]
     },
     "execution_count": 82,
     "metadata": {},
     "output_type": "execute_result"
    }
   ],
   "source": [
    "arr > 50"
   ]
  },
  {
   "cell_type": "markdown",
   "metadata": {
    "id": "VPsu9OxEE5h3"
   },
   "source": [
    "Essas comparações também aceitam os operadores lógicos and/or/not, entretanto os mesmos devem vir no formato &/|/~ (respectivamente) e, além disso, obrigatoriamente necessitam de () para cada operação lógica"
   ]
  },
  {
   "cell_type": "code",
   "execution_count": null,
   "metadata": {
    "ExecuteTime": {
     "end_time": "2021-09-17T14:11:19.468628Z",
     "start_time": "2021-09-17T14:11:19.451700Z"
    },
    "colab": {
     "base_uri": "https://localhost:8080/",
     "height": 167
    },
    "executionInfo": {
     "elapsed": 237,
     "status": "error",
     "timestamp": 1631720137631,
     "user": {
      "displayName": "Pedro Forli",
      "photoUrl": "https://lh3.googleusercontent.com/a/default-user=s64",
      "userId": "08325002347257917995"
     },
     "user_tz": 180
    },
    "id": "RKa_y5_HESCk",
    "outputId": "e3411b8a-60a1-45cc-82ae-a55efa846fa3"
   },
   "outputs": [
    {
     "ename": "ValueError",
     "evalue": "The truth value of an array with more than one element is ambiguous. Use a.any() or a.all()",
     "output_type": "error",
     "traceback": [
      "\u001b[1;31m---------------------------------------------------------------------------\u001b[0m",
      "\u001b[1;31mValueError\u001b[0m                                Traceback (most recent call last)",
      "\u001b[1;32m<ipython-input-83-9928888c93df>\u001b[0m in \u001b[0;36m<module>\u001b[1;34m\u001b[0m\n\u001b[1;32m----> 1\u001b[1;33m \u001b[0marr\u001b[0m \u001b[1;33m>\u001b[0m \u001b[1;36m50\u001b[0m \u001b[1;32mand\u001b[0m \u001b[0marr\u001b[0m \u001b[1;33m<\u001b[0m \u001b[1;36m75\u001b[0m\u001b[1;33m\u001b[0m\u001b[1;33m\u001b[0m\u001b[0m\n\u001b[0m",
      "\u001b[1;31mValueError\u001b[0m: The truth value of an array with more than one element is ambiguous. Use a.any() or a.all()"
     ]
    }
   ],
   "source": [
    "arr > 50 and arr < 75"
   ]
  },
  {
   "cell_type": "code",
   "execution_count": null,
   "metadata": {
    "ExecuteTime": {
     "end_time": "2021-09-17T14:11:19.895827Z",
     "start_time": "2021-09-17T14:11:19.887878Z"
    },
    "colab": {
     "base_uri": "https://localhost:8080/",
     "height": 167
    },
    "executionInfo": {
     "elapsed": 4,
     "status": "error",
     "timestamp": 1631720138962,
     "user": {
      "displayName": "Pedro Forli",
      "photoUrl": "https://lh3.googleusercontent.com/a/default-user=s64",
      "userId": "08325002347257917995"
     },
     "user_tz": 180
    },
    "id": "D373FQ6WEVTj",
    "outputId": "4eb3c0dd-39cc-4304-ac85-60f8a36f3e37"
   },
   "outputs": [
    {
     "ename": "ValueError",
     "evalue": "The truth value of an array with more than one element is ambiguous. Use a.any() or a.all()",
     "output_type": "error",
     "traceback": [
      "\u001b[1;31m---------------------------------------------------------------------------\u001b[0m",
      "\u001b[1;31mValueError\u001b[0m                                Traceback (most recent call last)",
      "\u001b[1;32m<ipython-input-84-e8a1139f112a>\u001b[0m in \u001b[0;36m<module>\u001b[1;34m\u001b[0m\n\u001b[1;32m----> 1\u001b[1;33m \u001b[0marr\u001b[0m \u001b[1;33m>\u001b[0m \u001b[1;36m50\u001b[0m \u001b[1;33m&\u001b[0m \u001b[0marr\u001b[0m \u001b[1;33m<\u001b[0m \u001b[1;36m75\u001b[0m\u001b[1;33m\u001b[0m\u001b[1;33m\u001b[0m\u001b[0m\n\u001b[0m",
      "\u001b[1;31mValueError\u001b[0m: The truth value of an array with more than one element is ambiguous. Use a.any() or a.all()"
     ]
    }
   ],
   "source": [
    "arr > 50 & arr < 75"
   ]
  },
  {
   "cell_type": "code",
   "execution_count": null,
   "metadata": {
    "ExecuteTime": {
     "end_time": "2021-09-17T14:11:20.593378Z",
     "start_time": "2021-09-17T14:11:20.588391Z"
    },
    "colab": {
     "base_uri": "https://localhost:8080/"
    },
    "executionInfo": {
     "elapsed": 8,
     "status": "ok",
     "timestamp": 1631720140028,
     "user": {
      "displayName": "Pedro Forli",
      "photoUrl": "https://lh3.googleusercontent.com/a/default-user=s64",
      "userId": "08325002347257917995"
     },
     "user_tz": 180
    },
    "id": "ldLar9jWEXm6",
    "outputId": "8df12f60-63db-4ada-ebbc-03487d0ff374"
   },
   "outputs": [
    {
     "data": {
      "text/plain": [
       "array([ True, False, False,  True,  True, False, False, False,  True,\n",
       "        True])"
      ]
     },
     "execution_count": 85,
     "metadata": {},
     "output_type": "execute_result"
    }
   ],
   "source": [
    "(arr > 50) & (arr < 75)"
   ]
  },
  {
   "cell_type": "markdown",
   "metadata": {
    "id": "m0O8fkiKFJKo"
   },
   "source": [
    "O filtro do array ocorre ao passar uma comparação como parte da sintaxe de chaves, de forma que é como se estivessemos indexando o array onde o resultado da comparação lógica é verdadeiro"
   ]
  },
  {
   "cell_type": "code",
   "execution_count": null,
   "metadata": {
    "ExecuteTime": {
     "end_time": "2021-09-17T14:11:21.498195Z",
     "start_time": "2021-09-17T14:11:21.484233Z"
    },
    "colab": {
     "base_uri": "https://localhost:8080/"
    },
    "executionInfo": {
     "elapsed": 233,
     "status": "ok",
     "timestamp": 1631720147131,
     "user": {
      "displayName": "Pedro Forli",
      "photoUrl": "https://lh3.googleusercontent.com/a/default-user=s64",
      "userId": "08325002347257917995"
     },
     "user_tz": 180
    },
    "id": "cegivZphEJq7",
    "outputId": "297c300c-e972-499a-8bcc-8457ed50a9bd"
   },
   "outputs": [
    {
     "data": {
      "text/plain": [
       "array([51, 71, 60, 74, 74])"
      ]
     },
     "execution_count": 86,
     "metadata": {},
     "output_type": "execute_result"
    }
   ],
   "source": [
    "arr[(arr > 50) & (arr < 75)]"
   ]
  },
  {
   "cell_type": "markdown",
   "metadata": {
    "id": "OatBWtduFhFg"
   },
   "source": [
    "Uma função muito interessante criada com esse propósito é where, na qual espera-se receber como primeiro input um comparação e devolve como output os indices na qual a comparação é verdadeira"
   ]
  },
  {
   "cell_type": "code",
   "execution_count": null,
   "metadata": {
    "ExecuteTime": {
     "end_time": "2021-09-17T14:11:22.305991Z",
     "start_time": "2021-09-17T14:11:22.299009Z"
    },
    "colab": {
     "base_uri": "https://localhost:8080/"
    },
    "executionInfo": {
     "elapsed": 228,
     "status": "ok",
     "timestamp": 1631720153900,
     "user": {
      "displayName": "Pedro Forli",
      "photoUrl": "https://lh3.googleusercontent.com/a/default-user=s64",
      "userId": "08325002347257917995"
     },
     "user_tz": 180
    },
    "id": "FFeow0X0Fg1K",
    "outputId": "9a056f6d-d48a-4359-c87f-04f941bb9737"
   },
   "outputs": [
    {
     "data": {
      "text/plain": [
       "(array([0, 3, 4, 8, 9], dtype=int64),)"
      ]
     },
     "execution_count": 87,
     "metadata": {},
     "output_type": "execute_result"
    }
   ],
   "source": [
    "np.where((arr > 50) & (arr < 75))"
   ]
  },
  {
   "cell_type": "markdown",
   "metadata": {
    "id": "ym-doPVNF66l"
   },
   "source": [
    "Alternativamente ainda podemos passar mais dois parâmetros para a função where, de tal forma que criaremos um novo array obtendo o segundo parametro como resultado onde a comparação é verdadeira e o terceiro onde a comparação é falsa"
   ]
  },
  {
   "cell_type": "code",
   "execution_count": null,
   "metadata": {
    "ExecuteTime": {
     "end_time": "2021-09-17T14:11:23.286656Z",
     "start_time": "2021-09-17T14:11:23.275714Z"
    },
    "colab": {
     "base_uri": "https://localhost:8080/"
    },
    "executionInfo": {
     "elapsed": 325,
     "status": "ok",
     "timestamp": 1631720164313,
     "user": {
      "displayName": "Pedro Forli",
      "photoUrl": "https://lh3.googleusercontent.com/a/default-user=s64",
      "userId": "08325002347257917995"
     },
     "user_tz": 180
    },
    "id": "UxLixSzIFy1K",
    "outputId": "78198ab2-1f7b-4b01-8d3f-e711d2406305"
   },
   "outputs": [
    {
     "data": {
      "text/plain": [
       "array(['Papai Noel é Top', 'Papai Noel é Gordo', 'Papai Noel é Gordo',\n",
       "       'Papai Noel é Top', 'Papai Noel é Top', 'Papai Noel é Gordo',\n",
       "       'Papai Noel é Gordo', 'Papai Noel é Gordo', 'Papai Noel é Top',\n",
       "       'Papai Noel é Top'], dtype='<U18')"
      ]
     },
     "execution_count": 88,
     "metadata": {},
     "output_type": "execute_result"
    }
   ],
   "source": [
    "np.where((arr > 50) & (arr < 75), \"Papai Noel é Top\", \"Papai Noel é Gordo\")"
   ]
  },
  {
   "cell_type": "markdown",
   "metadata": {
    "id": "akZaoirGfT0f"
   },
   "source": [
    "Nós inclusive conseguimos fazer alterações em arrays utilizando filtros"
   ]
  },
  {
   "cell_type": "code",
   "execution_count": null,
   "metadata": {
    "ExecuteTime": {
     "end_time": "2021-09-17T14:11:24.001650Z",
     "start_time": "2021-09-17T14:11:23.996663Z"
    },
    "id": "hSRlaGCbfT0g",
    "outputId": "eccda8ef-8589-47da-82c4-f08e7da50a9b"
   },
   "outputs": [
    {
     "data": {
      "text/plain": [
       "array([-1, 92, 14, -1, -1, 20, 82, 86, -1, -1])"
      ]
     },
     "execution_count": 89,
     "metadata": {},
     "output_type": "execute_result"
    }
   ],
   "source": [
    "arr[(arr > 50) & (arr < 75)] = -1\n",
    "arr"
   ]
  },
  {
   "cell_type": "markdown",
   "metadata": {
    "id": "sYSptHTefT0g"
   },
   "source": [
    "Além dos comparadores lógicos entre elementos, o numpy ainda contém agregadores lógicos tais com as funções nativas de python all e any, na qual checamos se todos (all) elementos de uma sequência são verdadeiros ou se algum (any) dos elementos são verdadeiros"
   ]
  },
  {
   "cell_type": "code",
   "execution_count": null,
   "metadata": {
    "ExecuteTime": {
     "end_time": "2021-09-17T14:11:24.811820Z",
     "start_time": "2021-09-17T14:11:24.795863Z"
    },
    "id": "HKA3y-05fT0g",
    "outputId": "a4237476-fec2-4895-f8d7-1ae34a666ae7"
   },
   "outputs": [
    {
     "name": "stdout",
     "output_type": "stream",
     "text": [
      "False\n",
      "False\n",
      "True\n",
      "True\n"
     ]
    }
   ],
   "source": [
    "np.random.seed(42)\n",
    "arr = np.random.randint(0, 100, size=10)\n",
    "\n",
    "print(all((arr > 50) & (arr < 75)))\n",
    "print(np.all((arr > 50) & (arr < 75)))\n",
    "\n",
    "print(any((arr > 50) & (arr < 75)))\n",
    "print(np.any((arr > 50) & (arr < 75)))"
   ]
  },
  {
   "cell_type": "markdown",
   "metadata": {
    "id": "u_5RBhqafT0h"
   },
   "source": [
    "A vantagem dos operadores do numpy em contrapartida as funções do Python é a possibilidade de fazer isso em arrays multidimensionais, até mesmo selecionando eixos específicos"
   ]
  },
  {
   "cell_type": "code",
   "execution_count": null,
   "metadata": {
    "ExecuteTime": {
     "end_time": "2021-09-17T14:11:25.656035Z",
     "start_time": "2021-09-17T14:11:25.644068Z"
    },
    "id": "kzCKmDYHfT0h",
    "outputId": "8ec42904-7f28-4cb8-8a6e-94eb7c967dfe"
   },
   "outputs": [
    {
     "data": {
      "text/plain": [
       "array([[ True, False,  True, False,  True],\n",
       "       [ True, False, False, False, False]])"
      ]
     },
     "execution_count": 91,
     "metadata": {},
     "output_type": "execute_result"
    }
   ],
   "source": [
    "arr.reshape(2, 5) < 70"
   ]
  },
  {
   "cell_type": "markdown",
   "metadata": {
    "id": "I19E0TflfT0h"
   },
   "source": [
    "<img src=\"https://predictivehacks.com/wp-content/uploads/2020/08/numpy_arrays-1024x572.png\" width=400 height=300/>"
   ]
  },
  {
   "cell_type": "code",
   "execution_count": null,
   "metadata": {
    "ExecuteTime": {
     "end_time": "2021-09-17T14:11:26.683434Z",
     "start_time": "2021-09-17T14:11:26.667477Z"
    },
    "id": "9DIeGDtkfT0h",
    "outputId": "8450a4ff-0d31-4cb0-aa4e-e48ee0d02106"
   },
   "outputs": [
    {
     "ename": "ValueError",
     "evalue": "The truth value of an array with more than one element is ambiguous. Use a.any() or a.all()",
     "output_type": "error",
     "traceback": [
      "\u001b[1;31m---------------------------------------------------------------------------\u001b[0m",
      "\u001b[1;31mValueError\u001b[0m                                Traceback (most recent call last)",
      "\u001b[1;32m<ipython-input-92-b91df3069e76>\u001b[0m in \u001b[0;36m<module>\u001b[1;34m\u001b[0m\n\u001b[1;32m----> 1\u001b[1;33m \u001b[0mall\u001b[0m\u001b[1;33m(\u001b[0m\u001b[0marr\u001b[0m\u001b[1;33m.\u001b[0m\u001b[0mreshape\u001b[0m\u001b[1;33m(\u001b[0m\u001b[1;36m2\u001b[0m\u001b[1;33m,\u001b[0m \u001b[1;36m5\u001b[0m\u001b[1;33m)\u001b[0m \u001b[1;33m<\u001b[0m \u001b[1;36m70\u001b[0m\u001b[1;33m)\u001b[0m\u001b[1;33m\u001b[0m\u001b[1;33m\u001b[0m\u001b[0m\n\u001b[0m",
      "\u001b[1;31mValueError\u001b[0m: The truth value of an array with more than one element is ambiguous. Use a.any() or a.all()"
     ]
    }
   ],
   "source": [
    "all(arr.reshape(2, 5) < 70)"
   ]
  },
  {
   "cell_type": "code",
   "execution_count": null,
   "metadata": {
    "ExecuteTime": {
     "end_time": "2021-09-17T14:11:27.075214Z",
     "start_time": "2021-09-17T14:11:27.068234Z"
    },
    "id": "bjUIBswAfT0i",
    "outputId": "44384da2-c154-4af2-ecea-5eb71ba05194"
   },
   "outputs": [
    {
     "data": {
      "text/plain": [
       "False"
      ]
     },
     "execution_count": 93,
     "metadata": {},
     "output_type": "execute_result"
    }
   ],
   "source": [
    "np.all(arr.reshape(2, 5) < 70)"
   ]
  },
  {
   "cell_type": "code",
   "execution_count": null,
   "metadata": {
    "ExecuteTime": {
     "end_time": "2021-09-17T14:11:32.610594Z",
     "start_time": "2021-09-17T14:11:32.603613Z"
    },
    "id": "ZuZT1rvOfT0i",
    "outputId": "ad36d92b-98c5-44cd-e64d-be407189164e"
   },
   "outputs": [
    {
     "data": {
      "text/plain": [
       "array([ True, False, False, False, False])"
      ]
     },
     "execution_count": 94,
     "metadata": {},
     "output_type": "execute_result"
    }
   ],
   "source": [
    "np.all(arr.reshape(2, 5) < 70, axis=0)"
   ]
  },
  {
   "cell_type": "markdown",
   "metadata": {
    "id": "KZozKqb9fT0i"
   },
   "source": [
    "Por fim, vale destacar que as mesmas regras de broadcast que se aplicam a operações matemáticas se aplicam a operadores lógicos"
   ]
  },
  {
   "cell_type": "code",
   "execution_count": null,
   "metadata": {
    "ExecuteTime": {
     "end_time": "2021-09-17T14:11:34.798172Z",
     "start_time": "2021-09-17T14:11:34.780220Z"
    },
    "id": "jkI1GydCfT0j",
    "outputId": "84946957-7f4f-4f93-8940-dbe8c65dc42c"
   },
   "outputs": [
    {
     "data": {
      "text/plain": [
       "array([[ True,  True, False,  True, False],\n",
       "       [False,  True,  True,  True,  True]])"
      ]
     },
     "execution_count": 95,
     "metadata": {},
     "output_type": "execute_result"
    }
   ],
   "source": [
    "arr.reshape(2, 5) > np.array([20, 30, 40, 50, 60])"
   ]
  },
  {
   "cell_type": "code",
   "execution_count": null,
   "metadata": {
    "ExecuteTime": {
     "end_time": "2021-09-17T14:11:35.127138Z",
     "start_time": "2021-09-17T14:11:35.120157Z"
    },
    "id": "A9K80cE9fT0j",
    "outputId": "df0a9366-4db6-4852-c831-b5606264a625"
   },
   "outputs": [
    {
     "data": {
      "text/plain": [
       "array([[[ True,  True,  True,  True, False],\n",
       "        [ True,  True,  True,  True,  True],\n",
       "        [False, False, False, False, False],\n",
       "        [ True,  True,  True,  True,  True],\n",
       "        [ True,  True,  True,  True, False]],\n",
       "\n",
       "       [[False, False, False, False, False],\n",
       "        [ True,  True,  True,  True,  True],\n",
       "        [ True,  True,  True,  True,  True],\n",
       "        [ True,  True,  True,  True,  True],\n",
       "        [ True,  True,  True,  True,  True]]])"
      ]
     },
     "execution_count": 96,
     "metadata": {},
     "output_type": "execute_result"
    }
   ],
   "source": [
    "arr.reshape(2, 5, 1) > np.array([20, 30, 40, 50, 60])"
   ]
  },
  {
   "cell_type": "markdown",
   "metadata": {
    "id": "sefblbzqfT0j"
   },
   "source": [
    "---"
   ]
  },
  {
   "cell_type": "markdown",
   "metadata": {
    "id": "EkgFTWM7fT0j"
   },
   "source": [
    "**Exercício**\n",
    "\n",
    "Dadas duas matrizes, A de dimensão 8x3 e B de dimensão 2x2, encontre as linhas de A que possuem algum elemento de ambas as linhas de B. Cada linha de A não precisa ter todos os elementos, mas ao menos 1 de cada linha, independente da ordem.\n",
    "\n",
    "NOTA: Este exercício pode ser 100% resolvido com arrays. Pense com utilizar broadcasting a seu favor\n",
    "\n",
    "Exemplo:\n",
    "\n",
    "    A = [3, 4, 2]\n",
    "        [4, 4, 1]\n",
    "        [2, 2, 2]\n",
    "        [4, 3, 2]\n",
    "        [4, 1, 3]\n",
    "        [1, 3, 4]\n",
    "        [0, 3, 1]\n",
    "        [4, 3, 0]\n",
    "        \n",
    "    B = [0, 2]\n",
    "        [2, 1]\n",
    "        \n",
    "    0 -> contém 2 que está em ambas linhas de B\n",
    "    1 -> não contém nenhum elemento da primeira linha de B\n",
    "    2 -> contém 2 que está em ambas linhas de B\n",
    "    3 -> contém 2 que está em ambas linhas de B\n",
    "    4 -> não contém nenhum elemento da primeira linha de B\n",
    "    5 -> não contém nenhum elemento da primeira linha de B\n",
    "    6 -> contém 0 que está na primeira linha e 1 que está na segunda\n",
    "    7 -> não contém nenhum elemento da segunda linha de B\n",
    "    \n",
    "    Saída = [0 2 3 6]"
   ]
  },
  {
   "cell_type": "code",
   "execution_count": null,
   "metadata": {
    "id": "F7ARWtQOfT0o",
    "solution2": "hidden",
    "solution2_first": true
   },
   "outputs": [],
   "source": [
    "np.random.seed(42)\n",
    "A = np.random.randint(0, 5, (8, 3))\n",
    "B = np.random.randint(0, 5, (2, 2))"
   ]
  },
  {
   "cell_type": "code",
   "execution_count": null,
   "metadata": {
    "cellView": "form",
    "id": "bTpLNxXKfT0o",
    "solution2": "hidden"
   },
   "outputs": [],
   "source": [
    "#@title Resposta\n",
    "np.random.seed(42)\n",
    "A = np.random.randint(0, 5, (8, 3))\n",
    "B = np.random.randint(0, 5, (2, 2))\n",
    "\n",
    "# ao fazer o reshape de A nós podemos compara-lo com b\n",
    "# de forma que obteremos um array 8x3x2x2, no qual o que \n",
    "# obteremos é como se fosse a matriz B comparada a cada \n",
    "# elemento A\n",
    "C = (A.reshape(8, 3, 1, 1) == B)\n",
    "\n",
    "# em seguida nós precisamos garantir que nos eixos finais\n",
    "# haja um elemento verdadeiro em cada linha. Para fazer isto\n",
    "# bastaria usar a função any.\n",
    "# Pensando sequencialmente any(3) deveria nos dar se o elemento\n",
    "# da matriz A era parte de algum elemento de cada linha de B\n",
    "# resultando numa matriz 8x3x2\n",
    "# Depois se resumirmos os eixo 1, nós deveriamos obter uma matriz\n",
    "# 8x2, que nos diz se há, em cada linha de A, algum elemento numa\n",
    "# linha de B, para cada linha de B\n",
    "# Por fim podemos executar all para garantir que todos a linha de\n",
    "# A contenha elementos de todas as linhas de B\n",
    "contem = C.any(3).any(1).all(1)\n",
    "\n",
    "# por fim o np.where vai nos devolver os indices das linhas na qual\n",
    "# encontramos uma condição verdadeira\n",
    "linhas = np.where(contem)[0]\n",
    "\n",
    "print(linhas)"
   ]
  },
  {
   "cell_type": "markdown",
   "metadata": {
    "id": "gkVqHPjRfT0p"
   },
   "source": [
    "---"
   ]
  },
  {
   "cell_type": "markdown",
   "metadata": {
    "id": "h28jgwBb5due"
   },
   "source": [
    "## Funções "
   ]
  },
  {
   "cell_type": "markdown",
   "metadata": {
    "id": "IZwbkDbofT0p"
   },
   "source": [
    "Ao longo das sessões anteriores nós já vimos uma série de funcionalidades úteis que podem ser utilizadas para realizar cálculos especiais, como np.cross, np.isnan e assim vai. O Numpy é recheado dessas funções que nos ajudam a realizar todo o tipo de calculo, como algebra linear, estatística, funções matemáticas e mais.\n",
    "\n",
    "Poderíamos passar horas apenas só falando sobre essas diferentes funções, mas é verdade é que nós vamos nos familiarizando com elas conforme vamos aplicando-as em diferentes contexto.\n",
    "\n",
    "Abaixo nós agrupamos as funções que esperamos encontrar mais recorrentemente em nossos cálculos e colocamos alguns exemplos de como elas funcionam, além de alguns exercícios."
   ]
  },
  {
   "cell_type": "code",
   "execution_count": null,
   "metadata": {
    "ExecuteTime": {
     "end_time": "2021-09-17T14:11:43.084745Z",
     "start_time": "2021-09-17T14:11:43.067790Z"
    },
    "id": "AhJDZriYfT0p"
   },
   "outputs": [],
   "source": [
    "np.random.seed(42)\n",
    "A = np.random.normal(loc=5, size=(5, 3))\n",
    "B = np.random.choice([\"A\", \"B\", \"C\"], size=(5, 3))\n",
    "C = np.array([0, 1, 2, 0, 4, 5])\n",
    "D = np.random.normal(size=(5, 3))"
   ]
  },
  {
   "cell_type": "markdown",
   "metadata": {
    "id": "3PfWMaoyfT0p"
   },
   "source": [
    "**Agregação**:\n",
    "- np.mean: Calcula a média\n",
    "- np.median: Calcula a mediana\n",
    "- np.min: Calcula o valor mínimo\n",
    "- np.max: Calcula o valor máximo\n",
    "- np.std: Calcula o desvio-padrão\n",
    "- np.var: Calcula a variância\n",
    "- np.percentile: Calcula o percentil específicado\n",
    "- np.sum: Calcula a soma de todos os elementos\n",
    "- np.count_nonzero: Realiza a contagem dos elementos não nulos do array\n",
    "- np.unique: Obtém os valores únicos de um array"
   ]
  },
  {
   "cell_type": "code",
   "execution_count": null,
   "metadata": {
    "ExecuteTime": {
     "end_time": "2021-09-17T14:11:44.066228Z",
     "start_time": "2021-09-17T14:11:44.059275Z"
    },
    "id": "70yCTje_fT0q",
    "outputId": "9752274a-26c6-4521-8e1d-794f7af93768"
   },
   "outputs": [
    {
     "name": "stdout",
     "output_type": "stream",
     "text": [
      "[[5.49671415 4.8617357  5.64768854]\n",
      " [6.52302986 4.76584663 4.76586304]\n",
      " [6.57921282 5.76743473 4.53052561]\n",
      " [5.54256004 4.53658231 4.53427025]\n",
      " [5.24196227 3.08671976 3.27508217]] 5.010348524333337\n"
     ]
    }
   ],
   "source": [
    "print(A, np.mean(A))"
   ]
  },
  {
   "cell_type": "code",
   "execution_count": null,
   "metadata": {
    "ExecuteTime": {
     "end_time": "2021-09-17T14:11:44.591804Z",
     "start_time": "2021-09-17T14:11:44.573851Z"
    },
    "id": "snFvTk5lfT0q",
    "outputId": "957176c5-8f49-4c4b-d357-3d4b5f2cf7f1"
   },
   "outputs": [
    {
     "name": "stdout",
     "output_type": "stream",
     "text": [
      "[[5.49671415 4.8617357  5.64768854]\n",
      " [6.52302986 4.76584663 4.76586304]\n",
      " [6.57921282 5.76743473 4.53052561]\n",
      " [5.54256004 4.53658231 4.53427025]\n",
      " [5.24196227 3.08671976 3.27508217]] [5.33537946 5.35157984 5.62572439 4.87113753 3.8679214 ]\n"
     ]
    }
   ],
   "source": [
    "print(A, np.mean(A, axis=1))"
   ]
  },
  {
   "cell_type": "code",
   "execution_count": null,
   "metadata": {
    "ExecuteTime": {
     "end_time": "2021-09-17T14:11:44.965849Z",
     "start_time": "2021-09-17T14:11:44.955876Z"
    },
    "id": "P2YEdFGxfT0q",
    "outputId": "aa3c0207-017c-4ca8-cf56-9f9841b4ce5b"
   },
   "outputs": [
    {
     "name": "stdout",
     "output_type": "stream",
     "text": [
      "[[5.49671415 4.8617357  5.64768854]\n",
      " [6.52302986 4.76584663 4.76586304]\n",
      " [6.57921282 5.76743473 4.53052561]\n",
      " [5.54256004 4.53658231 4.53427025]\n",
      " [5.24196227 3.08671976 3.27508217]] 3.093312439767269\n"
     ]
    }
   ],
   "source": [
    "print(A, np.percentile(A, 0.25))"
   ]
  },
  {
   "cell_type": "code",
   "execution_count": null,
   "metadata": {
    "ExecuteTime": {
     "end_time": "2021-09-17T14:11:45.308360Z",
     "start_time": "2021-09-17T14:11:45.296392Z"
    },
    "id": "2tubrLxsfT0q",
    "outputId": "34b6f9d3-f515-4544-ee59-4e965ef7d6ff"
   },
   "outputs": [
    {
     "name": "stdout",
     "output_type": "stream",
     "text": [
      "[['C' 'C' 'B']\n",
      " ['C' 'B' 'B']\n",
      " ['C' 'B' 'C']\n",
      " ['C' 'A' 'C']\n",
      " ['A' 'C' 'C']] ['A' 'B' 'C']\n"
     ]
    }
   ],
   "source": [
    "print(B, np.unique(B))"
   ]
  },
  {
   "cell_type": "code",
   "execution_count": null,
   "metadata": {
    "ExecuteTime": {
     "end_time": "2021-09-17T14:11:45.618092Z",
     "start_time": "2021-09-17T14:11:45.613105Z"
    },
    "id": "t2mO0F66fT0r",
    "outputId": "05326790-4e26-40a1-b7a7-3eb6c1420cee"
   },
   "outputs": [
    {
     "name": "stdout",
     "output_type": "stream",
     "text": [
      "[0 1 2 0 4 5] (6,) 4\n"
     ]
    }
   ],
   "source": [
    "print(C, C.shape, np.count_nonzero(C))"
   ]
  },
  {
   "cell_type": "markdown",
   "metadata": {
    "id": "eVpoKbXAfT0r"
   },
   "source": [
    "**Transformação**:\n",
    "\n",
    "- np.ceil: Arredonda os valores de um array para cima\n",
    "- np.floor: Arredonda os valores de um array para baixo\n",
    "- np.round: Arredonda os valores de um array para as casas decimais desejadas\n",
    "- np.trunc: Remove as casas decimais do valor numérico\n",
    "- np.abs: Calcula o valor absoluto dos elementos\n",
    "- np.sign: Obtém os sinais dos números de um array"
   ]
  },
  {
   "cell_type": "code",
   "execution_count": null,
   "metadata": {
    "ExecuteTime": {
     "end_time": "2021-09-17T14:11:46.530052Z",
     "start_time": "2021-09-17T14:11:46.523071Z"
    },
    "id": "3Qsd1QtffT0r",
    "outputId": "81b9f2e5-108f-4ec7-ce48-c388c20f6cb8"
   },
   "outputs": [
    {
     "name": "stdout",
     "output_type": "stream",
     "text": [
      "[[5.49671415 4.8617357  5.64768854]\n",
      " [6.52302986 4.76584663 4.76586304]\n",
      " [6.57921282 5.76743473 4.53052561]\n",
      " [5.54256004 4.53658231 4.53427025]\n",
      " [5.24196227 3.08671976 3.27508217]] [[6. 5. 6.]\n",
      " [7. 5. 5.]\n",
      " [7. 6. 5.]\n",
      " [6. 5. 5.]\n",
      " [6. 4. 4.]]\n"
     ]
    }
   ],
   "source": [
    "print(A, np.ceil(A))"
   ]
  },
  {
   "cell_type": "code",
   "execution_count": null,
   "metadata": {
    "ExecuteTime": {
     "end_time": "2021-09-17T14:11:46.869943Z",
     "start_time": "2021-09-17T14:11:46.862989Z"
    },
    "id": "4XJo7srLfT0r",
    "outputId": "820ca225-ea1a-45bf-ed22-63c023ad4964"
   },
   "outputs": [
    {
     "name": "stdout",
     "output_type": "stream",
     "text": [
      "[[5.49671415 4.8617357  5.64768854]\n",
      " [6.52302986 4.76584663 4.76586304]\n",
      " [6.57921282 5.76743473 4.53052561]\n",
      " [5.54256004 4.53658231 4.53427025]\n",
      " [5.24196227 3.08671976 3.27508217]] [[5.5  4.86 5.65]\n",
      " [6.52 4.77 4.77]\n",
      " [6.58 5.77 4.53]\n",
      " [5.54 4.54 4.53]\n",
      " [5.24 3.09 3.28]]\n"
     ]
    }
   ],
   "source": [
    "print(A, np.round(A, 2))"
   ]
  },
  {
   "cell_type": "code",
   "execution_count": null,
   "metadata": {
    "ExecuteTime": {
     "end_time": "2021-09-17T14:11:47.169830Z",
     "start_time": "2021-09-17T14:11:47.164844Z"
    },
    "id": "sGZHXTqnfT0s",
    "outputId": "947be2f9-5b9f-4327-c6de-712ddeebae79"
   },
   "outputs": [
    {
     "name": "stdout",
     "output_type": "stream",
     "text": [
      "[[5.49671415 4.8617357  5.64768854]\n",
      " [6.52302986 4.76584663 4.76586304]\n",
      " [6.57921282 5.76743473 4.53052561]\n",
      " [5.54256004 4.53658231 4.53427025]\n",
      " [5.24196227 3.08671976 3.27508217]] [[5. 4. 5.]\n",
      " [6. 4. 4.]\n",
      " [6. 5. 4.]\n",
      " [5. 4. 4.]\n",
      " [5. 3. 3.]]\n"
     ]
    }
   ],
   "source": [
    "print(A, np.trunc(A))"
   ]
  },
  {
   "cell_type": "code",
   "execution_count": null,
   "metadata": {
    "ExecuteTime": {
     "end_time": "2021-09-17T14:11:47.621563Z",
     "start_time": "2021-09-17T14:11:47.614581Z"
    },
    "id": "Dvez7KB5fT0s",
    "outputId": "4e2548b3-06f2-4c1d-e3b1-cfbf72f9982d"
   },
   "outputs": [
    {
     "name": "stdout",
     "output_type": "stream",
     "text": [
      "[[-0.56228753 -0.60025385  0.94743982]\n",
      " [ 0.291034   -0.63555974 -1.02155219]\n",
      " [-0.16175539 -0.5336488  -0.00552786]\n",
      " [-0.22945045  0.38934891 -1.26511911]\n",
      " [ 1.09199226  2.77831304  1.19363972]] [[-1. -1.  1.]\n",
      " [ 1. -1. -1.]\n",
      " [-1. -1. -1.]\n",
      " [-1.  1. -1.]\n",
      " [ 1.  1.  1.]]\n"
     ]
    }
   ],
   "source": [
    "print(D, np.sign(D))"
   ]
  },
  {
   "cell_type": "markdown",
   "metadata": {
    "id": "-kAi26rcfT0s"
   },
   "source": [
    "**Função Matemática**: \n",
    "\n",
    "- np.exp: Realiza a exponenciação dos elementos\n",
    "- np.log: Aplica o log sobre os elementos\n",
    "- np.expm1: Aplica a função exp(x) - 1 sobre os elementos\n",
    "- np.log1p: Aplica a função log(x + 1) sobre os elementos\n",
    "- np.power: Eleva os elementos do array a uma potência\n",
    "- np.sqrt: Extraí a raíz quadrada dos números de um array\n",
    "- np.sin/cos/tan: Aplica a função seno/cosseno/tangente sobre os elementos\n",
    "- np.asin/acos/atan: Aplica a função de arc seno/cosseno/tangente sobre os elementos"
   ]
  },
  {
   "cell_type": "code",
   "execution_count": null,
   "metadata": {
    "ExecuteTime": {
     "end_time": "2021-09-17T14:11:48.698189Z",
     "start_time": "2021-09-17T14:11:48.684226Z"
    },
    "id": "hPYOyh8RfT0s",
    "outputId": "b57e8850-5205-45f0-9cc2-1fd9304b2640"
   },
   "outputs": [
    {
     "data": {
      "text/plain": [
       "array([[1.70415049, 1.58139551, 1.73124635],\n",
       "       [1.87533897, 1.5614752 , 1.56147864],\n",
       "       [1.88391511, 1.75222739, 1.51083796],\n",
       "       [1.7124565 , 1.51217393, 1.51166415],\n",
       "       [1.65669591, 1.12710896, 1.18634296]])"
      ]
     },
     "execution_count": 108,
     "metadata": {},
     "output_type": "execute_result"
    }
   ],
   "source": [
    "np.log(A)"
   ]
  },
  {
   "cell_type": "code",
   "execution_count": null,
   "metadata": {
    "ExecuteTime": {
     "end_time": "2021-09-17T14:11:49.230937Z",
     "start_time": "2021-09-17T14:11:49.211959Z"
    },
    "id": "Vw_jXEYifT0t",
    "outputId": "dd8695ff-9a80-410b-86c1-bc0269edb3ba"
   },
   "outputs": [
    {
     "data": {
      "text/plain": [
       "array([[-0.53312293, -0.56485197,  0.81192363],\n",
       "       [ 0.2869429 , -0.59362805, -0.85291936],\n",
       "       [-0.16105093, -0.50867818, -0.00552783],\n",
       "       [-0.22744241,  0.37958614, -0.95364337],\n",
       "       [ 0.88754655,  0.35534171,  0.92971555]])"
      ]
     },
     "execution_count": 109,
     "metadata": {},
     "output_type": "execute_result"
    }
   ],
   "source": [
    "np.sin(D)"
   ]
  },
  {
   "cell_type": "markdown",
   "metadata": {
    "id": "zrt23Os4fT0t"
   },
   "source": [
    "**Elemento a Elemento**\n",
    "- np.diff: Obtém a diferença entre valores sequenciais do array\n",
    "- np.cumsum: Obtém a soma dos valores cumulativos\n",
    "- np.cummin: Obtém o valor mínimo cumulativo do array\n",
    "- np.cummax: Obtém o valor máximo cumulativo do array\n",
    "- np.cumprod: Obtém o valor produto cumulativo do array"
   ]
  },
  {
   "cell_type": "code",
   "execution_count": null,
   "metadata": {
    "ExecuteTime": {
     "end_time": "2021-09-17T14:11:50.414834Z",
     "start_time": "2021-09-17T14:11:50.410890Z"
    },
    "id": "JtRGDlPkfT0t",
    "outputId": "28e120f4-1cbe-41ac-fc5a-c5c1da0329cf"
   },
   "outputs": [
    {
     "name": "stdout",
     "output_type": "stream",
     "text": [
      "[0 1 2 0 4 5] [ 1  1 -2  4  1]\n"
     ]
    }
   ],
   "source": [
    "print(C, np.diff(C))"
   ]
  },
  {
   "cell_type": "code",
   "execution_count": null,
   "metadata": {
    "ExecuteTime": {
     "end_time": "2021-09-17T14:11:50.786303Z",
     "start_time": "2021-09-17T14:11:50.780318Z"
    },
    "id": "0k_ZytL6fT0t",
    "outputId": "45fc713b-2204-4ec4-8ea9-16b0c6bf48da"
   },
   "outputs": [
    {
     "name": "stdout",
     "output_type": "stream",
     "text": [
      "[0 1 2 0 4 5] [ 0  1  3  3  7 12]\n"
     ]
    }
   ],
   "source": [
    "print(C, np.cumsum(C))"
   ]
  },
  {
   "cell_type": "markdown",
   "metadata": {
    "id": "szgA6aO35duf"
   },
   "source": [
    "---"
   ]
  },
  {
   "cell_type": "markdown",
   "metadata": {
    "ExecuteTime": {
     "end_time": "2021-09-16T15:18:30.851648Z",
     "start_time": "2021-09-16T15:18:30.835721Z"
    },
    "id": "3Z5El8ZofT0u"
   },
   "source": [
    "**Exercício**\n",
    "\n",
    "Obtenha os indices do array onde ocorrem os máximos locais, isto é o maior valor de uma sequência crescente de valores. \n",
    "\n",
    "Para o array de exemplo, estes valores são os 7 e 6, que ocorrem nos indices 2 e 5."
   ]
  },
  {
   "cell_type": "code",
   "execution_count": null,
   "metadata": {
    "ExecuteTime": {
     "end_time": "2021-09-16T17:23:45.050788Z",
     "start_time": "2021-09-16T17:23:45.042837Z"
    },
    "id": "OFEsQZPxfT0u",
    "solution2": "hidden",
    "solution2_first": true
   },
   "outputs": [],
   "source": [
    "a = np.array([1, 3, 7, 1, 2, 6, 0, 1])"
   ]
  },
  {
   "cell_type": "code",
   "execution_count": null,
   "metadata": {
    "cellView": "form",
    "id": "8UcRjg-LfT0u",
    "solution2": "hidden"
   },
   "outputs": [],
   "source": [
    "#@title Resposta\n",
    "a = np.array([1, 3, 7, 1, 2, 6, 0, 1])\n",
    "\n",
    "# obtém as diferenças entre um valor e o valor anterior\n",
    "diff = np.diff(a)\n",
    "print(diff)\n",
    "\n",
    "# extraí apenas o sinal da diferença, i.e. um array de 1 e -1\n",
    "sign = np.sign(diff)\n",
    "print(sign)\n",
    "\n",
    "# obtém a diferença no valor de sinais.\n",
    "# Se tivermos 0, significa que temos dois crescimentos ou decrescimentos seguidos\n",
    "# Se tivermos 2, significa que há um decrescimento seguido de um crescimento\n",
    "# Se tivermos -2, significa que há um crescimento seguido de um decrescimento\n",
    "cres = np.diff(sign)\n",
    "print(cres)\n",
    "\n",
    "# os máximos locais ocorrem no indice do -2\n",
    "max_local = np.where(cres == -2)[0] + 1\n",
    "print(max_local)"
   ]
  },
  {
   "cell_type": "markdown",
   "metadata": {
    "ExecuteTime": {
     "end_time": "2021-09-16T15:18:30.851648Z",
     "start_time": "2021-09-16T15:18:30.835721Z"
    },
    "id": "8GAo5cQofT0u"
   },
   "source": [
    "**Exercício**\n",
    "\n",
    "Crie uma função que calcule a média móvel de um array dado um tamanho de janela"
   ]
  },
  {
   "cell_type": "code",
   "execution_count": null,
   "metadata": {
    "ExecuteTime": {
     "end_time": "2021-09-16T19:03:45.597747Z",
     "start_time": "2021-09-16T19:03:45.588528Z"
    },
    "id": "bxwicOz8fT0v",
    "solution2": "hidden",
    "solution2_first": true
   },
   "outputs": [],
   "source": [
    "def media_movel(arr: np.ndarray, janela: int = 3) -> np.ndarray:\n",
    "    \"\"\"\n",
    "    Calcula o valor da média movel de um array\n",
    "    \n",
    "    :param arr: array com valores a serem calculados\n",
    "    :param janela: janela de cálculo\n",
    "    :return: array com média móvel\n",
    "    \"\"\"\n",
    "    pass"
   ]
  },
  {
   "cell_type": "code",
   "execution_count": null,
   "metadata": {
    "cellView": "form",
    "id": "c9NKSzM1fT0v",
    "solution2": "hidden"
   },
   "outputs": [],
   "source": [
    "#@title Resposta\n",
    "def media_movel(arr: np.ndarray, janela: int = 3) -> np.ndarray:\n",
    "    \"\"\"\n",
    "    Calcula o valor da média movel de um array\n",
    "    \n",
    "    :param arr: array com valores a serem calculados\n",
    "    :param janela: janela de cálculo\n",
    "    :return: array com média móvel\n",
    "    \"\"\"\n",
    "    # calcula a soma cumulativa de valores\n",
    "    soma = np.cumsum(arr)\n",
    "    \n",
    "    # aplica a diferença para obter a soma da janela\n",
    "    soma[janela:] = soma[janela:] - soma[:-janela]\n",
    "    \n",
    "    # calcula o valor de média\n",
    "    return soma[janela - 1:] / janela\n",
    "\n",
    "media_movel(np.arange(20))"
   ]
  },
  {
   "cell_type": "markdown",
   "metadata": {
    "id": "PP_j-gBb5duf"
   },
   "source": [
    "**Exercício**\n",
    "\n",
    "Para a maioria dos algoritmos preditivos não é possível processar texto diretamente, apesar de ser fácil encontrar relações entre dados qualitativos e variáveis quantitativas (por exemplo \n",
    "\n",
    "One-hot encoding é um método de codificação de dados categóricos, na qual nós transformamos dados categóricos em flags 1 e 0 de acordo com cada dado categórico. Desta forma, por exemplo, se uma lista de valores tem 5 categorias possiveis, para cada linha gerariamos 5 colunas com valores 1 e 0 de acordo com a categoria.\n",
    "\n",
    "Por exemplo se tivessemos\n",
    "\n",
    "    array -> [\"A\", \"A\", \"B\", \"A\", \"C\", \"B\"]\n",
    "\n",
    "Por meio do one-hot encoding obteriamos:\n",
    "    \n",
    "    array -> matriz ohe\n",
    "              A  B  C\n",
    "    A     -> [1, 0, 0]\n",
    "    A     -> [1, 0, 0]\n",
    "    B     -> [0, 1, 0]\n",
    "    A     -> [1, 0, 0]\n",
    "    C     -> [0, 0, 1]\n",
    "    B     -> [0, 1, 0]"
   ]
  },
  {
   "cell_type": "code",
   "execution_count": null,
   "metadata": {
    "ExecuteTime": {
     "end_time": "2021-09-16T18:43:30.059920Z",
     "start_time": "2021-09-16T18:43:30.052941Z"
    },
    "id": "bOwWsXoq5dug",
    "solution2": "hidden",
    "solution2_first": true
   },
   "outputs": [],
   "source": [
    "arr = np.array([\"A\", \"A\", \"B\", \"A\", \"C\", \"B\"])"
   ]
  },
  {
   "cell_type": "code",
   "execution_count": null,
   "metadata": {
    "cellView": "form",
    "id": "sh8NKzNcfT0w",
    "solution2": "hidden"
   },
   "outputs": [],
   "source": [
    "#@title Resposta\n",
    "arr = np.array([\"A\", \"A\", \"B\", \"A\", \"C\", \"B\"])\n",
    "\n",
    "# solução 1 - broadcast\n",
    "ohe1 = (arr.reshape(-1, 1) == np.unique(arr)).astype(\"uint8\")\n",
    "print(ohe1)\n",
    "\n",
    "# solução 2 - for loop\n",
    "unique = np.unique(arr)\n",
    "ohe2 = np.zeros((arr.shape[0], unique.shape[0]), dtype=\"uint8\")\n",
    "for i, k in enumerate(arr):\n",
    "    ohe2[i, np.where(unique == k)] = 1\n",
    "print(ohe2)"
   ]
  },
  {
   "cell_type": "markdown",
   "metadata": {
    "id": "JhRwvjcBfT0w"
   },
   "source": [
    "---"
   ]
  },
  {
   "cell_type": "markdown",
   "metadata": {
    "id": "B9fOmsD-fT0w"
   },
   "source": [
    "## Vetorização"
   ]
  },
  {
   "cell_type": "markdown",
   "metadata": {
    "id": "mRUen4WdfT0x"
   },
   "source": [
    "Apesar do numpy ter muitas funções pré-prontas, muitas vezes nós teremos que criar tratamentos de dados específicos e aplicar essas transformações para os arrays.\n",
    "\n",
    "Para fazer isso de forma eficiente o numpy conta com algumas funcionalidades de vetorização de funções. Na verdade as funções pré prontas que trabalhamos (np.sum, np.mean, etc.) nada mais são do que a versão vetorizada de funções conhecidas do python e da biblioteca math"
   ]
  },
  {
   "cell_type": "code",
   "execution_count": null,
   "metadata": {
    "ExecuteTime": {
     "end_time": "2021-09-17T14:12:09.727803Z",
     "start_time": "2021-09-17T14:12:04.875817Z"
    },
    "id": "GpAwYoCKfT0x",
    "outputId": "ac86f300-1469-4593-e9a5-e4f76c9ee37e"
   },
   "outputs": [
    {
     "name": "stdout",
     "output_type": "stream",
     "text": [
      "5.98 ms ± 89.4 µs per loop (mean ± std. dev. of 7 runs, 100 loops each)\n"
     ]
    }
   ],
   "source": [
    "%%timeit\n",
    "sum(np.arange(50000))"
   ]
  },
  {
   "cell_type": "code",
   "execution_count": null,
   "metadata": {
    "ExecuteTime": {
     "end_time": "2021-09-17T14:12:12.918889Z",
     "start_time": "2021-09-17T14:12:09.823769Z"
    },
    "id": "K52T-anBfT0x",
    "outputId": "4a75d5e8-9332-47df-c593-4e7eb77b0cab"
   },
   "outputs": [
    {
     "name": "stdout",
     "output_type": "stream",
     "text": [
      "38.1 µs ± 67.5 ns per loop (mean ± std. dev. of 7 runs, 10000 loops each)\n"
     ]
    }
   ],
   "source": [
    "%%timeit\n",
    "np.sum(np.arange(50000))"
   ]
  },
  {
   "cell_type": "markdown",
   "metadata": {
    "id": "kF8FkiHIfT0x"
   },
   "source": [
    "Entretanto o numpy nos oferece a flexibilidade de criar nossas próprias funções através de algumas funções específicas"
   ]
  },
  {
   "cell_type": "markdown",
   "metadata": {
    "id": "0FfnONNEfT0y"
   },
   "source": [
    "np.vectorize -> Define uma função vetorizada que leva uma sequência aninhada de objetos ou matrizes numpy como entradas e retorna uma única matriz numpy ou uma tupla de numpy matrizes. A função vetorizada avalia `pyfunc` em tuplas sucessivas das matrizes de entrada como a função de mapa python, exceto que usa o regras de transmissão de numpy."
   ]
  },
  {
   "cell_type": "code",
   "execution_count": null,
   "metadata": {
    "ExecuteTime": {
     "end_time": "2021-09-17T14:12:13.046091Z",
     "start_time": "2021-09-17T14:12:13.031841Z"
    },
    "id": "9Kom6-6ufT0y"
   },
   "outputs": [],
   "source": [
    "func = np.vectorize(\n",
    "    pyfunc=lambda a, b: a + b if a < b else a - b,\n",
    "    otypes=[float],\n",
    "    doc=\"\"\"\n",
    "Dados dois arrays a e b calcula o valor da soma\n",
    "dos dois caso a < b e a subtração em caso contrário\n",
    "\n",
    ":param a: array de dados a\n",
    ":param b: array de dados b\n",
    ":return: array com resultado da operação\n",
    "\"\"\",\n",
    "    # excluded=None,\n",
    "    cache=False,\n",
    "    # signature=\"(n),(m)->(k)\",\n",
    ")"
   ]
  },
  {
   "cell_type": "code",
   "execution_count": null,
   "metadata": {
    "ExecuteTime": {
     "end_time": "2021-09-17T14:12:13.154550Z",
     "start_time": "2021-09-17T14:12:13.140587Z"
    },
    "id": "1_1qtX-vfT0y",
    "outputId": "8700c85e-be55-4770-d6fe-3fb1f4ed2b38"
   },
   "outputs": [
    {
     "data": {
      "text/plain": [
       "array(3.)"
      ]
     },
     "execution_count": 118,
     "metadata": {},
     "output_type": "execute_result"
    }
   ],
   "source": [
    "func(1, 2)"
   ]
  },
  {
   "cell_type": "code",
   "execution_count": null,
   "metadata": {
    "ExecuteTime": {
     "end_time": "2021-09-17T14:12:13.264386Z",
     "start_time": "2021-09-17T14:12:13.250424Z"
    },
    "id": "SCr5VffDfT0y",
    "outputId": "5cfac3b1-4a36-4109-c2ab-19735354f03b"
   },
   "outputs": [
    {
     "data": {
      "text/plain": [
       "array(2.)"
      ]
     },
     "execution_count": 119,
     "metadata": {},
     "output_type": "execute_result"
    }
   ],
   "source": [
    "func(3, 1)"
   ]
  },
  {
   "cell_type": "code",
   "execution_count": null,
   "metadata": {
    "ExecuteTime": {
     "end_time": "2021-09-17T14:12:13.371075Z",
     "start_time": "2021-09-17T14:12:13.357109Z"
    },
    "id": "AVuNB8VlfT0y",
    "outputId": "162d6d9b-546c-43a3-809d-0ec7635d1129"
   },
   "outputs": [
    {
     "data": {
      "text/plain": [
       "array([3., 1., 9.])"
      ]
     },
     "execution_count": 120,
     "metadata": {},
     "output_type": "execute_result"
    }
   ],
   "source": [
    "func(np.array([1, 5, 3]), np.array([2, 4, 6]))"
   ]
  },
  {
   "cell_type": "code",
   "execution_count": null,
   "metadata": {
    "ExecuteTime": {
     "end_time": "2021-09-17T14:12:13.480885Z",
     "start_time": "2021-09-17T14:12:13.465846Z"
    },
    "id": "aX2RcntNfT0z"
   },
   "outputs": [],
   "source": [
    "func = np.vectorize(\n",
    "    pyfunc=lambda x: 1 / (1 + np.exp(-x)),\n",
    "    otypes=[float],\n",
    "    doc=\"\"\"\n",
    "Aplica a transformação sigmoid sob o array\n",
    "\n",
    ":param x: array de dados\n",
    ":return: array com dados transformados\n",
    "\"\"\",\n",
    "    excluded=None,\n",
    "    cache=False,\n",
    "    signature=\"(n)->(n)\",\n",
    ")"
   ]
  },
  {
   "cell_type": "code",
   "execution_count": null,
   "metadata": {
    "ExecuteTime": {
     "end_time": "2021-09-17T14:12:15.454898Z",
     "start_time": "2021-09-17T14:12:15.419993Z"
    },
    "id": "hh91-6JEfT0z",
    "outputId": "63949ca0-b4a4-4d05-ea9d-bcead41d13de"
   },
   "outputs": [
    {
     "ename": "ValueError",
     "evalue": "0-dimensional argument does not have enough dimensions for all core dimensions ('n',)",
     "output_type": "error",
     "traceback": [
      "\u001b[1;31m---------------------------------------------------------------------------\u001b[0m",
      "\u001b[1;31mValueError\u001b[0m                                Traceback (most recent call last)",
      "\u001b[1;32m<ipython-input-122-4ddeb254ff63>\u001b[0m in \u001b[0;36m<module>\u001b[1;34m\u001b[0m\n\u001b[1;32m----> 1\u001b[1;33m \u001b[0mfunc\u001b[0m\u001b[1;33m(\u001b[0m\u001b[1;36m2\u001b[0m\u001b[1;33m)\u001b[0m\u001b[1;33m\u001b[0m\u001b[1;33m\u001b[0m\u001b[0m\n\u001b[0m",
      "\u001b[1;32m~\\AppData\\Roaming\\Python\\Python38\\site-packages\\numpy\\lib\\function_base.py\u001b[0m in \u001b[0;36m__call__\u001b[1;34m(self, *args, **kwargs)\u001b[0m\n\u001b[0;32m   2106\u001b[0m             \u001b[0mvargs\u001b[0m\u001b[1;33m.\u001b[0m\u001b[0mextend\u001b[0m\u001b[1;33m(\u001b[0m\u001b[1;33m[\u001b[0m\u001b[0mkwargs\u001b[0m\u001b[1;33m[\u001b[0m\u001b[0m_n\u001b[0m\u001b[1;33m]\u001b[0m \u001b[1;32mfor\u001b[0m \u001b[0m_n\u001b[0m \u001b[1;32min\u001b[0m \u001b[0mnames\u001b[0m\u001b[1;33m]\u001b[0m\u001b[1;33m)\u001b[0m\u001b[1;33m\u001b[0m\u001b[1;33m\u001b[0m\u001b[0m\n\u001b[0;32m   2107\u001b[0m \u001b[1;33m\u001b[0m\u001b[0m\n\u001b[1;32m-> 2108\u001b[1;33m         \u001b[1;32mreturn\u001b[0m \u001b[0mself\u001b[0m\u001b[1;33m.\u001b[0m\u001b[0m_vectorize_call\u001b[0m\u001b[1;33m(\u001b[0m\u001b[0mfunc\u001b[0m\u001b[1;33m=\u001b[0m\u001b[0mfunc\u001b[0m\u001b[1;33m,\u001b[0m \u001b[0margs\u001b[0m\u001b[1;33m=\u001b[0m\u001b[0mvargs\u001b[0m\u001b[1;33m)\u001b[0m\u001b[1;33m\u001b[0m\u001b[1;33m\u001b[0m\u001b[0m\n\u001b[0m\u001b[0;32m   2109\u001b[0m \u001b[1;33m\u001b[0m\u001b[0m\n\u001b[0;32m   2110\u001b[0m     \u001b[1;32mdef\u001b[0m \u001b[0m_get_ufunc_and_otypes\u001b[0m\u001b[1;33m(\u001b[0m\u001b[0mself\u001b[0m\u001b[1;33m,\u001b[0m \u001b[0mfunc\u001b[0m\u001b[1;33m,\u001b[0m \u001b[0margs\u001b[0m\u001b[1;33m)\u001b[0m\u001b[1;33m:\u001b[0m\u001b[1;33m\u001b[0m\u001b[1;33m\u001b[0m\u001b[0m\n",
      "\u001b[1;32m~\\AppData\\Roaming\\Python\\Python38\\site-packages\\numpy\\lib\\function_base.py\u001b[0m in \u001b[0;36m_vectorize_call\u001b[1;34m(self, func, args)\u001b[0m\n\u001b[0;32m   2180\u001b[0m         \u001b[1;34m\"\"\"Vectorized call to `func` over positional `args`.\"\"\"\u001b[0m\u001b[1;33m\u001b[0m\u001b[1;33m\u001b[0m\u001b[0m\n\u001b[0;32m   2181\u001b[0m         \u001b[1;32mif\u001b[0m \u001b[0mself\u001b[0m\u001b[1;33m.\u001b[0m\u001b[0msignature\u001b[0m \u001b[1;32mis\u001b[0m \u001b[1;32mnot\u001b[0m \u001b[1;32mNone\u001b[0m\u001b[1;33m:\u001b[0m\u001b[1;33m\u001b[0m\u001b[1;33m\u001b[0m\u001b[0m\n\u001b[1;32m-> 2182\u001b[1;33m             \u001b[0mres\u001b[0m \u001b[1;33m=\u001b[0m \u001b[0mself\u001b[0m\u001b[1;33m.\u001b[0m\u001b[0m_vectorize_call_with_signature\u001b[0m\u001b[1;33m(\u001b[0m\u001b[0mfunc\u001b[0m\u001b[1;33m,\u001b[0m \u001b[0margs\u001b[0m\u001b[1;33m)\u001b[0m\u001b[1;33m\u001b[0m\u001b[1;33m\u001b[0m\u001b[0m\n\u001b[0m\u001b[0;32m   2183\u001b[0m         \u001b[1;32melif\u001b[0m \u001b[1;32mnot\u001b[0m \u001b[0margs\u001b[0m\u001b[1;33m:\u001b[0m\u001b[1;33m\u001b[0m\u001b[1;33m\u001b[0m\u001b[0m\n\u001b[0;32m   2184\u001b[0m             \u001b[0mres\u001b[0m \u001b[1;33m=\u001b[0m \u001b[0mfunc\u001b[0m\u001b[1;33m(\u001b[0m\u001b[1;33m)\u001b[0m\u001b[1;33m\u001b[0m\u001b[1;33m\u001b[0m\u001b[0m\n",
      "\u001b[1;32m~\\AppData\\Roaming\\Python\\Python38\\site-packages\\numpy\\lib\\function_base.py\u001b[0m in \u001b[0;36m_vectorize_call_with_signature\u001b[1;34m(self, func, args)\u001b[0m\n\u001b[0;32m   2209\u001b[0m         \u001b[0margs\u001b[0m \u001b[1;33m=\u001b[0m \u001b[0mtuple\u001b[0m\u001b[1;33m(\u001b[0m\u001b[0masanyarray\u001b[0m\u001b[1;33m(\u001b[0m\u001b[0marg\u001b[0m\u001b[1;33m)\u001b[0m \u001b[1;32mfor\u001b[0m \u001b[0marg\u001b[0m \u001b[1;32min\u001b[0m \u001b[0margs\u001b[0m\u001b[1;33m)\u001b[0m\u001b[1;33m\u001b[0m\u001b[1;33m\u001b[0m\u001b[0m\n\u001b[0;32m   2210\u001b[0m \u001b[1;33m\u001b[0m\u001b[0m\n\u001b[1;32m-> 2211\u001b[1;33m         broadcast_shape, dim_sizes = _parse_input_dimensions(\n\u001b[0m\u001b[0;32m   2212\u001b[0m             args, input_core_dims)\n\u001b[0;32m   2213\u001b[0m         input_shapes = _calculate_shapes(broadcast_shape, dim_sizes,\n",
      "\u001b[1;32m~\\AppData\\Roaming\\Python\\Python38\\site-packages\\numpy\\lib\\function_base.py\u001b[0m in \u001b[0;36m_parse_input_dimensions\u001b[1;34m(args, input_core_dims)\u001b[0m\n\u001b[0;32m   1871\u001b[0m     \u001b[0mdim_sizes\u001b[0m \u001b[1;33m=\u001b[0m \u001b[1;33m{\u001b[0m\u001b[1;33m}\u001b[0m\u001b[1;33m\u001b[0m\u001b[1;33m\u001b[0m\u001b[0m\n\u001b[0;32m   1872\u001b[0m     \u001b[1;32mfor\u001b[0m \u001b[0marg\u001b[0m\u001b[1;33m,\u001b[0m \u001b[0mcore_dims\u001b[0m \u001b[1;32min\u001b[0m \u001b[0mzip\u001b[0m\u001b[1;33m(\u001b[0m\u001b[0margs\u001b[0m\u001b[1;33m,\u001b[0m \u001b[0minput_core_dims\u001b[0m\u001b[1;33m)\u001b[0m\u001b[1;33m:\u001b[0m\u001b[1;33m\u001b[0m\u001b[1;33m\u001b[0m\u001b[0m\n\u001b[1;32m-> 1873\u001b[1;33m         \u001b[0m_update_dim_sizes\u001b[0m\u001b[1;33m(\u001b[0m\u001b[0mdim_sizes\u001b[0m\u001b[1;33m,\u001b[0m \u001b[0marg\u001b[0m\u001b[1;33m,\u001b[0m \u001b[0mcore_dims\u001b[0m\u001b[1;33m)\u001b[0m\u001b[1;33m\u001b[0m\u001b[1;33m\u001b[0m\u001b[0m\n\u001b[0m\u001b[0;32m   1874\u001b[0m         \u001b[0mndim\u001b[0m \u001b[1;33m=\u001b[0m \u001b[0marg\u001b[0m\u001b[1;33m.\u001b[0m\u001b[0mndim\u001b[0m \u001b[1;33m-\u001b[0m \u001b[0mlen\u001b[0m\u001b[1;33m(\u001b[0m\u001b[0mcore_dims\u001b[0m\u001b[1;33m)\u001b[0m\u001b[1;33m\u001b[0m\u001b[1;33m\u001b[0m\u001b[0m\n\u001b[0;32m   1875\u001b[0m         \u001b[0mdummy_array\u001b[0m \u001b[1;33m=\u001b[0m \u001b[0mnp\u001b[0m\u001b[1;33m.\u001b[0m\u001b[0mlib\u001b[0m\u001b[1;33m.\u001b[0m\u001b[0mstride_tricks\u001b[0m\u001b[1;33m.\u001b[0m\u001b[0mas_strided\u001b[0m\u001b[1;33m(\u001b[0m\u001b[1;36m0\u001b[0m\u001b[1;33m,\u001b[0m \u001b[0marg\u001b[0m\u001b[1;33m.\u001b[0m\u001b[0mshape\u001b[0m\u001b[1;33m[\u001b[0m\u001b[1;33m:\u001b[0m\u001b[0mndim\u001b[0m\u001b[1;33m]\u001b[0m\u001b[1;33m)\u001b[0m\u001b[1;33m\u001b[0m\u001b[1;33m\u001b[0m\u001b[0m\n",
      "\u001b[1;32m~\\AppData\\Roaming\\Python\\Python38\\site-packages\\numpy\\lib\\function_base.py\u001b[0m in \u001b[0;36m_update_dim_sizes\u001b[1;34m(dim_sizes, arg, core_dims)\u001b[0m\n\u001b[0;32m   1834\u001b[0m     \u001b[0mnum_core_dims\u001b[0m \u001b[1;33m=\u001b[0m \u001b[0mlen\u001b[0m\u001b[1;33m(\u001b[0m\u001b[0mcore_dims\u001b[0m\u001b[1;33m)\u001b[0m\u001b[1;33m\u001b[0m\u001b[1;33m\u001b[0m\u001b[0m\n\u001b[0;32m   1835\u001b[0m     \u001b[1;32mif\u001b[0m \u001b[0marg\u001b[0m\u001b[1;33m.\u001b[0m\u001b[0mndim\u001b[0m \u001b[1;33m<\u001b[0m \u001b[0mnum_core_dims\u001b[0m\u001b[1;33m:\u001b[0m\u001b[1;33m\u001b[0m\u001b[1;33m\u001b[0m\u001b[0m\n\u001b[1;32m-> 1836\u001b[1;33m         raise ValueError(\n\u001b[0m\u001b[0;32m   1837\u001b[0m             \u001b[1;34m'%d-dimensional argument does not have enough '\u001b[0m\u001b[1;33m\u001b[0m\u001b[1;33m\u001b[0m\u001b[0m\n\u001b[0;32m   1838\u001b[0m             \u001b[1;34m'dimensions for all core dimensions %r'\u001b[0m\u001b[1;33m\u001b[0m\u001b[1;33m\u001b[0m\u001b[0m\n",
      "\u001b[1;31mValueError\u001b[0m: 0-dimensional argument does not have enough dimensions for all core dimensions ('n',)"
     ]
    }
   ],
   "source": [
    "func(2)"
   ]
  },
  {
   "cell_type": "code",
   "execution_count": null,
   "metadata": {
    "ExecuteTime": {
     "end_time": "2021-09-17T14:12:18.232186Z",
     "start_time": "2021-09-17T14:12:18.221215Z"
    },
    "id": "4EoxPHlNfT0z",
    "outputId": "f4b0d228-22a6-469a-ad33-7cdd9ee47108"
   },
   "outputs": [
    {
     "data": {
      "text/plain": [
       "array([0.88079708, 0.95257413, 0.98201379])"
      ]
     },
     "execution_count": 123,
     "metadata": {},
     "output_type": "execute_result"
    }
   ],
   "source": [
    "func(np.array([2, 3, 4]))"
   ]
  },
  {
   "cell_type": "markdown",
   "metadata": {
    "id": "e2YhcuDjfT0z"
   },
   "source": [
    "np.apply_along_axis -> Apply uma função a um slice 1-D de um array"
   ]
  },
  {
   "cell_type": "code",
   "execution_count": null,
   "metadata": {
    "ExecuteTime": {
     "end_time": "2021-09-17T14:12:19.395524Z",
     "start_time": "2021-09-17T14:12:19.388544Z"
    },
    "id": "sCEbuCFFfT00",
    "outputId": "2f9d1157-5973-4470-a444-afa4bc309eaa"
   },
   "outputs": [
    {
     "data": {
      "text/plain": [
       "array([0.88079708, 0.95257413, 0.98201379])"
      ]
     },
     "execution_count": 124,
     "metadata": {},
     "output_type": "execute_result"
    }
   ],
   "source": [
    "np.apply_along_axis(\n",
    "    func1d=lambda x: 1 / (1 + np.exp(-x)),\n",
    "    axis=0,\n",
    "    arr=np.array([2, 3, 4])\n",
    ")"
   ]
  },
  {
   "cell_type": "markdown",
   "metadata": {
    "id": "K9bPOiBkfT00"
   },
   "source": [
    "A dúvida que você deve ter é porque usar? Bom, geralmente porque para operações simples ela costuma ser mais eficiente"
   ]
  },
  {
   "cell_type": "code",
   "execution_count": null,
   "metadata": {
    "ExecuteTime": {
     "end_time": "2021-09-17T14:12:25.171882Z",
     "start_time": "2021-09-17T14:12:20.651767Z"
    },
    "id": "gONc9YFlfT00",
    "outputId": "cb878f2d-e667-4129-c2e3-64e6201b3024"
   },
   "outputs": [
    {
     "name": "stdout",
     "output_type": "stream",
     "text": [
      "55.2 µs ± 562 ns per loop (mean ± std. dev. of 7 runs, 10000 loops each)\n"
     ]
    }
   ],
   "source": [
    "%%timeit\n",
    "func(np.array([2, 3, 4]))"
   ]
  },
  {
   "cell_type": "code",
   "execution_count": null,
   "metadata": {
    "ExecuteTime": {
     "end_time": "2021-09-17T14:12:28.051106Z",
     "start_time": "2021-09-17T14:12:25.267629Z"
    },
    "id": "bqBExcfefT00",
    "outputId": "bb4ce7e6-c5f5-4bbe-8aaf-84b394236211"
   },
   "outputs": [
    {
     "name": "stdout",
     "output_type": "stream",
     "text": [
      "34 µs ± 51.1 ns per loop (mean ± std. dev. of 7 runs, 10000 loops each)\n"
     ]
    }
   ],
   "source": [
    "%%timeit\n",
    "np.apply_along_axis(\n",
    "    func1d=lambda x: 1 / (1 + np.exp(-x)),\n",
    "    axis=0,\n",
    "    arr=np.array([2, 3, 4])\n",
    ")"
   ]
  },
  {
   "cell_type": "code",
   "execution_count": null,
   "metadata": {
    "ExecuteTime": {
     "end_time": "2021-09-17T14:12:28.161911Z",
     "start_time": "2021-09-17T14:12:28.147948Z"
    },
    "id": "GJA0rwsafT01",
    "outputId": "9ef287de-d7a3-42ec-ae08-558fb575dfa2"
   },
   "outputs": [
    {
     "data": {
      "text/plain": [
       "array([4.12310563, 5.38516481, 6.70820393])"
      ]
     },
     "execution_count": 127,
     "metadata": {},
     "output_type": "execute_result"
    }
   ],
   "source": [
    "np.apply_along_axis(\n",
    "    func1d=lambda x: np.sqrt(np.sum(x ** 2)),\n",
    "    axis=0,\n",
    "    arr=np.array([[1, 2, 3], [4, 5, 6]])\n",
    ")"
   ]
  },
  {
   "cell_type": "markdown",
   "metadata": {
    "id": "ysOqdMrffT01"
   },
   "source": [
    "np.apply_over_axes -> Aplica uma função entre múltiplos eixos"
   ]
  },
  {
   "cell_type": "code",
   "execution_count": null,
   "metadata": {
    "ExecuteTime": {
     "end_time": "2021-09-17T14:12:28.271169Z",
     "start_time": "2021-09-17T14:12:28.256208Z"
    },
    "id": "akA04XzMfT01",
    "outputId": "3f785653-4b94-4d1d-a7fa-6ae45c66d1c2"
   },
   "outputs": [
    {
     "data": {
      "text/plain": [
       "array([[[ True]],\n",
       "\n",
       "       [[ True]],\n",
       "\n",
       "       [[ True]],\n",
       "\n",
       "       [[ True]],\n",
       "\n",
       "       [[ True]],\n",
       "\n",
       "       [[ True]],\n",
       "\n",
       "       [[ True]],\n",
       "\n",
       "       [[ True]],\n",
       "\n",
       "       [[ True]],\n",
       "\n",
       "       [[ True]]])"
      ]
     },
     "execution_count": 128,
     "metadata": {},
     "output_type": "execute_result"
    }
   ],
   "source": [
    "np.apply_over_axes(\n",
    "    func=lambda x, axes: x.any(axes),\n",
    "    axes=(2, 1),\n",
    "    a=np.random.choice([True, False], size=(10, 5, 3))\n",
    ")"
   ]
  },
  {
   "cell_type": "markdown",
   "metadata": {
    "id": "84sWD_6yfT01"
   },
   "source": [
    "---"
   ]
  },
  {
   "cell_type": "markdown",
   "metadata": {
    "ExecuteTime": {
     "end_time": "2021-09-16T15:18:30.851648Z",
     "start_time": "2021-09-16T15:18:30.835721Z"
    },
    "id": "Eyt1MgVSfT01"
   },
   "source": [
    "**Exercício**\n",
    "\n",
    "Calcule a razão entre valores mínimos e máximos para cada coluna de uma matriz 5x3"
   ]
  },
  {
   "cell_type": "code",
   "execution_count": null,
   "metadata": {
    "ExecuteTime": {
     "end_time": "2021-09-17T14:03:21.107163Z",
     "start_time": "2021-09-17T14:03:21.101178Z"
    },
    "id": "C9ltTuBzfT02",
    "solution2": "hidden",
    "solution2_first": true
   },
   "outputs": [],
   "source": [
    "np.random.seed(42)\n",
    "a = np.random.randint(1, 10, [5, 3])"
   ]
  },
  {
   "cell_type": "code",
   "execution_count": null,
   "metadata": {
    "cellView": "form",
    "id": "F6qD8rk4fT02",
    "solution2": "hidden"
   },
   "outputs": [],
   "source": [
    "#@title Resposta\n",
    "np.random.seed(42)\n",
    "a = np.random.randint(1, 10, [5, 3])\n",
    "np.apply_along_axis(lambda x: np.min(x)/np.max(x), arr=a, axis=0)"
   ]
  },
  {
   "cell_type": "markdown",
   "metadata": {
    "id": "uV4iCSuVfT02"
   },
   "source": [
    "---"
   ]
  },
  {
   "cell_type": "markdown",
   "metadata": {
    "id": "ypHPyfrBG4mv"
   },
   "source": [
    "## Concatenação"
   ]
  },
  {
   "cell_type": "markdown",
   "metadata": {
    "id": "Ho4a3pVAHEhl"
   },
   "source": [
    "Apesar de serem imutáveis, arrays podem ser concatenados para formar novos arrays por meio de funções específicas da biblioteca"
   ]
  },
  {
   "cell_type": "markdown",
   "metadata": {
    "id": "c0H6yzVAHLhD"
   },
   "source": [
    "np.concatenate -> Concatena dois arrays ao longo de um eixo determinado"
   ]
  },
  {
   "cell_type": "code",
   "execution_count": null,
   "metadata": {
    "ExecuteTime": {
     "end_time": "2021-09-17T14:12:34.210108Z",
     "start_time": "2021-09-17T14:12:34.205151Z"
    },
    "id": "6U1818drG4Ti",
    "outputId": "30a22056-3cd4-48a9-b70a-31ce889bf904"
   },
   "outputs": [
    {
     "name": "stdout",
     "output_type": "stream",
     "text": [
      "[1 2 3 4 5 6]\n"
     ]
    }
   ],
   "source": [
    "a = np.array([1, 2, 3])\n",
    "b = np.array([4, 5, 6])\n",
    "print(np.concatenate([a, b]))"
   ]
  },
  {
   "cell_type": "code",
   "execution_count": null,
   "metadata": {
    "ExecuteTime": {
     "end_time": "2021-09-17T14:12:34.738134Z",
     "start_time": "2021-09-17T14:12:34.716192Z"
    },
    "id": "4_RrBpW6fT03",
    "outputId": "28db0684-0a2b-4040-9b60-855cc16b068e"
   },
   "outputs": [
    {
     "name": "stdout",
     "output_type": "stream",
     "text": [
      "[1 2 3 4 5 6]\n"
     ]
    },
    {
     "ename": "AxisError",
     "evalue": "axis 1 is out of bounds for array of dimension 1",
     "output_type": "error",
     "traceback": [
      "\u001b[1;31m---------------------------------------------------------------------------\u001b[0m",
      "\u001b[1;31mAxisError\u001b[0m                                 Traceback (most recent call last)",
      "\u001b[1;32m<ipython-input-131-4aaa52e601a4>\u001b[0m in \u001b[0;36m<module>\u001b[1;34m\u001b[0m\n\u001b[0;32m      1\u001b[0m \u001b[0mprint\u001b[0m\u001b[1;33m(\u001b[0m\u001b[0mnp\u001b[0m\u001b[1;33m.\u001b[0m\u001b[0mconcatenate\u001b[0m\u001b[1;33m(\u001b[0m\u001b[1;33m[\u001b[0m\u001b[0ma\u001b[0m\u001b[1;33m,\u001b[0m \u001b[0mb\u001b[0m\u001b[1;33m]\u001b[0m\u001b[1;33m,\u001b[0m \u001b[0maxis\u001b[0m\u001b[1;33m=\u001b[0m\u001b[1;36m0\u001b[0m\u001b[1;33m)\u001b[0m\u001b[1;33m)\u001b[0m\u001b[1;33m\u001b[0m\u001b[1;33m\u001b[0m\u001b[0m\n\u001b[1;32m----> 2\u001b[1;33m \u001b[0mprint\u001b[0m\u001b[1;33m(\u001b[0m\u001b[0mnp\u001b[0m\u001b[1;33m.\u001b[0m\u001b[0mconcatenate\u001b[0m\u001b[1;33m(\u001b[0m\u001b[1;33m[\u001b[0m\u001b[0ma\u001b[0m\u001b[1;33m,\u001b[0m \u001b[0mb\u001b[0m\u001b[1;33m]\u001b[0m\u001b[1;33m,\u001b[0m \u001b[0maxis\u001b[0m\u001b[1;33m=\u001b[0m\u001b[1;36m1\u001b[0m\u001b[1;33m)\u001b[0m\u001b[1;33m)\u001b[0m\u001b[1;33m\u001b[0m\u001b[1;33m\u001b[0m\u001b[0m\n\u001b[0m",
      "\u001b[1;32m<__array_function__ internals>\u001b[0m in \u001b[0;36mconcatenate\u001b[1;34m(*args, **kwargs)\u001b[0m\n",
      "\u001b[1;31mAxisError\u001b[0m: axis 1 is out of bounds for array of dimension 1"
     ]
    }
   ],
   "source": [
    "print(np.concatenate([a, b], axis=0))\n",
    "print(np.concatenate([a, b], axis=1))"
   ]
  },
  {
   "cell_type": "code",
   "execution_count": null,
   "metadata": {
    "ExecuteTime": {
     "end_time": "2021-09-17T14:12:35.156855Z",
     "start_time": "2021-09-17T14:12:35.147880Z"
    },
    "id": "_3VEQLDNfT03",
    "outputId": "174ef8b9-ff4e-422e-9ba7-9cf3a0cdee03"
   },
   "outputs": [
    {
     "name": "stdout",
     "output_type": "stream",
     "text": [
      "[[1 2 3]\n",
      " [4 5 6]]\n",
      "[[1 2 3]\n",
      " [4 5 6]]\n",
      "[[1 2 3 4 5 6]]\n"
     ]
    }
   ],
   "source": [
    "a = np.array([[1, 2, 3]])\n",
    "b = np.array([[4, 5, 6]])\n",
    "print(np.concatenate([a, b]))\n",
    "print(np.concatenate([a, b], axis=0))\n",
    "print(np.concatenate([a, b], axis=1))"
   ]
  },
  {
   "cell_type": "markdown",
   "metadata": {
    "id": "_OraTDApHNdl"
   },
   "source": [
    "np.vstack -> Empilha arrays verticalmente (linha a linha)"
   ]
  },
  {
   "cell_type": "code",
   "execution_count": null,
   "metadata": {
    "ExecuteTime": {
     "end_time": "2021-09-17T14:12:39.084794Z",
     "start_time": "2021-09-17T14:12:39.066815Z"
    },
    "id": "OLF2By0AHQDi",
    "outputId": "96aaf555-bdf7-4c7c-9644-37c9389bf269",
    "scrolled": true
   },
   "outputs": [
    {
     "name": "stdout",
     "output_type": "stream",
     "text": [
      "[[1 2 3]\n",
      " [4 5 6]]\n"
     ]
    }
   ],
   "source": [
    "a = np.array([1, 2, 3])\n",
    "b = np.array([4, 5, 6])\n",
    "print(np.vstack([a, b]))"
   ]
  },
  {
   "cell_type": "code",
   "execution_count": null,
   "metadata": {
    "ExecuteTime": {
     "end_time": "2021-09-17T14:12:48.754096Z",
     "start_time": "2021-09-17T14:12:48.750106Z"
    },
    "id": "YmZjXy1IfT04",
    "outputId": "5b072ef2-d001-4daf-d5a8-ebc5617e1e3f"
   },
   "outputs": [
    {
     "name": "stdout",
     "output_type": "stream",
     "text": [
      "[[1 2 3]\n",
      " [4 5 6]]\n"
     ]
    }
   ],
   "source": [
    "a = np.array([[1, 2, 3]])\n",
    "b = np.array([[4, 5, 6]])\n",
    "print(np.vstack([a, b]))"
   ]
  },
  {
   "cell_type": "code",
   "execution_count": null,
   "metadata": {
    "ExecuteTime": {
     "end_time": "2021-09-17T14:12:49.129765Z",
     "start_time": "2021-09-17T14:12:49.115803Z"
    },
    "id": "l6RddNgRfT04",
    "outputId": "9011af9d-020f-482e-9f15-ef2a6950d393"
   },
   "outputs": [
    {
     "name": "stdout",
     "output_type": "stream",
     "text": [
      "[[ 1  2  3]\n",
      " [ 4  5  6]\n",
      " [ 7  8  9]\n",
      " [10 11 12]]\n"
     ]
    }
   ],
   "source": [
    "a = np.array([[1, 2, 3], [4, 5, 6]])\n",
    "b = np.array([[7, 8, 9], [10, 11, 12]])\n",
    "print(np.vstack([a, b]))"
   ]
  },
  {
   "cell_type": "code",
   "execution_count": null,
   "metadata": {
    "ExecuteTime": {
     "end_time": "2021-09-17T14:12:49.676258Z",
     "start_time": "2021-09-17T14:12:49.644370Z"
    },
    "id": "kvmZnWspfT05",
    "outputId": "218eb3cc-c05a-4ae7-d047-5c36bffdfaad"
   },
   "outputs": [
    {
     "ename": "ValueError",
     "evalue": "all the input array dimensions for the concatenation axis must match exactly, but along dimension 1, the array at index 0 has size 3 and the array at index 1 has size 2",
     "output_type": "error",
     "traceback": [
      "\u001b[1;31m---------------------------------------------------------------------------\u001b[0m",
      "\u001b[1;31mValueError\u001b[0m                                Traceback (most recent call last)",
      "\u001b[1;32m<ipython-input-136-dcf6db750b70>\u001b[0m in \u001b[0;36m<module>\u001b[1;34m\u001b[0m\n\u001b[0;32m      1\u001b[0m \u001b[0ma\u001b[0m \u001b[1;33m=\u001b[0m \u001b[0mnp\u001b[0m\u001b[1;33m.\u001b[0m\u001b[0marray\u001b[0m\u001b[1;33m(\u001b[0m\u001b[1;33m[\u001b[0m\u001b[1;33m[\u001b[0m\u001b[1;36m1\u001b[0m\u001b[1;33m,\u001b[0m \u001b[1;36m2\u001b[0m\u001b[1;33m,\u001b[0m \u001b[1;36m3\u001b[0m\u001b[1;33m]\u001b[0m\u001b[1;33m,\u001b[0m \u001b[1;33m[\u001b[0m\u001b[1;36m4\u001b[0m\u001b[1;33m,\u001b[0m \u001b[1;36m5\u001b[0m\u001b[1;33m,\u001b[0m \u001b[1;36m6\u001b[0m\u001b[1;33m]\u001b[0m\u001b[1;33m]\u001b[0m\u001b[1;33m)\u001b[0m\u001b[1;33m\u001b[0m\u001b[1;33m\u001b[0m\u001b[0m\n\u001b[0;32m      2\u001b[0m \u001b[0mb\u001b[0m \u001b[1;33m=\u001b[0m \u001b[0mnp\u001b[0m\u001b[1;33m.\u001b[0m\u001b[0marray\u001b[0m\u001b[1;33m(\u001b[0m\u001b[1;33m[\u001b[0m\u001b[1;33m[\u001b[0m\u001b[1;36m7\u001b[0m\u001b[1;33m,\u001b[0m \u001b[1;36m8\u001b[0m\u001b[1;33m]\u001b[0m\u001b[1;33m,\u001b[0m \u001b[1;33m[\u001b[0m\u001b[1;36m10\u001b[0m\u001b[1;33m,\u001b[0m \u001b[1;36m11\u001b[0m\u001b[1;33m]\u001b[0m\u001b[1;33m]\u001b[0m\u001b[1;33m)\u001b[0m\u001b[1;33m\u001b[0m\u001b[1;33m\u001b[0m\u001b[0m\n\u001b[1;32m----> 3\u001b[1;33m \u001b[0mprint\u001b[0m\u001b[1;33m(\u001b[0m\u001b[0mnp\u001b[0m\u001b[1;33m.\u001b[0m\u001b[0mvstack\u001b[0m\u001b[1;33m(\u001b[0m\u001b[1;33m[\u001b[0m\u001b[0ma\u001b[0m\u001b[1;33m,\u001b[0m \u001b[0mb\u001b[0m\u001b[1;33m]\u001b[0m\u001b[1;33m)\u001b[0m\u001b[1;33m)\u001b[0m\u001b[1;33m\u001b[0m\u001b[1;33m\u001b[0m\u001b[0m\n\u001b[0m",
      "\u001b[1;32m<__array_function__ internals>\u001b[0m in \u001b[0;36mvstack\u001b[1;34m(*args, **kwargs)\u001b[0m\n",
      "\u001b[1;32m~\\AppData\\Roaming\\Python\\Python38\\site-packages\\numpy\\core\\shape_base.py\u001b[0m in \u001b[0;36mvstack\u001b[1;34m(tup)\u001b[0m\n\u001b[0;32m    281\u001b[0m     \u001b[1;32mif\u001b[0m \u001b[1;32mnot\u001b[0m \u001b[0misinstance\u001b[0m\u001b[1;33m(\u001b[0m\u001b[0marrs\u001b[0m\u001b[1;33m,\u001b[0m \u001b[0mlist\u001b[0m\u001b[1;33m)\u001b[0m\u001b[1;33m:\u001b[0m\u001b[1;33m\u001b[0m\u001b[1;33m\u001b[0m\u001b[0m\n\u001b[0;32m    282\u001b[0m         \u001b[0marrs\u001b[0m \u001b[1;33m=\u001b[0m \u001b[1;33m[\u001b[0m\u001b[0marrs\u001b[0m\u001b[1;33m]\u001b[0m\u001b[1;33m\u001b[0m\u001b[1;33m\u001b[0m\u001b[0m\n\u001b[1;32m--> 283\u001b[1;33m     \u001b[1;32mreturn\u001b[0m \u001b[0m_nx\u001b[0m\u001b[1;33m.\u001b[0m\u001b[0mconcatenate\u001b[0m\u001b[1;33m(\u001b[0m\u001b[0marrs\u001b[0m\u001b[1;33m,\u001b[0m \u001b[1;36m0\u001b[0m\u001b[1;33m)\u001b[0m\u001b[1;33m\u001b[0m\u001b[1;33m\u001b[0m\u001b[0m\n\u001b[0m\u001b[0;32m    284\u001b[0m \u001b[1;33m\u001b[0m\u001b[0m\n\u001b[0;32m    285\u001b[0m \u001b[1;33m\u001b[0m\u001b[0m\n",
      "\u001b[1;32m<__array_function__ internals>\u001b[0m in \u001b[0;36mconcatenate\u001b[1;34m(*args, **kwargs)\u001b[0m\n",
      "\u001b[1;31mValueError\u001b[0m: all the input array dimensions for the concatenation axis must match exactly, but along dimension 1, the array at index 0 has size 3 and the array at index 1 has size 2"
     ]
    }
   ],
   "source": [
    "a = np.array([[1, 2, 3], [4, 5, 6]])\n",
    "b = np.array([[7, 8], [10, 11]])\n",
    "print(np.vstack([a, b]))"
   ]
  },
  {
   "cell_type": "markdown",
   "metadata": {
    "id": "EJ7d6AnFHQYa"
   },
   "source": [
    "np.hstack -> Empilha arrays horizontalmente (coluna a coluna)"
   ]
  },
  {
   "cell_type": "code",
   "execution_count": null,
   "metadata": {
    "ExecuteTime": {
     "end_time": "2021-09-17T14:12:54.050754Z",
     "start_time": "2021-09-17T14:12:54.043801Z"
    },
    "id": "uZBrJs7JfT05",
    "outputId": "4b79df96-4cc9-4e5c-c80d-7c35c853bf4d",
    "scrolled": true
   },
   "outputs": [
    {
     "name": "stdout",
     "output_type": "stream",
     "text": [
      "[1 2 3 4 5 6]\n"
     ]
    }
   ],
   "source": [
    "a = np.array([1, 2, 3])\n",
    "b = np.array([4, 5, 6])\n",
    "print(np.hstack([a, b]))"
   ]
  },
  {
   "cell_type": "code",
   "execution_count": null,
   "metadata": {
    "ExecuteTime": {
     "end_time": "2021-09-17T14:12:54.410720Z",
     "start_time": "2021-09-17T14:12:54.396758Z"
    },
    "id": "Obw9VjbnfT05",
    "outputId": "c60c4ae7-06c8-4c11-81bf-6472595a6a9d"
   },
   "outputs": [
    {
     "name": "stdout",
     "output_type": "stream",
     "text": [
      "[[1 2 3 4 5 6]]\n"
     ]
    }
   ],
   "source": [
    "a = np.array([[1, 2, 3]])\n",
    "b = np.array([[4, 5, 6]])\n",
    "print(np.hstack([a, b]))"
   ]
  },
  {
   "cell_type": "code",
   "execution_count": null,
   "metadata": {
    "ExecuteTime": {
     "end_time": "2021-09-17T14:12:54.876809Z",
     "start_time": "2021-09-17T14:12:54.860852Z"
    },
    "id": "MDsESudRfT06",
    "outputId": "07db484a-dbb9-4c26-9353-50a2d25284bd"
   },
   "outputs": [
    {
     "name": "stdout",
     "output_type": "stream",
     "text": [
      "[[ 1  2  3  7  8  9]\n",
      " [ 4  5  6 10 11 12]]\n"
     ]
    }
   ],
   "source": [
    "a = np.array([[1, 2, 3], [4, 5, 6]])\n",
    "b = np.array([[7, 8, 9], [10, 11, 12]])\n",
    "print(np.hstack([a, b]))"
   ]
  },
  {
   "cell_type": "code",
   "execution_count": null,
   "metadata": {
    "ExecuteTime": {
     "end_time": "2021-09-17T14:12:55.235104Z",
     "start_time": "2021-09-17T14:12:55.213191Z"
    },
    "id": "1PCv26mefT06",
    "outputId": "f7c62aa3-bc0b-48b9-8b14-b2eb384e8d85"
   },
   "outputs": [
    {
     "ename": "ValueError",
     "evalue": "all the input array dimensions for the concatenation axis must match exactly, but along dimension 0, the array at index 0 has size 2 and the array at index 1 has size 1",
     "output_type": "error",
     "traceback": [
      "\u001b[1;31m---------------------------------------------------------------------------\u001b[0m",
      "\u001b[1;31mValueError\u001b[0m                                Traceback (most recent call last)",
      "\u001b[1;32m<ipython-input-140-ea545a7d6d2b>\u001b[0m in \u001b[0;36m<module>\u001b[1;34m\u001b[0m\n\u001b[0;32m      1\u001b[0m \u001b[0ma\u001b[0m \u001b[1;33m=\u001b[0m \u001b[0mnp\u001b[0m\u001b[1;33m.\u001b[0m\u001b[0marray\u001b[0m\u001b[1;33m(\u001b[0m\u001b[1;33m[\u001b[0m\u001b[1;33m[\u001b[0m\u001b[1;36m1\u001b[0m\u001b[1;33m,\u001b[0m \u001b[1;36m2\u001b[0m\u001b[1;33m,\u001b[0m \u001b[1;36m3\u001b[0m\u001b[1;33m]\u001b[0m\u001b[1;33m,\u001b[0m \u001b[1;33m[\u001b[0m\u001b[1;36m4\u001b[0m\u001b[1;33m,\u001b[0m \u001b[1;36m5\u001b[0m\u001b[1;33m,\u001b[0m \u001b[1;36m6\u001b[0m\u001b[1;33m]\u001b[0m\u001b[1;33m]\u001b[0m\u001b[1;33m)\u001b[0m\u001b[1;33m\u001b[0m\u001b[1;33m\u001b[0m\u001b[0m\n\u001b[0;32m      2\u001b[0m \u001b[0mb\u001b[0m \u001b[1;33m=\u001b[0m \u001b[0mnp\u001b[0m\u001b[1;33m.\u001b[0m\u001b[0marray\u001b[0m\u001b[1;33m(\u001b[0m\u001b[1;33m[\u001b[0m\u001b[1;33m[\u001b[0m\u001b[1;36m7\u001b[0m\u001b[1;33m,\u001b[0m \u001b[1;36m8\u001b[0m\u001b[1;33m,\u001b[0m \u001b[1;36m9\u001b[0m\u001b[1;33m]\u001b[0m\u001b[1;33m]\u001b[0m\u001b[1;33m)\u001b[0m\u001b[1;33m\u001b[0m\u001b[1;33m\u001b[0m\u001b[0m\n\u001b[1;32m----> 3\u001b[1;33m \u001b[0mprint\u001b[0m\u001b[1;33m(\u001b[0m\u001b[0mnp\u001b[0m\u001b[1;33m.\u001b[0m\u001b[0mhstack\u001b[0m\u001b[1;33m(\u001b[0m\u001b[1;33m[\u001b[0m\u001b[0ma\u001b[0m\u001b[1;33m,\u001b[0m \u001b[0mb\u001b[0m\u001b[1;33m]\u001b[0m\u001b[1;33m)\u001b[0m\u001b[1;33m)\u001b[0m\u001b[1;33m\u001b[0m\u001b[1;33m\u001b[0m\u001b[0m\n\u001b[0m",
      "\u001b[1;32m<__array_function__ internals>\u001b[0m in \u001b[0;36mhstack\u001b[1;34m(*args, **kwargs)\u001b[0m\n",
      "\u001b[1;32m~\\AppData\\Roaming\\Python\\Python38\\site-packages\\numpy\\core\\shape_base.py\u001b[0m in \u001b[0;36mhstack\u001b[1;34m(tup)\u001b[0m\n\u001b[0;32m    344\u001b[0m         \u001b[1;32mreturn\u001b[0m \u001b[0m_nx\u001b[0m\u001b[1;33m.\u001b[0m\u001b[0mconcatenate\u001b[0m\u001b[1;33m(\u001b[0m\u001b[0marrs\u001b[0m\u001b[1;33m,\u001b[0m \u001b[1;36m0\u001b[0m\u001b[1;33m)\u001b[0m\u001b[1;33m\u001b[0m\u001b[1;33m\u001b[0m\u001b[0m\n\u001b[0;32m    345\u001b[0m     \u001b[1;32melse\u001b[0m\u001b[1;33m:\u001b[0m\u001b[1;33m\u001b[0m\u001b[1;33m\u001b[0m\u001b[0m\n\u001b[1;32m--> 346\u001b[1;33m         \u001b[1;32mreturn\u001b[0m \u001b[0m_nx\u001b[0m\u001b[1;33m.\u001b[0m\u001b[0mconcatenate\u001b[0m\u001b[1;33m(\u001b[0m\u001b[0marrs\u001b[0m\u001b[1;33m,\u001b[0m \u001b[1;36m1\u001b[0m\u001b[1;33m)\u001b[0m\u001b[1;33m\u001b[0m\u001b[1;33m\u001b[0m\u001b[0m\n\u001b[0m\u001b[0;32m    347\u001b[0m \u001b[1;33m\u001b[0m\u001b[0m\n\u001b[0;32m    348\u001b[0m \u001b[1;33m\u001b[0m\u001b[0m\n",
      "\u001b[1;32m<__array_function__ internals>\u001b[0m in \u001b[0;36mconcatenate\u001b[1;34m(*args, **kwargs)\u001b[0m\n",
      "\u001b[1;31mValueError\u001b[0m: all the input array dimensions for the concatenation axis must match exactly, but along dimension 0, the array at index 0 has size 2 and the array at index 1 has size 1"
     ]
    }
   ],
   "source": [
    "a = np.array([[1, 2, 3], [4, 5, 6]])\n",
    "b = np.array([[7, 8, 9]])\n",
    "print(np.hstack([a, b]))"
   ]
  },
  {
   "cell_type": "markdown",
   "metadata": {
    "id": "WmEo2C1EHUA4"
   },
   "source": [
    "np.append -> Adiciona um novo elemento ao final de um array. Se o array for >1-D, converte o array para 1-D"
   ]
  },
  {
   "cell_type": "code",
   "execution_count": null,
   "metadata": {
    "ExecuteTime": {
     "end_time": "2021-09-17T14:13:32.653021Z",
     "start_time": "2021-09-17T14:13:32.635097Z"
    },
    "id": "tsSUknLDfT06",
    "outputId": "6571d4d1-739c-4542-b5fb-defe1abfc7c9",
    "scrolled": true
   },
   "outputs": [
    {
     "name": "stdout",
     "output_type": "stream",
     "text": [
      "[1 2 3 4 5 6]\n"
     ]
    }
   ],
   "source": [
    "a = np.array([1, 2, 3])\n",
    "b = np.array([4, 5, 6])\n",
    "print(np.append(a, b))"
   ]
  },
  {
   "cell_type": "code",
   "execution_count": null,
   "metadata": {
    "ExecuteTime": {
     "end_time": "2021-09-17T14:13:33.200967Z",
     "start_time": "2021-09-17T14:13:33.196977Z"
    },
    "id": "DvxUBXbhfT07",
    "outputId": "9440483f-ffb3-444d-93a6-e2228ecb37ed"
   },
   "outputs": [
    {
     "name": "stdout",
     "output_type": "stream",
     "text": [
      "[1 2 3 4 5 6]\n"
     ]
    }
   ],
   "source": [
    "a = np.array([[1, 2, 3]])\n",
    "b = np.array([[4, 5, 6]])\n",
    "print(np.append(a, b))"
   ]
  },
  {
   "cell_type": "code",
   "execution_count": null,
   "metadata": {
    "ExecuteTime": {
     "end_time": "2021-09-17T14:13:33.714746Z",
     "start_time": "2021-09-17T14:13:33.707764Z"
    },
    "id": "Cuby3k98fT07",
    "outputId": "04e8ffed-a196-4f6b-f3df-f2acfea76d88"
   },
   "outputs": [
    {
     "name": "stdout",
     "output_type": "stream",
     "text": [
      "[ 1  2  3  4  5  6  7  8  9 10 11 12]\n"
     ]
    }
   ],
   "source": [
    "a = np.array([[1, 2, 3], [4, 5, 6]])\n",
    "b = np.array([[7, 8, 9], [10, 11, 12]])\n",
    "print(np.append(a, b))"
   ]
  },
  {
   "cell_type": "code",
   "execution_count": null,
   "metadata": {
    "ExecuteTime": {
     "end_time": "2021-09-17T14:13:34.431168Z",
     "start_time": "2021-09-17T14:13:34.413254Z"
    },
    "id": "c720A4fffT07",
    "outputId": "666b8f21-b231-41fd-f2f0-683db7acec62"
   },
   "outputs": [
    {
     "name": "stdout",
     "output_type": "stream",
     "text": [
      "[ 1  2  3  4  5  6  7  8 10 11]\n"
     ]
    }
   ],
   "source": [
    "a = np.array([[1, 2, 3], [4, 5, 6]])\n",
    "b = np.array([[7, 8], [10, 11]])\n",
    "print(np.append(a, b))"
   ]
  },
  {
   "cell_type": "code",
   "execution_count": null,
   "metadata": {
    "ExecuteTime": {
     "end_time": "2021-09-17T14:13:34.928905Z",
     "start_time": "2021-09-17T14:13:34.923919Z"
    },
    "id": "FUzoARggfT07",
    "outputId": "b9843deb-4531-4faf-fdb4-2e68150ca7b2"
   },
   "outputs": [
    {
     "name": "stdout",
     "output_type": "stream",
     "text": [
      "[1 2 3 4 5 6]\n"
     ]
    }
   ],
   "source": [
    "print(a.flatten())"
   ]
  },
  {
   "cell_type": "markdown",
   "metadata": {
    "id": "M_LbCSBofT08"
   },
   "source": [
    "---"
   ]
  },
  {
   "cell_type": "markdown",
   "metadata": {
    "id": "jJlNqtlYfT08"
   },
   "source": [
    "**Exercício**\n",
    "\n",
    "Dado um array de números inteiros adicione os números faltantes entre os valores mínimos e máximos ao final do array"
   ]
  },
  {
   "cell_type": "code",
   "execution_count": null,
   "metadata": {
    "ExecuteTime": {
     "end_time": "2021-09-16T17:16:36.193807Z",
     "start_time": "2021-09-16T17:16:36.179844Z"
    },
    "id": "b32Cr9-1fT08",
    "solution2": "hidden",
    "solution2_first": true
   },
   "outputs": [],
   "source": [
    "np.random.seed(42)\n",
    "arr = np.random.randint(0, 10, size=6)"
   ]
  },
  {
   "cell_type": "code",
   "execution_count": null,
   "metadata": {
    "cellView": "form",
    "id": "ISpLgStYfT08",
    "solution2": "hidden"
   },
   "outputs": [],
   "source": [
    "#@title Resposta\n",
    "np.random.seed(42)\n",
    "arr = np.random.randint(0, 10, size=6)\n",
    "adicionar = np.setdiff1d(np.arange(np.min(arr), np.max(arr) + 1), arr)\n",
    "arr = np.hstack([arr, adicionar])\n",
    "arr"
   ]
  },
  {
   "cell_type": "markdown",
   "metadata": {
    "id": "s3SjguIJfT09"
   },
   "source": [
    "---"
   ]
  },
  {
   "cell_type": "markdown",
   "metadata": {
    "id": "8sQSpLv3fT09"
   },
   "source": [
    "## O que mais?"
   ]
  },
  {
   "cell_type": "markdown",
   "metadata": {
    "id": "xOkGqMlVfT09"
   },
   "source": [
    "Muito mais. O Numpy é uma bibliotecas extremamente extensa, que permite fazer operações com texto, datas, criar modelos de regressão, trabalhar com polinômios e realizar múltiplas transformações que envolvem desde processamento de sinais até trabalho de imagens e algebra linear clássica.\n",
    "\n",
    "Poderia fazer um curso de 10h só pra falar de tudo o que o numpy tem a oferecer, entretanto aqui nós passamos apenas as principais funcionalidades que vão cobrir 90-95% das situações que serão encontradas no dia a dia de um cientista de dados.\n",
    "\n",
    "Entretanto se você quiser algo mais completo, veja abaixo algumas sugestões:\n",
    "\n",
    "- https://numpy.org/learn/\n",
    "- https://www.youtube.com/watch?v=cYugp9IN1-Q&ab_channel=Enthought\n",
    "- https://scipy-lectures.org/advanced/advanced_numpy/\n",
    "- https://www.oreilly.com/library/view/python-for-data/9781449323592/\n",
    "- https://www.kaggle.com/utsav15/100-numpy-exercises\n",
    "- https://www.geeksforgeeks.org/python-numpy-practice-exercises-questions-and-solutions/\n",
    "- https://www.machinelearningplus.com/python/101-numpy-exercises-python/"
   ]
  },
  {
   "cell_type": "markdown",
   "metadata": {
    "id": "Lf8l3dC2fT09"
   },
   "source": [
    "---"
   ]
  }
 ],
 "metadata": {
  "colab": {
   "collapsed_sections": [],
   "name": "Numpy (Completo).ipynb",
   "provenance": [],
   "toc_visible": true
  },
  "hide_input": false,
  "kernelspec": {
   "display_name": "Python 3 (ipykernel)",
   "language": "python",
   "name": "python3"
  },
  "language_info": {
   "codemirror_mode": {
    "name": "ipython",
    "version": 3
   },
   "file_extension": ".py",
   "mimetype": "text/x-python",
   "name": "python",
   "nbconvert_exporter": "python",
   "pygments_lexer": "ipython3",
   "version": "3.9.7"
  },
  "toc": {
   "base_numbering": 1,
   "nav_menu": {},
   "number_sections": true,
   "sideBar": true,
   "skip_h1_title": true,
   "title_cell": "Table of Contents",
   "title_sidebar": "Contents",
   "toc_cell": false,
   "toc_position": {
    "height": "calc(100% - 180px)",
    "left": "10px",
    "top": "150px",
    "width": "304.475px"
   },
   "toc_section_display": true,
   "toc_window_display": true
  },
  "varInspector": {
   "cols": {
    "lenName": 16,
    "lenType": 16,
    "lenVar": 40
   },
   "kernels_config": {
    "python": {
     "delete_cmd_postfix": "",
     "delete_cmd_prefix": "del ",
     "library": "var_list.py",
     "varRefreshCmd": "print(var_dic_list())"
    },
    "r": {
     "delete_cmd_postfix": ") ",
     "delete_cmd_prefix": "rm(",
     "library": "var_list.r",
     "varRefreshCmd": "cat(var_dic_list()) "
    }
   },
   "types_to_exclude": [
    "module",
    "function",
    "builtin_function_or_method",
    "instance",
    "_Feature"
   ],
   "window_display": false
  }
 },
 "nbformat": 4,
 "nbformat_minor": 1
}
