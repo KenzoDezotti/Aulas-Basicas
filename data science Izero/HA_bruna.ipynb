{
 "cells": [
  {
   "cell_type": "code",
   "execution_count": 35,
   "metadata": {},
   "outputs": [],
   "source": [
    "#importação dos pacotes basicos do python para abrir cvs e manipular dados\n",
    "import os\n",
    "import numpy as np\n",
    "import pandas as pd\n",
    "import matplotlib.pyplot as plt\n",
    "import seaborn\n",
    "\n",
    "from pathlib import Path\n",
    "\n",
    "%config Completer.use_jedi = False"
   ]
  },
  {
   "cell_type": "code",
   "execution_count": 32,
   "metadata": {},
   "outputs": [],
   "source": [
    "def put_csv(database, name = \"arquivo\"):\n",
    "    database.to_csv(f'{name}.csv')"
   ]
  },
  {
   "cell_type": "code",
   "execution_count": 36,
   "metadata": {},
   "outputs": [
    {
     "data": {
      "text/html": [
       "<div>\n",
       "<style scoped>\n",
       "    .dataframe tbody tr th:only-of-type {\n",
       "        vertical-align: middle;\n",
       "    }\n",
       "\n",
       "    .dataframe tbody tr th {\n",
       "        vertical-align: top;\n",
       "    }\n",
       "\n",
       "    .dataframe thead th {\n",
       "        text-align: right;\n",
       "    }\n",
       "</style>\n",
       "<table border=\"1\" class=\"dataframe\">\n",
       "  <thead>\n",
       "    <tr style=\"text-align: right;\">\n",
       "      <th></th>\n",
       "      <th>Symbol</th>\n",
       "      <th>Date</th>\n",
       "      <th>Open</th>\n",
       "      <th>High</th>\n",
       "      <th>Low</th>\n",
       "      <th>Close</th>\n",
       "      <th>Adj Close</th>\n",
       "      <th>Volume</th>\n",
       "    </tr>\n",
       "  </thead>\n",
       "  <tbody>\n",
       "    <tr>\n",
       "      <th>0</th>\n",
       "      <td>AAPL</td>\n",
       "      <td>1980-12-12</td>\n",
       "      <td>0.513393</td>\n",
       "      <td>0.515625</td>\n",
       "      <td>0.513393</td>\n",
       "      <td>0.513393</td>\n",
       "      <td>0.023106</td>\n",
       "      <td>117258400</td>\n",
       "    </tr>\n",
       "    <tr>\n",
       "      <th>1</th>\n",
       "      <td>AAPL</td>\n",
       "      <td>1980-12-15</td>\n",
       "      <td>0.488839</td>\n",
       "      <td>0.488839</td>\n",
       "      <td>0.486607</td>\n",
       "      <td>0.486607</td>\n",
       "      <td>0.021900</td>\n",
       "      <td>43971200</td>\n",
       "    </tr>\n",
       "    <tr>\n",
       "      <th>2</th>\n",
       "      <td>AAPL</td>\n",
       "      <td>1980-12-16</td>\n",
       "      <td>0.453125</td>\n",
       "      <td>0.453125</td>\n",
       "      <td>0.450893</td>\n",
       "      <td>0.450893</td>\n",
       "      <td>0.020293</td>\n",
       "      <td>26432000</td>\n",
       "    </tr>\n",
       "    <tr>\n",
       "      <th>3</th>\n",
       "      <td>AAPL</td>\n",
       "      <td>1980-12-17</td>\n",
       "      <td>0.462054</td>\n",
       "      <td>0.464286</td>\n",
       "      <td>0.462054</td>\n",
       "      <td>0.462054</td>\n",
       "      <td>0.020795</td>\n",
       "      <td>21610400</td>\n",
       "    </tr>\n",
       "    <tr>\n",
       "      <th>4</th>\n",
       "      <td>AAPL</td>\n",
       "      <td>1980-12-18</td>\n",
       "      <td>0.475446</td>\n",
       "      <td>0.477679</td>\n",
       "      <td>0.475446</td>\n",
       "      <td>0.475446</td>\n",
       "      <td>0.021398</td>\n",
       "      <td>18362400</td>\n",
       "    </tr>\n",
       "    <tr>\n",
       "      <th>...</th>\n",
       "      <td>...</td>\n",
       "      <td>...</td>\n",
       "      <td>...</td>\n",
       "      <td>...</td>\n",
       "      <td>...</td>\n",
       "      <td>...</td>\n",
       "      <td>...</td>\n",
       "      <td>...</td>\n",
       "    </tr>\n",
       "    <tr>\n",
       "      <th>23100</th>\n",
       "      <td>GOOG</td>\n",
       "      <td>2018-12-10</td>\n",
       "      <td>1035.050049</td>\n",
       "      <td>1048.449951</td>\n",
       "      <td>1023.289978</td>\n",
       "      <td>1039.550049</td>\n",
       "      <td>1039.550049</td>\n",
       "      <td>1807700</td>\n",
       "    </tr>\n",
       "    <tr>\n",
       "      <th>23101</th>\n",
       "      <td>GOOG</td>\n",
       "      <td>2018-12-11</td>\n",
       "      <td>1056.489990</td>\n",
       "      <td>1060.599976</td>\n",
       "      <td>1039.839966</td>\n",
       "      <td>1051.750000</td>\n",
       "      <td>1051.750000</td>\n",
       "      <td>1394700</td>\n",
       "    </tr>\n",
       "    <tr>\n",
       "      <th>23102</th>\n",
       "      <td>GOOG</td>\n",
       "      <td>2018-12-12</td>\n",
       "      <td>1068.000000</td>\n",
       "      <td>1081.650024</td>\n",
       "      <td>1062.790039</td>\n",
       "      <td>1063.680054</td>\n",
       "      <td>1063.680054</td>\n",
       "      <td>1523800</td>\n",
       "    </tr>\n",
       "    <tr>\n",
       "      <th>23103</th>\n",
       "      <td>GOOG</td>\n",
       "      <td>2018-12-13</td>\n",
       "      <td>1068.069946</td>\n",
       "      <td>1079.760010</td>\n",
       "      <td>1053.930054</td>\n",
       "      <td>1061.900024</td>\n",
       "      <td>1061.900024</td>\n",
       "      <td>1329800</td>\n",
       "    </tr>\n",
       "    <tr>\n",
       "      <th>23104</th>\n",
       "      <td>GOOG</td>\n",
       "      <td>2018-12-14</td>\n",
       "      <td>1049.979980</td>\n",
       "      <td>1062.599976</td>\n",
       "      <td>1040.790039</td>\n",
       "      <td>1042.099976</td>\n",
       "      <td>1042.099976</td>\n",
       "      <td>1685900</td>\n",
       "    </tr>\n",
       "  </tbody>\n",
       "</table>\n",
       "<p>23105 rows × 8 columns</p>\n",
       "</div>"
      ],
      "text/plain": [
       "      Symbol        Date         Open         High          Low        Close  \\\n",
       "0       AAPL  1980-12-12     0.513393     0.515625     0.513393     0.513393   \n",
       "1       AAPL  1980-12-15     0.488839     0.488839     0.486607     0.486607   \n",
       "2       AAPL  1980-12-16     0.453125     0.453125     0.450893     0.450893   \n",
       "3       AAPL  1980-12-17     0.462054     0.464286     0.462054     0.462054   \n",
       "4       AAPL  1980-12-18     0.475446     0.477679     0.475446     0.475446   \n",
       "...      ...         ...          ...          ...          ...          ...   \n",
       "23100   GOOG  2018-12-10  1035.050049  1048.449951  1023.289978  1039.550049   \n",
       "23101   GOOG  2018-12-11  1056.489990  1060.599976  1039.839966  1051.750000   \n",
       "23102   GOOG  2018-12-12  1068.000000  1081.650024  1062.790039  1063.680054   \n",
       "23103   GOOG  2018-12-13  1068.069946  1079.760010  1053.930054  1061.900024   \n",
       "23104   GOOG  2018-12-14  1049.979980  1062.599976  1040.790039  1042.099976   \n",
       "\n",
       "         Adj Close     Volume  \n",
       "0         0.023106  117258400  \n",
       "1         0.021900   43971200  \n",
       "2         0.020293   26432000  \n",
       "3         0.020795   21610400  \n",
       "4         0.021398   18362400  \n",
       "...            ...        ...  \n",
       "23100  1039.550049    1807700  \n",
       "23101  1051.750000    1394700  \n",
       "23102  1063.680054    1523800  \n",
       "23103  1061.900024    1329800  \n",
       "23104  1042.099976    1685900  \n",
       "\n",
       "[23105 rows x 8 columns]"
      ]
     },
     "execution_count": 36,
     "metadata": {},
     "output_type": "execute_result"
    }
   ],
   "source": [
    "stocks = pd.read_csv(\"/home/kenzo/Documents/hosp cancer/stocks.csv\")\n",
    "stocks"
   ]
  },
  {
   "cell_type": "code",
   "execution_count": 76,
   "metadata": {},
   "outputs": [
    {
     "name": "stdout",
     "output_type": "stream",
     "text": [
      "False\n",
      "True\n"
     ]
    },
    {
     "data": {
      "image/png": "[encoded data removed]",
      "text/plain": [
       "<Figure size 432x288 with 1 Axes>"
      ]
     },
     "metadata": {
      "needs_background": "light"
     },
     "output_type": "display_data"
    }
   ],
   "source": [
    "unicos = np.unique(stocks['Symbol'])\n",
    "cor = ['blue','red','y','black']\n",
    "for i, j in enumerate(unicos):\n",
    "    j = stocks[stocks['Symbol']== f\"{j}\"].head(50)\n",
    "    print(unicos[i])\n",
    "    put_csv(j,np.unique(j[\"Symbol\"]))\n",
    "    plt.plot(j['Date'],j['Volume'],color = cor[i]) \n",
    "    "
   ]
  },
  {
   "cell_type": "code",
   "execution_count": 65,
   "metadata": {},
   "outputs": [
    {
     "data": {
      "text/plain": [
       "['AAPL']"
      ]
     },
     "execution_count": 65,
     "metadata": {},
     "output_type": "execute_result"
    }
   ],
   "source": []
  },
  {
   "cell_type": "code",
   "execution_count": 30,
   "metadata": {},
   "outputs": [],
   "source": [
    "sobrevivente_homens = titanic[(titanic['Sex']== 'male') & (titanic[\"Survived\"] == 1)]\n",
    "sobrevivente_mulher = titanic[(titanic['Sex']== 'female')& (titanic[\"Survived\"] == 1)]"
   ]
  },
  {
   "cell_type": "code",
   "execution_count": 34,
   "metadata": {},
   "outputs": [],
   "source": [
    "put_csv(sobrevivente_mulher,\"so_mulher\")"
   ]
  },
  {
   "cell_type": "code",
   "execution_count": 16,
   "metadata": {},
   "outputs": [
    {
     "data": {
      "image/png": "[encoded data removed]",
      "text/plain": [
       "<Figure size 432x288 with 1 Axes>"
      ]
     },
     "metadata": {},
     "output_type": "display_data"
    }
   ],
   "source": [
    "morto = titanic[titanic[\"Survived\"]==0]\n",
    "vivo = titanic[titanic['Survived']==1]\n",
    "plt.pie([len(morto),len(vivo)],labels=(\"morto\",'vivo'))\n",
    "plt.show()\n"
   ]
  },
  {
   "cell_type": "code",
   "execution_count": 18,
   "metadata": {},
   "outputs": [],
   "source": [
    "mulheres_adultas = adultos[adultos[\"Sex\"] == \"female\"]"
   ]
  },
  {
   "cell_type": "code",
   "execution_count": 22,
   "metadata": {},
   "outputs": [
    {
     "data": {
      "text/plain": [
       "([<matplotlib.patches.Wedge at 0x7f852e8b8670>,\n",
       "  <matplotlib.patches.Wedge at 0x7f852e8b8bb0>,\n",
       "  <matplotlib.patches.Wedge at 0x7f852e8c60d0>],\n",
       " [Text(0.5499999702695115, 0.9526279613277875, '3 classe'),\n",
       "  Text(-1.0999999999999954, -1.0298943258065002e-07, '2 classe'),\n",
       "  Text(0.5500001486524352, -0.9526278583383436, '1 classe')])"
      ]
     },
     "execution_count": 22,
     "metadata": {},
     "output_type": "execute_result"
    },
    {
     "data": {
      "image/png": "[encoded data removed]",
      "text/plain": [
       "<Figure size 432x288 with 1 Axes>"
      ]
     },
     "metadata": {},
     "output_type": "display_data"
    }
   ],
   "source": [
    "plt.pie([len(titanic[\"PClass\"]=='3rd'),len(titanic[\"PClass\"]==\"2nd\"),len(titanic[\"PClass\"] == '1st')],labels=('3 classe','2 classe','1 classe'))\n"
   ]
  }
 ],
 "metadata": {
  "interpreter": {
   "hash": "7285e148491aec85e23d315ec83af53ac7e32d13afdeb22b773629c90779884c"
  },
  "kernelspec": {
   "display_name": "Python 3.9.7 ('base')",
   "language": "python",
   "name": "python3"
  },
  "language_info": {
   "codemirror_mode": {
    "name": "ipython",
    "version": 3
   },
   "file_extension": ".py",
   "mimetype": "text/x-python",
   "name": "python",
   "nbconvert_exporter": "python",
   "pygments_lexer": "ipython3",
   "version": "3.9.7"
  },
  "orig_nbformat": 4
 },
 "nbformat": 4,
 "nbformat_minor": 2
}
